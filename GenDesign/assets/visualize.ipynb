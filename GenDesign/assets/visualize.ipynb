{
 "cells": [
  {
   "cell_type": "code",
   "execution_count": 1,
   "metadata": {},
   "outputs": [],
   "source": [
    "import plotly.express as px\n",
    "import pandas as pd\n",
    "import json\n",
    "\n",
    "startX = 0\n",
    "startY = 0\n",
    "endX = 100\n",
    "endY = 100"
   ]
  },
  {
   "cell_type": "code",
   "execution_count": 12,
   "metadata": {},
   "outputs": [
    {
     "data": {
      "application/vnd.microsoft.datawrangler.viewer.v0+json": {
       "columns": [
        {
         "name": "index",
         "rawType": "int64",
         "type": "integer"
        },
        {
         "name": "PathIndividual_ID",
         "rawType": "int64",
         "type": "integer"
        },
        {
         "name": "Generation",
         "rawType": "int64",
         "type": "integer"
        },
        {
         "name": "X",
         "rawType": "float64",
         "type": "float"
        },
        {
         "name": "Y",
         "rawType": "float64",
         "type": "float"
        }
       ],
       "conversionMethod": "pd.DataFrame",
       "ref": "df1fdfaa-f01e-4ac2-92cc-4e46315dc724",
       "rows": [
        [
         "0",
         "0",
         "0",
         "-14.215789088967524",
         "14.215789088967526"
        ],
        [
         "1",
         "0",
         "0",
         "-41.93580282052013",
         "41.93580282052014"
        ],
        [
         "2",
         "0",
         "0",
         "5.076645164577371",
         "88.94825080561765"
        ],
        [
         "3",
         "0",
         "0",
         "5.076645164577373",
         "121.00328602589161"
        ],
        [
         "4",
         "0",
         "0",
         "21.530847133027162",
         "131.47251936072047"
        ],
        [
         "5",
         "1",
         "0",
         "-26.57693496040384",
         "26.576934960403843"
        ],
        [
         "6",
         "1",
         "0",
         "4.0825385308043565",
         "57.236408451612036"
        ],
        [
         "7",
         "1",
         "0",
         "0.2213310204127894",
         "61.0976159620036"
        ],
        [
         "8",
         "1",
         "0",
         "10.447596451646252",
         "76.5495598803433"
        ],
        [
         "9",
         "1",
         "0",
         "56.53523444218694",
         "108.53324910428645"
        ],
        [
         "10",
         "2",
         "0",
         "98.81531774053241",
         "97.9696898852756"
        ],
        [
         "11",
         "2",
         "0",
         "57.91846514334885",
         "135.8038377103784"
        ],
        [
         "12",
         "2",
         "0",
         "153.03870189636763",
         "45.39776357693681"
        ],
        [
         "13",
         "2",
         "0",
         "225.85292670305154",
         "43.27885956074765"
        ],
        [
         "14",
         "2",
         "0",
         "269.250049611619",
         "22.360089267178108"
        ],
        [
         "15",
         "3",
         "0",
         "-14.215789088967524",
         "14.215789088967526"
        ],
        [
         "16",
         "3",
         "0",
         "-41.93580282052013",
         "41.93580282052014"
        ],
        [
         "17",
         "3",
         "0",
         "5.076645164577371",
         "88.94825080561765"
        ],
        [
         "18",
         "3",
         "0",
         "5.076645164577373",
         "121.00328602589161"
        ],
        [
         "19",
         "3",
         "0",
         "84.53582693097897",
         "163.05631143899393"
        ],
        [
         "20",
         "4",
         "0",
         "6.32455338924579e-16",
         "10.3287795201836"
        ],
        [
         "21",
         "4",
         "0",
         "30.0643131215273",
         "53.38964726615629"
        ],
        [
         "22",
         "4",
         "0",
         "30.064313121527302",
         "108.58479762954227"
        ],
        [
         "23",
         "4",
         "0",
         "46.70904685824537",
         "125.22953136626035"
        ],
        [
         "24",
         "4",
         "0",
         "84.53582693097897",
         "163.05631143899393"
        ],
        [
         "25",
         "5",
         "0",
         "45.50047451748968",
         "0.0"
        ],
        [
         "26",
         "5",
         "0",
         "106.0456519708801",
         "0.0"
        ],
        [
         "27",
         "5",
         "0",
         "153.03870189636763",
         "45.39776357693681"
        ],
        [
         "28",
         "5",
         "0",
         "225.85292670305154",
         "43.27885956074765"
        ],
        [
         "29",
         "5",
         "0",
         "23.548869715938732",
         "139.97208282124407"
        ],
        [
         "30",
         "6",
         "0",
         "7.211864247027053e-16",
         "11.77786812009509"
        ],
        [
         "31",
         "6",
         "0",
         "38.303446961672044",
         "50.08131508176713"
        ],
        [
         "32",
         "6",
         "0",
         "0.04652610191303097",
         "88.33823594152615"
        ],
        [
         "33",
         "6",
         "0",
         "34.20743519830449",
         "122.4991450379176"
        ],
        [
         "34",
         "6",
         "0",
         "51.641846675514856",
         "147.21687035909278"
        ],
        [
         "35",
         "7",
         "0",
         "-23.142770543714352",
         "23.142770543714356"
        ],
        [
         "36",
         "7",
         "0",
         "105.18031609123676",
         "37.860168015823334"
        ],
        [
         "37",
         "7",
         "0",
         "106.03984526800448",
         "38.71969719259106"
        ],
        [
         "38",
         "7",
         "0",
         "135.65882229825786",
         "68.33867422284445"
        ],
        [
         "39",
         "7",
         "0",
         "185.06431241505953",
         "117.74416433964612"
        ],
        [
         "40",
         "8",
         "0",
         "-23.142770543714352",
         "23.142770543714356"
        ],
        [
         "41",
         "8",
         "0",
         "10.350139358638703",
         "56.63568044606741"
        ],
        [
         "42",
         "8",
         "0",
         "-21.477926211493592",
         "88.4637460161997"
        ],
        [
         "43",
         "8",
         "0",
         "1.8720923399375557",
         "111.81376456763086"
        ],
        [
         "44",
         "8",
         "0",
         "29.62844042559742",
         "106.00040911895579"
        ],
        [
         "45",
         "9",
         "0",
         "45.50047451748968",
         "0.0"
        ],
        [
         "46",
         "9",
         "0",
         "106.0456519708801",
         "0.0"
        ],
        [
         "47",
         "9",
         "0",
         "153.03870189636763",
         "45.39776357693681"
        ],
        [
         "48",
         "9",
         "0",
         "10.447596451646252",
         "76.5495598803433"
        ],
        [
         "49",
         "9",
         "0",
         "56.53523444218694",
         "108.53324910428645"
        ]
       ],
       "shape": {
        "columns": 4,
        "rows": 275
       }
      },
      "text/html": [
       "<div>\n",
       "<style scoped>\n",
       "    .dataframe tbody tr th:only-of-type {\n",
       "        vertical-align: middle;\n",
       "    }\n",
       "\n",
       "    .dataframe tbody tr th {\n",
       "        vertical-align: top;\n",
       "    }\n",
       "\n",
       "    .dataframe thead th {\n",
       "        text-align: right;\n",
       "    }\n",
       "</style>\n",
       "<table border=\"1\" class=\"dataframe\">\n",
       "  <thead>\n",
       "    <tr style=\"text-align: right;\">\n",
       "      <th></th>\n",
       "      <th>PathIndividual_ID</th>\n",
       "      <th>Generation</th>\n",
       "      <th>X</th>\n",
       "      <th>Y</th>\n",
       "    </tr>\n",
       "  </thead>\n",
       "  <tbody>\n",
       "    <tr>\n",
       "      <th>0</th>\n",
       "      <td>0</td>\n",
       "      <td>0</td>\n",
       "      <td>-14.215789</td>\n",
       "      <td>14.215789</td>\n",
       "    </tr>\n",
       "    <tr>\n",
       "      <th>1</th>\n",
       "      <td>0</td>\n",
       "      <td>0</td>\n",
       "      <td>-41.935803</td>\n",
       "      <td>41.935803</td>\n",
       "    </tr>\n",
       "    <tr>\n",
       "      <th>2</th>\n",
       "      <td>0</td>\n",
       "      <td>0</td>\n",
       "      <td>5.076645</td>\n",
       "      <td>88.948251</td>\n",
       "    </tr>\n",
       "    <tr>\n",
       "      <th>3</th>\n",
       "      <td>0</td>\n",
       "      <td>0</td>\n",
       "      <td>5.076645</td>\n",
       "      <td>121.003286</td>\n",
       "    </tr>\n",
       "    <tr>\n",
       "      <th>4</th>\n",
       "      <td>0</td>\n",
       "      <td>0</td>\n",
       "      <td>21.530847</td>\n",
       "      <td>131.472519</td>\n",
       "    </tr>\n",
       "    <tr>\n",
       "      <th>...</th>\n",
       "      <td>...</td>\n",
       "      <td>...</td>\n",
       "      <td>...</td>\n",
       "      <td>...</td>\n",
       "    </tr>\n",
       "    <tr>\n",
       "      <th>270</th>\n",
       "      <td>54</td>\n",
       "      <td>0</td>\n",
       "      <td>-18.880187</td>\n",
       "      <td>18.880187</td>\n",
       "    </tr>\n",
       "    <tr>\n",
       "      <th>271</th>\n",
       "      <td>54</td>\n",
       "      <td>0</td>\n",
       "      <td>25.173125</td>\n",
       "      <td>62.933498</td>\n",
       "    </tr>\n",
       "    <tr>\n",
       "      <th>272</th>\n",
       "      <td>54</td>\n",
       "      <td>0</td>\n",
       "      <td>34.231561</td>\n",
       "      <td>71.991935</td>\n",
       "    </tr>\n",
       "    <tr>\n",
       "      <th>273</th>\n",
       "      <td>54</td>\n",
       "      <td>0</td>\n",
       "      <td>31.839468</td>\n",
       "      <td>74.384028</td>\n",
       "    </tr>\n",
       "    <tr>\n",
       "      <th>274</th>\n",
       "      <td>54</td>\n",
       "      <td>0</td>\n",
       "      <td>53.095388</td>\n",
       "      <td>95.639948</td>\n",
       "    </tr>\n",
       "  </tbody>\n",
       "</table>\n",
       "<p>275 rows × 4 columns</p>\n",
       "</div>"
      ],
      "text/plain": [
       "     PathIndividual_ID  Generation          X           Y\n",
       "0                    0           0 -14.215789   14.215789\n",
       "1                    0           0 -41.935803   41.935803\n",
       "2                    0           0   5.076645   88.948251\n",
       "3                    0           0   5.076645  121.003286\n",
       "4                    0           0  21.530847  131.472519\n",
       "..                 ...         ...        ...         ...\n",
       "270                 54           0 -18.880187   18.880187\n",
       "271                 54           0  25.173125   62.933498\n",
       "272                 54           0  34.231561   71.991935\n",
       "273                 54           0  31.839468   74.384028\n",
       "274                 54           0  53.095388   95.639948\n",
       "\n",
       "[275 rows x 4 columns]"
      ]
     },
     "execution_count": 12,
     "metadata": {},
     "output_type": "execute_result"
    }
   ],
   "source": [
    "df = pd.read_csv(\"GenerticEvolution_20250208.csv\")\n",
    "df[\"Waypoints\"] = df[\"Waypoints\"].apply(json.loads)\n",
    "\n",
    "waypoints_data = []\n",
    "for index, row in df.iterrows():\n",
    "    for waypoint in row[\"Waypoints\"]:\n",
    "        waypoints_data.append({\n",
    "\n",
    "            \"PathIndividual_ID\": index,\n",
    "            \"Generation\": row[\"Generation\"],\n",
    "            \"X\": waypoint[\"Position\"][\"X\"],\n",
    "            \"Y\": waypoint[\"Position\"][\"Y\"],\n",
    "        })\n",
    "        \n",
    "waypoints_data\n",
    "waypoints_df = pd.DataFrame(waypoints_data)\n",
    "df.head()\n",
    "waypoints_df"
   ]
  },
  {
   "cell_type": "code",
   "execution_count": null,
   "metadata": {},
   "outputs": [
    {
     "data": {
      "application/vnd.plotly.v1+json": {
       "config": {
        "plotlyServerURL": "https://plot.ly"
       },
       "data": [
        {
         "hoverinfo": "text+x+y",
         "line": {
          "color": "blue",
          "width": 2
         },
         "marker": {
          "color": "red",
          "size": 8
         },
         "mode": "lines+markers",
         "name": "Path 0",
         "type": "scatter",
         "x": {
          "bdata": "9+VP6HtuLMC70QZjyPdEwIAG7RF8ThRAggbtEXxOFEDrhgOZ5Yc1QA==",
          "dtype": "f8"
         },
         "y": {
          "bdata": "+OVP6HtuLEC80QZjyPdEQCSiJSSwPFZAQG+X1jVAXkCuIOzgHm9gQA==",
          "dtype": "f8"
         }
        },
        {
         "hoverinfo": "text+x+y",
         "line": {
          "color": "blue",
          "width": 2
         },
         "marker": {
          "color": "red",
          "size": 8
         },
         "mode": "lines+markers",
         "name": "Path 1",
         "type": "scatter",
         "x": {
          "bdata": "gtpyArKTOsDA2wn7hFQQQNCxISuTVMw/qkCzXCvlJEBfceyPgkRMQA==",
          "dtype": "f8"
         },
         "y": {
          "bdata": "g9pyArKTOkD6FdShQp5MQMAvCq5+jE5AKVE0/SsjU0AG4tnAICJbQA==",
          "dtype": "f8"
         }
        },
        {
         "hoverinfo": "text+x+y",
         "line": {
          "color": "blue",
          "width": 2
         },
         "marker": {
          "color": "red",
          "size": 8
         },
         "mode": "lines+markers",
         "name": "Path 2",
         "type": "scatter",
         "x": {
          "bdata": "3Nt1Ki60WECBmQxEkPVMQCZmwgs9IWNAuu/wLEs7bEB/hAU0ANRwQA==",
          "dtype": "f8"
         },
         "y": {
          "bdata": "UyEqZg9+WEC8q9wJuflgQOY9uerpskZARsuKq7GjRUCrK2rPLlw2QA==",
          "dtype": "f8"
         }
        },
        {
         "hoverinfo": "text+x+y",
         "line": {
          "color": "blue",
          "width": 2
         },
         "marker": {
          "color": "red",
          "size": 8
         },
         "mode": "lines+markers",
         "name": "Path 3",
         "type": "scatter",
         "x": {
          "bdata": "9+VP6HtuLMC70QZjyPdEwIAG7RF8ThRAggbtEXxOFEC6Nwr9SiJVQA==",
          "dtype": "f8"
         },
         "y": {
          "bdata": "+OVP6HtuLEC80QZjyPdEQCSiJSSwPFZAQG+X1jVAXkDUm6VNzWFkQA==",
          "dtype": "f8"
         }
        },
        {
         "hoverinfo": "text+x+y",
         "line": {
          "color": "blue",
          "width": 2
         },
         "marker": {
          "color": "red",
          "size": 8
         },
         "mode": "lines+markers",
         "name": "Path 4",
         "type": "scatter",
         "x": {
          "bdata": "V1F98l7JxjzWqSHTdhA+QNepIdN2ED5Aar8lDMJaR0C6Nwr9SiJVQA==",
          "dtype": "f8"
         },
         "y": {
          "bdata": "95ANylWoJED8jiz237FKQGRqCVNtJVtApN9TpLBOX0DUm6VNzWFkQA==",
          "dtype": "f8"
         }
        },
        {
         "hoverinfo": "text+x+y",
         "line": {
          "color": "blue",
          "width": 2
         },
         "marker": {
          "color": "red",
          "size": 8
         },
         "mode": "lines+markers",
         "name": "Path 5",
         "type": "scatter",
         "x": {
          "bdata": "voyKjA/ARkBkez7264JaQCZmwgs9IWNAuu/wLEs7bEC/uMe5gow3QA==",
          "dtype": "f8"
         },
         "y": {
          "bdata": "AAAAAAAAAAAAAAAAAAAAAOY9uerpskZARsuKq7GjRUDlx25NG39hQA==",
          "dtype": "f8"
         }
        },
        {
         "hoverinfo": "text+x+y",
         "line": {
          "color": "blue",
          "width": 2
         },
         "marker": {
          "color": "red",
          "size": 8
         },
         "mode": "lines+markers",
         "name": "Path 6",
         "type": "scatter",
         "x": {
          "bdata": "mRHKTMX7yTzbOZxZ1yZDQADwQOxE0qc/52CQPI0aQUD6MCgIKNJJQA==",
          "dtype": "f8"
         },
         "y": {
          "bdata": "ntHwukSOJ0BCbliIaApJQPHLXKilFVZARnQH/vGfXkDPeBua8GZiQA==",
          "dtype": "f8"
         }
        },
        {
         "hoverinfo": "text+x+y",
         "line": {
          "color": "blue",
          "width": 2
         },
         "marker": {
          "color": "red",
          "size": 8
         },
         "mode": "lines+markers",
         "name": "Path 7",
         "type": "scatter",
         "x": {
          "bdata": "1RVAnIwkN8B8s4BMiktaQLK+KtOMglpAlByAEhX1YEAK7ejYDiJnQA==",
          "dtype": "f8"
         },
         "y": {
          "bdata": "1hVAnIwkN0Big0z8Ge5CQM+ZoAkfXENAXsel1qwVUUBKaHdjoG9dQA==",
          "dtype": "f8"
         }
        },
        {
         "hoverinfo": "text+x+y",
         "line": {
          "color": "blue",
          "width": 2
         },
         "marker": {
          "color": "red",
          "size": 8
         },
         "mode": "lines+markers",
         "name": "Path 8",
         "type": "scatter",
         "x": {
          "bdata": "1RVAnIwkN8CSykx3RbMkQCNESF9ZejXAkPvxGBf0/T/dbMN44aA9QA==",
          "dtype": "f8"
         },
         "y": {
          "bdata": "1hVAnIwkN0B6SBP6XVFMQJhOxQOuHVZAjyf7txT0W0BCIvizBoBaQA==",
          "dtype": "f8"
         }
        },
        {
         "hoverinfo": "text+x+y",
         "line": {
          "color": "blue",
          "width": 2
         },
         "marker": {
          "color": "red",
          "size": 8
         },
         "mode": "lines+markers",
         "name": "Path 9",
         "type": "scatter",
         "x": {
          "bdata": "voyKjA/ARkBkez7264JaQCZmwgs9IWNAqkCzXCvlJEBfceyPgkRMQA==",
          "dtype": "f8"
         },
         "y": {
          "bdata": "AAAAAAAAAAAAAAAAAAAAAOY9uerpskZAKVE0/SsjU0AG4tnAICJbQA==",
          "dtype": "f8"
         }
        },
        {
         "hoverinfo": "text+x+y",
         "line": {
          "color": "blue",
          "width": 2
         },
         "marker": {
          "color": "red",
          "size": 8
         },
         "mode": "lines+markers",
         "name": "Path 10",
         "type": "scatter",
         "x": {
          "bdata": "ru2u6lPhMsAa+1npUSw5QDRWlMujHUFA8fZ6XefWP0AK13ypNYxKQA==",
          "dtype": "f8"
         },
         "y": {
          "bdata": "ru2u6lPhMkA761vffHdPQPGhIdt7/1FATw+N6ZOYUkAYvezm9OhXQA==",
          "dtype": "f8"
         }
        },
        {
         "hoverinfo": "text+x+y",
         "line": {
          "color": "blue",
          "width": 2
         },
         "marker": {
          "color": "red",
          "size": 8
         },
         "mode": "lines+markers",
         "name": "Path 11",
         "type": "scatter",
         "x": {
          "bdata": "1RVAnIwkN8B8s4BMiktaQLK+KtOMglpAlByAEhX1YEB/hAU0ANRwQA==",
          "dtype": "f8"
         },
         "y": {
          "bdata": "1hVAnIwkN0Big0z8Ge5CQM+ZoAkfXENAXsel1qwVUUCrK2rPLlw2QA==",
          "dtype": "f8"
         }
        },
        {
         "hoverinfo": "text+x+y",
         "line": {
          "color": "blue",
          "width": 2
         },
         "marker": {
          "color": "red",
          "size": 8
         },
         "mode": "lines+markers",
         "name": "Path 12",
         "type": "scatter",
         "x": {
          "bdata": "voyKjA/ARkBkez7264JaQCZmwgs9IWNAqkCzXCvlJEBfceyPgkRMQA==",
          "dtype": "f8"
         },
         "y": {
          "bdata": "AAAAAAAAAAAAAAAAAAAAAOY9uerpskZAKVE0/SsjU0AG4tnAICJbQA==",
          "dtype": "f8"
         }
        },
        {
         "hoverinfo": "text+x+y",
         "line": {
          "color": "blue",
          "width": 2
         },
         "marker": {
          "color": "red",
          "size": 8
         },
         "mode": "lines+markers",
         "name": "Path 13",
         "type": "scatter",
         "x": {
          "bdata": "voyKjA/ARkBkez7264JaQCZmwgs9IWNAuu/wLEs7bEC/uMe5gow3QA==",
          "dtype": "f8"
         },
         "y": {
          "bdata": "AAAAAAAAAAAAAAAAAAAAAOY9uerpskZARsuKq7GjRUDlx25NG39hQA==",
          "dtype": "f8"
         }
        },
        {
         "hoverinfo": "text+x+y",
         "line": {
          "color": "blue",
          "width": 2
         },
         "marker": {
          "color": "red",
          "size": 8
         },
         "mode": "lines+markers",
         "name": "Path 14",
         "type": "scatter",
         "x": {
          "bdata": "voyKjA/ARkBkez7264JaQCZmwgs9IWNAqkCzXCvlJEBfceyPgkRMQA==",
          "dtype": "f8"
         },
         "y": {
          "bdata": "AAAAAAAAAAAAAAAAAAAAAOY9uerpskZAKVE0/SsjU0AG4tnAICJbQA==",
          "dtype": "f8"
         }
        },
        {
         "hoverinfo": "text+x+y",
         "line": {
          "color": "blue",
          "width": 2
         },
         "marker": {
          "color": "red",
          "size": 8
         },
         "mode": "lines+markers",
         "name": "Path 15",
         "type": "scatter",
         "x": {
          "bdata": "gtpyArKTOsDA2wn7hFQQQNCxISuTVMw/qkCzXCvlJEC6Nwr9SiJVQA==",
          "dtype": "f8"
         },
         "y": {
          "bdata": "g9pyArKTOkD6FdShQp5MQMAvCq5+jE5AKVE0/SsjU0DUm6VNzWFkQA==",
          "dtype": "f8"
         }
        },
        {
         "hoverinfo": "text+x+y",
         "line": {
          "color": "blue",
          "width": 2
         },
         "marker": {
          "color": "red",
          "size": 8
         },
         "mode": "lines+markers",
         "name": "Path 16",
         "type": "scatter",
         "x": {
          "bdata": "1RVAnIwkN8DbOZxZ1yZDQADwQOxE0qc/52CQPI0aQUD6MCgIKNJJQA==",
          "dtype": "f8"
         },
         "y": {
          "bdata": "1hVAnIwkN0BCbliIaApJQPHLXKilFVZARnQH/vGfXkDPeBua8GZiQA==",
          "dtype": "f8"
         }
        },
        {
         "hoverinfo": "text+x+y",
         "line": {
          "color": "blue",
          "width": 2
         },
         "marker": {
          "color": "red",
          "size": 8
         },
         "mode": "lines+markers",
         "name": "Path 17",
         "type": "scatter",
         "x": {
          "bdata": "voyKjA/ARkBkez7264JaQCZmwgs9IWNAqkCzXCvlJEBfceyPgkRMQA==",
          "dtype": "f8"
         },
         "y": {
          "bdata": "AAAAAAAAAAAAAAAAAAAAAOY9uerpskZAKVE0/SsjU0AG4tnAICJbQA==",
          "dtype": "f8"
         }
        },
        {
         "hoverinfo": "text+x+y",
         "line": {
          "color": "blue",
          "width": 2
         },
         "marker": {
          "color": "red",
          "size": 8
         },
         "mode": "lines+markers",
         "name": "Path 18",
         "type": "scatter",
         "x": {
          "bdata": "gtpyArKTOsDA2wn7hFQQQNCxISuTVMw/52CQPI0aQUD6MCgIKNJJQA==",
          "dtype": "f8"
         },
         "y": {
          "bdata": "g9pyArKTOkD6FdShQp5MQMAvCq5+jE5ARnQH/vGfXkDPeBua8GZiQA==",
          "dtype": "f8"
         }
        },
        {
         "hoverinfo": "text+x+y",
         "line": {
          "color": "blue",
          "width": 2
         },
         "marker": {
          "color": "red",
          "size": 8
         },
         "mode": "lines+markers",
         "name": "Path 19",
         "type": "scatter",
         "x": {
          "bdata": "3Nt1Ki60WECBmQxEkPVMQCZmwgs9IWNAuu/wLEs7bEC/uMe5gow3QA==",
          "dtype": "f8"
         },
         "y": {
          "bdata": "UyEqZg9+WEC8q9wJuflgQOY9uerpskZARsuKq7GjRUDlx25NG39hQA==",
          "dtype": "f8"
         }
        },
        {
         "hoverinfo": "text+x+y",
         "line": {
          "color": "blue",
          "width": 2
         },
         "marker": {
          "color": "red",
          "size": 8
         },
         "mode": "lines+markers",
         "name": "Path 20",
         "type": "scatter",
         "x": {
          "bdata": "gtpyArKTOsBkez7264JaQCZmwgs9IWNAqkCzXCvlJEBfceyPgkRMQA==",
          "dtype": "f8"
         },
         "y": {
          "bdata": "g9pyArKTOkAAAAAAAAAAAOY9uerpskZAKVE0/SsjU0AG4tnAICJbQA==",
          "dtype": "f8"
         }
        },
        {
         "hoverinfo": "text+x+y",
         "line": {
          "color": "blue",
          "width": 2
         },
         "marker": {
          "color": "red",
          "size": 8
         },
         "mode": "lines+markers",
         "name": "Path 21",
         "type": "scatter",
         "x": {
          "bdata": "ru2u6lPhMsAa+1npUSw5QDRWlMujHUFA8fZ6XefWP0AK13ypNYxKQA==",
          "dtype": "f8"
         },
         "y": {
          "bdata": "ru2u6lPhMkA761vffHdPQPGhIdt7/1FATw+N6ZOYUkAYvezm9OhXQA==",
          "dtype": "f8"
         }
        },
        {
         "hoverinfo": "text+x+y",
         "line": {
          "color": "blue",
          "width": 2
         },
         "marker": {
          "color": "red",
          "size": 8
         },
         "mode": "lines+markers",
         "name": "Path 22",
         "type": "scatter",
         "x": {
          "bdata": "voyKjA/ARkBkez7264JaQCZmwgs9IWNAuu/wLEs7bEC/uMe5gow3QA==",
          "dtype": "f8"
         },
         "y": {
          "bdata": "AAAAAAAAAAAAAAAAAAAAAOY9uerpskZARsuKq7GjRUDlx25NG39hQA==",
          "dtype": "f8"
         }
        },
        {
         "hoverinfo": "text+x+y",
         "line": {
          "color": "blue",
          "width": 2
         },
         "marker": {
          "color": "red",
          "size": 8
         },
         "mode": "lines+markers",
         "name": "Path 23",
         "type": "scatter",
         "x": {
          "bdata": "gtpyArKTOsBkez7264JaQCZmwgs9IWNAqkCzXCvlJEBfceyPgkRMQA==",
          "dtype": "f8"
         },
         "y": {
          "bdata": "g9pyArKTOkAAAAAAAAAAAOY9uerpskZAKVE0/SsjU0AG4tnAICJbQA==",
          "dtype": "f8"
         }
        },
        {
         "hoverinfo": "text+x+y",
         "line": {
          "color": "blue",
          "width": 2
         },
         "marker": {
          "color": "red",
          "size": 8
         },
         "mode": "lines+markers",
         "name": "Path 24",
         "type": "scatter",
         "x": {
          "bdata": "3Nt1Ki60WEBkez7264JaQCZmwgs9IWNAqkCzXCvlJEBfceyPgkRMQA==",
          "dtype": "f8"
         },
         "y": {
          "bdata": "UyEqZg9+WEAAAAAAAAAAAOY9uerpskZAKVE0/SsjU0AG4tnAICJbQA==",
          "dtype": "f8"
         }
        },
        {
         "hoverinfo": "text+x+y",
         "line": {
          "color": "blue",
          "width": 2
         },
         "marker": {
          "color": "red",
          "size": 8
         },
         "mode": "lines+markers",
         "name": "Path 25",
         "type": "scatter",
         "x": {
          "bdata": "voyKjA/ARkBkez7264JaQCZmwgs9IWNAuu/wLEs7bEC/uMe5gow3QA==",
          "dtype": "f8"
         },
         "y": {
          "bdata": "AAAAAAAAAAAAAAAAAAAAAOY9uerpskZARsuKq7GjRUDlx25NG39hQA==",
          "dtype": "f8"
         }
        },
        {
         "hoverinfo": "text+x+y",
         "line": {
          "color": "blue",
          "width": 2
         },
         "marker": {
          "color": "red",
          "size": 8
         },
         "mode": "lines+markers",
         "name": "Path 26",
         "type": "scatter",
         "x": {
          "bdata": "3Nt1Ki60WECBmQxEkPVMQCZmwgs9IWNAuu/wLEs7bEC/uMe5gow3QA==",
          "dtype": "f8"
         },
         "y": {
          "bdata": "UyEqZg9+WEC8q9wJuflgQOY9uerpskZARsuKq7GjRUDlx25NG39hQA==",
          "dtype": "f8"
         }
        },
        {
         "hoverinfo": "text+x+y",
         "line": {
          "color": "blue",
          "width": 2
         },
         "marker": {
          "color": "red",
          "size": 8
         },
         "mode": "lines+markers",
         "name": "Path 27",
         "type": "scatter",
         "x": {
          "bdata": "gtpyArKTOsDA2wn7hFQQQNCxISuTVMw/52CQPI0aQUC/uMe5gow3QA==",
          "dtype": "f8"
         },
         "y": {
          "bdata": "g9pyArKTOkD6FdShQp5MQMAvCq5+jE5ARnQH/vGfXkDlx25NG39hQA==",
          "dtype": "f8"
         }
        },
        {
         "hoverinfo": "text+x+y",
         "line": {
          "color": "blue",
          "width": 2
         },
         "marker": {
          "color": "red",
          "size": 8
         },
         "mode": "lines+markers",
         "name": "Path 28",
         "type": "scatter",
         "x": {
          "bdata": "1RVAnIwkN8B8s4BMiktaQLK+KtOMglpAlByAEhX1YEBfceyPgkRMQA==",
          "dtype": "f8"
         },
         "y": {
          "bdata": "1hVAnIwkN0Big0z8Ge5CQM+ZoAkfXENAXsel1qwVUUAG4tnAICJbQA==",
          "dtype": "f8"
         }
        },
        {
         "hoverinfo": "text+x+y",
         "line": {
          "color": "blue",
          "width": 2
         },
         "marker": {
          "color": "red",
          "size": 8
         },
         "mode": "lines+markers",
         "name": "Path 29",
         "type": "scatter",
         "x": {
          "bdata": "1RVAnIwkN8DA2wn7hFQQQNCxISuTVMw/52CQPI0aQUD6MCgIKNJJQA==",
          "dtype": "f8"
         },
         "y": {
          "bdata": "1hVAnIwkN0D6FdShQp5MQMAvCq5+jE5ARnQH/vGfXkDPeBua8GZiQA==",
          "dtype": "f8"
         }
        },
        {
         "hoverinfo": "text+x+y",
         "line": {
          "color": "blue",
          "width": 2
         },
         "marker": {
          "color": "red",
          "size": 8
         },
         "mode": "lines+markers",
         "name": "Path 30",
         "type": "scatter",
         "x": {
          "bdata": "gtpyArKTOsBkez7264JaQCZmwgs9IWNAuu/wLEs7bEC/uMe5gow3QA==",
          "dtype": "f8"
         },
         "y": {
          "bdata": "g9pyArKTOkAAAAAAAAAAAOY9uerpskZARsuKq7GjRUDlx25NG39hQA==",
          "dtype": "f8"
         }
        },
        {
         "hoverinfo": "text+x+y",
         "line": {
          "color": "blue",
          "width": 2
         },
         "marker": {
          "color": "red",
          "size": 8
         },
         "mode": "lines+markers",
         "name": "Path 31",
         "type": "scatter",
         "x": {
          "bdata": "voyKjA/ARkBkez7264JaQCZmwgs9IWNA52CQPI0aQUD6MCgIKNJJQA==",
          "dtype": "f8"
         },
         "y": {
          "bdata": "AAAAAAAAAAAAAAAAAAAAAOY9uerpskZARnQH/vGfXkDPeBua8GZiQA==",
          "dtype": "f8"
         }
        },
        {
         "hoverinfo": "text+x+y",
         "line": {
          "color": "blue",
          "width": 2
         },
         "marker": {
          "color": "red",
          "size": 8
         },
         "mode": "lines+markers",
         "name": "Path 32",
         "type": "scatter",
         "x": {
          "bdata": "ru2u6lPhMsAa+1npUSw5QDRWlMujHUFA8fZ6XefWP0AK13ypNYxKQA==",
          "dtype": "f8"
         },
         "y": {
          "bdata": "ru2u6lPhMkA761vffHdPQPGhIdt7/1FATw+N6ZOYUkAYvezm9OhXQA==",
          "dtype": "f8"
         }
        },
        {
         "hoverinfo": "text+x+y",
         "line": {
          "color": "blue",
          "width": 2
         },
         "marker": {
          "color": "red",
          "size": 8
         },
         "mode": "lines+markers",
         "name": "Path 33",
         "type": "scatter",
         "x": {
          "bdata": "1RVAnIwkN8Bkez7264JaQCZmwgs9IWNA52CQPI0aQUD6MCgIKNJJQA==",
          "dtype": "f8"
         },
         "y": {
          "bdata": "1hVAnIwkN0AAAAAAAAAAAOY9uerpskZARnQH/vGfXkDPeBua8GZiQA==",
          "dtype": "f8"
         }
        },
        {
         "hoverinfo": "text+x+y",
         "line": {
          "color": "blue",
          "width": 2
         },
         "marker": {
          "color": "red",
          "size": 8
         },
         "mode": "lines+markers",
         "name": "Path 34",
         "type": "scatter",
         "x": {
          "bdata": "gtpyArKTOsBkez7264JaQCZmwgs9IWNAuu/wLEs7bEC/uMe5gow3QA==",
          "dtype": "f8"
         },
         "y": {
          "bdata": "g9pyArKTOkAAAAAAAAAAAOY9uerpskZARsuKq7GjRUDlx25NG39hQA==",
          "dtype": "f8"
         }
        },
        {
         "hoverinfo": "text+x+y",
         "line": {
          "color": "blue",
          "width": 2
         },
         "marker": {
          "color": "red",
          "size": 8
         },
         "mode": "lines+markers",
         "name": "Path 35",
         "type": "scatter",
         "x": {
          "bdata": "3Nt1Ki60WEBkez7264JaQCZmwgs9IWNAqkCzXCvlJEC/uMe5gow3QA==",
          "dtype": "f8"
         },
         "y": {
          "bdata": "UyEqZg9+WEAAAAAAAAAAAOY9uerpskZAKVE0/SsjU0Dlx25NG39hQA==",
          "dtype": "f8"
         }
        },
        {
         "hoverinfo": "text+x+y",
         "line": {
          "color": "blue",
          "width": 2
         },
         "marker": {
          "color": "red",
          "size": 8
         },
         "mode": "lines+markers",
         "name": "Path 36",
         "type": "scatter",
         "x": {
          "bdata": "voyKjA/ARkBkez7264JaQCZmwgs9IWNAuu/wLEs7bEC/uMe5gow3QA==",
          "dtype": "f8"
         },
         "y": {
          "bdata": "AAAAAAAAAAAAAAAAAAAAAOY9uerpskZARsuKq7GjRUDlx25NG39hQA==",
          "dtype": "f8"
         }
        },
        {
         "hoverinfo": "text+x+y",
         "line": {
          "color": "blue",
          "width": 2
         },
         "marker": {
          "color": "red",
          "size": 8
         },
         "mode": "lines+markers",
         "name": "Path 37",
         "type": "scatter",
         "x": {
          "bdata": "3Nt1Ki60WECBmQxEkPVMQCZmwgs9IWNAqkCzXCvlJEBfceyPgkRMQA==",
          "dtype": "f8"
         },
         "y": {
          "bdata": "UyEqZg9+WEC8q9wJuflgQOY9uerpskZAKVE0/SsjU0AG4tnAICJbQA==",
          "dtype": "f8"
         }
        },
        {
         "hoverinfo": "text+x+y",
         "line": {
          "color": "blue",
          "width": 2
         },
         "marker": {
          "color": "red",
          "size": 8
         },
         "mode": "lines+markers",
         "name": "Path 38",
         "type": "scatter",
         "x": {
          "bdata": "voyKjA/ARkBkez7264JaQCZmwgs9IWNAuu/wLEs7bEC/uMe5gow3QA==",
          "dtype": "f8"
         },
         "y": {
          "bdata": "AAAAAAAAAAAAAAAAAAAAAOY9uerpskZARsuKq7GjRUDlx25NG39hQA==",
          "dtype": "f8"
         }
        },
        {
         "hoverinfo": "text+x+y",
         "line": {
          "color": "blue",
          "width": 2
         },
         "marker": {
          "color": "red",
          "size": 8
         },
         "mode": "lines+markers",
         "name": "Path 39",
         "type": "scatter",
         "x": {
          "bdata": "gtpyArKTOsDA2wn7hFQQQNCxISuTVMw/52CQPI0aQUC/uMe5gow3QA==",
          "dtype": "f8"
         },
         "y": {
          "bdata": "g9pyArKTOkD6FdShQp5MQMAvCq5+jE5ARnQH/vGfXkDlx25NG39hQA==",
          "dtype": "f8"
         }
        },
        {
         "hoverinfo": "text+x+y",
         "line": {
          "color": "blue",
          "width": 2
         },
         "marker": {
          "color": "red",
          "size": 8
         },
         "mode": "lines+markers",
         "name": "Path 40",
         "type": "scatter",
         "x": {
          "bdata": "1RVAnIwkN8DA2wn7hFQQQNCxISuTVMw/52CQPI0aQUD6MCgIKNJJQA==",
          "dtype": "f8"
         },
         "y": {
          "bdata": "1hVAnIwkN0D6FdShQp5MQMAvCq5+jE5ARnQH/vGfXkDPeBua8GZiQA==",
          "dtype": "f8"
         }
        },
        {
         "hoverinfo": "text+x+y",
         "line": {
          "color": "blue",
          "width": 2
         },
         "marker": {
          "color": "red",
          "size": 8
         },
         "mode": "lines+markers",
         "name": "Path 41",
         "type": "scatter",
         "x": {
          "bdata": "1RVAnIwkN8B8s4BMiktaQLK+KtOMglpA52CQPI0aQUD6MCgIKNJJQA==",
          "dtype": "f8"
         },
         "y": {
          "bdata": "1hVAnIwkN0Big0z8Ge5CQM+ZoAkfXENARnQH/vGfXkDPeBua8GZiQA==",
          "dtype": "f8"
         }
        },
        {
         "hoverinfo": "text+x+y",
         "line": {
          "color": "blue",
          "width": 2
         },
         "marker": {
          "color": "red",
          "size": 8
         },
         "mode": "lines+markers",
         "name": "Path 42",
         "type": "scatter",
         "x": {
          "bdata": "voyKjA/ARkBkez7264JaQCZmwgs9IWNAuu/wLEs7bEC/uMe5gow3QA==",
          "dtype": "f8"
         },
         "y": {
          "bdata": "AAAAAAAAAAAAAAAAAAAAAOY9uerpskZARsuKq7GjRUDlx25NG39hQA==",
          "dtype": "f8"
         }
        },
        {
         "hoverinfo": "text+x+y",
         "line": {
          "color": "blue",
          "width": 2
         },
         "marker": {
          "color": "red",
          "size": 8
         },
         "mode": "lines+markers",
         "name": "Path 43",
         "type": "scatter",
         "x": {
          "bdata": "ru2u6lPhMsAa+1npUSw5QDRWlMujHUFA8fZ6XefWP0AK13ypNYxKQA==",
          "dtype": "f8"
         },
         "y": {
          "bdata": "ru2u6lPhMkA761vffHdPQPGhIdt7/1FATw+N6ZOYUkAYvezm9OhXQA==",
          "dtype": "f8"
         }
        },
        {
         "hoverinfo": "text+x+y",
         "line": {
          "color": "blue",
          "width": 2
         },
         "marker": {
          "color": "red",
          "size": 8
         },
         "mode": "lines+markers",
         "name": "Path 44",
         "type": "scatter",
         "x": {
          "bdata": "gtpyArKTOsDA2wn7hFQQQCZmwgs9IWNAuu/wLEs7bEC/uMe5gow3QA==",
          "dtype": "f8"
         },
         "y": {
          "bdata": "g9pyArKTOkD6FdShQp5MQOY9uerpskZARsuKq7GjRUDlx25NG39hQA==",
          "dtype": "f8"
         }
        },
        {
         "hoverinfo": "text+x+y",
         "line": {
          "color": "blue",
          "width": 2
         },
         "marker": {
          "color": "red",
          "size": 8
         },
         "mode": "lines+markers",
         "name": "Path 45",
         "type": "scatter",
         "x": {
          "bdata": "3Nt1Ki60WECBmQxEkPVMQCZmwgs9IWNAqkCzXCvlJEC/uMe5gow3QA==",
          "dtype": "f8"
         },
         "y": {
          "bdata": "UyEqZg9+WEC8q9wJuflgQOY9uerpskZAKVE0/SsjU0Dlx25NG39hQA==",
          "dtype": "f8"
         }
        },
        {
         "hoverinfo": "text+x+y",
         "line": {
          "color": "blue",
          "width": 2
         },
         "marker": {
          "color": "red",
          "size": 8
         },
         "mode": "lines+markers",
         "name": "Path 46",
         "type": "scatter",
         "x": {
          "bdata": "1RVAnIwkN8Bkez7264JaQNCxISuTVMw/52CQPI0aQUC/uMe5gow3QA==",
          "dtype": "f8"
         },
         "y": {
          "bdata": "1hVAnIwkN0AAAAAAAAAAAMAvCq5+jE5ARnQH/vGfXkDlx25NG39hQA==",
          "dtype": "f8"
         }
        },
        {
         "hoverinfo": "text+x+y",
         "line": {
          "color": "blue",
          "width": 2
         },
         "marker": {
          "color": "red",
          "size": 8
         },
         "mode": "lines+markers",
         "name": "Path 47",
         "type": "scatter",
         "x": {
          "bdata": "3Nt1Ki60WEDA2wn7hFQQQNCxISuTVMw/52CQPI0aQUC/uMe5gow3QA==",
          "dtype": "f8"
         },
         "y": {
          "bdata": "UyEqZg9+WED6FdShQp5MQMAvCq5+jE5ARnQH/vGfXkDlx25NG39hQA==",
          "dtype": "f8"
         }
        },
        {
         "hoverinfo": "text+x+y",
         "line": {
          "color": "blue",
          "width": 2
         },
         "marker": {
          "color": "red",
          "size": 8
         },
         "mode": "lines+markers",
         "name": "Path 48",
         "type": "scatter",
         "x": {
          "bdata": "voyKjA/ARkBkez7264JaQCZmwgs9IWNAqkCzXCvlJEBfceyPgkRMQA==",
          "dtype": "f8"
         },
         "y": {
          "bdata": "AAAAAAAAAAAAAAAAAAAAAOY9uerpskZAKVE0/SsjU0AG4tnAICJbQA==",
          "dtype": "f8"
         }
        },
        {
         "hoverinfo": "text+x+y",
         "line": {
          "color": "blue",
          "width": 2
         },
         "marker": {
          "color": "red",
          "size": 8
         },
         "mode": "lines+markers",
         "name": "Path 49",
         "type": "scatter",
         "x": {
          "bdata": "3Nt1Ki60WEBkez7264JaQCZmwgs9IWNAuu/wLEs7bEC/uMe5gow3QA==",
          "dtype": "f8"
         },
         "y": {
          "bdata": "UyEqZg9+WEAAAAAAAAAAAOY9uerpskZARsuKq7GjRUDlx25NG39hQA==",
          "dtype": "f8"
         }
        },
        {
         "hoverinfo": "text+x+y",
         "line": {
          "color": "blue",
          "width": 2
         },
         "marker": {
          "color": "red",
          "size": 8
         },
         "mode": "lines+markers",
         "name": "Path 50",
         "type": "scatter",
         "x": {
          "bdata": "gtpyArKTOsDA2wn7hFQQQNCxISuTVMw/52CQPI0aQUC/uMe5gow3QA==",
          "dtype": "f8"
         },
         "y": {
          "bdata": "g9pyArKTOkD6FdShQp5MQMAvCq5+jE5ARnQH/vGfXkDlx25NG39hQA==",
          "dtype": "f8"
         }
        },
        {
         "hoverinfo": "text+x+y",
         "line": {
          "color": "blue",
          "width": 2
         },
         "marker": {
          "color": "red",
          "size": 8
         },
         "mode": "lines+markers",
         "name": "Path 51",
         "type": "scatter",
         "x": {
          "bdata": "1RVAnIwkN8Bkez7264JaQCZmwgs9IWNA52CQPI0aQUC/uMe5gow3QA==",
          "dtype": "f8"
         },
         "y": {
          "bdata": "1hVAnIwkN0AAAAAAAAAAAOY9uerpskZARnQH/vGfXkDlx25NG39hQA==",
          "dtype": "f8"
         }
        },
        {
         "hoverinfo": "text+x+y",
         "line": {
          "color": "blue",
          "width": 2
         },
         "marker": {
          "color": "red",
          "size": 8
         },
         "mode": "lines+markers",
         "name": "Path 52",
         "type": "scatter",
         "x": {
          "bdata": "voyKjA/ARkBkez7264JaQCZmwgs9IWNA52CQPI0aQUC/uMe5gow3QA==",
          "dtype": "f8"
         },
         "y": {
          "bdata": "AAAAAAAAAAAAAAAAAAAAAOY9uerpskZARnQH/vGfXkDlx25NG39hQA==",
          "dtype": "f8"
         }
        },
        {
         "hoverinfo": "text+x+y",
         "line": {
          "color": "blue",
          "width": 2
         },
         "marker": {
          "color": "red",
          "size": 8
         },
         "mode": "lines+markers",
         "name": "Path 53",
         "type": "scatter",
         "x": {
          "bdata": "voyKjA/ARkBkez7264JaQCZmwgs9IWNAuu/wLEs7bEC/uMe5gow3QA==",
          "dtype": "f8"
         },
         "y": {
          "bdata": "AAAAAAAAAAAAAAAAAAAAAOY9uerpskZARsuKq7GjRUDlx25NG39hQA==",
          "dtype": "f8"
         }
        },
        {
         "hoverinfo": "text+x+y",
         "line": {
          "color": "blue",
          "width": 2
         },
         "marker": {
          "color": "red",
          "size": 8
         },
         "mode": "lines+markers",
         "name": "Path 54",
         "type": "scatter",
         "x": {
          "bdata": "ru2u6lPhMsAa+1npUSw5QDRWlMujHUFA8fZ6XefWP0AK13ypNYxKQA==",
          "dtype": "f8"
         },
         "y": {
          "bdata": "ru2u6lPhMkA761vffHdPQPGhIdt7/1FATw+N6ZOYUkAYvezm9OhXQA==",
          "dtype": "f8"
         }
        }
       ],
       "layout": {
        "showlegend": true,
        "template": {
         "data": {
          "bar": [
           {
            "error_x": {
             "color": "#2a3f5f"
            },
            "error_y": {
             "color": "#2a3f5f"
            },
            "marker": {
             "line": {
              "color": "#E5ECF6",
              "width": 0.5
             },
             "pattern": {
              "fillmode": "overlay",
              "size": 10,
              "solidity": 0.2
             }
            },
            "type": "bar"
           }
          ],
          "barpolar": [
           {
            "marker": {
             "line": {
              "color": "#E5ECF6",
              "width": 0.5
             },
             "pattern": {
              "fillmode": "overlay",
              "size": 10,
              "solidity": 0.2
             }
            },
            "type": "barpolar"
           }
          ],
          "carpet": [
           {
            "aaxis": {
             "endlinecolor": "#2a3f5f",
             "gridcolor": "white",
             "linecolor": "white",
             "minorgridcolor": "white",
             "startlinecolor": "#2a3f5f"
            },
            "baxis": {
             "endlinecolor": "#2a3f5f",
             "gridcolor": "white",
             "linecolor": "white",
             "minorgridcolor": "white",
             "startlinecolor": "#2a3f5f"
            },
            "type": "carpet"
           }
          ],
          "choropleth": [
           {
            "colorbar": {
             "outlinewidth": 0,
             "ticks": ""
            },
            "type": "choropleth"
           }
          ],
          "contour": [
           {
            "colorbar": {
             "outlinewidth": 0,
             "ticks": ""
            },
            "colorscale": [
             [
              0,
              "#0d0887"
             ],
             [
              0.1111111111111111,
              "#46039f"
             ],
             [
              0.2222222222222222,
              "#7201a8"
             ],
             [
              0.3333333333333333,
              "#9c179e"
             ],
             [
              0.4444444444444444,
              "#bd3786"
             ],
             [
              0.5555555555555556,
              "#d8576b"
             ],
             [
              0.6666666666666666,
              "#ed7953"
             ],
             [
              0.7777777777777778,
              "#fb9f3a"
             ],
             [
              0.8888888888888888,
              "#fdca26"
             ],
             [
              1,
              "#f0f921"
             ]
            ],
            "type": "contour"
           }
          ],
          "contourcarpet": [
           {
            "colorbar": {
             "outlinewidth": 0,
             "ticks": ""
            },
            "type": "contourcarpet"
           }
          ],
          "heatmap": [
           {
            "colorbar": {
             "outlinewidth": 0,
             "ticks": ""
            },
            "colorscale": [
             [
              0,
              "#0d0887"
             ],
             [
              0.1111111111111111,
              "#46039f"
             ],
             [
              0.2222222222222222,
              "#7201a8"
             ],
             [
              0.3333333333333333,
              "#9c179e"
             ],
             [
              0.4444444444444444,
              "#bd3786"
             ],
             [
              0.5555555555555556,
              "#d8576b"
             ],
             [
              0.6666666666666666,
              "#ed7953"
             ],
             [
              0.7777777777777778,
              "#fb9f3a"
             ],
             [
              0.8888888888888888,
              "#fdca26"
             ],
             [
              1,
              "#f0f921"
             ]
            ],
            "type": "heatmap"
           }
          ],
          "histogram": [
           {
            "marker": {
             "pattern": {
              "fillmode": "overlay",
              "size": 10,
              "solidity": 0.2
             }
            },
            "type": "histogram"
           }
          ],
          "histogram2d": [
           {
            "colorbar": {
             "outlinewidth": 0,
             "ticks": ""
            },
            "colorscale": [
             [
              0,
              "#0d0887"
             ],
             [
              0.1111111111111111,
              "#46039f"
             ],
             [
              0.2222222222222222,
              "#7201a8"
             ],
             [
              0.3333333333333333,
              "#9c179e"
             ],
             [
              0.4444444444444444,
              "#bd3786"
             ],
             [
              0.5555555555555556,
              "#d8576b"
             ],
             [
              0.6666666666666666,
              "#ed7953"
             ],
             [
              0.7777777777777778,
              "#fb9f3a"
             ],
             [
              0.8888888888888888,
              "#fdca26"
             ],
             [
              1,
              "#f0f921"
             ]
            ],
            "type": "histogram2d"
           }
          ],
          "histogram2dcontour": [
           {
            "colorbar": {
             "outlinewidth": 0,
             "ticks": ""
            },
            "colorscale": [
             [
              0,
              "#0d0887"
             ],
             [
              0.1111111111111111,
              "#46039f"
             ],
             [
              0.2222222222222222,
              "#7201a8"
             ],
             [
              0.3333333333333333,
              "#9c179e"
             ],
             [
              0.4444444444444444,
              "#bd3786"
             ],
             [
              0.5555555555555556,
              "#d8576b"
             ],
             [
              0.6666666666666666,
              "#ed7953"
             ],
             [
              0.7777777777777778,
              "#fb9f3a"
             ],
             [
              0.8888888888888888,
              "#fdca26"
             ],
             [
              1,
              "#f0f921"
             ]
            ],
            "type": "histogram2dcontour"
           }
          ],
          "mesh3d": [
           {
            "colorbar": {
             "outlinewidth": 0,
             "ticks": ""
            },
            "type": "mesh3d"
           }
          ],
          "parcoords": [
           {
            "line": {
             "colorbar": {
              "outlinewidth": 0,
              "ticks": ""
             }
            },
            "type": "parcoords"
           }
          ],
          "pie": [
           {
            "automargin": true,
            "type": "pie"
           }
          ],
          "scatter": [
           {
            "fillpattern": {
             "fillmode": "overlay",
             "size": 10,
             "solidity": 0.2
            },
            "type": "scatter"
           }
          ],
          "scatter3d": [
           {
            "line": {
             "colorbar": {
              "outlinewidth": 0,
              "ticks": ""
             }
            },
            "marker": {
             "colorbar": {
              "outlinewidth": 0,
              "ticks": ""
             }
            },
            "type": "scatter3d"
           }
          ],
          "scattercarpet": [
           {
            "marker": {
             "colorbar": {
              "outlinewidth": 0,
              "ticks": ""
             }
            },
            "type": "scattercarpet"
           }
          ],
          "scattergeo": [
           {
            "marker": {
             "colorbar": {
              "outlinewidth": 0,
              "ticks": ""
             }
            },
            "type": "scattergeo"
           }
          ],
          "scattergl": [
           {
            "marker": {
             "colorbar": {
              "outlinewidth": 0,
              "ticks": ""
             }
            },
            "type": "scattergl"
           }
          ],
          "scattermap": [
           {
            "marker": {
             "colorbar": {
              "outlinewidth": 0,
              "ticks": ""
             }
            },
            "type": "scattermap"
           }
          ],
          "scattermapbox": [
           {
            "marker": {
             "colorbar": {
              "outlinewidth": 0,
              "ticks": ""
             }
            },
            "type": "scattermapbox"
           }
          ],
          "scatterpolar": [
           {
            "marker": {
             "colorbar": {
              "outlinewidth": 0,
              "ticks": ""
             }
            },
            "type": "scatterpolar"
           }
          ],
          "scatterpolargl": [
           {
            "marker": {
             "colorbar": {
              "outlinewidth": 0,
              "ticks": ""
             }
            },
            "type": "scatterpolargl"
           }
          ],
          "scatterternary": [
           {
            "marker": {
             "colorbar": {
              "outlinewidth": 0,
              "ticks": ""
             }
            },
            "type": "scatterternary"
           }
          ],
          "surface": [
           {
            "colorbar": {
             "outlinewidth": 0,
             "ticks": ""
            },
            "colorscale": [
             [
              0,
              "#0d0887"
             ],
             [
              0.1111111111111111,
              "#46039f"
             ],
             [
              0.2222222222222222,
              "#7201a8"
             ],
             [
              0.3333333333333333,
              "#9c179e"
             ],
             [
              0.4444444444444444,
              "#bd3786"
             ],
             [
              0.5555555555555556,
              "#d8576b"
             ],
             [
              0.6666666666666666,
              "#ed7953"
             ],
             [
              0.7777777777777778,
              "#fb9f3a"
             ],
             [
              0.8888888888888888,
              "#fdca26"
             ],
             [
              1,
              "#f0f921"
             ]
            ],
            "type": "surface"
           }
          ],
          "table": [
           {
            "cells": {
             "fill": {
              "color": "#EBF0F8"
             },
             "line": {
              "color": "white"
             }
            },
            "header": {
             "fill": {
              "color": "#C8D4E3"
             },
             "line": {
              "color": "white"
             }
            },
            "type": "table"
           }
          ]
         },
         "layout": {
          "annotationdefaults": {
           "arrowcolor": "#2a3f5f",
           "arrowhead": 0,
           "arrowwidth": 1
          },
          "autotypenumbers": "strict",
          "coloraxis": {
           "colorbar": {
            "outlinewidth": 0,
            "ticks": ""
           }
          },
          "colorscale": {
           "diverging": [
            [
             0,
             "#8e0152"
            ],
            [
             0.1,
             "#c51b7d"
            ],
            [
             0.2,
             "#de77ae"
            ],
            [
             0.3,
             "#f1b6da"
            ],
            [
             0.4,
             "#fde0ef"
            ],
            [
             0.5,
             "#f7f7f7"
            ],
            [
             0.6,
             "#e6f5d0"
            ],
            [
             0.7,
             "#b8e186"
            ],
            [
             0.8,
             "#7fbc41"
            ],
            [
             0.9,
             "#4d9221"
            ],
            [
             1,
             "#276419"
            ]
           ],
           "sequential": [
            [
             0,
             "#0d0887"
            ],
            [
             0.1111111111111111,
             "#46039f"
            ],
            [
             0.2222222222222222,
             "#7201a8"
            ],
            [
             0.3333333333333333,
             "#9c179e"
            ],
            [
             0.4444444444444444,
             "#bd3786"
            ],
            [
             0.5555555555555556,
             "#d8576b"
            ],
            [
             0.6666666666666666,
             "#ed7953"
            ],
            [
             0.7777777777777778,
             "#fb9f3a"
            ],
            [
             0.8888888888888888,
             "#fdca26"
            ],
            [
             1,
             "#f0f921"
            ]
           ],
           "sequentialminus": [
            [
             0,
             "#0d0887"
            ],
            [
             0.1111111111111111,
             "#46039f"
            ],
            [
             0.2222222222222222,
             "#7201a8"
            ],
            [
             0.3333333333333333,
             "#9c179e"
            ],
            [
             0.4444444444444444,
             "#bd3786"
            ],
            [
             0.5555555555555556,
             "#d8576b"
            ],
            [
             0.6666666666666666,
             "#ed7953"
            ],
            [
             0.7777777777777778,
             "#fb9f3a"
            ],
            [
             0.8888888888888888,
             "#fdca26"
            ],
            [
             1,
             "#f0f921"
            ]
           ]
          },
          "colorway": [
           "#636efa",
           "#EF553B",
           "#00cc96",
           "#ab63fa",
           "#FFA15A",
           "#19d3f3",
           "#FF6692",
           "#B6E880",
           "#FF97FF",
           "#FECB52"
          ],
          "font": {
           "color": "#2a3f5f"
          },
          "geo": {
           "bgcolor": "white",
           "lakecolor": "white",
           "landcolor": "#E5ECF6",
           "showlakes": true,
           "showland": true,
           "subunitcolor": "white"
          },
          "hoverlabel": {
           "align": "left"
          },
          "hovermode": "closest",
          "mapbox": {
           "style": "light"
          },
          "paper_bgcolor": "white",
          "plot_bgcolor": "#E5ECF6",
          "polar": {
           "angularaxis": {
            "gridcolor": "white",
            "linecolor": "white",
            "ticks": ""
           },
           "bgcolor": "#E5ECF6",
           "radialaxis": {
            "gridcolor": "white",
            "linecolor": "white",
            "ticks": ""
           }
          },
          "scene": {
           "xaxis": {
            "backgroundcolor": "#E5ECF6",
            "gridcolor": "white",
            "gridwidth": 2,
            "linecolor": "white",
            "showbackground": true,
            "ticks": "",
            "zerolinecolor": "white"
           },
           "yaxis": {
            "backgroundcolor": "#E5ECF6",
            "gridcolor": "white",
            "gridwidth": 2,
            "linecolor": "white",
            "showbackground": true,
            "ticks": "",
            "zerolinecolor": "white"
           },
           "zaxis": {
            "backgroundcolor": "#E5ECF6",
            "gridcolor": "white",
            "gridwidth": 2,
            "linecolor": "white",
            "showbackground": true,
            "ticks": "",
            "zerolinecolor": "white"
           }
          },
          "shapedefaults": {
           "line": {
            "color": "#2a3f5f"
           }
          },
          "ternary": {
           "aaxis": {
            "gridcolor": "white",
            "linecolor": "white",
            "ticks": ""
           },
           "baxis": {
            "gridcolor": "white",
            "linecolor": "white",
            "ticks": ""
           },
           "bgcolor": "#E5ECF6",
           "caxis": {
            "gridcolor": "white",
            "linecolor": "white",
            "ticks": ""
           }
          },
          "title": {
           "x": 0.05
          },
          "xaxis": {
           "automargin": true,
           "gridcolor": "white",
           "linecolor": "white",
           "ticks": "",
           "title": {
            "standoff": 15
           },
           "zerolinecolor": "white",
           "zerolinewidth": 2
          },
          "yaxis": {
           "automargin": true,
           "gridcolor": "white",
           "linecolor": "white",
           "ticks": "",
           "title": {
            "standoff": 15
           },
           "zerolinecolor": "white",
           "zerolinewidth": 2
          }
         }
        },
        "title": {
         "text": "Waypoints with Connecting Lines"
        },
        "xaxis": {
         "title": {
          "text": "X Coordinate"
         }
        },
        "yaxis": {
         "title": {
          "text": "Y Coordinate"
         }
        }
       }
      }
     },
     "metadata": {},
     "output_type": "display_data"
    }
   ],
   "source": [
    "import plotly.graph_objects as go\n",
    "\n",
    "# Create a Plotly figure\n",
    "fig = go.Figure()\n",
    "\n",
    "# Group waypoints by PathIndividual_ID\n",
    "grouped = waypoints_df.groupby(\"PathIndividual_ID\")\n",
    "\n",
    "# Add lines and markers for each path\n",
    "for name, group in grouped:\n",
    "    fig.add_trace(go.Scatter(\n",
    "        x=group[\"X\"],\n",
    "        y=group[\"Y\"],\n",
    "        mode='lines+markers',  # Draw lines and markers\n",
    "        name=f\"Path {name}\",   # Name for the legend\n",
    "        line=dict(color='blue', width=2),  # Customize line color and width\n",
    "        marker=dict(size=8, color='red'),  # Customize marker size and color\n",
    "        hoverinfo='text+x+y, generation'  # Show hover information\n",
    "    ))\n",
    "\n",
    "# Update layout\n",
    "fig.update_layout(\n",
    "    title=\"Waypoints with Connecting Lines\",\n",
    "    xaxis_title=\"X Coordinate\",\n",
    "    yaxis_title=\"Y Coordinate\",\n",
    "    showlegend=True\n",
    ")\n",
    "\n",
    "# Show the plot\n",
    "fig.show()"
   ]
  },
  {
   "cell_type": "code",
   "execution_count": 19,
   "metadata": {},
   "outputs": [
    {
     "data": {
      "application/vnd.plotly.v1+json": {
       "config": {
        "plotlyServerURL": "https://plot.ly"
       },
       "data": [
        {
         "hoverinfo": "text+x+y",
         "line": {
          "color": "blue",
          "width": 2
         },
         "marker": {
          "color": "red",
          "size": 8
         },
         "mode": "lines+markers",
         "name": "Path 0 (Gen 0, Fitness 307.6061909675598)",
         "text": "Gen 0, Path 0",
         "type": "scatter",
         "x": [
          0,
          26.10526622115416,
          101.67804731715476,
          39.461458429144145,
          70.06250974026553,
          -9.6724836076906,
          100
         ],
         "y": [
          0,
          38.3400214206417,
          70.72930340012456,
          66.15954114851318,
          134.5698715770645,
          172.79885139284022,
          100
         ]
        },
        {
         "hoverinfo": "text+x+y",
         "line": {
          "color": "blue",
          "width": 2
         },
         "marker": {
          "color": "red",
          "size": 8
         },
         "mode": "lines+markers",
         "name": "Path 1 (Gen 0, Fitness 299.12316222190856)",
         "text": "Gen 0, Path 1",
         "type": "scatter",
         "x": [
          0,
          46.636887350094774,
          -14.515905733390202,
          -42.936363574854084,
          -30.556957487222792,
          34.79853411475493,
          100
         ],
         "y": [
          0,
          0,
          47.20897134703038,
          75.62942918849427,
          102.3690333669513,
          127.10608454308723,
          100
         ]
        },
        {
         "hoverinfo": "text+x+y",
         "line": {
          "color": "blue",
          "width": 2
         },
         "marker": {
          "color": "red",
          "size": 8
         },
         "mode": "lines+markers",
         "name": "Path 2 (Gen 0, Fitness 300.8869818687439)",
         "text": "Gen 0, Path 2",
         "type": "scatter",
         "x": [
          0,
          21.157342793271727,
          8.584382240442627,
          100.38178552125156,
          149.095829706601,
          153.08363110364868,
          100
         ],
         "y": [
          0,
          0,
          80.26648925602161,
          146.08948353870818,
          149.20325228403095,
          204.35614256814762,
          100
         ]
        },
        {
         "hoverinfo": "text+x+y",
         "line": {
          "color": "blue",
          "width": 2
         },
         "marker": {
          "color": "red",
          "size": 8
         },
         "mode": "lines+markers",
         "name": "Path 3 (Gen 0, Fitness 335.08826875686646)",
         "text": "Gen 0, Path 3",
         "type": "scatter",
         "x": [
          0,
          26.10526622115416,
          101.67804731715476,
          39.461458429144145,
          70.06250974026553,
          -141.80101741130778,
          100
         ],
         "y": [
          0,
          38.3400214206417,
          70.72930340012456,
          66.15954114851318,
          134.5698715770645,
          153.04934166664322,
          100
         ]
        },
        {
         "hoverinfo": "text+x+y",
         "line": {
          "color": "blue",
          "width": 2
         },
         "marker": {
          "color": "red",
          "size": 8
         },
         "mode": "lines+markers",
         "name": "Path 4 (Gen 0, Fitness 318.90057888031004)",
         "text": "Gen 0, Path 4",
         "type": "scatter",
         "x": [
          0,
          30.614191784655308,
          -10.969024803877385,
          -50.14585178421446,
          -94.24656714215823,
          -141.80101741130778,
          100
         ],
         "y": [
          0,
          53.88204142339049,
          22.217349059212797,
          61.394176039549876,
          105.49489139749365,
          153.04934166664322,
          100
         ]
        },
        {
         "hoverinfo": "text+x+y",
         "line": {
          "color": "blue",
          "width": 2
         },
         "marker": {
          "color": "red",
          "size": 8
         },
         "mode": "lines+markers",
         "name": "Path 5 (Gen 0, Fitness 309.55635862350465)",
         "text": "Gen 0, Path 5",
         "type": "scatter",
         "x": [
          0,
          -42.279982660831,
          -63.93571998532099,
          100.38178552125156,
          149.095829706601,
          153.08363110364868,
          100
         ],
         "y": [
          0,
          42.27998266083101,
          63.935719985321,
          146.08948353870818,
          149.20325228403095,
          204.35614256814762,
          100
         ]
        },
        {
         "hoverinfo": "text+x+y",
         "line": {
          "color": "blue",
          "width": 2
         },
         "marker": {
          "color": "red",
          "size": 8
         },
         "mode": "lines+markers",
         "name": "Path 6 (Gen 0, Fitness 246.2283213376999)",
         "text": "Gen 0, Path 6",
         "type": "scatter",
         "x": [
          0,
          22.401012269936786,
          36.38678513006673,
          16.03153548026608,
          -30.556957487222792,
          34.79853411475493,
          100
         ],
         "y": [
          0,
          15.060382239472894,
          67.39411993815568,
          119.30967655913187,
          102.3690333669513,
          127.10608454308723,
          100
         ]
        },
        {
         "hoverinfo": "text+x+y",
         "line": {
          "color": "blue",
          "width": 2
         },
         "marker": {
          "color": "red",
          "size": 8
         },
         "mode": "lines+markers",
         "name": "Path 7 (Gen 0, Fitness 284.20272455215456)",
         "text": "Gen 0, Path 7",
         "type": "scatter",
         "x": [
          0,
          30.614191784655308,
          101.67804731715476,
          39.461458429144145,
          70.06250974026553,
          68.29148470044535,
          100
         ],
         "y": [
          0,
          53.88204142339049,
          70.72930340012456,
          66.15954114851318,
          134.5698715770645,
          109.46917607408315,
          100
         ]
        },
        {
         "hoverinfo": "text+x+y",
         "line": {
          "color": "blue",
          "width": 2
         },
         "marker": {
          "color": "red",
          "size": 8
         },
         "mode": "lines+markers",
         "name": "Path 8 (Gen 0, Fitness 284.9807069301605)",
         "text": "Gen 0, Path 8",
         "type": "scatter",
         "x": [
          0,
          25.03818683027847,
          8.584382240442627,
          100.38178552125156,
          149.095829706601,
          87.36482070173513,
          100
         ],
         "y": [
          0,
          23.761169101791662,
          80.26648925602161,
          146.08948353870818,
          149.20325228403095,
          122.70231625877176,
          100
         ]
        },
        {
         "hoverinfo": "text+x+y",
         "line": {
          "color": "blue",
          "width": 2
         },
         "marker": {
          "color": "red",
          "size": 8
         },
         "mode": "lines+markers",
         "name": "Path 9 (Gen 0, Fitness 286.60732064247134)",
         "text": "Gen 0, Path 9",
         "type": "scatter",
         "x": [
          0,
          25.03818683027847,
          8.584382240442627,
          48.1442149403027,
          47.024487337366594,
          15.12684508012444,
          100
         ],
         "y": [
          0,
          23.761169101791662,
          80.26648925602161,
          95.94612451489061,
          74.29355306439047,
          106.19119532163262,
          100
         ]
        },
        {
         "hoverinfo": "text+x+y",
         "line": {
          "color": "blue",
          "width": 2
         },
         "marker": {
          "color": "red",
          "size": 8
         },
         "mode": "lines+markers",
         "name": "Path 10 (Gen 0, Fitness 0.0)",
         "text": "Gen 0, Path 10",
         "type": "scatter",
         "x": [
          0,
          21.147145677132084,
          21.147145677132087,
          11.853164369456557,
          16.02094365479385,
          38.71971494032459,
          100
         ],
         "y": [
          0,
          0,
          69.60445077180556,
          78.8984320794811,
          78.8984320794811,
          78.8984320794811,
          100
         ]
        },
        {
         "hoverinfo": "text+x+y",
         "line": {
          "color": "blue",
          "width": 2
         },
         "marker": {
          "color": "red",
          "size": 8
         },
         "mode": "lines+markers",
         "name": "Path 11 (Gen 1, Fitness 255.81798675060276)",
         "text": "Gen 1, Path 11",
         "type": "scatter",
         "x": [
          0,
          22.401012269936786,
          36.38678513006673,
          16.03153548026608,
          70.06250974026553,
          -9.6724836076906,
          100
         ],
         "y": [
          0,
          15.060382239472894,
          67.39411993815568,
          119.30967655913187,
          134.5698715770645,
          172.79885139284022,
          100
         ]
        },
        {
         "hoverinfo": "text+x+y",
         "line": {
          "color": "blue",
          "width": 2
         },
         "marker": {
          "color": "red",
          "size": 8
         },
         "mode": "lines+markers",
         "name": "Path 12 (Gen 1, Fitness 334.3484929084778)",
         "text": "Gen 1, Path 12",
         "type": "scatter",
         "x": [
          0,
          26.10526622115416,
          101.67804731715476,
          39.461458429144145,
          70.06250974026553,
          -141.80101741130778,
          100
         ],
         "y": [
          0,
          38.3400214206417,
          70.72930340012456,
          66.15954114851318,
          134.5698715770645,
          153.04934166664322,
          100
         ]
        },
        {
         "hoverinfo": "text+x+y",
         "line": {
          "color": "blue",
          "width": 2
         },
         "marker": {
          "color": "red",
          "size": 8
         },
         "mode": "lines+markers",
         "name": "Path 13 (Gen 1, Fitness 309.55635862350465)",
         "text": "Gen 1, Path 13",
         "type": "scatter",
         "x": [
          0,
          -42.279982660831,
          -63.93571998532099,
          100.38178552125156,
          149.095829706601,
          153.08363110364868,
          100
         ],
         "y": [
          0,
          42.27998266083101,
          63.935719985321,
          146.08948353870818,
          149.20325228403095,
          204.35614256814762,
          100
         ]
        },
        {
         "hoverinfo": "text+x+y",
         "line": {
          "color": "blue",
          "width": 2
         },
         "marker": {
          "color": "red",
          "size": 8
         },
         "mode": "lines+markers",
         "name": "Path 14 (Gen 1, Fitness 285.62751455307006)",
         "text": "Gen 1, Path 14",
         "type": "scatter",
         "x": [
          0,
          30.614191784655308,
          101.67804731715476,
          39.461458429144145,
          70.06250974026553,
          68.29148470044535,
          100
         ],
         "y": [
          0,
          53.88204142339049,
          70.72930340012456,
          66.15954114851318,
          134.5698715770645,
          109.46917607408315,
          100
         ]
        },
        {
         "hoverinfo": "text+x+y",
         "line": {
          "color": "blue",
          "width": 2
         },
         "marker": {
          "color": "red",
          "size": 8
         },
         "mode": "lines+markers",
         "name": "Path 15 (Gen 1, Fitness 308.41339855194093)",
         "text": "Gen 1, Path 15",
         "type": "scatter",
         "x": [
          0,
          25.03818683027847,
          8.584382240442627,
          48.1442149403027,
          70.06250974026553,
          -9.6724836076906,
          100
         ],
         "y": [
          0,
          23.761169101791662,
          80.26648925602161,
          95.94612451489061,
          134.5698715770645,
          172.79885139284022,
          100
         ]
        },
        {
         "hoverinfo": "text+x+y",
         "line": {
          "color": "blue",
          "width": 2
         },
         "marker": {
          "color": "red",
          "size": 8
         },
         "mode": "lines+markers",
         "name": "Path 16 (Gen 1, Fitness 319.5517517089844)",
         "text": "Gen 1, Path 16",
         "type": "scatter",
         "x": [
          0,
          30.614191784655308,
          -63.93571998532099,
          100.38178552125156,
          149.095829706601,
          153.08363110364868,
          100
         ],
         "y": [
          0,
          53.88204142339049,
          63.935719985321,
          146.08948353870818,
          149.20325228403095,
          204.35614256814762,
          100
         ]
        },
        {
         "hoverinfo": "text+x+y",
         "line": {
          "color": "blue",
          "width": 2
         },
         "marker": {
          "color": "red",
          "size": 8
         },
         "mode": "lines+markers",
         "name": "Path 17 (Gen 1, Fitness 300.88902320861814)",
         "text": "Gen 1, Path 17",
         "type": "scatter",
         "x": [
          0,
          30.614191784655308,
          101.67804731715476,
          39.461458429144145,
          -30.556957487222792,
          34.79853411475493,
          100
         ],
         "y": [
          0,
          53.88204142339049,
          70.72930340012456,
          66.15954114851318,
          102.3690333669513,
          127.10608454308723,
          100
         ]
        },
        {
         "hoverinfo": "text+x+y",
         "line": {
          "color": "blue",
          "width": 2
         },
         "marker": {
          "color": "red",
          "size": 8
         },
         "mode": "lines+markers",
         "name": "Path 18 (Gen 1, Fitness 308.6278024673462)",
         "text": "Gen 1, Path 18",
         "type": "scatter",
         "x": [
          0,
          26.10526622115416,
          101.67804731715476,
          100.38178552125156,
          149.095829706601,
          153.08363110364868,
          100
         ],
         "y": [
          0,
          38.3400214206417,
          70.72930340012456,
          146.08948353870818,
          149.20325228403095,
          204.35614256814762,
          100
         ]
        },
        {
         "hoverinfo": "text+x+y",
         "line": {
          "color": "blue",
          "width": 2
         },
         "marker": {
          "color": "red",
          "size": 8
         },
         "mode": "lines+markers",
         "name": "Path 19 (Gen 1, Fitness 294.5580006361008)",
         "text": "Gen 1, Path 19",
         "type": "scatter",
         "x": [
          0,
          22.401012269936786,
          36.38678513006673,
          16.03153548026608,
          -30.556957487222792,
          34.79853411475493,
          100
         ],
         "y": [
          0,
          15.060382239472894,
          67.39411993815568,
          119.30967655913187,
          102.3690333669513,
          127.10608454308723,
          100
         ]
        },
        {
         "hoverinfo": "text+x+y",
         "line": {
          "color": "blue",
          "width": 2
         },
         "marker": {
          "color": "red",
          "size": 8
         },
         "mode": "lines+markers",
         "name": "Path 20 (Gen 1, Fitness 303.14885261058805)",
         "text": "Gen 1, Path 20",
         "type": "scatter",
         "x": [
          0,
          22.401012269936786,
          36.38678513006673,
          16.03153548026608,
          -30.556957487222792,
          -9.6724836076906,
          100
         ],
         "y": [
          0,
          15.060382239472894,
          67.39411993815568,
          119.30967655913187,
          102.3690333669513,
          172.79885139284022,
          100
         ]
        },
        {
         "hoverinfo": "text+x+y",
         "line": {
          "color": "blue",
          "width": 2
         },
         "marker": {
          "color": "red",
          "size": 8
         },
         "mode": "lines+markers",
         "name": "Path 21 (Gen 0, Fitness 0.0)",
         "text": "Gen 0, Path 21",
         "type": "scatter",
         "x": [
          0,
          21.147145677132084,
          21.147145677132087,
          11.853164369456557,
          16.02094365479385,
          38.71971494032459,
          100
         ],
         "y": [
          0,
          0,
          69.60445077180556,
          78.8984320794811,
          78.8984320794811,
          78.8984320794811,
          100
         ]
        },
        {
         "hoverinfo": "text+x+y",
         "line": {
          "color": "blue",
          "width": 2
         },
         "marker": {
          "color": "red",
          "size": 8
         },
         "mode": "lines+markers",
         "name": "Path 22 (Gen 2, Fitness 310.5679682731628)",
         "text": "Gen 2, Path 22",
         "type": "scatter",
         "x": [
          0,
          22.401012269936786,
          36.38678513006673,
          100.38178552125156,
          149.095829706601,
          153.08363110364868,
          100
         ],
         "y": [
          0,
          15.060382239472894,
          67.39411993815568,
          146.08948353870818,
          149.20325228403095,
          204.35614256814762,
          100
         ]
        },
        {
         "hoverinfo": "text+x+y",
         "line": {
          "color": "blue",
          "width": 2
         },
         "marker": {
          "color": "red",
          "size": 8
         },
         "mode": "lines+markers",
         "name": "Path 23 (Gen 2, Fitness 307.1224054336548)",
         "text": "Gen 2, Path 23",
         "type": "scatter",
         "x": [
          0,
          26.10526622115416,
          101.67804731715476,
          39.461458429144145,
          -30.556957487222792,
          34.79853411475493,
          100
         ],
         "y": [
          0,
          38.3400214206417,
          70.72930340012456,
          66.15954114851318,
          102.3690333669513,
          127.10608454308723,
          100
         ]
        },
        {
         "hoverinfo": "text+x+y",
         "line": {
          "color": "blue",
          "width": 2
         },
         "marker": {
          "color": "red",
          "size": 8
         },
         "mode": "lines+markers",
         "name": "Path 24 (Gen 2, Fitness 310.5679682731628)",
         "text": "Gen 2, Path 24",
         "type": "scatter",
         "x": [
          0,
          22.401012269936786,
          36.38678513006673,
          100.38178552125156,
          149.095829706601,
          153.08363110364868,
          100
         ],
         "y": [
          0,
          15.060382239472894,
          67.39411993815568,
          146.08948353870818,
          149.20325228403095,
          204.35614256814762,
          100
         ]
        },
        {
         "hoverinfo": "text+x+y",
         "line": {
          "color": "blue",
          "width": 2
         },
         "marker": {
          "color": "red",
          "size": 8
         },
         "mode": "lines+markers",
         "name": "Path 25 (Gen 2, Fitness 318.075266456604)",
         "text": "Gen 2, Path 25",
         "type": "scatter",
         "x": [
          0,
          30.614191784655308,
          101.67804731715476,
          39.461458429144145,
          70.06250974026553,
          -9.6724836076906,
          100
         ],
         "y": [
          0,
          53.88204142339049,
          70.72930340012456,
          66.15954114851318,
          134.5698715770645,
          172.79885139284022,
          100
         ]
        },
        {
         "hoverinfo": "text+x+y",
         "line": {
          "color": "blue",
          "width": 2
         },
         "marker": {
          "color": "red",
          "size": 8
         },
         "mode": "lines+markers",
         "name": "Path 26 (Gen 2, Fitness 295.7977264404297)",
         "text": "Gen 2, Path 26",
         "type": "scatter",
         "x": [
          0,
          22.401012269936786,
          36.38678513006673,
          16.03153548026608,
          70.06250974026553,
          34.79853411475493,
          100
         ],
         "y": [
          0,
          15.060382239472894,
          67.39411993815568,
          119.30967655913187,
          134.5698715770645,
          127.10608454308723,
          100
         ]
        },
        {
         "hoverinfo": "text+x+y",
         "line": {
          "color": "blue",
          "width": 2
         },
         "marker": {
          "color": "red",
          "size": 8
         },
         "mode": "lines+markers",
         "name": "Path 27 (Gen 2, Fitness 324.2992250442505)",
         "text": "Gen 2, Path 27",
         "type": "scatter",
         "x": [
          0,
          30.614191784655308,
          101.67804731715476,
          16.03153548026608,
          70.06250974026553,
          -9.6724836076906,
          100
         ],
         "y": [
          0,
          53.88204142339049,
          70.72930340012456,
          119.30967655913187,
          134.5698715770645,
          172.79885139284022,
          100
         ]
        },
        {
         "hoverinfo": "text+x+y",
         "line": {
          "color": "blue",
          "width": 2
         },
         "marker": {
          "color": "red",
          "size": 8
         },
         "mode": "lines+markers",
         "name": "Path 28 (Gen 2, Fitness 311.8976713180542)",
         "text": "Gen 2, Path 28",
         "type": "scatter",
         "x": [
          0,
          25.03818683027847,
          8.584382240442627,
          48.1442149403027,
          -30.556957487222792,
          -9.6724836076906,
          100
         ],
         "y": [
          0,
          23.761169101791662,
          80.26648925602161,
          95.94612451489061,
          102.3690333669513,
          172.79885139284022,
          100
         ]
        },
        {
         "hoverinfo": "text+x+y",
         "line": {
          "color": "blue",
          "width": 2
         },
         "marker": {
          "color": "red",
          "size": 8
         },
         "mode": "lines+markers",
         "name": "Path 29 (Gen 2, Fitness 306.22198457717894)",
         "text": "Gen 2, Path 29",
         "type": "scatter",
         "x": [
          0,
          22.401012269936786,
          36.38678513006673,
          16.03153548026608,
          -30.556957487222792,
          -9.6724836076906,
          100
         ],
         "y": [
          0,
          15.060382239472894,
          67.39411993815568,
          119.30967655913187,
          102.3690333669513,
          172.79885139284022,
          100
         ]
        },
        {
         "hoverinfo": "text+x+y",
         "line": {
          "color": "blue",
          "width": 2
         },
         "marker": {
          "color": "red",
          "size": 8
         },
         "mode": "lines+markers",
         "name": "Path 30 (Gen 2, Fitness 315.7132574081421)",
         "text": "Gen 2, Path 30",
         "type": "scatter",
         "x": [
          0,
          26.10526622115416,
          101.67804731715476,
          39.461458429144145,
          -30.556957487222792,
          -9.6724836076906,
          100
         ],
         "y": [
          0,
          38.3400214206417,
          70.72930340012456,
          66.15954114851318,
          102.3690333669513,
          172.79885139284022,
          100
         ]
        },
        {
         "hoverinfo": "text+x+y",
         "line": {
          "color": "blue",
          "width": 2
         },
         "marker": {
          "color": "red",
          "size": 8
         },
         "mode": "lines+markers",
         "name": "Path 31 (Gen 2, Fitness 320.599520111084)",
         "text": "Gen 2, Path 31",
         "type": "scatter",
         "x": [
          0,
          26.10526622115416,
          101.67804731715476,
          100.38178552125156,
          -30.556957487222792,
          34.79853411475493,
          100
         ],
         "y": [
          0,
          38.3400214206417,
          70.72930340012456,
          146.08948353870818,
          102.3690333669513,
          127.10608454308723,
          100
         ]
        },
        {
         "hoverinfo": "text+x+y",
         "line": {
          "color": "blue",
          "width": 2
         },
         "marker": {
          "color": "red",
          "size": 8
         },
         "mode": "lines+markers",
         "name": "Path 32 (Gen 0, Fitness 0.0)",
         "text": "Gen 0, Path 32",
         "type": "scatter",
         "x": [
          0,
          21.147145677132084,
          21.147145677132087,
          11.853164369456557,
          16.02094365479385,
          38.71971494032459,
          100
         ],
         "y": [
          0,
          0,
          69.60445077180556,
          78.8984320794811,
          78.8984320794811,
          78.8984320794811,
          100
         ]
        },
        {
         "hoverinfo": "text+x+y",
         "line": {
          "color": "blue",
          "width": 2
         },
         "marker": {
          "color": "red",
          "size": 8
         },
         "mode": "lines+markers",
         "name": "Path 33 (Gen 3, Fitness 327.76056413650514)",
         "text": "Gen 3, Path 33",
         "type": "scatter",
         "x": [
          0,
          22.401012269936786,
          36.38678513006673,
          100.38178552125156,
          -30.556957487222792,
          -9.6724836076906,
          100
         ],
         "y": [
          0,
          15.060382239472894,
          67.39411993815568,
          146.08948353870818,
          102.3690333669513,
          172.79885139284022,
          100
         ]
        },
        {
         "hoverinfo": "text+x+y",
         "line": {
          "color": "blue",
          "width": 2
         },
         "marker": {
          "color": "red",
          "size": 8
         },
         "mode": "lines+markers",
         "name": "Path 34 (Gen 3, Fitness 320.599520111084)",
         "text": "Gen 3, Path 34",
         "type": "scatter",
         "x": [
          0,
          26.10526622115416,
          101.67804731715476,
          100.38178552125156,
          -30.556957487222792,
          34.79853411475493,
          100
         ],
         "y": [
          0,
          38.3400214206417,
          70.72930340012456,
          146.08948353870818,
          102.3690333669513,
          127.10608454308723,
          100
         ]
        },
        {
         "hoverinfo": "text+x+y",
         "line": {
          "color": "blue",
          "width": 2
         },
         "marker": {
          "color": "red",
          "size": 8
         },
         "mode": "lines+markers",
         "name": "Path 35 (Gen 3, Fitness 325.4912696838379)",
         "text": "Gen 3, Path 35",
         "type": "scatter",
         "x": [
          0,
          26.10526622115416,
          101.67804731715476,
          16.03153548026608,
          70.06250974026553,
          -9.6724836076906,
          100
         ],
         "y": [
          0,
          38.3400214206417,
          70.72930340012456,
          119.30967655913187,
          134.5698715770645,
          172.79885139284022,
          100
         ]
        },
        {
         "hoverinfo": "text+x+y",
         "line": {
          "color": "blue",
          "width": 2
         },
         "marker": {
          "color": "red",
          "size": 8
         },
         "mode": "lines+markers",
         "name": "Path 36 (Gen 3, Fitness 294.959192943573)",
         "text": "Gen 3, Path 36",
         "type": "scatter",
         "x": [
          0,
          22.401012269936786,
          36.38678513006673,
          16.03153548026608,
          70.06250974026553,
          34.79853411475493,
          100
         ],
         "y": [
          0,
          15.060382239472894,
          67.39411993815568,
          119.30967655913187,
          134.5698715770645,
          127.10608454308723,
          100
         ]
        },
        {
         "hoverinfo": "text+x+y",
         "line": {
          "color": "blue",
          "width": 2
         },
         "marker": {
          "color": "red",
          "size": 8
         },
         "mode": "lines+markers",
         "name": "Path 37 (Gen 3, Fitness 303.3068193435669)",
         "text": "Gen 3, Path 37",
         "type": "scatter",
         "x": [
          0,
          25.03818683027847,
          8.584382240442627,
          48.1442149403027,
          -30.556957487222792,
          34.79853411475493,
          100
         ],
         "y": [
          0,
          23.761169101791662,
          80.26648925602161,
          95.94612451489061,
          102.3690333669513,
          127.10608454308723,
          100
         ]
        },
        {
         "hoverinfo": "text+x+y",
         "line": {
          "color": "blue",
          "width": 2
         },
         "marker": {
          "color": "red",
          "size": 8
         },
         "mode": "lines+markers",
         "name": "Path 38 (Gen 3, Fitness 316.8528866767884)",
         "text": "Gen 3, Path 38",
         "type": "scatter",
         "x": [
          0,
          22.401012269936786,
          36.38678513006673,
          16.03153548026608,
          149.095829706601,
          153.08363110364868,
          100
         ],
         "y": [
          0,
          15.060382239472894,
          67.39411993815568,
          119.30967655913187,
          149.20325228403095,
          204.35614256814762,
          100
         ]
        },
        {
         "hoverinfo": "text+x+y",
         "line": {
          "color": "blue",
          "width": 2
         },
         "marker": {
          "color": "red",
          "size": 8
         },
         "mode": "lines+markers",
         "name": "Path 39 (Gen 3, Fitness 313.53027000427244)",
         "text": "Gen 3, Path 39",
         "type": "scatter",
         "x": [
          0,
          30.614191784655308,
          101.67804731715476,
          16.03153548026608,
          -30.556957487222792,
          34.79853411475493,
          100
         ],
         "y": [
          0,
          53.88204142339049,
          70.72930340012456,
          119.30967655913187,
          102.3690333669513,
          127.10608454308723,
          100
         ]
        },
        {
         "hoverinfo": "text+x+y",
         "line": {
          "color": "blue",
          "width": 2
         },
         "marker": {
          "color": "red",
          "size": 8
         },
         "mode": "lines+markers",
         "name": "Path 40 (Gen 3, Fitness 310.83495836257936)",
         "text": "Gen 3, Path 40",
         "type": "scatter",
         "x": [
          0,
          22.401012269936786,
          101.67804731715476,
          39.461458429144145,
          -30.556957487222792,
          34.79853411475493,
          100
         ],
         "y": [
          0,
          15.060382239472894,
          70.72930340012456,
          66.15954114851318,
          102.3690333669513,
          127.10608454308723,
          100
         ]
        },
        {
         "hoverinfo": "text+x+y",
         "line": {
          "color": "blue",
          "width": 2
         },
         "marker": {
          "color": "red",
          "size": 8
         },
         "mode": "lines+markers",
         "name": "Path 41 (Gen 3, Fitness 308.4806652069092)",
         "text": "Gen 3, Path 41",
         "type": "scatter",
         "x": [
          0,
          26.10526622115416,
          101.67804731715476,
          16.03153548026608,
          70.06250974026553,
          34.79853411475493,
          100
         ],
         "y": [
          0,
          38.3400214206417,
          70.72930340012456,
          119.30967655913187,
          134.5698715770645,
          127.10608454308723,
          100
         ]
        },
        {
         "hoverinfo": "text+x+y",
         "line": {
          "color": "blue",
          "width": 2
         },
         "marker": {
          "color": "red",
          "size": 8
         },
         "mode": "lines+markers",
         "name": "Path 42 (Gen 3, Fitness 328.53324975967405)",
         "text": "Gen 3, Path 42",
         "type": "scatter",
         "x": [
          0,
          22.401012269936786,
          36.38678513006673,
          100.38178552125156,
          149.095829706601,
          -9.6724836076906,
          100
         ],
         "y": [
          0,
          15.060382239472894,
          67.39411993815568,
          146.08948353870818,
          149.20325228403095,
          172.79885139284022,
          100
         ]
        },
        {
         "hoverinfo": "text+x+y",
         "line": {
          "color": "blue",
          "width": 2
         },
         "marker": {
          "color": "red",
          "size": 8
         },
         "mode": "lines+markers",
         "name": "Path 43 (Gen 0, Fitness 0.0)",
         "text": "Gen 0, Path 43",
         "type": "scatter",
         "x": [
          0,
          21.147145677132084,
          21.147145677132087,
          11.853164369456557,
          16.02094365479385,
          38.71971494032459,
          100
         ],
         "y": [
          0,
          0,
          69.60445077180556,
          78.8984320794811,
          78.8984320794811,
          78.8984320794811,
          100
         ]
        },
        {
         "hoverinfo": "text+x+y",
         "line": {
          "color": "blue",
          "width": 2
         },
         "marker": {
          "color": "red",
          "size": 8
         },
         "mode": "lines+markers",
         "name": "Path 44 (Gen 4, Fitness 328.8603253364563)",
         "text": "Gen 4, Path 44",
         "type": "scatter",
         "x": [
          0,
          22.401012269936786,
          36.38678513006673,
          100.38178552125156,
          -30.556957487222792,
          -9.6724836076906,
          100
         ],
         "y": [
          0,
          15.060382239472894,
          67.39411993815568,
          146.08948353870818,
          102.3690333669513,
          172.79885139284022,
          100
         ]
        },
        {
         "hoverinfo": "text+x+y",
         "line": {
          "color": "blue",
          "width": 2
         },
         "marker": {
          "color": "red",
          "size": 8
         },
         "mode": "lines+markers",
         "name": "Path 45 (Gen 4, Fitness 331.3042943954468)",
         "text": "Gen 4, Path 45",
         "type": "scatter",
         "x": [
          0,
          25.03818683027847,
          8.584382240442627,
          48.1442149403027,
          -30.556957487222792,
          153.08363110364868,
          100
         ],
         "y": [
          0,
          23.761169101791662,
          80.26648925602161,
          95.94612451489061,
          102.3690333669513,
          204.35614256814762,
          100
         ]
        },
        {
         "hoverinfo": "text+x+y",
         "line": {
          "color": "blue",
          "width": 2
         },
         "marker": {
          "color": "red",
          "size": 8
         },
         "mode": "lines+markers",
         "name": "Path 46 (Gen 4, Fitness 322.37692947387694)",
         "text": "Gen 4, Path 46",
         "type": "scatter",
         "x": [
          0,
          26.10526622115416,
          101.67804731715476,
          100.38178552125156,
          -30.556957487222792,
          34.79853411475493,
          100
         ],
         "y": [
          0,
          38.3400214206417,
          70.72930340012456,
          146.08948353870818,
          102.3690333669513,
          127.10608454308723,
          100
         ]
        },
        {
         "hoverinfo": "text+x+y",
         "line": {
          "color": "blue",
          "width": 2
         },
         "marker": {
          "color": "red",
          "size": 8
         },
         "mode": "lines+markers",
         "name": "Path 47 (Gen 4, Fitness 319.16971216201785)",
         "text": "Gen 4, Path 47",
         "type": "scatter",
         "x": [
          0,
          22.401012269936786,
          36.38678513006673,
          100.38178552125156,
          -30.556957487222792,
          34.79853411475493,
          100
         ],
         "y": [
          0,
          15.060382239472894,
          67.39411993815568,
          146.08948353870818,
          102.3690333669513,
          127.10608454308723,
          100
         ]
        },
        {
         "hoverinfo": "text+x+y",
         "line": {
          "color": "blue",
          "width": 2
         },
         "marker": {
          "color": "red",
          "size": 8
         },
         "mode": "lines+markers",
         "name": "Path 48 (Gen 4, Fitness 294.959192943573)",
         "text": "Gen 4, Path 48",
         "type": "scatter",
         "x": [
          0,
          22.401012269936786,
          36.38678513006673,
          16.03153548026608,
          70.06250974026553,
          34.79853411475493,
          100
         ],
         "y": [
          0,
          15.060382239472894,
          67.39411993815568,
          119.30967655913187,
          134.5698715770645,
          127.10608454308723,
          100
         ]
        },
        {
         "hoverinfo": "text+x+y",
         "line": {
          "color": "blue",
          "width": 2
         },
         "marker": {
          "color": "red",
          "size": 8
         },
         "mode": "lines+markers",
         "name": "Path 49 (Gen 4, Fitness 308.4806652069092)",
         "text": "Gen 4, Path 49",
         "type": "scatter",
         "x": [
          0,
          26.10526622115416,
          101.67804731715476,
          16.03153548026608,
          70.06250974026553,
          34.79853411475493,
          100
         ],
         "y": [
          0,
          38.3400214206417,
          70.72930340012456,
          119.30967655913187,
          134.5698715770645,
          127.10608454308723,
          100
         ]
        },
        {
         "hoverinfo": "text+x+y",
         "line": {
          "color": "blue",
          "width": 2
         },
         "marker": {
          "color": "red",
          "size": 8
         },
         "mode": "lines+markers",
         "name": "Path 50 (Gen 4, Fitness 328.8603253364563)",
         "text": "Gen 4, Path 50",
         "type": "scatter",
         "x": [
          0,
          22.401012269936786,
          36.38678513006673,
          100.38178552125156,
          -30.556957487222792,
          -9.6724836076906,
          100
         ],
         "y": [
          0,
          15.060382239472894,
          67.39411993815568,
          146.08948353870818,
          102.3690333669513,
          172.79885139284022,
          100
         ]
        },
        {
         "hoverinfo": "text+x+y",
         "line": {
          "color": "blue",
          "width": 2
         },
         "marker": {
          "color": "red",
          "size": 8
         },
         "mode": "lines+markers",
         "name": "Path 51 (Gen 4, Fitness 312.76498384475707)",
         "text": "Gen 4, Path 51",
         "type": "scatter",
         "x": [
          0,
          22.401012269936786,
          36.38678513006673,
          100.38178552125156,
          149.095829706601,
          34.79853411475493,
          100
         ],
         "y": [
          0,
          15.060382239472894,
          67.39411993815568,
          146.08948353870818,
          149.20325228403095,
          127.10608454308723,
          100
         ]
        },
        {
         "hoverinfo": "text+x+y",
         "line": {
          "color": "blue",
          "width": 2
         },
         "marker": {
          "color": "red",
          "size": 8
         },
         "mode": "lines+markers",
         "name": "Path 52 (Gen 4, Fitness 311.9697974205017)",
         "text": "Gen 4, Path 52",
         "type": "scatter",
         "x": [
          0,
          22.401012269936786,
          36.38678513006673,
          16.03153548026608,
          70.06250974026553,
          -9.6724836076906,
          100
         ],
         "y": [
          0,
          15.060382239472894,
          67.39411993815568,
          119.30967655913187,
          134.5698715770645,
          172.79885139284022,
          100
         ]
        },
        {
         "hoverinfo": "text+x+y",
         "line": {
          "color": "blue",
          "width": 2
         },
         "marker": {
          "color": "red",
          "size": 8
         },
         "mode": "lines+markers",
         "name": "Path 53 (Gen 4, Fitness 299.7243863105774)",
         "text": "Gen 4, Path 53",
         "type": "scatter",
         "x": [
          0,
          22.401012269936786,
          36.38678513006673,
          48.1442149403027,
          -30.556957487222792,
          34.79853411475493,
          100
         ],
         "y": [
          0,
          15.060382239472894,
          67.39411993815568,
          95.94612451489061,
          102.3690333669513,
          127.10608454308723,
          100
         ]
        },
        {
         "hoverinfo": "text+x+y",
         "line": {
          "color": "blue",
          "width": 2
         },
         "marker": {
          "color": "red",
          "size": 8
         },
         "mode": "lines+markers",
         "name": "Path 54 (Gen 0, Fitness 0.0)",
         "text": "Gen 0, Path 54",
         "type": "scatter",
         "x": [
          0,
          21.147145677132084,
          21.147145677132087,
          11.853164369456557,
          16.02094365479385,
          38.71971494032459,
          100
         ],
         "y": [
          0,
          0,
          69.60445077180556,
          78.8984320794811,
          78.8984320794811,
          78.8984320794811,
          100
         ]
        },
        {
         "hoverinfo": "text+x+y",
         "marker": {
          "color": "green",
          "size": 12,
          "symbol": "circle"
         },
         "mode": "markers",
         "name": "Start Point",
         "text": [
          "Start"
         ],
         "type": "scatter",
         "x": [
          0
         ],
         "y": [
          0
         ]
        },
        {
         "hoverinfo": "text+x+y",
         "marker": {
          "color": "purple",
          "size": 12,
          "symbol": "square"
         },
         "mode": "markers",
         "name": "End Point",
         "text": [
          "End"
         ],
         "type": "scatter",
         "x": [
          100
         ],
         "y": [
          100
         ]
        }
       ],
       "layout": {
        "showlegend": true,
        "template": {
         "data": {
          "bar": [
           {
            "error_x": {
             "color": "#2a3f5f"
            },
            "error_y": {
             "color": "#2a3f5f"
            },
            "marker": {
             "line": {
              "color": "#E5ECF6",
              "width": 0.5
             },
             "pattern": {
              "fillmode": "overlay",
              "size": 10,
              "solidity": 0.2
             }
            },
            "type": "bar"
           }
          ],
          "barpolar": [
           {
            "marker": {
             "line": {
              "color": "#E5ECF6",
              "width": 0.5
             },
             "pattern": {
              "fillmode": "overlay",
              "size": 10,
              "solidity": 0.2
             }
            },
            "type": "barpolar"
           }
          ],
          "carpet": [
           {
            "aaxis": {
             "endlinecolor": "#2a3f5f",
             "gridcolor": "white",
             "linecolor": "white",
             "minorgridcolor": "white",
             "startlinecolor": "#2a3f5f"
            },
            "baxis": {
             "endlinecolor": "#2a3f5f",
             "gridcolor": "white",
             "linecolor": "white",
             "minorgridcolor": "white",
             "startlinecolor": "#2a3f5f"
            },
            "type": "carpet"
           }
          ],
          "choropleth": [
           {
            "colorbar": {
             "outlinewidth": 0,
             "ticks": ""
            },
            "type": "choropleth"
           }
          ],
          "contour": [
           {
            "colorbar": {
             "outlinewidth": 0,
             "ticks": ""
            },
            "colorscale": [
             [
              0,
              "#0d0887"
             ],
             [
              0.1111111111111111,
              "#46039f"
             ],
             [
              0.2222222222222222,
              "#7201a8"
             ],
             [
              0.3333333333333333,
              "#9c179e"
             ],
             [
              0.4444444444444444,
              "#bd3786"
             ],
             [
              0.5555555555555556,
              "#d8576b"
             ],
             [
              0.6666666666666666,
              "#ed7953"
             ],
             [
              0.7777777777777778,
              "#fb9f3a"
             ],
             [
              0.8888888888888888,
              "#fdca26"
             ],
             [
              1,
              "#f0f921"
             ]
            ],
            "type": "contour"
           }
          ],
          "contourcarpet": [
           {
            "colorbar": {
             "outlinewidth": 0,
             "ticks": ""
            },
            "type": "contourcarpet"
           }
          ],
          "heatmap": [
           {
            "colorbar": {
             "outlinewidth": 0,
             "ticks": ""
            },
            "colorscale": [
             [
              0,
              "#0d0887"
             ],
             [
              0.1111111111111111,
              "#46039f"
             ],
             [
              0.2222222222222222,
              "#7201a8"
             ],
             [
              0.3333333333333333,
              "#9c179e"
             ],
             [
              0.4444444444444444,
              "#bd3786"
             ],
             [
              0.5555555555555556,
              "#d8576b"
             ],
             [
              0.6666666666666666,
              "#ed7953"
             ],
             [
              0.7777777777777778,
              "#fb9f3a"
             ],
             [
              0.8888888888888888,
              "#fdca26"
             ],
             [
              1,
              "#f0f921"
             ]
            ],
            "type": "heatmap"
           }
          ],
          "histogram": [
           {
            "marker": {
             "pattern": {
              "fillmode": "overlay",
              "size": 10,
              "solidity": 0.2
             }
            },
            "type": "histogram"
           }
          ],
          "histogram2d": [
           {
            "colorbar": {
             "outlinewidth": 0,
             "ticks": ""
            },
            "colorscale": [
             [
              0,
              "#0d0887"
             ],
             [
              0.1111111111111111,
              "#46039f"
             ],
             [
              0.2222222222222222,
              "#7201a8"
             ],
             [
              0.3333333333333333,
              "#9c179e"
             ],
             [
              0.4444444444444444,
              "#bd3786"
             ],
             [
              0.5555555555555556,
              "#d8576b"
             ],
             [
              0.6666666666666666,
              "#ed7953"
             ],
             [
              0.7777777777777778,
              "#fb9f3a"
             ],
             [
              0.8888888888888888,
              "#fdca26"
             ],
             [
              1,
              "#f0f921"
             ]
            ],
            "type": "histogram2d"
           }
          ],
          "histogram2dcontour": [
           {
            "colorbar": {
             "outlinewidth": 0,
             "ticks": ""
            },
            "colorscale": [
             [
              0,
              "#0d0887"
             ],
             [
              0.1111111111111111,
              "#46039f"
             ],
             [
              0.2222222222222222,
              "#7201a8"
             ],
             [
              0.3333333333333333,
              "#9c179e"
             ],
             [
              0.4444444444444444,
              "#bd3786"
             ],
             [
              0.5555555555555556,
              "#d8576b"
             ],
             [
              0.6666666666666666,
              "#ed7953"
             ],
             [
              0.7777777777777778,
              "#fb9f3a"
             ],
             [
              0.8888888888888888,
              "#fdca26"
             ],
             [
              1,
              "#f0f921"
             ]
            ],
            "type": "histogram2dcontour"
           }
          ],
          "mesh3d": [
           {
            "colorbar": {
             "outlinewidth": 0,
             "ticks": ""
            },
            "type": "mesh3d"
           }
          ],
          "parcoords": [
           {
            "line": {
             "colorbar": {
              "outlinewidth": 0,
              "ticks": ""
             }
            },
            "type": "parcoords"
           }
          ],
          "pie": [
           {
            "automargin": true,
            "type": "pie"
           }
          ],
          "scatter": [
           {
            "fillpattern": {
             "fillmode": "overlay",
             "size": 10,
             "solidity": 0.2
            },
            "type": "scatter"
           }
          ],
          "scatter3d": [
           {
            "line": {
             "colorbar": {
              "outlinewidth": 0,
              "ticks": ""
             }
            },
            "marker": {
             "colorbar": {
              "outlinewidth": 0,
              "ticks": ""
             }
            },
            "type": "scatter3d"
           }
          ],
          "scattercarpet": [
           {
            "marker": {
             "colorbar": {
              "outlinewidth": 0,
              "ticks": ""
             }
            },
            "type": "scattercarpet"
           }
          ],
          "scattergeo": [
           {
            "marker": {
             "colorbar": {
              "outlinewidth": 0,
              "ticks": ""
             }
            },
            "type": "scattergeo"
           }
          ],
          "scattergl": [
           {
            "marker": {
             "colorbar": {
              "outlinewidth": 0,
              "ticks": ""
             }
            },
            "type": "scattergl"
           }
          ],
          "scattermap": [
           {
            "marker": {
             "colorbar": {
              "outlinewidth": 0,
              "ticks": ""
             }
            },
            "type": "scattermap"
           }
          ],
          "scattermapbox": [
           {
            "marker": {
             "colorbar": {
              "outlinewidth": 0,
              "ticks": ""
             }
            },
            "type": "scattermapbox"
           }
          ],
          "scatterpolar": [
           {
            "marker": {
             "colorbar": {
              "outlinewidth": 0,
              "ticks": ""
             }
            },
            "type": "scatterpolar"
           }
          ],
          "scatterpolargl": [
           {
            "marker": {
             "colorbar": {
              "outlinewidth": 0,
              "ticks": ""
             }
            },
            "type": "scatterpolargl"
           }
          ],
          "scatterternary": [
           {
            "marker": {
             "colorbar": {
              "outlinewidth": 0,
              "ticks": ""
             }
            },
            "type": "scatterternary"
           }
          ],
          "surface": [
           {
            "colorbar": {
             "outlinewidth": 0,
             "ticks": ""
            },
            "colorscale": [
             [
              0,
              "#0d0887"
             ],
             [
              0.1111111111111111,
              "#46039f"
             ],
             [
              0.2222222222222222,
              "#7201a8"
             ],
             [
              0.3333333333333333,
              "#9c179e"
             ],
             [
              0.4444444444444444,
              "#bd3786"
             ],
             [
              0.5555555555555556,
              "#d8576b"
             ],
             [
              0.6666666666666666,
              "#ed7953"
             ],
             [
              0.7777777777777778,
              "#fb9f3a"
             ],
             [
              0.8888888888888888,
              "#fdca26"
             ],
             [
              1,
              "#f0f921"
             ]
            ],
            "type": "surface"
           }
          ],
          "table": [
           {
            "cells": {
             "fill": {
              "color": "#EBF0F8"
             },
             "line": {
              "color": "white"
             }
            },
            "header": {
             "fill": {
              "color": "#C8D4E3"
             },
             "line": {
              "color": "white"
             }
            },
            "type": "table"
           }
          ]
         },
         "layout": {
          "annotationdefaults": {
           "arrowcolor": "#2a3f5f",
           "arrowhead": 0,
           "arrowwidth": 1
          },
          "autotypenumbers": "strict",
          "coloraxis": {
           "colorbar": {
            "outlinewidth": 0,
            "ticks": ""
           }
          },
          "colorscale": {
           "diverging": [
            [
             0,
             "#8e0152"
            ],
            [
             0.1,
             "#c51b7d"
            ],
            [
             0.2,
             "#de77ae"
            ],
            [
             0.3,
             "#f1b6da"
            ],
            [
             0.4,
             "#fde0ef"
            ],
            [
             0.5,
             "#f7f7f7"
            ],
            [
             0.6,
             "#e6f5d0"
            ],
            [
             0.7,
             "#b8e186"
            ],
            [
             0.8,
             "#7fbc41"
            ],
            [
             0.9,
             "#4d9221"
            ],
            [
             1,
             "#276419"
            ]
           ],
           "sequential": [
            [
             0,
             "#0d0887"
            ],
            [
             0.1111111111111111,
             "#46039f"
            ],
            [
             0.2222222222222222,
             "#7201a8"
            ],
            [
             0.3333333333333333,
             "#9c179e"
            ],
            [
             0.4444444444444444,
             "#bd3786"
            ],
            [
             0.5555555555555556,
             "#d8576b"
            ],
            [
             0.6666666666666666,
             "#ed7953"
            ],
            [
             0.7777777777777778,
             "#fb9f3a"
            ],
            [
             0.8888888888888888,
             "#fdca26"
            ],
            [
             1,
             "#f0f921"
            ]
           ],
           "sequentialminus": [
            [
             0,
             "#0d0887"
            ],
            [
             0.1111111111111111,
             "#46039f"
            ],
            [
             0.2222222222222222,
             "#7201a8"
            ],
            [
             0.3333333333333333,
             "#9c179e"
            ],
            [
             0.4444444444444444,
             "#bd3786"
            ],
            [
             0.5555555555555556,
             "#d8576b"
            ],
            [
             0.6666666666666666,
             "#ed7953"
            ],
            [
             0.7777777777777778,
             "#fb9f3a"
            ],
            [
             0.8888888888888888,
             "#fdca26"
            ],
            [
             1,
             "#f0f921"
            ]
           ]
          },
          "colorway": [
           "#636efa",
           "#EF553B",
           "#00cc96",
           "#ab63fa",
           "#FFA15A",
           "#19d3f3",
           "#FF6692",
           "#B6E880",
           "#FF97FF",
           "#FECB52"
          ],
          "font": {
           "color": "#2a3f5f"
          },
          "geo": {
           "bgcolor": "white",
           "lakecolor": "white",
           "landcolor": "#E5ECF6",
           "showlakes": true,
           "showland": true,
           "subunitcolor": "white"
          },
          "hoverlabel": {
           "align": "left"
          },
          "hovermode": "closest",
          "mapbox": {
           "style": "light"
          },
          "paper_bgcolor": "white",
          "plot_bgcolor": "#E5ECF6",
          "polar": {
           "angularaxis": {
            "gridcolor": "white",
            "linecolor": "white",
            "ticks": ""
           },
           "bgcolor": "#E5ECF6",
           "radialaxis": {
            "gridcolor": "white",
            "linecolor": "white",
            "ticks": ""
           }
          },
          "scene": {
           "xaxis": {
            "backgroundcolor": "#E5ECF6",
            "gridcolor": "white",
            "gridwidth": 2,
            "linecolor": "white",
            "showbackground": true,
            "ticks": "",
            "zerolinecolor": "white"
           },
           "yaxis": {
            "backgroundcolor": "#E5ECF6",
            "gridcolor": "white",
            "gridwidth": 2,
            "linecolor": "white",
            "showbackground": true,
            "ticks": "",
            "zerolinecolor": "white"
           },
           "zaxis": {
            "backgroundcolor": "#E5ECF6",
            "gridcolor": "white",
            "gridwidth": 2,
            "linecolor": "white",
            "showbackground": true,
            "ticks": "",
            "zerolinecolor": "white"
           }
          },
          "shapedefaults": {
           "line": {
            "color": "#2a3f5f"
           }
          },
          "ternary": {
           "aaxis": {
            "gridcolor": "white",
            "linecolor": "white",
            "ticks": ""
           },
           "baxis": {
            "gridcolor": "white",
            "linecolor": "white",
            "ticks": ""
           },
           "bgcolor": "#E5ECF6",
           "caxis": {
            "gridcolor": "white",
            "linecolor": "white",
            "ticks": ""
           }
          },
          "title": {
           "x": 0.05
          },
          "xaxis": {
           "automargin": true,
           "gridcolor": "white",
           "linecolor": "white",
           "ticks": "",
           "title": {
            "standoff": 15
           },
           "zerolinecolor": "white",
           "zerolinewidth": 2
          },
          "yaxis": {
           "automargin": true,
           "gridcolor": "white",
           "linecolor": "white",
           "ticks": "",
           "title": {
            "standoff": 15
           },
           "zerolinecolor": "white",
           "zerolinewidth": 2
          }
         }
        },
        "title": {
         "text": "Paths with Start Point, Waypoints, and End Point"
        },
        "xaxis": {
         "title": {
          "text": "X Coordinate"
         }
        },
        "yaxis": {
         "title": {
          "text": "Y Coordinate"
         }
        }
       }
      }
     },
     "metadata": {},
     "output_type": "display_data"
    }
   ],
   "source": [
    "import pandas as pd\n",
    "import json\n",
    "import plotly.graph_objects as go\n",
    "\n",
    "# Define start and end points\n",
    "start_point = (0, 0)  # Example: (X, Y)\n",
    "end_point = (100, 100)  # Example: (X, Y)\n",
    "\n",
    "# Load the CSV file\n",
    "df = pd.read_csv(\"GenerticEvolution_20250208-1.csv\")\n",
    "\n",
    "# Parse the JSON string in the 'Waypoints' column\n",
    "df[\"Waypoints\"] = df[\"Waypoints\"].apply(json.loads)\n",
    "\n",
    "# Extract Waypoints into a separate DataFrame\n",
    "waypoints_data = []\n",
    "for index, row in df.iterrows():\n",
    "    for waypoint in row[\"Waypoints\"]:\n",
    "        waypoints_data.append({\n",
    "            \"PathIndividual_ID\": index,\n",
    "            \"X\": waypoint[\"Position\"][\"X\"],\n",
    "            \"Y\": waypoint[\"Position\"][\"Y\"],\n",
    "            \"GenerationNumber\": row[\"Generation\"],\n",
    "            \"Fitness\": row[\"Fitness\"]\n",
    "        })\n",
    "\n",
    "waypoints_df = pd.DataFrame(waypoints_data)\n",
    "\n",
    "# Create a Plotly figure\n",
    "fig = go.Figure()\n",
    "\n",
    "# Group waypoints by PathIndividual_ID\n",
    "grouped = waypoints_df.groupby(\"PathIndividual_ID\")\n",
    "\n",
    "# Add lines and markers for each path\n",
    "for name, group in grouped:\n",
    "    # Get the GenerationNumber for this path\n",
    "    generation_number = group[\"GenerationNumber\"].iloc[0]\n",
    "    path_number = group[\"PathIndividual_ID\"].iloc[0]\n",
    "    fitness = group[\"Fitness\"].iloc[0]\n",
    "    \n",
    "    # Combine StartPoint, Waypoints, and EndPoint into a single list of coordinates\n",
    "    x_coords = [start_point[0]] + group[\"X\"].tolist() + [end_point[0]]\n",
    "    y_coords = [start_point[1]] + group[\"Y\"].tolist() + [end_point[1]]\n",
    "\n",
    "    # Add a trace for the path\n",
    "    fig.add_trace(go.Scatter(\n",
    "        x=x_coords,\n",
    "        y=y_coords,\n",
    "        mode='lines+markers',  # Draw lines and markers\n",
    "        name=f\"Path {name} (Gen {generation_number}, Fitness {fitness})\",  # Include GenerationNumber in the legend\n",
    "        line=dict(color='blue', width=2),  # Customize line color and width\n",
    "        marker=dict(size=8, color='red'),  # Customize marker size and color\n",
    "        text=f\"Gen {generation_number}, Path {path_number}\",  # Add hover text\n",
    "        hoverinfo='text+x+y'  # Show hover information\n",
    "    ))\n",
    "\n",
    "# Add a trace for the start point\n",
    "fig.add_trace(go.Scatter(\n",
    "    x=[start_point[0]],\n",
    "    y=[start_point[1]],\n",
    "    mode='markers',\n",
    "    name='Start Point',\n",
    "    marker=dict(size=12, color='green', symbol='circle'),\n",
    "    hoverinfo='text+x+y',\n",
    "    text=[\"Start\"]\n",
    "))\n",
    "\n",
    "# Add a trace for the end point\n",
    "fig.add_trace(go.Scatter(\n",
    "    x=[end_point[0]],\n",
    "    y=[end_point[1]],\n",
    "    mode='markers',\n",
    "    name='End Point',\n",
    "    marker=dict(size=12, color='purple', symbol='square'),\n",
    "    hoverinfo='text+x+y',\n",
    "    text=[\"End\"]\n",
    "))\n",
    "\n",
    "# Update layout\n",
    "fig.update_layout(\n",
    "    title=\"Paths with Start Point, Waypoints, and End Point\",\n",
    "    xaxis_title=\"X Coordinate\",\n",
    "    yaxis_title=\"Y Coordinate\",\n",
    "    showlegend=True\n",
    ")\n",
    "\n",
    "# Show the plot\n",
    "fig.show()"
   ]
  }
 ],
 "metadata": {
  "kernelspec": {
   "display_name": ".venv",
   "language": "python",
   "name": "python3"
  },
  "language_info": {
   "codemirror_mode": {
    "name": "ipython",
    "version": 3
   },
   "file_extension": ".py",
   "mimetype": "text/x-python",
   "name": "python",
   "nbconvert_exporter": "python",
   "pygments_lexer": "ipython3",
   "version": "3.11.4"
  }
 },
 "nbformat": 4,
 "nbformat_minor": 2
}
