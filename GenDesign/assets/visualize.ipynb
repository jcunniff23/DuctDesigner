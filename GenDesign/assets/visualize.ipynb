{
 "cells": [
  {
   "cell_type": "code",
   "execution_count": 1,
   "metadata": {},
   "outputs": [],
   "source": [
    "import plotly.express as px\n",
    "import pandas as pd\n",
    "import json\n",
    "\n",
    "startX = 0\n",
    "startY = 0\n",
    "endX = 100\n",
    "endY = 100"
   ]
  },
  {
   "cell_type": "code",
   "execution_count": 12,
   "metadata": {},
   "outputs": [
    {
     "data": {
      "application/vnd.microsoft.datawrangler.viewer.v0+json": {
       "columns": [
        {
         "name": "index",
         "rawType": "int64",
         "type": "integer"
        },
        {
         "name": "PathIndividual_ID",
         "rawType": "int64",
         "type": "integer"
        },
        {
         "name": "Generation",
         "rawType": "int64",
         "type": "integer"
        },
        {
         "name": "X",
         "rawType": "float64",
         "type": "float"
        },
        {
         "name": "Y",
         "rawType": "float64",
         "type": "float"
        }
       ],
       "conversionMethod": "pd.DataFrame",
       "ref": "df1fdfaa-f01e-4ac2-92cc-4e46315dc724",
       "rows": [
        [
         "0",
         "0",
         "0",
         "-14.215789088967524",
         "14.215789088967526"
        ],
        [
         "1",
         "0",
         "0",
         "-41.93580282052013",
         "41.93580282052014"
        ],
        [
         "2",
         "0",
         "0",
         "5.076645164577371",
         "88.94825080561765"
        ],
        [
         "3",
         "0",
         "0",
         "5.076645164577373",
         "121.00328602589161"
        ],
        [
         "4",
         "0",
         "0",
         "21.530847133027162",
         "131.47251936072047"
        ],
        [
         "5",
         "1",
         "0",
         "-26.57693496040384",
         "26.576934960403843"
        ],
        [
         "6",
         "1",
         "0",
         "4.0825385308043565",
         "57.236408451612036"
        ],
        [
         "7",
         "1",
         "0",
         "0.2213310204127894",
         "61.0976159620036"
        ],
        [
         "8",
         "1",
         "0",
         "10.447596451646252",
         "76.5495598803433"
        ],
        [
         "9",
         "1",
         "0",
         "56.53523444218694",
         "108.53324910428645"
        ],
        [
         "10",
         "2",
         "0",
         "98.81531774053241",
         "97.9696898852756"
        ],
        [
         "11",
         "2",
         "0",
         "57.91846514334885",
         "135.8038377103784"
        ],
        [
         "12",
         "2",
         "0",
         "153.03870189636763",
         "45.39776357693681"
        ],
        [
         "13",
         "2",
         "0",
         "225.85292670305154",
         "43.27885956074765"
        ],
        [
         "14",
         "2",
         "0",
         "269.250049611619",
         "22.360089267178108"
        ],
        [
         "15",
         "3",
         "0",
         "-14.215789088967524",
         "14.215789088967526"
        ],
        [
         "16",
         "3",
         "0",
         "-41.93580282052013",
         "41.93580282052014"
        ],
        [
         "17",
         "3",
         "0",
         "5.076645164577371",
         "88.94825080561765"
        ],
        [
         "18",
         "3",
         "0",
         "5.076645164577373",
         "121.00328602589161"
        ],
        [
         "19",
         "3",
         "0",
         "84.53582693097897",
         "163.05631143899393"
        ],
        [
         "20",
         "4",
         "0",
         "6.32455338924579e-16",
         "10.3287795201836"
        ],
        [
         "21",
         "4",
         "0",
         "30.0643131215273",
         "53.38964726615629"
        ],
        [
         "22",
         "4",
         "0",
         "30.064313121527302",
         "108.58479762954227"
        ],
        [
         "23",
         "4",
         "0",
         "46.70904685824537",
         "125.22953136626035"
        ],
        [
         "24",
         "4",
         "0",
         "84.53582693097897",
         "163.05631143899393"
        ],
        [
         "25",
         "5",
         "0",
         "45.50047451748968",
         "0.0"
        ],
        [
         "26",
         "5",
         "0",
         "106.0456519708801",
         "0.0"
        ],
        [
         "27",
         "5",
         "0",
         "153.03870189636763",
         "45.39776357693681"
        ],
        [
         "28",
         "5",
         "0",
         "225.85292670305154",
         "43.27885956074765"
        ],
        [
         "29",
         "5",
         "0",
         "23.548869715938732",
         "139.97208282124407"
        ],
        [
         "30",
         "6",
         "0",
         "7.211864247027053e-16",
         "11.77786812009509"
        ],
        [
         "31",
         "6",
         "0",
         "38.303446961672044",
         "50.08131508176713"
        ],
        [
         "32",
         "6",
         "0",
         "0.04652610191303097",
         "88.33823594152615"
        ],
        [
         "33",
         "6",
         "0",
         "34.20743519830449",
         "122.4991450379176"
        ],
        [
         "34",
         "6",
         "0",
         "51.641846675514856",
         "147.21687035909278"
        ],
        [
         "35",
         "7",
         "0",
         "-23.142770543714352",
         "23.142770543714356"
        ],
        [
         "36",
         "7",
         "0",
         "105.18031609123676",
         "37.860168015823334"
        ],
        [
         "37",
         "7",
         "0",
         "106.03984526800448",
         "38.71969719259106"
        ],
        [
         "38",
         "7",
         "0",
         "135.65882229825786",
         "68.33867422284445"
        ],
        [
         "39",
         "7",
         "0",
         "185.06431241505953",
         "117.74416433964612"
        ],
        [
         "40",
         "8",
         "0",
         "-23.142770543714352",
         "23.142770543714356"
        ],
        [
         "41",
         "8",
         "0",
         "10.350139358638703",
         "56.63568044606741"
        ],
        [
         "42",
         "8",
         "0",
         "-21.477926211493592",
         "88.4637460161997"
        ],
        [
         "43",
         "8",
         "0",
         "1.8720923399375557",
         "111.81376456763086"
        ],
        [
         "44",
         "8",
         "0",
         "29.62844042559742",
         "106.00040911895579"
        ],
        [
         "45",
         "9",
         "0",
         "45.50047451748968",
         "0.0"
        ],
        [
         "46",
         "9",
         "0",
         "106.0456519708801",
         "0.0"
        ],
        [
         "47",
         "9",
         "0",
         "153.03870189636763",
         "45.39776357693681"
        ],
        [
         "48",
         "9",
         "0",
         "10.447596451646252",
         "76.5495598803433"
        ],
        [
         "49",
         "9",
         "0",
         "56.53523444218694",
         "108.53324910428645"
        ]
       ],
       "shape": {
        "columns": 4,
        "rows": 275
       }
      },
      "text/html": [
       "<div>\n",
       "<style scoped>\n",
       "    .dataframe tbody tr th:only-of-type {\n",
       "        vertical-align: middle;\n",
       "    }\n",
       "\n",
       "    .dataframe tbody tr th {\n",
       "        vertical-align: top;\n",
       "    }\n",
       "\n",
       "    .dataframe thead th {\n",
       "        text-align: right;\n",
       "    }\n",
       "</style>\n",
       "<table border=\"1\" class=\"dataframe\">\n",
       "  <thead>\n",
       "    <tr style=\"text-align: right;\">\n",
       "      <th></th>\n",
       "      <th>PathIndividual_ID</th>\n",
       "      <th>Generation</th>\n",
       "      <th>X</th>\n",
       "      <th>Y</th>\n",
       "    </tr>\n",
       "  </thead>\n",
       "  <tbody>\n",
       "    <tr>\n",
       "      <th>0</th>\n",
       "      <td>0</td>\n",
       "      <td>0</td>\n",
       "      <td>-14.215789</td>\n",
       "      <td>14.215789</td>\n",
       "    </tr>\n",
       "    <tr>\n",
       "      <th>1</th>\n",
       "      <td>0</td>\n",
       "      <td>0</td>\n",
       "      <td>-41.935803</td>\n",
       "      <td>41.935803</td>\n",
       "    </tr>\n",
       "    <tr>\n",
       "      <th>2</th>\n",
       "      <td>0</td>\n",
       "      <td>0</td>\n",
       "      <td>5.076645</td>\n",
       "      <td>88.948251</td>\n",
       "    </tr>\n",
       "    <tr>\n",
       "      <th>3</th>\n",
       "      <td>0</td>\n",
       "      <td>0</td>\n",
       "      <td>5.076645</td>\n",
       "      <td>121.003286</td>\n",
       "    </tr>\n",
       "    <tr>\n",
       "      <th>4</th>\n",
       "      <td>0</td>\n",
       "      <td>0</td>\n",
       "      <td>21.530847</td>\n",
       "      <td>131.472519</td>\n",
       "    </tr>\n",
       "    <tr>\n",
       "      <th>...</th>\n",
       "      <td>...</td>\n",
       "      <td>...</td>\n",
       "      <td>...</td>\n",
       "      <td>...</td>\n",
       "    </tr>\n",
       "    <tr>\n",
       "      <th>270</th>\n",
       "      <td>54</td>\n",
       "      <td>0</td>\n",
       "      <td>-18.880187</td>\n",
       "      <td>18.880187</td>\n",
       "    </tr>\n",
       "    <tr>\n",
       "      <th>271</th>\n",
       "      <td>54</td>\n",
       "      <td>0</td>\n",
       "      <td>25.173125</td>\n",
       "      <td>62.933498</td>\n",
       "    </tr>\n",
       "    <tr>\n",
       "      <th>272</th>\n",
       "      <td>54</td>\n",
       "      <td>0</td>\n",
       "      <td>34.231561</td>\n",
       "      <td>71.991935</td>\n",
       "    </tr>\n",
       "    <tr>\n",
       "      <th>273</th>\n",
       "      <td>54</td>\n",
       "      <td>0</td>\n",
       "      <td>31.839468</td>\n",
       "      <td>74.384028</td>\n",
       "    </tr>\n",
       "    <tr>\n",
       "      <th>274</th>\n",
       "      <td>54</td>\n",
       "      <td>0</td>\n",
       "      <td>53.095388</td>\n",
       "      <td>95.639948</td>\n",
       "    </tr>\n",
       "  </tbody>\n",
       "</table>\n",
       "<p>275 rows × 4 columns</p>\n",
       "</div>"
      ],
      "text/plain": [
       "     PathIndividual_ID  Generation          X           Y\n",
       "0                    0           0 -14.215789   14.215789\n",
       "1                    0           0 -41.935803   41.935803\n",
       "2                    0           0   5.076645   88.948251\n",
       "3                    0           0   5.076645  121.003286\n",
       "4                    0           0  21.530847  131.472519\n",
       "..                 ...         ...        ...         ...\n",
       "270                 54           0 -18.880187   18.880187\n",
       "271                 54           0  25.173125   62.933498\n",
       "272                 54           0  34.231561   71.991935\n",
       "273                 54           0  31.839468   74.384028\n",
       "274                 54           0  53.095388   95.639948\n",
       "\n",
       "[275 rows x 4 columns]"
      ]
     },
     "execution_count": 12,
     "metadata": {},
     "output_type": "execute_result"
    }
   ],
   "source": [
    "df = pd.read_csv(\"GenerticEvolution_20250208.csv\")\n",
    "df[\"Waypoints\"] = df[\"Waypoints\"].apply(json.loads)\n",
    "\n",
    "waypoints_data = []\n",
    "for index, row in df.iterrows():\n",
    "    for waypoint in row[\"Waypoints\"]:\n",
    "        waypoints_data.append({\n",
    "\n",
    "            \"PathIndividual_ID\": index,\n",
    "            \"Generation\": row[\"Generation\"],\n",
    "            \"X\": waypoint[\"Position\"][\"X\"],\n",
    "            \"Y\": waypoint[\"Position\"][\"Y\"],\n",
    "        })\n",
    "        \n",
    "waypoints_data\n",
    "waypoints_df = pd.DataFrame(waypoints_data)\n",
    "df.head()\n",
    "waypoints_df"
   ]
  },
  {
   "cell_type": "code",
   "execution_count": null,
   "metadata": {},
   "outputs": [
    {
     "data": {
      "application/vnd.plotly.v1+json": {
       "config": {
        "plotlyServerURL": "https://plot.ly"
       },
       "data": [
        {
         "hoverinfo": "text+x+y",
         "line": {
          "color": "blue",
          "width": 2
         },
         "marker": {
          "color": "red",
          "size": 8
         },
         "mode": "lines+markers",
         "name": "Path 0",
         "type": "scatter",
         "x": {
          "bdata": "9+VP6HtuLMC70QZjyPdEwIAG7RF8ThRAggbtEXxOFEDrhgOZ5Yc1QA==",
          "dtype": "f8"
         },
         "y": {
          "bdata": "+OVP6HtuLEC80QZjyPdEQCSiJSSwPFZAQG+X1jVAXkCuIOzgHm9gQA==",
          "dtype": "f8"
         }
        },
        {
         "hoverinfo": "text+x+y",
         "line": {
          "color": "blue",
          "width": 2
         },
         "marker": {
          "color": "red",
          "size": 8
         },
         "mode": "lines+markers",
         "name": "Path 1",
         "type": "scatter",
         "x": {
          "bdata": "gtpyArKTOsDA2wn7hFQQQNCxISuTVMw/qkCzXCvlJEBfceyPgkRMQA==",
          "dtype": "f8"
         },
         "y": {
          "bdata": "g9pyArKTOkD6FdShQp5MQMAvCq5+jE5AKVE0/SsjU0AG4tnAICJbQA==",
          "dtype": "f8"
         }
        },
        {
         "hoverinfo": "text+x+y",
         "line": {
          "color": "blue",
          "width": 2
         },
         "marker": {
          "color": "red",
          "size": 8
         },
         "mode": "lines+markers",
         "name": "Path 2",
         "type": "scatter",
         "x": {
          "bdata": "3Nt1Ki60WECBmQxEkPVMQCZmwgs9IWNAuu/wLEs7bEB/hAU0ANRwQA==",
          "dtype": "f8"
         },
         "y": {
          "bdata": "UyEqZg9+WEC8q9wJuflgQOY9uerpskZARsuKq7GjRUCrK2rPLlw2QA==",
          "dtype": "f8"
         }
        },
        {
         "hoverinfo": "text+x+y",
         "line": {
          "color": "blue",
          "width": 2
         },
         "marker": {
          "color": "red",
          "size": 8
         },
         "mode": "lines+markers",
         "name": "Path 3",
         "type": "scatter",
         "x": {
          "bdata": "9+VP6HtuLMC70QZjyPdEwIAG7RF8ThRAggbtEXxOFEC6Nwr9SiJVQA==",
          "dtype": "f8"
         },
         "y": {
          "bdata": "+OVP6HtuLEC80QZjyPdEQCSiJSSwPFZAQG+X1jVAXkDUm6VNzWFkQA==",
          "dtype": "f8"
         }
        },
        {
         "hoverinfo": "text+x+y",
         "line": {
          "color": "blue",
          "width": 2
         },
         "marker": {
          "color": "red",
          "size": 8
         },
         "mode": "lines+markers",
         "name": "Path 4",
         "type": "scatter",
         "x": {
          "bdata": "V1F98l7JxjzWqSHTdhA+QNepIdN2ED5Aar8lDMJaR0C6Nwr9SiJVQA==",
          "dtype": "f8"
         },
         "y": {
          "bdata": "95ANylWoJED8jiz237FKQGRqCVNtJVtApN9TpLBOX0DUm6VNzWFkQA==",
          "dtype": "f8"
         }
        },
        {
         "hoverinfo": "text+x+y",
         "line": {
          "color": "blue",
          "width": 2
         },
         "marker": {
          "color": "red",
          "size": 8
         },
         "mode": "lines+markers",
         "name": "Path 5",
         "type": "scatter",
         "x": {
          "bdata": "voyKjA/ARkBkez7264JaQCZmwgs9IWNAuu/wLEs7bEC/uMe5gow3QA==",
          "dtype": "f8"
         },
         "y": {
          "bdata": "AAAAAAAAAAAAAAAAAAAAAOY9uerpskZARsuKq7GjRUDlx25NG39hQA==",
          "dtype": "f8"
         }
        },
        {
         "hoverinfo": "text+x+y",
         "line": {
          "color": "blue",
          "width": 2
         },
         "marker": {
          "color": "red",
          "size": 8
         },
         "mode": "lines+markers",
         "name": "Path 6",
         "type": "scatter",
         "x": {
          "bdata": "mRHKTMX7yTzbOZxZ1yZDQADwQOxE0qc/52CQPI0aQUD6MCgIKNJJQA==",
          "dtype": "f8"
         },
         "y": {
          "bdata": "ntHwukSOJ0BCbliIaApJQPHLXKilFVZARnQH/vGfXkDPeBua8GZiQA==",
          "dtype": "f8"
         }
        },
        {
         "hoverinfo": "text+x+y",
         "line": {
          "color": "blue",
          "width": 2
         },
         "marker": {
          "color": "red",
          "size": 8
         },
         "mode": "lines+markers",
         "name": "Path 7",
         "type": "scatter",
         "x": {
          "bdata": "1RVAnIwkN8B8s4BMiktaQLK+KtOMglpAlByAEhX1YEAK7ejYDiJnQA==",
          "dtype": "f8"
         },
         "y": {
          "bdata": "1hVAnIwkN0Big0z8Ge5CQM+ZoAkfXENAXsel1qwVUUBKaHdjoG9dQA==",
          "dtype": "f8"
         }
        },
        {
         "hoverinfo": "text+x+y",
         "line": {
          "color": "blue",
          "width": 2
         },
         "marker": {
          "color": "red",
          "size": 8
         },
         "mode": "lines+markers",
         "name": "Path 8",
         "type": "scatter",
         "x": {
          "bdata": "1RVAnIwkN8CSykx3RbMkQCNESF9ZejXAkPvxGBf0/T/dbMN44aA9QA==",
          "dtype": "f8"
         },
         "y": {
          "bdata": "1hVAnIwkN0B6SBP6XVFMQJhOxQOuHVZAjyf7txT0W0BCIvizBoBaQA==",
          "dtype": "f8"
         }
        },
        {
         "hoverinfo": "text+x+y",
         "line": {
          "color": "blue",
          "width": 2
         },
         "marker": {
          "color": "red",
          "size": 8
         },
         "mode": "lines+markers",
         "name": "Path 9",
         "type": "scatter",
         "x": {
          "bdata": "voyKjA/ARkBkez7264JaQCZmwgs9IWNAqkCzXCvlJEBfceyPgkRMQA==",
          "dtype": "f8"
         },
         "y": {
          "bdata": "AAAAAAAAAAAAAAAAAAAAAOY9uerpskZAKVE0/SsjU0AG4tnAICJbQA==",
          "dtype": "f8"
         }
        },
        {
         "hoverinfo": "text+x+y",
         "line": {
          "color": "blue",
          "width": 2
         },
         "marker": {
          "color": "red",
          "size": 8
         },
         "mode": "lines+markers",
         "name": "Path 10",
         "type": "scatter",
         "x": {
          "bdata": "ru2u6lPhMsAa+1npUSw5QDRWlMujHUFA8fZ6XefWP0AK13ypNYxKQA==",
          "dtype": "f8"
         },
         "y": {
          "bdata": "ru2u6lPhMkA761vffHdPQPGhIdt7/1FATw+N6ZOYUkAYvezm9OhXQA==",
          "dtype": "f8"
         }
        },
        {
         "hoverinfo": "text+x+y",
         "line": {
          "color": "blue",
          "width": 2
         },
         "marker": {
          "color": "red",
          "size": 8
         },
         "mode": "lines+markers",
         "name": "Path 11",
         "type": "scatter",
         "x": {
          "bdata": "1RVAnIwkN8B8s4BMiktaQLK+KtOMglpAlByAEhX1YEB/hAU0ANRwQA==",
          "dtype": "f8"
         },
         "y": {
          "bdata": "1hVAnIwkN0Big0z8Ge5CQM+ZoAkfXENAXsel1qwVUUCrK2rPLlw2QA==",
          "dtype": "f8"
         }
        },
        {
         "hoverinfo": "text+x+y",
         "line": {
          "color": "blue",
          "width": 2
         },
         "marker": {
          "color": "red",
          "size": 8
         },
         "mode": "lines+markers",
         "name": "Path 12",
         "type": "scatter",
         "x": {
          "bdata": "voyKjA/ARkBkez7264JaQCZmwgs9IWNAqkCzXCvlJEBfceyPgkRMQA==",
          "dtype": "f8"
         },
         "y": {
          "bdata": "AAAAAAAAAAAAAAAAAAAAAOY9uerpskZAKVE0/SsjU0AG4tnAICJbQA==",
          "dtype": "f8"
         }
        },
        {
         "hoverinfo": "text+x+y",
         "line": {
          "color": "blue",
          "width": 2
         },
         "marker": {
          "color": "red",
          "size": 8
         },
         "mode": "lines+markers",
         "name": "Path 13",
         "type": "scatter",
         "x": {
          "bdata": "voyKjA/ARkBkez7264JaQCZmwgs9IWNAuu/wLEs7bEC/uMe5gow3QA==",
          "dtype": "f8"
         },
         "y": {
          "bdata": "AAAAAAAAAAAAAAAAAAAAAOY9uerpskZARsuKq7GjRUDlx25NG39hQA==",
          "dtype": "f8"
         }
        },
        {
         "hoverinfo": "text+x+y",
         "line": {
          "color": "blue",
          "width": 2
         },
         "marker": {
          "color": "red",
          "size": 8
         },
         "mode": "lines+markers",
         "name": "Path 14",
         "type": "scatter",
         "x": {
          "bdata": "voyKjA/ARkBkez7264JaQCZmwgs9IWNAqkCzXCvlJEBfceyPgkRMQA==",
          "dtype": "f8"
         },
         "y": {
          "bdata": "AAAAAAAAAAAAAAAAAAAAAOY9uerpskZAKVE0/SsjU0AG4tnAICJbQA==",
          "dtype": "f8"
         }
        },
        {
         "hoverinfo": "text+x+y",
         "line": {
          "color": "blue",
          "width": 2
         },
         "marker": {
          "color": "red",
          "size": 8
         },
         "mode": "lines+markers",
         "name": "Path 15",
         "type": "scatter",
         "x": {
          "bdata": "gtpyArKTOsDA2wn7hFQQQNCxISuTVMw/qkCzXCvlJEC6Nwr9SiJVQA==",
          "dtype": "f8"
         },
         "y": {
          "bdata": "g9pyArKTOkD6FdShQp5MQMAvCq5+jE5AKVE0/SsjU0DUm6VNzWFkQA==",
          "dtype": "f8"
         }
        },
        {
         "hoverinfo": "text+x+y",
         "line": {
          "color": "blue",
          "width": 2
         },
         "marker": {
          "color": "red",
          "size": 8
         },
         "mode": "lines+markers",
         "name": "Path 16",
         "type": "scatter",
         "x": {
          "bdata": "1RVAnIwkN8DbOZxZ1yZDQADwQOxE0qc/52CQPI0aQUD6MCgIKNJJQA==",
          "dtype": "f8"
         },
         "y": {
          "bdata": "1hVAnIwkN0BCbliIaApJQPHLXKilFVZARnQH/vGfXkDPeBua8GZiQA==",
          "dtype": "f8"
         }
        },
        {
         "hoverinfo": "text+x+y",
         "line": {
          "color": "blue",
          "width": 2
         },
         "marker": {
          "color": "red",
          "size": 8
         },
         "mode": "lines+markers",
         "name": "Path 17",
         "type": "scatter",
         "x": {
          "bdata": "voyKjA/ARkBkez7264JaQCZmwgs9IWNAqkCzXCvlJEBfceyPgkRMQA==",
          "dtype": "f8"
         },
         "y": {
          "bdata": "AAAAAAAAAAAAAAAAAAAAAOY9uerpskZAKVE0/SsjU0AG4tnAICJbQA==",
          "dtype": "f8"
         }
        },
        {
         "hoverinfo": "text+x+y",
         "line": {
          "color": "blue",
          "width": 2
         },
         "marker": {
          "color": "red",
          "size": 8
         },
         "mode": "lines+markers",
         "name": "Path 18",
         "type": "scatter",
         "x": {
          "bdata": "gtpyArKTOsDA2wn7hFQQQNCxISuTVMw/52CQPI0aQUD6MCgIKNJJQA==",
          "dtype": "f8"
         },
         "y": {
          "bdata": "g9pyArKTOkD6FdShQp5MQMAvCq5+jE5ARnQH/vGfXkDPeBua8GZiQA==",
          "dtype": "f8"
         }
        },
        {
         "hoverinfo": "text+x+y",
         "line": {
          "color": "blue",
          "width": 2
         },
         "marker": {
          "color": "red",
          "size": 8
         },
         "mode": "lines+markers",
         "name": "Path 19",
         "type": "scatter",
         "x": {
          "bdata": "3Nt1Ki60WECBmQxEkPVMQCZmwgs9IWNAuu/wLEs7bEC/uMe5gow3QA==",
          "dtype": "f8"
         },
         "y": {
          "bdata": "UyEqZg9+WEC8q9wJuflgQOY9uerpskZARsuKq7GjRUDlx25NG39hQA==",
          "dtype": "f8"
         }
        },
        {
         "hoverinfo": "text+x+y",
         "line": {
          "color": "blue",
          "width": 2
         },
         "marker": {
          "color": "red",
          "size": 8
         },
         "mode": "lines+markers",
         "name": "Path 20",
         "type": "scatter",
         "x": {
          "bdata": "gtpyArKTOsBkez7264JaQCZmwgs9IWNAqkCzXCvlJEBfceyPgkRMQA==",
          "dtype": "f8"
         },
         "y": {
          "bdata": "g9pyArKTOkAAAAAAAAAAAOY9uerpskZAKVE0/SsjU0AG4tnAICJbQA==",
          "dtype": "f8"
         }
        },
        {
         "hoverinfo": "text+x+y",
         "line": {
          "color": "blue",
          "width": 2
         },
         "marker": {
          "color": "red",
          "size": 8
         },
         "mode": "lines+markers",
         "name": "Path 21",
         "type": "scatter",
         "x": {
          "bdata": "ru2u6lPhMsAa+1npUSw5QDRWlMujHUFA8fZ6XefWP0AK13ypNYxKQA==",
          "dtype": "f8"
         },
         "y": {
          "bdata": "ru2u6lPhMkA761vffHdPQPGhIdt7/1FATw+N6ZOYUkAYvezm9OhXQA==",
          "dtype": "f8"
         }
        },
        {
         "hoverinfo": "text+x+y",
         "line": {
          "color": "blue",
          "width": 2
         },
         "marker": {
          "color": "red",
          "size": 8
         },
         "mode": "lines+markers",
         "name": "Path 22",
         "type": "scatter",
         "x": {
          "bdata": "voyKjA/ARkBkez7264JaQCZmwgs9IWNAuu/wLEs7bEC/uMe5gow3QA==",
          "dtype": "f8"
         },
         "y": {
          "bdata": "AAAAAAAAAAAAAAAAAAAAAOY9uerpskZARsuKq7GjRUDlx25NG39hQA==",
          "dtype": "f8"
         }
        },
        {
         "hoverinfo": "text+x+y",
         "line": {
          "color": "blue",
          "width": 2
         },
         "marker": {
          "color": "red",
          "size": 8
         },
         "mode": "lines+markers",
         "name": "Path 23",
         "type": "scatter",
         "x": {
          "bdata": "gtpyArKTOsBkez7264JaQCZmwgs9IWNAqkCzXCvlJEBfceyPgkRMQA==",
          "dtype": "f8"
         },
         "y": {
          "bdata": "g9pyArKTOkAAAAAAAAAAAOY9uerpskZAKVE0/SsjU0AG4tnAICJbQA==",
          "dtype": "f8"
         }
        },
        {
         "hoverinfo": "text+x+y",
         "line": {
          "color": "blue",
          "width": 2
         },
         "marker": {
          "color": "red",
          "size": 8
         },
         "mode": "lines+markers",
         "name": "Path 24",
         "type": "scatter",
         "x": {
          "bdata": "3Nt1Ki60WEBkez7264JaQCZmwgs9IWNAqkCzXCvlJEBfceyPgkRMQA==",
          "dtype": "f8"
         },
         "y": {
          "bdata": "UyEqZg9+WEAAAAAAAAAAAOY9uerpskZAKVE0/SsjU0AG4tnAICJbQA==",
          "dtype": "f8"
         }
        },
        {
         "hoverinfo": "text+x+y",
         "line": {
          "color": "blue",
          "width": 2
         },
         "marker": {
          "color": "red",
          "size": 8
         },
         "mode": "lines+markers",
         "name": "Path 25",
         "type": "scatter",
         "x": {
          "bdata": "voyKjA/ARkBkez7264JaQCZmwgs9IWNAuu/wLEs7bEC/uMe5gow3QA==",
          "dtype": "f8"
         },
         "y": {
          "bdata": "AAAAAAAAAAAAAAAAAAAAAOY9uerpskZARsuKq7GjRUDlx25NG39hQA==",
          "dtype": "f8"
         }
        },
        {
         "hoverinfo": "text+x+y",
         "line": {
          "color": "blue",
          "width": 2
         },
         "marker": {
          "color": "red",
          "size": 8
         },
         "mode": "lines+markers",
         "name": "Path 26",
         "type": "scatter",
         "x": {
          "bdata": "3Nt1Ki60WECBmQxEkPVMQCZmwgs9IWNAuu/wLEs7bEC/uMe5gow3QA==",
          "dtype": "f8"
         },
         "y": {
          "bdata": "UyEqZg9+WEC8q9wJuflgQOY9uerpskZARsuKq7GjRUDlx25NG39hQA==",
          "dtype": "f8"
         }
        },
        {
         "hoverinfo": "text+x+y",
         "line": {
          "color": "blue",
          "width": 2
         },
         "marker": {
          "color": "red",
          "size": 8
         },
         "mode": "lines+markers",
         "name": "Path 27",
         "type": "scatter",
         "x": {
          "bdata": "gtpyArKTOsDA2wn7hFQQQNCxISuTVMw/52CQPI0aQUC/uMe5gow3QA==",
          "dtype": "f8"
         },
         "y": {
          "bdata": "g9pyArKTOkD6FdShQp5MQMAvCq5+jE5ARnQH/vGfXkDlx25NG39hQA==",
          "dtype": "f8"
         }
        },
        {
         "hoverinfo": "text+x+y",
         "line": {
          "color": "blue",
          "width": 2
         },
         "marker": {
          "color": "red",
          "size": 8
         },
         "mode": "lines+markers",
         "name": "Path 28",
         "type": "scatter",
         "x": {
          "bdata": "1RVAnIwkN8B8s4BMiktaQLK+KtOMglpAlByAEhX1YEBfceyPgkRMQA==",
          "dtype": "f8"
         },
         "y": {
          "bdata": "1hVAnIwkN0Big0z8Ge5CQM+ZoAkfXENAXsel1qwVUUAG4tnAICJbQA==",
          "dtype": "f8"
         }
        },
        {
         "hoverinfo": "text+x+y",
         "line": {
          "color": "blue",
          "width": 2
         },
         "marker": {
          "color": "red",
          "size": 8
         },
         "mode": "lines+markers",
         "name": "Path 29",
         "type": "scatter",
         "x": {
          "bdata": "1RVAnIwkN8DA2wn7hFQQQNCxISuTVMw/52CQPI0aQUD6MCgIKNJJQA==",
          "dtype": "f8"
         },
         "y": {
          "bdata": "1hVAnIwkN0D6FdShQp5MQMAvCq5+jE5ARnQH/vGfXkDPeBua8GZiQA==",
          "dtype": "f8"
         }
        },
        {
         "hoverinfo": "text+x+y",
         "line": {
          "color": "blue",
          "width": 2
         },
         "marker": {
          "color": "red",
          "size": 8
         },
         "mode": "lines+markers",
         "name": "Path 30",
         "type": "scatter",
         "x": {
          "bdata": "gtpyArKTOsBkez7264JaQCZmwgs9IWNAuu/wLEs7bEC/uMe5gow3QA==",
          "dtype": "f8"
         },
         "y": {
          "bdata": "g9pyArKTOkAAAAAAAAAAAOY9uerpskZARsuKq7GjRUDlx25NG39hQA==",
          "dtype": "f8"
         }
        },
        {
         "hoverinfo": "text+x+y",
         "line": {
          "color": "blue",
          "width": 2
         },
         "marker": {
          "color": "red",
          "size": 8
         },
         "mode": "lines+markers",
         "name": "Path 31",
         "type": "scatter",
         "x": {
          "bdata": "voyKjA/ARkBkez7264JaQCZmwgs9IWNA52CQPI0aQUD6MCgIKNJJQA==",
          "dtype": "f8"
         },
         "y": {
          "bdata": "AAAAAAAAAAAAAAAAAAAAAOY9uerpskZARnQH/vGfXkDPeBua8GZiQA==",
          "dtype": "f8"
         }
        },
        {
         "hoverinfo": "text+x+y",
         "line": {
          "color": "blue",
          "width": 2
         },
         "marker": {
          "color": "red",
          "size": 8
         },
         "mode": "lines+markers",
         "name": "Path 32",
         "type": "scatter",
         "x": {
          "bdata": "ru2u6lPhMsAa+1npUSw5QDRWlMujHUFA8fZ6XefWP0AK13ypNYxKQA==",
          "dtype": "f8"
         },
         "y": {
          "bdata": "ru2u6lPhMkA761vffHdPQPGhIdt7/1FATw+N6ZOYUkAYvezm9OhXQA==",
          "dtype": "f8"
         }
        },
        {
         "hoverinfo": "text+x+y",
         "line": {
          "color": "blue",
          "width": 2
         },
         "marker": {
          "color": "red",
          "size": 8
         },
         "mode": "lines+markers",
         "name": "Path 33",
         "type": "scatter",
         "x": {
          "bdata": "1RVAnIwkN8Bkez7264JaQCZmwgs9IWNA52CQPI0aQUD6MCgIKNJJQA==",
          "dtype": "f8"
         },
         "y": {
          "bdata": "1hVAnIwkN0AAAAAAAAAAAOY9uerpskZARnQH/vGfXkDPeBua8GZiQA==",
          "dtype": "f8"
         }
        },
        {
         "hoverinfo": "text+x+y",
         "line": {
          "color": "blue",
          "width": 2
         },
         "marker": {
          "color": "red",
          "size": 8
         },
         "mode": "lines+markers",
         "name": "Path 34",
         "type": "scatter",
         "x": {
          "bdata": "gtpyArKTOsBkez7264JaQCZmwgs9IWNAuu/wLEs7bEC/uMe5gow3QA==",
          "dtype": "f8"
         },
         "y": {
          "bdata": "g9pyArKTOkAAAAAAAAAAAOY9uerpskZARsuKq7GjRUDlx25NG39hQA==",
          "dtype": "f8"
         }
        },
        {
         "hoverinfo": "text+x+y",
         "line": {
          "color": "blue",
          "width": 2
         },
         "marker": {
          "color": "red",
          "size": 8
         },
         "mode": "lines+markers",
         "name": "Path 35",
         "type": "scatter",
         "x": {
          "bdata": "3Nt1Ki60WEBkez7264JaQCZmwgs9IWNAqkCzXCvlJEC/uMe5gow3QA==",
          "dtype": "f8"
         },
         "y": {
          "bdata": "UyEqZg9+WEAAAAAAAAAAAOY9uerpskZAKVE0/SsjU0Dlx25NG39hQA==",
          "dtype": "f8"
         }
        },
        {
         "hoverinfo": "text+x+y",
         "line": {
          "color": "blue",
          "width": 2
         },
         "marker": {
          "color": "red",
          "size": 8
         },
         "mode": "lines+markers",
         "name": "Path 36",
         "type": "scatter",
         "x": {
          "bdata": "voyKjA/ARkBkez7264JaQCZmwgs9IWNAuu/wLEs7bEC/uMe5gow3QA==",
          "dtype": "f8"
         },
         "y": {
          "bdata": "AAAAAAAAAAAAAAAAAAAAAOY9uerpskZARsuKq7GjRUDlx25NG39hQA==",
          "dtype": "f8"
         }
        },
        {
         "hoverinfo": "text+x+y",
         "line": {
          "color": "blue",
          "width": 2
         },
         "marker": {
          "color": "red",
          "size": 8
         },
         "mode": "lines+markers",
         "name": "Path 37",
         "type": "scatter",
         "x": {
          "bdata": "3Nt1Ki60WECBmQxEkPVMQCZmwgs9IWNAqkCzXCvlJEBfceyPgkRMQA==",
          "dtype": "f8"
         },
         "y": {
          "bdata": "UyEqZg9+WEC8q9wJuflgQOY9uerpskZAKVE0/SsjU0AG4tnAICJbQA==",
          "dtype": "f8"
         }
        },
        {
         "hoverinfo": "text+x+y",
         "line": {
          "color": "blue",
          "width": 2
         },
         "marker": {
          "color": "red",
          "size": 8
         },
         "mode": "lines+markers",
         "name": "Path 38",
         "type": "scatter",
         "x": {
          "bdata": "voyKjA/ARkBkez7264JaQCZmwgs9IWNAuu/wLEs7bEC/uMe5gow3QA==",
          "dtype": "f8"
         },
         "y": {
          "bdata": "AAAAAAAAAAAAAAAAAAAAAOY9uerpskZARsuKq7GjRUDlx25NG39hQA==",
          "dtype": "f8"
         }
        },
        {
         "hoverinfo": "text+x+y",
         "line": {
          "color": "blue",
          "width": 2
         },
         "marker": {
          "color": "red",
          "size": 8
         },
         "mode": "lines+markers",
         "name": "Path 39",
         "type": "scatter",
         "x": {
          "bdata": "gtpyArKTOsDA2wn7hFQQQNCxISuTVMw/52CQPI0aQUC/uMe5gow3QA==",
          "dtype": "f8"
         },
         "y": {
          "bdata": "g9pyArKTOkD6FdShQp5MQMAvCq5+jE5ARnQH/vGfXkDlx25NG39hQA==",
          "dtype": "f8"
         }
        },
        {
         "hoverinfo": "text+x+y",
         "line": {
          "color": "blue",
          "width": 2
         },
         "marker": {
          "color": "red",
          "size": 8
         },
         "mode": "lines+markers",
         "name": "Path 40",
         "type": "scatter",
         "x": {
          "bdata": "1RVAnIwkN8DA2wn7hFQQQNCxISuTVMw/52CQPI0aQUD6MCgIKNJJQA==",
          "dtype": "f8"
         },
         "y": {
          "bdata": "1hVAnIwkN0D6FdShQp5MQMAvCq5+jE5ARnQH/vGfXkDPeBua8GZiQA==",
          "dtype": "f8"
         }
        },
        {
         "hoverinfo": "text+x+y",
         "line": {
          "color": "blue",
          "width": 2
         },
         "marker": {
          "color": "red",
          "size": 8
         },
         "mode": "lines+markers",
         "name": "Path 41",
         "type": "scatter",
         "x": {
          "bdata": "1RVAnIwkN8B8s4BMiktaQLK+KtOMglpA52CQPI0aQUD6MCgIKNJJQA==",
          "dtype": "f8"
         },
         "y": {
          "bdata": "1hVAnIwkN0Big0z8Ge5CQM+ZoAkfXENARnQH/vGfXkDPeBua8GZiQA==",
          "dtype": "f8"
         }
        },
        {
         "hoverinfo": "text+x+y",
         "line": {
          "color": "blue",
          "width": 2
         },
         "marker": {
          "color": "red",
          "size": 8
         },
         "mode": "lines+markers",
         "name": "Path 42",
         "type": "scatter",
         "x": {
          "bdata": "voyKjA/ARkBkez7264JaQCZmwgs9IWNAuu/wLEs7bEC/uMe5gow3QA==",
          "dtype": "f8"
         },
         "y": {
          "bdata": "AAAAAAAAAAAAAAAAAAAAAOY9uerpskZARsuKq7GjRUDlx25NG39hQA==",
          "dtype": "f8"
         }
        },
        {
         "hoverinfo": "text+x+y",
         "line": {
          "color": "blue",
          "width": 2
         },
         "marker": {
          "color": "red",
          "size": 8
         },
         "mode": "lines+markers",
         "name": "Path 43",
         "type": "scatter",
         "x": {
          "bdata": "ru2u6lPhMsAa+1npUSw5QDRWlMujHUFA8fZ6XefWP0AK13ypNYxKQA==",
          "dtype": "f8"
         },
         "y": {
          "bdata": "ru2u6lPhMkA761vffHdPQPGhIdt7/1FATw+N6ZOYUkAYvezm9OhXQA==",
          "dtype": "f8"
         }
        },
        {
         "hoverinfo": "text+x+y",
         "line": {
          "color": "blue",
          "width": 2
         },
         "marker": {
          "color": "red",
          "size": 8
         },
         "mode": "lines+markers",
         "name": "Path 44",
         "type": "scatter",
         "x": {
          "bdata": "gtpyArKTOsDA2wn7hFQQQCZmwgs9IWNAuu/wLEs7bEC/uMe5gow3QA==",
          "dtype": "f8"
         },
         "y": {
          "bdata": "g9pyArKTOkD6FdShQp5MQOY9uerpskZARsuKq7GjRUDlx25NG39hQA==",
          "dtype": "f8"
         }
        },
        {
         "hoverinfo": "text+x+y",
         "line": {
          "color": "blue",
          "width": 2
         },
         "marker": {
          "color": "red",
          "size": 8
         },
         "mode": "lines+markers",
         "name": "Path 45",
         "type": "scatter",
         "x": {
          "bdata": "3Nt1Ki60WECBmQxEkPVMQCZmwgs9IWNAqkCzXCvlJEC/uMe5gow3QA==",
          "dtype": "f8"
         },
         "y": {
          "bdata": "UyEqZg9+WEC8q9wJuflgQOY9uerpskZAKVE0/SsjU0Dlx25NG39hQA==",
          "dtype": "f8"
         }
        },
        {
         "hoverinfo": "text+x+y",
         "line": {
          "color": "blue",
          "width": 2
         },
         "marker": {
          "color": "red",
          "size": 8
         },
         "mode": "lines+markers",
         "name": "Path 46",
         "type": "scatter",
         "x": {
          "bdata": "1RVAnIwkN8Bkez7264JaQNCxISuTVMw/52CQPI0aQUC/uMe5gow3QA==",
          "dtype": "f8"
         },
         "y": {
          "bdata": "1hVAnIwkN0AAAAAAAAAAAMAvCq5+jE5ARnQH/vGfXkDlx25NG39hQA==",
          "dtype": "f8"
         }
        },
        {
         "hoverinfo": "text+x+y",
         "line": {
          "color": "blue",
          "width": 2
         },
         "marker": {
          "color": "red",
          "size": 8
         },
         "mode": "lines+markers",
         "name": "Path 47",
         "type": "scatter",
         "x": {
          "bdata": "3Nt1Ki60WEDA2wn7hFQQQNCxISuTVMw/52CQPI0aQUC/uMe5gow3QA==",
          "dtype": "f8"
         },
         "y": {
          "bdata": "UyEqZg9+WED6FdShQp5MQMAvCq5+jE5ARnQH/vGfXkDlx25NG39hQA==",
          "dtype": "f8"
         }
        },
        {
         "hoverinfo": "text+x+y",
         "line": {
          "color": "blue",
          "width": 2
         },
         "marker": {
          "color": "red",
          "size": 8
         },
         "mode": "lines+markers",
         "name": "Path 48",
         "type": "scatter",
         "x": {
          "bdata": "voyKjA/ARkBkez7264JaQCZmwgs9IWNAqkCzXCvlJEBfceyPgkRMQA==",
          "dtype": "f8"
         },
         "y": {
          "bdata": "AAAAAAAAAAAAAAAAAAAAAOY9uerpskZAKVE0/SsjU0AG4tnAICJbQA==",
          "dtype": "f8"
         }
        },
        {
         "hoverinfo": "text+x+y",
         "line": {
          "color": "blue",
          "width": 2
         },
         "marker": {
          "color": "red",
          "size": 8
         },
         "mode": "lines+markers",
         "name": "Path 49",
         "type": "scatter",
         "x": {
          "bdata": "3Nt1Ki60WEBkez7264JaQCZmwgs9IWNAuu/wLEs7bEC/uMe5gow3QA==",
          "dtype": "f8"
         },
         "y": {
          "bdata": "UyEqZg9+WEAAAAAAAAAAAOY9uerpskZARsuKq7GjRUDlx25NG39hQA==",
          "dtype": "f8"
         }
        },
        {
         "hoverinfo": "text+x+y",
         "line": {
          "color": "blue",
          "width": 2
         },
         "marker": {
          "color": "red",
          "size": 8
         },
         "mode": "lines+markers",
         "name": "Path 50",
         "type": "scatter",
         "x": {
          "bdata": "gtpyArKTOsDA2wn7hFQQQNCxISuTVMw/52CQPI0aQUC/uMe5gow3QA==",
          "dtype": "f8"
         },
         "y": {
          "bdata": "g9pyArKTOkD6FdShQp5MQMAvCq5+jE5ARnQH/vGfXkDlx25NG39hQA==",
          "dtype": "f8"
         }
        },
        {
         "hoverinfo": "text+x+y",
         "line": {
          "color": "blue",
          "width": 2
         },
         "marker": {
          "color": "red",
          "size": 8
         },
         "mode": "lines+markers",
         "name": "Path 51",
         "type": "scatter",
         "x": {
          "bdata": "1RVAnIwkN8Bkez7264JaQCZmwgs9IWNA52CQPI0aQUC/uMe5gow3QA==",
          "dtype": "f8"
         },
         "y": {
          "bdata": "1hVAnIwkN0AAAAAAAAAAAOY9uerpskZARnQH/vGfXkDlx25NG39hQA==",
          "dtype": "f8"
         }
        },
        {
         "hoverinfo": "text+x+y",
         "line": {
          "color": "blue",
          "width": 2
         },
         "marker": {
          "color": "red",
          "size": 8
         },
         "mode": "lines+markers",
         "name": "Path 52",
         "type": "scatter",
         "x": {
          "bdata": "voyKjA/ARkBkez7264JaQCZmwgs9IWNA52CQPI0aQUC/uMe5gow3QA==",
          "dtype": "f8"
         },
         "y": {
          "bdata": "AAAAAAAAAAAAAAAAAAAAAOY9uerpskZARnQH/vGfXkDlx25NG39hQA==",
          "dtype": "f8"
         }
        },
        {
         "hoverinfo": "text+x+y",
         "line": {
          "color": "blue",
          "width": 2
         },
         "marker": {
          "color": "red",
          "size": 8
         },
         "mode": "lines+markers",
         "name": "Path 53",
         "type": "scatter",
         "x": {
          "bdata": "voyKjA/ARkBkez7264JaQCZmwgs9IWNAuu/wLEs7bEC/uMe5gow3QA==",
          "dtype": "f8"
         },
         "y": {
          "bdata": "AAAAAAAAAAAAAAAAAAAAAOY9uerpskZARsuKq7GjRUDlx25NG39hQA==",
          "dtype": "f8"
         }
        },
        {
         "hoverinfo": "text+x+y",
         "line": {
          "color": "blue",
          "width": 2
         },
         "marker": {
          "color": "red",
          "size": 8
         },
         "mode": "lines+markers",
         "name": "Path 54",
         "type": "scatter",
         "x": {
          "bdata": "ru2u6lPhMsAa+1npUSw5QDRWlMujHUFA8fZ6XefWP0AK13ypNYxKQA==",
          "dtype": "f8"
         },
         "y": {
          "bdata": "ru2u6lPhMkA761vffHdPQPGhIdt7/1FATw+N6ZOYUkAYvezm9OhXQA==",
          "dtype": "f8"
         }
        }
       ],
       "layout": {
        "showlegend": true,
        "template": {
         "data": {
          "bar": [
           {
            "error_x": {
             "color": "#2a3f5f"
            },
            "error_y": {
             "color": "#2a3f5f"
            },
            "marker": {
             "line": {
              "color": "#E5ECF6",
              "width": 0.5
             },
             "pattern": {
              "fillmode": "overlay",
              "size": 10,
              "solidity": 0.2
             }
            },
            "type": "bar"
           }
          ],
          "barpolar": [
           {
            "marker": {
             "line": {
              "color": "#E5ECF6",
              "width": 0.5
             },
             "pattern": {
              "fillmode": "overlay",
              "size": 10,
              "solidity": 0.2
             }
            },
            "type": "barpolar"
           }
          ],
          "carpet": [
           {
            "aaxis": {
             "endlinecolor": "#2a3f5f",
             "gridcolor": "white",
             "linecolor": "white",
             "minorgridcolor": "white",
             "startlinecolor": "#2a3f5f"
            },
            "baxis": {
             "endlinecolor": "#2a3f5f",
             "gridcolor": "white",
             "linecolor": "white",
             "minorgridcolor": "white",
             "startlinecolor": "#2a3f5f"
            },
            "type": "carpet"
           }
          ],
          "choropleth": [
           {
            "colorbar": {
             "outlinewidth": 0,
             "ticks": ""
            },
            "type": "choropleth"
           }
          ],
          "contour": [
           {
            "colorbar": {
             "outlinewidth": 0,
             "ticks": ""
            },
            "colorscale": [
             [
              0,
              "#0d0887"
             ],
             [
              0.1111111111111111,
              "#46039f"
             ],
             [
              0.2222222222222222,
              "#7201a8"
             ],
             [
              0.3333333333333333,
              "#9c179e"
             ],
             [
              0.4444444444444444,
              "#bd3786"
             ],
             [
              0.5555555555555556,
              "#d8576b"
             ],
             [
              0.6666666666666666,
              "#ed7953"
             ],
             [
              0.7777777777777778,
              "#fb9f3a"
             ],
             [
              0.8888888888888888,
              "#fdca26"
             ],
             [
              1,
              "#f0f921"
             ]
            ],
            "type": "contour"
           }
          ],
          "contourcarpet": [
           {
            "colorbar": {
             "outlinewidth": 0,
             "ticks": ""
            },
            "type": "contourcarpet"
           }
          ],
          "heatmap": [
           {
            "colorbar": {
             "outlinewidth": 0,
             "ticks": ""
            },
            "colorscale": [
             [
              0,
              "#0d0887"
             ],
             [
              0.1111111111111111,
              "#46039f"
             ],
             [
              0.2222222222222222,
              "#7201a8"
             ],
             [
              0.3333333333333333,
              "#9c179e"
             ],
             [
              0.4444444444444444,
              "#bd3786"
             ],
             [
              0.5555555555555556,
              "#d8576b"
             ],
             [
              0.6666666666666666,
              "#ed7953"
             ],
             [
              0.7777777777777778,
              "#fb9f3a"
             ],
             [
              0.8888888888888888,
              "#fdca26"
             ],
             [
              1,
              "#f0f921"
             ]
            ],
            "type": "heatmap"
           }
          ],
          "histogram": [
           {
            "marker": {
             "pattern": {
              "fillmode": "overlay",
              "size": 10,
              "solidity": 0.2
             }
            },
            "type": "histogram"
           }
          ],
          "histogram2d": [
           {
            "colorbar": {
             "outlinewidth": 0,
             "ticks": ""
            },
            "colorscale": [
             [
              0,
              "#0d0887"
             ],
             [
              0.1111111111111111,
              "#46039f"
             ],
             [
              0.2222222222222222,
              "#7201a8"
             ],
             [
              0.3333333333333333,
              "#9c179e"
             ],
             [
              0.4444444444444444,
              "#bd3786"
             ],
             [
              0.5555555555555556,
              "#d8576b"
             ],
             [
              0.6666666666666666,
              "#ed7953"
             ],
             [
              0.7777777777777778,
              "#fb9f3a"
             ],
             [
              0.8888888888888888,
              "#fdca26"
             ],
             [
              1,
              "#f0f921"
             ]
            ],
            "type": "histogram2d"
           }
          ],
          "histogram2dcontour": [
           {
            "colorbar": {
             "outlinewidth": 0,
             "ticks": ""
            },
            "colorscale": [
             [
              0,
              "#0d0887"
             ],
             [
              0.1111111111111111,
              "#46039f"
             ],
             [
              0.2222222222222222,
              "#7201a8"
             ],
             [
              0.3333333333333333,
              "#9c179e"
             ],
             [
              0.4444444444444444,
              "#bd3786"
             ],
             [
              0.5555555555555556,
              "#d8576b"
             ],
             [
              0.6666666666666666,
              "#ed7953"
             ],
             [
              0.7777777777777778,
              "#fb9f3a"
             ],
             [
              0.8888888888888888,
              "#fdca26"
             ],
             [
              1,
              "#f0f921"
             ]
            ],
            "type": "histogram2dcontour"
           }
          ],
          "mesh3d": [
           {
            "colorbar": {
             "outlinewidth": 0,
             "ticks": ""
            },
            "type": "mesh3d"
           }
          ],
          "parcoords": [
           {
            "line": {
             "colorbar": {
              "outlinewidth": 0,
              "ticks": ""
             }
            },
            "type": "parcoords"
           }
          ],
          "pie": [
           {
            "automargin": true,
            "type": "pie"
           }
          ],
          "scatter": [
           {
            "fillpattern": {
             "fillmode": "overlay",
             "size": 10,
             "solidity": 0.2
            },
            "type": "scatter"
           }
          ],
          "scatter3d": [
           {
            "line": {
             "colorbar": {
              "outlinewidth": 0,
              "ticks": ""
             }
            },
            "marker": {
             "colorbar": {
              "outlinewidth": 0,
              "ticks": ""
             }
            },
            "type": "scatter3d"
           }
          ],
          "scattercarpet": [
           {
            "marker": {
             "colorbar": {
              "outlinewidth": 0,
              "ticks": ""
             }
            },
            "type": "scattercarpet"
           }
          ],
          "scattergeo": [
           {
            "marker": {
             "colorbar": {
              "outlinewidth": 0,
              "ticks": ""
             }
            },
            "type": "scattergeo"
           }
          ],
          "scattergl": [
           {
            "marker": {
             "colorbar": {
              "outlinewidth": 0,
              "ticks": ""
             }
            },
            "type": "scattergl"
           }
          ],
          "scattermap": [
           {
            "marker": {
             "colorbar": {
              "outlinewidth": 0,
              "ticks": ""
             }
            },
            "type": "scattermap"
           }
          ],
          "scattermapbox": [
           {
            "marker": {
             "colorbar": {
              "outlinewidth": 0,
              "ticks": ""
             }
            },
            "type": "scattermapbox"
           }
          ],
          "scatterpolar": [
           {
            "marker": {
             "colorbar": {
              "outlinewidth": 0,
              "ticks": ""
             }
            },
            "type": "scatterpolar"
           }
          ],
          "scatterpolargl": [
           {
            "marker": {
             "colorbar": {
              "outlinewidth": 0,
              "ticks": ""
             }
            },
            "type": "scatterpolargl"
           }
          ],
          "scatterternary": [
           {
            "marker": {
             "colorbar": {
              "outlinewidth": 0,
              "ticks": ""
             }
            },
            "type": "scatterternary"
           }
          ],
          "surface": [
           {
            "colorbar": {
             "outlinewidth": 0,
             "ticks": ""
            },
            "colorscale": [
             [
              0,
              "#0d0887"
             ],
             [
              0.1111111111111111,
              "#46039f"
             ],
             [
              0.2222222222222222,
              "#7201a8"
             ],
             [
              0.3333333333333333,
              "#9c179e"
             ],
             [
              0.4444444444444444,
              "#bd3786"
             ],
             [
              0.5555555555555556,
              "#d8576b"
             ],
             [
              0.6666666666666666,
              "#ed7953"
             ],
             [
              0.7777777777777778,
              "#fb9f3a"
             ],
             [
              0.8888888888888888,
              "#fdca26"
             ],
             [
              1,
              "#f0f921"
             ]
            ],
            "type": "surface"
           }
          ],
          "table": [
           {
            "cells": {
             "fill": {
              "color": "#EBF0F8"
             },
             "line": {
              "color": "white"
             }
            },
            "header": {
             "fill": {
              "color": "#C8D4E3"
             },
             "line": {
              "color": "white"
             }
            },
            "type": "table"
           }
          ]
         },
         "layout": {
          "annotationdefaults": {
           "arrowcolor": "#2a3f5f",
           "arrowhead": 0,
           "arrowwidth": 1
          },
          "autotypenumbers": "strict",
          "coloraxis": {
           "colorbar": {
            "outlinewidth": 0,
            "ticks": ""
           }
          },
          "colorscale": {
           "diverging": [
            [
             0,
             "#8e0152"
            ],
            [
             0.1,
             "#c51b7d"
            ],
            [
             0.2,
             "#de77ae"
            ],
            [
             0.3,
             "#f1b6da"
            ],
            [
             0.4,
             "#fde0ef"
            ],
            [
             0.5,
             "#f7f7f7"
            ],
            [
             0.6,
             "#e6f5d0"
            ],
            [
             0.7,
             "#b8e186"
            ],
            [
             0.8,
             "#7fbc41"
            ],
            [
             0.9,
             "#4d9221"
            ],
            [
             1,
             "#276419"
            ]
           ],
           "sequential": [
            [
             0,
             "#0d0887"
            ],
            [
             0.1111111111111111,
             "#46039f"
            ],
            [
             0.2222222222222222,
             "#7201a8"
            ],
            [
             0.3333333333333333,
             "#9c179e"
            ],
            [
             0.4444444444444444,
             "#bd3786"
            ],
            [
             0.5555555555555556,
             "#d8576b"
            ],
            [
             0.6666666666666666,
             "#ed7953"
            ],
            [
             0.7777777777777778,
             "#fb9f3a"
            ],
            [
             0.8888888888888888,
             "#fdca26"
            ],
            [
             1,
             "#f0f921"
            ]
           ],
           "sequentialminus": [
            [
             0,
             "#0d0887"
            ],
            [
             0.1111111111111111,
             "#46039f"
            ],
            [
             0.2222222222222222,
             "#7201a8"
            ],
            [
             0.3333333333333333,
             "#9c179e"
            ],
            [
             0.4444444444444444,
             "#bd3786"
            ],
            [
             0.5555555555555556,
             "#d8576b"
            ],
            [
             0.6666666666666666,
             "#ed7953"
            ],
            [
             0.7777777777777778,
             "#fb9f3a"
            ],
            [
             0.8888888888888888,
             "#fdca26"
            ],
            [
             1,
             "#f0f921"
            ]
           ]
          },
          "colorway": [
           "#636efa",
           "#EF553B",
           "#00cc96",
           "#ab63fa",
           "#FFA15A",
           "#19d3f3",
           "#FF6692",
           "#B6E880",
           "#FF97FF",
           "#FECB52"
          ],
          "font": {
           "color": "#2a3f5f"
          },
          "geo": {
           "bgcolor": "white",
           "lakecolor": "white",
           "landcolor": "#E5ECF6",
           "showlakes": true,
           "showland": true,
           "subunitcolor": "white"
          },
          "hoverlabel": {
           "align": "left"
          },
          "hovermode": "closest",
          "mapbox": {
           "style": "light"
          },
          "paper_bgcolor": "white",
          "plot_bgcolor": "#E5ECF6",
          "polar": {
           "angularaxis": {
            "gridcolor": "white",
            "linecolor": "white",
            "ticks": ""
           },
           "bgcolor": "#E5ECF6",
           "radialaxis": {
            "gridcolor": "white",
            "linecolor": "white",
            "ticks": ""
           }
          },
          "scene": {
           "xaxis": {
            "backgroundcolor": "#E5ECF6",
            "gridcolor": "white",
            "gridwidth": 2,
            "linecolor": "white",
            "showbackground": true,
            "ticks": "",
            "zerolinecolor": "white"
           },
           "yaxis": {
            "backgroundcolor": "#E5ECF6",
            "gridcolor": "white",
            "gridwidth": 2,
            "linecolor": "white",
            "showbackground": true,
            "ticks": "",
            "zerolinecolor": "white"
           },
           "zaxis": {
            "backgroundcolor": "#E5ECF6",
            "gridcolor": "white",
            "gridwidth": 2,
            "linecolor": "white",
            "showbackground": true,
            "ticks": "",
            "zerolinecolor": "white"
           }
          },
          "shapedefaults": {
           "line": {
            "color": "#2a3f5f"
           }
          },
          "ternary": {
           "aaxis": {
            "gridcolor": "white",
            "linecolor": "white",
            "ticks": ""
           },
           "baxis": {
            "gridcolor": "white",
            "linecolor": "white",
            "ticks": ""
           },
           "bgcolor": "#E5ECF6",
           "caxis": {
            "gridcolor": "white",
            "linecolor": "white",
            "ticks": ""
           }
          },
          "title": {
           "x": 0.05
          },
          "xaxis": {
           "automargin": true,
           "gridcolor": "white",
           "linecolor": "white",
           "ticks": "",
           "title": {
            "standoff": 15
           },
           "zerolinecolor": "white",
           "zerolinewidth": 2
          },
          "yaxis": {
           "automargin": true,
           "gridcolor": "white",
           "linecolor": "white",
           "ticks": "",
           "title": {
            "standoff": 15
           },
           "zerolinecolor": "white",
           "zerolinewidth": 2
          }
         }
        },
        "title": {
         "text": "Waypoints with Connecting Lines"
        },
        "xaxis": {
         "title": {
          "text": "X Coordinate"
         }
        },
        "yaxis": {
         "title": {
          "text": "Y Coordinate"
         }
        }
       }
      }
     },
     "metadata": {},
     "output_type": "display_data"
    }
   ],
   "source": [
    "import plotly.graph_objects as go\n",
    "\n",
    "# Create a Plotly figure\n",
    "fig = go.Figure()\n",
    "\n",
    "# Group waypoints by PathIndividual_ID\n",
    "grouped = waypoints_df.groupby(\"PathIndividual_ID\")\n",
    "\n",
    "# Add lines and markers for each path\n",
    "for name, group in grouped:\n",
    "    fig.add_trace(go.Scatter(\n",
    "        x=group[\"X\"],\n",
    "        y=group[\"Y\"],\n",
    "        mode='lines+markers',  # Draw lines and markers\n",
    "        name=f\"Path {name}\",   # Name for the legend\n",
    "        line=dict(color='blue', width=2),  # Customize line color and width\n",
    "        marker=dict(size=8, color='red'),  # Customize marker size and color\n",
    "        hoverinfo='text+x+y, generation'  # Show hover information\n",
    "    ))\n",
    "\n",
    "# Update layout\n",
    "fig.update_layout(\n",
    "    title=\"Waypoints with Connecting Lines\",\n",
    "    xaxis_title=\"X Coordinate\",\n",
    "    yaxis_title=\"Y Coordinate\",\n",
    "    showlegend=True\n",
    ")\n",
    "\n",
    "# Show the plot\n",
    "fig.show()"
   ]
  },
  {
   "cell_type": "code",
   "execution_count": 22,
   "metadata": {},
   "outputs": [
    {
     "data": {
      "application/vnd.plotly.v1+json": {
       "config": {
        "plotlyServerURL": "https://plot.ly"
       },
       "data": [
        {
         "hoverinfo": "text+x+y",
         "line": {
          "color": "blue",
          "width": 2
         },
         "marker": {
          "color": "red",
          "size": 8
         },
         "mode": "lines+markers",
         "name": "Path 0 (Gen 0, Fitness 279.9031370282173)",
         "text": "Gen 0, Path 0",
         "type": "scatter",
         "x": [
          0,
          17.965968212585164,
          17.965968212585167,
          11.051876079073661,
          13.037946419952092,
          50.75870194067969,
          100
         ],
         "y": [
          0,
          17.965968212585164,
          74.11350243671019,
          81.0275945702217,
          81.0275945702217,
          118.74835009094929,
          100
         ]
        },
        {
         "hoverinfo": "text+x+y",
         "line": {
          "color": "blue",
          "width": 2
         },
         "marker": {
          "color": "red",
          "size": 8
         },
         "mode": "lines+markers",
         "name": "Path 1 (Gen 0, Fitness 232.5190161943436)",
         "text": "Gen 0, Path 1",
         "type": "scatter",
         "x": [
          0,
          2.5386851781568315e-15,
          5.437019429865762,
          11.946730895036566,
          11.946730895036566,
          119.75176430698922,
          100
         ],
         "y": [
          0,
          41.459875286888646,
          46.8968947167544,
          46.8968947167544,
          57.14209161688794,
          100.33248611672059,
          100
         ]
        },
        {
         "hoverinfo": "text+x+y",
         "line": {
          "color": "blue",
          "width": 2
         },
         "marker": {
          "color": "red",
          "size": 8
         },
         "mode": "lines+markers",
         "name": "Path 2 (Gen 0, Fitness 245.5717843055725)",
         "text": "Gen 0, Path 2",
         "type": "scatter",
         "x": [
          0,
          233.3794239111315,
          92.59473780803415,
          88.78648537253655,
          87.65199747673113,
          431.43883519944836,
          100
         ],
         "y": [
          0,
          151.99228453673555,
          111.06091617330699,
          30.593041887536526,
          21.41028898256981,
          339.81377656540917,
          100
         ]
        },
        {
         "hoverinfo": "text+x+y",
         "line": {
          "color": "blue",
          "width": 2
         },
         "marker": {
          "color": "red",
          "size": 8
         },
         "mode": "lines+markers",
         "name": "Path 3 (Gen 0, Fitness 239.4635513782501)",
         "text": "Gen 0, Path 3",
         "type": "scatter",
         "x": [
          0,
          233.3794239111315,
          43.123215179940765,
          54.83111942525951,
          35.661542088396274,
          13.906798570951043,
          100
         ],
         "y": [
          0,
          151.99228453673555,
          27.751819237930434,
          27.751819237930434,
          46.92139657479367,
          68.67614009223891,
          100
         ]
        },
        {
         "hoverinfo": "text+x+y",
         "line": {
          "color": "blue",
          "width": 2
         },
         "marker": {
          "color": "red",
          "size": 8
         },
         "mode": "lines+markers",
         "name": "Path 4 (Gen 0, Fitness 291.2462052822113)",
         "text": "Gen 0, Path 4",
         "type": "scatter",
         "x": [
          0,
          34.93256756920008,
          92.08521025313621,
          135.02100257200715,
          371.8314786170018,
          55.789041658276304,
          100
         ],
         "y": [
          0,
          34.93256756920008,
          34.93256756920008,
          165.15897974584024,
          442.31375202069296,
          123.55012975333146,
          100
         ]
        },
        {
         "hoverinfo": "text+x+y",
         "line": {
          "color": "blue",
          "width": 2
         },
         "marker": {
          "color": "red",
          "size": 8
         },
         "mode": "lines+markers",
         "name": "Path 5 (Gen 0, Fitness 236.7178725719452)",
         "text": "Gen 0, Path 5",
         "type": "scatter",
         "x": [
          0,
          233.3794239111315,
          46.610634726572115,
          93.08850123719833,
          87.65199747673113,
          431.43883519944836,
          100
         ],
         "y": [
          0,
          151.99228453673555,
          19.34458869824305,
          62.536120297744645,
          21.41028898256981,
          339.81377656540917,
          100
         ]
        },
        {
         "hoverinfo": "text+x+y",
         "line": {
          "color": "blue",
          "width": 2
         },
         "marker": {
          "color": "red",
          "size": 8
         },
         "mode": "lines+markers",
         "name": "Path 6 (Gen 0, Fitness 206.55468807220456)",
         "text": "Gen 0, Path 6",
         "type": "scatter",
         "x": [
          0,
          39.0140306878221,
          3.9272786947774705,
          3.9272786947774727,
          3.927278694777476,
          8.207150012971278,
          100
         ],
         "y": [
          0,
          0,
          65.16630336050746,
          98.74865473828757,
          147.43692638783423,
          217.63315361393614,
          100
         ]
        },
        {
         "hoverinfo": "text+x+y",
         "line": {
          "color": "blue",
          "width": 2
         },
         "marker": {
          "color": "red",
          "size": 8
         },
         "mode": "lines+markers",
         "name": "Path 7 (Gen 0, Fitness 231.1691804170609)",
         "text": "Gen 0, Path 7",
         "type": "scatter",
         "x": [
          0,
          2.5386851781568315e-15,
          5.437019429865762,
          11.946730895036566,
          11.946730895036566,
          85.91526839286763,
          100
         ],
         "y": [
          0,
          41.459875286888646,
          46.8968947167544,
          46.8968947167544,
          57.14209161688794,
          60.524845299070165,
          100
         ]
        },
        {
         "hoverinfo": "text+x+y",
         "line": {
          "color": "blue",
          "width": 2
         },
         "marker": {
          "color": "red",
          "size": 8
         },
         "mode": "lines+markers",
         "name": "Path 8 (Gen 0, Fitness 257.62190971374514)",
         "text": "Gen 0, Path 8",
         "type": "scatter",
         "x": [
          0,
          2.5386851781568315e-15,
          -27.484313687180112,
          258.4818182140878,
          2.164082760400923,
          3.069298039657081,
          100
         ],
         "y": [
          0,
          41.459875286888646,
          97.8872027395512,
          386.9801918472952,
          143.12720007675384,
          185.29035453077935,
          100
         ]
        },
        {
         "hoverinfo": "text+x+y",
         "line": {
          "color": "blue",
          "width": 2
         },
         "marker": {
          "color": "red",
          "size": 8
         },
         "mode": "lines+markers",
         "name": "Path 9 (Gen 0, Fitness 305.9591856002808)",
         "text": "Gen 0, Path 9",
         "type": "scatter",
         "x": [
          0,
          -27.484313687180116,
          -27.484313687180112,
          258.4818182140878,
          -80.25438780632706,
          -41.252174402485664,
          100
         ],
         "y": [
          0,
          27.48431368718012,
          97.8872027395512,
          386.9801918472952,
          93.39473305248342,
          93.39473305248342,
          100
         ]
        },
        {
         "hoverinfo": "text+x+y",
         "line": {
          "color": "blue",
          "width": 2
         },
         "marker": {
          "color": "red",
          "size": 8
         },
         "mode": "lines+markers",
         "name": "Path 10 (Gen 0, Fitness 246.16100282669063)",
         "text": "Gen 0, Path 10",
         "type": "scatter",
         "x": [
          0,
          39.0140306878221,
          53.623085437994405,
          25.568310193259208,
          91.20208378935841,
          140.24099140163017,
          100
         ],
         "y": [
          0,
          0,
          14.609054750172303,
          42.6638299949075,
          42.6638299949075,
          112.75454446365211,
          100
         ]
        },
        {
         "hoverinfo": "text+x+y",
         "line": {
          "color": "blue",
          "width": 2
         },
         "marker": {
          "color": "red",
          "size": 8
         },
         "mode": "lines+markers",
         "name": "Path 11 (Gen 0, Fitness 208.15847511291503)",
         "text": "Gen 0, Path 11",
         "type": "scatter",
         "x": [
          0,
          10.786129360354058,
          251.19148706658055,
          135.02100257200715,
          371.8314786170018,
          3.069298039657081,
          100
         ],
         "y": [
          0,
          0,
          337.0356075085056,
          165.15897974584024,
          442.31375202069296,
          185.29035453077935,
          100
         ]
        },
        {
         "hoverinfo": "text+x+y",
         "line": {
          "color": "blue",
          "width": 2
         },
         "marker": {
          "color": "red",
          "size": 8
         },
         "mode": "lines+markers",
         "name": "Path 12 (Gen 0, Fitness 309.9342393875122)",
         "text": "Gen 0, Path 12",
         "type": "scatter",
         "x": [
          0,
          54.64506163669543,
          73.2613102466286,
          88.78602117940825,
          2.164082760400923,
          3.069298039657081,
          100
         ],
         "y": [
          0,
          44.622093608573735,
          60.40660223907386,
          63.85768967017003,
          143.12720007675384,
          185.29035453077935,
          100
         ]
        },
        {
         "hoverinfo": "text+x+y",
         "line": {
          "color": "blue",
          "width": 2
         },
         "marker": {
          "color": "red",
          "size": 8
         },
         "mode": "lines+markers",
         "name": "Path 13 (Gen 0, Fitness 186.4470727443695)",
         "text": "Gen 0, Path 13",
         "type": "scatter",
         "x": [
          0,
          10.786129360354058,
          251.19148706658055,
          135.02100257200715,
          371.8314786170018,
          55.789041658276304,
          100
         ],
         "y": [
          0,
          0,
          337.0356075085056,
          165.15897974584024,
          442.31375202069296,
          123.55012975333146,
          100
         ]
        },
        {
         "hoverinfo": "text+x+y",
         "line": {
          "color": "blue",
          "width": 2
         },
         "marker": {
          "color": "red",
          "size": 8
         },
         "mode": "lines+markers",
         "name": "Path 14 (Gen 0, Fitness 230.95684988498687)",
         "text": "Gen 0, Path 14",
         "type": "scatter",
         "x": [
          0,
          203.7274808403702,
          92.59473780803415,
          88.78648537253655,
          87.65199747673113,
          119.75176430698922,
          100
         ],
         "y": [
          0,
          251.96403296153687,
          111.06091617330699,
          30.593041887536526,
          21.41028898256981,
          100.33248611672059,
          100
         ]
        },
        {
         "hoverinfo": "text+x+y",
         "line": {
          "color": "blue",
          "width": 2
         },
         "marker": {
          "color": "red",
          "size": 8
         },
         "mode": "lines+markers",
         "name": "Path 15 (Gen 0, Fitness 0.0)",
         "text": "Gen 0, Path 15",
         "type": "scatter",
         "x": [
          0,
          57.69603383588185,
          71.52563338611043,
          131.67327893609962,
          131.67327893609962,
          166.0308109437717,
          100
         ],
         "y": [
          0,
          0,
          0,
          0,
          65.95618182663857,
          65.95618182663857,
          100
         ]
        },
        {
         "hoverinfo": "text+x+y",
         "line": {
          "color": "blue",
          "width": 2
         },
         "marker": {
          "color": "red",
          "size": 8
         },
         "mode": "lines+markers",
         "name": "Path 16 (Gen 1, Fitness 307.1368140459061)",
         "text": "Gen 1, Path 16",
         "type": "scatter",
         "x": [
          0,
          203.7274808403702,
          92.59473780803415,
          258.4818182140878,
          -80.25438780632706,
          -41.252174402485664,
          100
         ],
         "y": [
          0,
          251.96403296153687,
          111.06091617330699,
          386.9801918472952,
          93.39473305248342,
          93.39473305248342,
          100
         ]
        },
        {
         "hoverinfo": "text+x+y",
         "line": {
          "color": "blue",
          "width": 2
         },
         "marker": {
          "color": "red",
          "size": 8
         },
         "mode": "lines+markers",
         "name": "Path 17 (Gen 1, Fitness 235.8065065860748)",
         "text": "Gen 1, Path 17",
         "type": "scatter",
         "x": [
          0,
          233.3794239111315,
          46.610634726572115,
          93.08850123719833,
          87.65199747673113,
          85.91526839286763,
          100
         ],
         "y": [
          0,
          151.99228453673555,
          19.34458869824305,
          62.536120297744645,
          21.41028898256981,
          60.524845299070165,
          100
         ]
        },
        {
         "hoverinfo": "text+x+y",
         "line": {
          "color": "blue",
          "width": 2
         },
         "marker": {
          "color": "red",
          "size": 8
         },
         "mode": "lines+markers",
         "name": "Path 18 (Gen 1, Fitness 238.05327792167665)",
         "text": "Gen 1, Path 18",
         "type": "scatter",
         "x": [
          0,
          -27.484313687180116,
          251.19148706658055,
          135.02100257200715,
          371.8314786170018,
          55.789041658276304,
          100
         ],
         "y": [
          0,
          27.48431368718012,
          337.0356075085056,
          165.15897974584024,
          442.31375202069296,
          123.55012975333146,
          100
         ]
        },
        {
         "hoverinfo": "text+x+y",
         "line": {
          "color": "blue",
          "width": 2
         },
         "marker": {
          "color": "red",
          "size": 8
         },
         "mode": "lines+markers",
         "name": "Path 19 (Gen 1, Fitness 301.8953359603882)",
         "text": "Gen 1, Path 19",
         "type": "scatter",
         "x": [
          0,
          233.3794239111315,
          92.59473780803415,
          88.78648537253655,
          91.20208378935841,
          140.24099140163017,
          100
         ],
         "y": [
          0,
          151.99228453673555,
          111.06091617330699,
          30.593041887536526,
          42.6638299949075,
          112.75454446365211,
          100
         ]
        },
        {
         "hoverinfo": "text+x+y",
         "line": {
          "color": "blue",
          "width": 2
         },
         "marker": {
          "color": "red",
          "size": 8
         },
         "mode": "lines+markers",
         "name": "Path 20 (Gen 1, Fitness 293.51586923599245)",
         "text": "Gen 1, Path 20",
         "type": "scatter",
         "x": [
          0,
          233.3794239111315,
          92.59473780803415,
          93.08850123719833,
          87.65199747673113,
          431.43883519944836,
          100
         ],
         "y": [
          0,
          151.99228453673555,
          111.06091617330699,
          62.536120297744645,
          21.41028898256981,
          339.81377656540917,
          100
         ]
        },
        {
         "hoverinfo": "text+x+y",
         "line": {
          "color": "blue",
          "width": 2
         },
         "marker": {
          "color": "red",
          "size": 8
         },
         "mode": "lines+markers",
         "name": "Path 21 (Gen 1, Fitness 196.89621963500977)",
         "text": "Gen 1, Path 21",
         "type": "scatter",
         "x": [
          0,
          10.786129360354058,
          251.19148706658055,
          135.02100257200715,
          371.8314786170018,
          431.43883519944836,
          100
         ],
         "y": [
          0,
          0,
          337.0356075085056,
          165.15897974584024,
          442.31375202069296,
          339.81377656540917,
          100
         ]
        },
        {
         "hoverinfo": "text+x+y",
         "line": {
          "color": "blue",
          "width": 2
         },
         "marker": {
          "color": "red",
          "size": 8
         },
         "mode": "lines+markers",
         "name": "Path 22 (Gen 1, Fitness 301.9449798583984)",
         "text": "Gen 1, Path 22",
         "type": "scatter",
         "x": [
          0,
          54.64506163669543,
          73.2613102466286,
          88.78602117940825,
          2.164082760400923,
          55.789041658276304,
          100
         ],
         "y": [
          0,
          44.622093608573735,
          60.40660223907386,
          63.85768967017003,
          143.12720007675384,
          123.55012975333146,
          100
         ]
        },
        {
         "hoverinfo": "text+x+y",
         "line": {
          "color": "blue",
          "width": 2
         },
         "marker": {
          "color": "red",
          "size": 8
         },
         "mode": "lines+markers",
         "name": "Path 23 (Gen 1, Fitness 303.413845205307)",
         "text": "Gen 1, Path 23",
         "type": "scatter",
         "x": [
          0,
          233.3794239111315,
          92.59473780803415,
          88.78648537253655,
          371.8314786170018,
          55.789041658276304,
          100
         ],
         "y": [
          0,
          151.99228453673555,
          111.06091617330699,
          30.593041887536526,
          442.31375202069296,
          123.55012975333146,
          100
         ]
        },
        {
         "hoverinfo": "text+x+y",
         "line": {
          "color": "blue",
          "width": 2
         },
         "marker": {
          "color": "red",
          "size": 8
         },
         "mode": "lines+markers",
         "name": "Path 24 (Gen 1, Fitness 291.2462052822113)",
         "text": "Gen 1, Path 24",
         "type": "scatter",
         "x": [
          0,
          34.93256756920008,
          92.08521025313621,
          135.02100257200715,
          371.8314786170018,
          55.789041658276304,
          100
         ],
         "y": [
          0,
          34.93256756920008,
          34.93256756920008,
          165.15897974584024,
          442.31375202069296,
          123.55012975333146,
          100
         ]
        },
        {
         "hoverinfo": "text+x+y",
         "line": {
          "color": "blue",
          "width": 2
         },
         "marker": {
          "color": "red",
          "size": 8
         },
         "mode": "lines+markers",
         "name": "Path 25 (Gen 1, Fitness 295.76185207366944)",
         "text": "Gen 1, Path 25",
         "type": "scatter",
         "x": [
          0,
          17.965968212585164,
          17.965968212585167,
          88.78648537253655,
          87.65199747673113,
          119.75176430698922,
          100
         ],
         "y": [
          0,
          17.965968212585164,
          74.11350243671019,
          30.593041887536526,
          21.41028898256981,
          100.33248611672059,
          100
         ]
        },
        {
         "hoverinfo": "text+x+y",
         "line": {
          "color": "blue",
          "width": 2
         },
         "marker": {
          "color": "red",
          "size": 8
         },
         "mode": "lines+markers",
         "name": "Path 26 (Gen 1, Fitness 209.61505966186525)",
         "text": "Gen 1, Path 26",
         "type": "scatter",
         "x": [
          0,
          10.786129360354058,
          251.19148706658055,
          135.02100257200715,
          371.8314786170018,
          8.207150012971278,
          100
         ],
         "y": [
          0,
          0,
          337.0356075085056,
          165.15897974584024,
          442.31375202069296,
          217.63315361393614,
          100
         ]
        },
        {
         "hoverinfo": "text+x+y",
         "line": {
          "color": "blue",
          "width": 2
         },
         "marker": {
          "color": "red",
          "size": 8
         },
         "mode": "lines+markers",
         "name": "Path 27 (Gen 1, Fitness 291.69988799095154)",
         "text": "Gen 1, Path 27",
         "type": "scatter",
         "x": [
          0,
          233.3794239111315,
          92.08521025313621,
          135.02100257200715,
          371.8314786170018,
          55.789041658276304,
          100
         ],
         "y": [
          0,
          151.99228453673555,
          34.93256756920008,
          165.15897974584024,
          442.31375202069296,
          123.55012975333146,
          100
         ]
        },
        {
         "hoverinfo": "text+x+y",
         "line": {
          "color": "blue",
          "width": 2
         },
         "marker": {
          "color": "red",
          "size": 8
         },
         "mode": "lines+markers",
         "name": "Path 28 (Gen 1, Fitness 309.95795583724976)",
         "text": "Gen 1, Path 28",
         "type": "scatter",
         "x": [
          0,
          17.965968212585164,
          73.2613102466286,
          88.78602117940825,
          2.164082760400923,
          3.069298039657081,
          100
         ],
         "y": [
          0,
          17.965968212585164,
          60.40660223907386,
          63.85768967017003,
          143.12720007675384,
          185.29035453077935,
          100
         ]
        },
        {
         "hoverinfo": "text+x+y",
         "line": {
          "color": "blue",
          "width": 2
         },
         "marker": {
          "color": "red",
          "size": 8
         },
         "mode": "lines+markers",
         "name": "Path 29 (Gen 1, Fitness 279.7133568286896)",
         "text": "Gen 1, Path 29",
         "type": "scatter",
         "x": [
          0,
          39.0140306878221,
          53.623085437994405,
          93.08850123719833,
          87.65199747673113,
          431.43883519944836,
          100
         ],
         "y": [
          0,
          0,
          14.609054750172303,
          62.536120297744645,
          21.41028898256981,
          339.81377656540917,
          100
         ]
        },
        {
         "hoverinfo": "text+x+y",
         "line": {
          "color": "blue",
          "width": 2
         },
         "marker": {
          "color": "red",
          "size": 8
         },
         "mode": "lines+markers",
         "name": "Path 30 (Gen 1, Fitness 324.9569330215454)",
         "text": "Gen 1, Path 30",
         "type": "scatter",
         "x": [
          0,
          233.3794239111315,
          92.59473780803415,
          88.78648537253655,
          2.164082760400923,
          3.069298039657081,
          100
         ],
         "y": [
          0,
          151.99228453673555,
          111.06091617330699,
          30.593041887536526,
          143.12720007675384,
          185.29035453077935,
          100
         ]
        },
        {
         "hoverinfo": "text+x+y",
         "line": {
          "color": "blue",
          "width": 2
         },
         "marker": {
          "color": "red",
          "size": 8
         },
         "mode": "lines+markers",
         "name": "Path 31 (Gen 0, Fitness 0.0)",
         "text": "Gen 0, Path 31",
         "type": "scatter",
         "x": [
          0,
          57.69603383588185,
          71.52563338611043,
          131.67327893609962,
          131.67327893609962,
          166.0308109437717,
          100
         ],
         "y": [
          0,
          0,
          0,
          0,
          65.95618182663857,
          65.95618182663857,
          100
         ]
        },
        {
         "hoverinfo": "text+x+y",
         "line": {
          "color": "blue",
          "width": 2
         },
         "marker": {
          "color": "red",
          "size": 8
         },
         "mode": "lines+markers",
         "name": "Path 32 (Gen 2, Fitness 323.0697359085083)",
         "text": "Gen 2, Path 32",
         "type": "scatter",
         "x": [
          0,
          54.64506163669543,
          92.59473780803415,
          88.78648537253655,
          2.164082760400923,
          3.069298039657081,
          100
         ],
         "y": [
          0,
          44.622093608573735,
          111.06091617330699,
          30.593041887536526,
          143.12720007675384,
          185.29035453077935,
          100
         ]
        },
        {
         "hoverinfo": "text+x+y",
         "line": {
          "color": "blue",
          "width": 2
         },
         "marker": {
          "color": "red",
          "size": 8
         },
         "mode": "lines+markers",
         "name": "Path 33 (Gen 2, Fitness 244.2898440361023)",
         "text": "Gen 2, Path 33",
         "type": "scatter",
         "x": [
          0,
          17.965968212585164,
          251.19148706658055,
          135.02100257200715,
          371.8314786170018,
          431.43883519944836,
          100
         ],
         "y": [
          0,
          17.965968212585164,
          337.0356075085056,
          165.15897974584024,
          442.31375202069296,
          339.81377656540917,
          100
         ]
        },
        {
         "hoverinfo": "text+x+y",
         "line": {
          "color": "blue",
          "width": 2
         },
         "marker": {
          "color": "red",
          "size": 8
         },
         "mode": "lines+markers",
         "name": "Path 34 (Gen 2, Fitness 293.51586923599245)",
         "text": "Gen 2, Path 34",
         "type": "scatter",
         "x": [
          0,
          233.3794239111315,
          92.59473780803415,
          93.08850123719833,
          87.65199747673113,
          431.43883519944836,
          100
         ],
         "y": [
          0,
          151.99228453673555,
          111.06091617330699,
          62.536120297744645,
          21.41028898256981,
          339.81377656540917,
          100
         ]
        },
        {
         "hoverinfo": "text+x+y",
         "line": {
          "color": "blue",
          "width": 2
         },
         "marker": {
          "color": "red",
          "size": 8
         },
         "mode": "lines+markers",
         "name": "Path 35 (Gen 2, Fitness 269.6201009750366)",
         "text": "Gen 2, Path 35",
         "type": "scatter",
         "x": [
          0,
          233.3794239111315,
          251.19148706658055,
          135.02100257200715,
          371.8314786170018,
          8.207150012971278,
          100
         ],
         "y": [
          0,
          151.99228453673555,
          337.0356075085056,
          165.15897974584024,
          442.31375202069296,
          217.63315361393614,
          100
         ]
        },
        {
         "hoverinfo": "text+x+y",
         "line": {
          "color": "blue",
          "width": 2
         },
         "marker": {
          "color": "red",
          "size": 8
         },
         "mode": "lines+markers",
         "name": "Path 36 (Gen 2, Fitness 307.1368140459061)",
         "text": "Gen 2, Path 36",
         "type": "scatter",
         "x": [
          0,
          203.7274808403702,
          92.59473780803415,
          258.4818182140878,
          -80.25438780632706,
          -41.252174402485664,
          100
         ],
         "y": [
          0,
          251.96403296153687,
          111.06091617330699,
          386.9801918472952,
          93.39473305248342,
          93.39473305248342,
          100
         ]
        },
        {
         "hoverinfo": "text+x+y",
         "line": {
          "color": "blue",
          "width": 2
         },
         "marker": {
          "color": "red",
          "size": 8
         },
         "mode": "lines+markers",
         "name": "Path 37 (Gen 2, Fitness 289.25475578308107)",
         "text": "Gen 2, Path 37",
         "type": "scatter",
         "x": [
          0,
          17.965968212585164,
          73.2613102466286,
          93.08850123719833,
          87.65199747673113,
          431.43883519944836,
          100
         ],
         "y": [
          0,
          17.965968212585164,
          60.40660223907386,
          62.536120297744645,
          21.41028898256981,
          339.81377656540917,
          100
         ]
        },
        {
         "hoverinfo": "text+x+y",
         "line": {
          "color": "blue",
          "width": 2
         },
         "marker": {
          "color": "red",
          "size": 8
         },
         "mode": "lines+markers",
         "name": "Path 38 (Gen 2, Fitness 319.60913689136504)",
         "text": "Gen 2, Path 38",
         "type": "scatter",
         "x": [
          0,
          203.7274808403702,
          92.59473780803415,
          258.4818182140878,
          -80.25438780632706,
          140.24099140163017,
          100
         ],
         "y": [
          0,
          251.96403296153687,
          111.06091617330699,
          386.9801918472952,
          93.39473305248342,
          112.75454446365211,
          100
         ]
        },
        {
         "hoverinfo": "text+x+y",
         "line": {
          "color": "blue",
          "width": 2
         },
         "marker": {
          "color": "red",
          "size": 8
         },
         "mode": "lines+markers",
         "name": "Path 39 (Gen 2, Fitness 284.8084367275238)",
         "text": "Gen 2, Path 39",
         "type": "scatter",
         "x": [
          0,
          54.64506163669543,
          73.2613102466286,
          135.02100257200715,
          371.8314786170018,
          55.789041658276304,
          100
         ],
         "y": [
          0,
          44.622093608573735,
          60.40660223907386,
          165.15897974584024,
          442.31375202069296,
          123.55012975333146,
          100
         ]
        },
        {
         "hoverinfo": "text+x+y",
         "line": {
          "color": "blue",
          "width": 2
         },
         "marker": {
          "color": "red",
          "size": 8
         },
         "mode": "lines+markers",
         "name": "Path 40 (Gen 2, Fitness 277.67244696617126)",
         "text": "Gen 2, Path 40",
         "type": "scatter",
         "x": [
          0,
          17.965968212585164,
          46.610634726572115,
          93.08850123719833,
          87.65199747673113,
          85.91526839286763,
          100
         ],
         "y": [
          0,
          17.965968212585164,
          19.34458869824305,
          62.536120297744645,
          21.41028898256981,
          60.524845299070165,
          100
         ]
        },
        {
         "hoverinfo": "text+x+y",
         "line": {
          "color": "blue",
          "width": 2
         },
         "marker": {
          "color": "red",
          "size": 8
         },
         "mode": "lines+markers",
         "name": "Path 41 (Gen 2, Fitness 280.92729251384736)",
         "text": "Gen 2, Path 41",
         "type": "scatter",
         "x": [
          0,
          203.7274808403702,
          92.59473780803415,
          135.02100257200715,
          371.8314786170018,
          55.789041658276304,
          100
         ],
         "y": [
          0,
          251.96403296153687,
          111.06091617330699,
          165.15897974584024,
          442.31375202069296,
          123.55012975333146,
          100
         ]
        },
        {
         "hoverinfo": "text+x+y",
         "line": {
          "color": "blue",
          "width": 2
         },
         "marker": {
          "color": "red",
          "size": 8
         },
         "mode": "lines+markers",
         "name": "Path 42 (Gen 2, Fitness 316.96767349243163)",
         "text": "Gen 2, Path 42",
         "type": "scatter",
         "x": [
          0,
          233.3794239111315,
          92.59473780803415,
          88.78648537253655,
          2.164082760400923,
          55.789041658276304,
          100
         ],
         "y": [
          0,
          151.99228453673555,
          111.06091617330699,
          30.593041887536526,
          143.12720007675384,
          123.55012975333146,
          100
         ]
        },
        {
         "hoverinfo": "text+x+y",
         "line": {
          "color": "blue",
          "width": 2
         },
         "marker": {
          "color": "red",
          "size": 8
         },
         "mode": "lines+markers",
         "name": "Path 43 (Gen 2, Fitness 292.6045032501221)",
         "text": "Gen 2, Path 43",
         "type": "scatter",
         "x": [
          0,
          233.3794239111315,
          92.59473780803415,
          93.08850123719833,
          87.65199747673113,
          85.91526839286763,
          100
         ],
         "y": [
          0,
          151.99228453673555,
          111.06091617330699,
          62.536120297744645,
          21.41028898256981,
          60.524845299070165,
          100
         ]
        },
        {
         "hoverinfo": "text+x+y",
         "line": {
          "color": "blue",
          "width": 2
         },
         "marker": {
          "color": "red",
          "size": 8
         },
         "mode": "lines+markers",
         "name": "Path 44 (Gen 2, Fitness 283.5232194423676)",
         "text": "Gen 2, Path 44",
         "type": "scatter",
         "x": [
          0,
          233.3794239111315,
          53.623085437994405,
          93.08850123719833,
          87.65199747673113,
          431.43883519944836,
          100
         ],
         "y": [
          0,
          151.99228453673555,
          14.609054750172303,
          62.536120297744645,
          21.41028898256981,
          339.81377656540917,
          100
         ]
        },
        {
         "hoverinfo": "text+x+y",
         "line": {
          "color": "blue",
          "width": 2
         },
         "marker": {
          "color": "red",
          "size": 8
         },
         "mode": "lines+markers",
         "name": "Path 45 (Gen 2, Fitness 288.7144528865814)",
         "text": "Gen 2, Path 45",
         "type": "scatter",
         "x": [
          0,
          54.64506163669543,
          73.2613102466286,
          88.78602117940825,
          371.8314786170018,
          55.789041658276304,
          100
         ],
         "y": [
          0,
          44.622093608573735,
          60.40660223907386,
          63.85768967017003,
          442.31375202069296,
          123.55012975333146,
          100
         ]
        },
        {
         "hoverinfo": "text+x+y",
         "line": {
          "color": "blue",
          "width": 2
         },
         "marker": {
          "color": "red",
          "size": 8
         },
         "mode": "lines+markers",
         "name": "Path 46 (Gen 2, Fitness 246.8936671733856)",
         "text": "Gen 2, Path 46",
         "type": "scatter",
         "x": [
          0,
          233.3794239111315,
          46.610634726572115,
          93.08850123719833,
          87.65199747673113,
          55.789041658276304,
          100
         ],
         "y": [
          0,
          151.99228453673555,
          19.34458869824305,
          62.536120297744645,
          21.41028898256981,
          123.55012975333146,
          100
         ]
        },
        {
         "hoverinfo": "text+x+y",
         "line": {
          "color": "blue",
          "width": 2
         },
         "marker": {
          "color": "red",
          "size": 8
         },
         "mode": "lines+markers",
         "name": "Path 47 (Gen 0, Fitness 0.0)",
         "text": "Gen 0, Path 47",
         "type": "scatter",
         "x": [
          0,
          57.69603383588185,
          71.52563338611043,
          131.67327893609962,
          131.67327893609962,
          166.0308109437717,
          100
         ],
         "y": [
          0,
          0,
          0,
          0,
          65.95618182663857,
          65.95618182663857,
          100
         ]
        },
        {
         "hoverinfo": "text+x+y",
         "line": {
          "color": "blue",
          "width": 2
         },
         "marker": {
          "color": "red",
          "size": 8
         },
         "mode": "lines+markers",
         "name": "Path 48 (Gen 3, Fitness 323.4167462348938)",
         "text": "Gen 3, Path 48",
         "type": "scatter",
         "x": [
          0,
          17.965968212585164,
          92.59473780803415,
          258.4818182140878,
          -80.25438780632706,
          140.24099140163017,
          100
         ],
         "y": [
          0,
          17.965968212585164,
          111.06091617330699,
          386.9801918472952,
          93.39473305248342,
          112.75454446365211,
          100
         ]
        },
        {
         "hoverinfo": "text+x+y",
         "line": {
          "color": "blue",
          "width": 2
         },
         "marker": {
          "color": "red",
          "size": 8
         },
         "mode": "lines+markers",
         "name": "Path 49 (Gen 3, Fitness 300.7740032196045)",
         "text": "Gen 3, Path 49",
         "type": "scatter",
         "x": [
          0,
          233.3794239111315,
          92.59473780803415,
          135.02100257200715,
          371.8314786170018,
          55.789041658276304,
          100
         ],
         "y": [
          0,
          151.99228453673555,
          111.06091617330699,
          165.15897974584024,
          442.31375202069296,
          123.55012975333146,
          100
         ]
        },
        {
         "hoverinfo": "text+x+y",
         "line": {
          "color": "blue",
          "width": 2
         },
         "marker": {
          "color": "red",
          "size": 8
         },
         "mode": "lines+markers",
         "name": "Path 50 (Gen 3, Fitness 285.45281648635864)",
         "text": "Gen 3, Path 50",
         "type": "scatter",
         "x": [
          0,
          17.965968212585164,
          73.2613102466286,
          135.02100257200715,
          371.8314786170018,
          55.789041658276304,
          100
         ],
         "y": [
          0,
          17.965968212585164,
          60.40660223907386,
          165.15897974584024,
          442.31375202069296,
          123.55012975333146,
          100
         ]
        },
        {
         "hoverinfo": "text+x+y",
         "line": {
          "color": "blue",
          "width": 2
         },
         "marker": {
          "color": "red",
          "size": 8
         },
         "mode": "lines+markers",
         "name": "Path 51 (Gen 3, Fitness 335.473657989502)",
         "text": "Gen 3, Path 51",
         "type": "scatter",
         "x": [
          0,
          233.3794239111315,
          251.19148706658055,
          258.4818182140878,
          -80.25438780632706,
          140.24099140163017,
          100
         ],
         "y": [
          0,
          151.99228453673555,
          337.0356075085056,
          386.9801918472952,
          93.39473305248342,
          112.75454446365211,
          100
         ]
        },
        {
         "hoverinfo": "text+x+y",
         "line": {
          "color": "blue",
          "width": 2
         },
         "marker": {
          "color": "red",
          "size": 8
         },
         "mode": "lines+markers",
         "name": "Path 52 (Gen 3, Fitness 323.60649099349973)",
         "text": "Gen 3, Path 52",
         "type": "scatter",
         "x": [
          0,
          233.3794239111315,
          92.59473780803415,
          135.02100257200715,
          371.8314786170018,
          8.207150012971278,
          100
         ],
         "y": [
          0,
          151.99228453673555,
          111.06091617330699,
          165.15897974584024,
          442.31375202069296,
          217.63315361393614,
          100
         ]
        },
        {
         "hoverinfo": "text+x+y",
         "line": {
          "color": "blue",
          "width": 2
         },
         "marker": {
          "color": "red",
          "size": 8
         },
         "mode": "lines+markers",
         "name": "Path 53 (Gen 3, Fitness 294.3169593811035)",
         "text": "Gen 3, Path 53",
         "type": "scatter",
         "x": [
          0,
          233.3794239111315,
          92.59473780803415,
          93.08850123719833,
          87.65199747673113,
          85.91526839286763,
          100
         ],
         "y": [
          0,
          151.99228453673555,
          111.06091617330699,
          62.536120297744645,
          21.41028898256981,
          60.524845299070165,
          100
         ]
        },
        {
         "hoverinfo": "text+x+y",
         "line": {
          "color": "blue",
          "width": 2
         },
         "marker": {
          "color": "red",
          "size": 8
         },
         "mode": "lines+markers",
         "name": "Path 54 (Gen 3, Fitness 309.84420850276945)",
         "text": "Gen 3, Path 54",
         "type": "scatter",
         "x": [
          0,
          203.7274808403702,
          92.59473780803415,
          88.78648537253655,
          2.164082760400923,
          3.069298039657081,
          100
         ],
         "y": [
          0,
          251.96403296153687,
          111.06091617330699,
          30.593041887536526,
          143.12720007675384,
          185.29035453077935,
          100
         ]
        },
        {
         "hoverinfo": "text+x+y",
         "line": {
          "color": "blue",
          "width": 2
         },
         "marker": {
          "color": "red",
          "size": 8
         },
         "mode": "lines+markers",
         "name": "Path 55 (Gen 3, Fitness 309.6648887395859)",
         "text": "Gen 3, Path 55",
         "type": "scatter",
         "x": [
          0,
          203.7274808403702,
          92.59473780803415,
          258.4818182140878,
          -80.25438780632706,
          55.789041658276304,
          100
         ],
         "y": [
          0,
          251.96403296153687,
          111.06091617330699,
          386.9801918472952,
          93.39473305248342,
          123.55012975333146,
          100
         ]
        },
        {
         "hoverinfo": "text+x+y",
         "line": {
          "color": "blue",
          "width": 2
         },
         "marker": {
          "color": "red",
          "size": 8
         },
         "mode": "lines+markers",
         "name": "Path 56 (Gen 3, Fitness 277.1011192083359)",
         "text": "Gen 3, Path 56",
         "type": "scatter",
         "x": [
          0,
          203.7274808403702,
          92.59473780803415,
          93.08850123719833,
          87.65199747673113,
          85.91526839286763,
          100
         ],
         "y": [
          0,
          251.96403296153687,
          111.06091617330699,
          62.536120297744645,
          21.41028898256981,
          60.524845299070165,
          100
         ]
        },
        {
         "hoverinfo": "text+x+y",
         "line": {
          "color": "blue",
          "width": 2
         },
         "marker": {
          "color": "red",
          "size": 8
         },
         "mode": "lines+markers",
         "name": "Path 57 (Gen 3, Fitness 286.8742889881134)",
         "text": "Gen 3, Path 57",
         "type": "scatter",
         "x": [
          0,
          233.3794239111315,
          46.610634726572115,
          93.08850123719833,
          87.65199747673113,
          85.91526839286763,
          100
         ],
         "y": [
          0,
          151.99228453673555,
          19.34458869824305,
          62.536120297744645,
          21.41028898256981,
          60.524845299070165,
          100
         ]
        },
        {
         "hoverinfo": "text+x+y",
         "line": {
          "color": "blue",
          "width": 2
         },
         "marker": {
          "color": "red",
          "size": 8
         },
         "mode": "lines+markers",
         "name": "Path 58 (Gen 3, Fitness 299.12314119338987)",
         "text": "Gen 3, Path 58",
         "type": "scatter",
         "x": [
          0,
          54.64506163669543,
          92.59473780803415,
          88.78648537253655,
          371.8314786170018,
          55.789041658276304,
          100
         ],
         "y": [
          0,
          44.622093608573735,
          111.06091617330699,
          30.593041887536526,
          442.31375202069296,
          123.55012975333146,
          100
         ]
        },
        {
         "hoverinfo": "text+x+y",
         "line": {
          "color": "blue",
          "width": 2
         },
         "marker": {
          "color": "red",
          "size": 8
         },
         "mode": "lines+markers",
         "name": "Path 59 (Gen 3, Fitness 294.5453013420105)",
         "text": "Gen 3, Path 59",
         "type": "scatter",
         "x": [
          0,
          54.64506163669543,
          73.2613102466286,
          135.02100257200715,
          371.8314786170018,
          431.43883519944836,
          100
         ],
         "y": [
          0,
          44.622093608573735,
          60.40660223907386,
          165.15897974584024,
          442.31375202069296,
          339.81377656540917,
          100
         ]
        },
        {
         "hoverinfo": "text+x+y",
         "line": {
          "color": "blue",
          "width": 2
         },
         "marker": {
          "color": "red",
          "size": 8
         },
         "mode": "lines+markers",
         "name": "Path 60 (Gen 3, Fitness 286.9500277042389)",
         "text": "Gen 3, Path 60",
         "type": "scatter",
         "x": [
          0,
          233.3794239111315,
          53.623085437994405,
          93.08850123719833,
          87.65199747673113,
          431.43883519944836,
          100
         ],
         "y": [
          0,
          151.99228453673555,
          14.609054750172303,
          62.536120297744645,
          21.41028898256981,
          339.81377656540917,
          100
         ]
        },
        {
         "hoverinfo": "text+x+y",
         "line": {
          "color": "blue",
          "width": 2
         },
         "marker": {
          "color": "red",
          "size": 8
         },
         "mode": "lines+markers",
         "name": "Path 61 (Gen 3, Fitness 278.01248519420625)",
         "text": "Gen 3, Path 61",
         "type": "scatter",
         "x": [
          0,
          203.7274808403702,
          92.59473780803415,
          93.08850123719833,
          87.65199747673113,
          431.43883519944836,
          100
         ],
         "y": [
          0,
          251.96403296153687,
          111.06091617330699,
          62.536120297744645,
          21.41028898256981,
          339.81377656540917,
          100
         ]
        },
        {
         "hoverinfo": "text+x+y",
         "line": {
          "color": "blue",
          "width": 2
         },
         "marker": {
          "color": "red",
          "size": 8
         },
         "mode": "lines+markers",
         "name": "Path 62 (Gen 3, Fitness 293.61121253967286)",
         "text": "Gen 3, Path 62",
         "type": "scatter",
         "x": [
          0,
          17.965968212585164,
          251.19148706658055,
          135.02100257200715,
          371.8314786170018,
          431.43883519944836,
          100
         ],
         "y": [
          0,
          17.965968212585164,
          337.0356075085056,
          165.15897974584024,
          442.31375202069296,
          339.81377656540917,
          100
         ]
        },
        {
         "hoverinfo": "text+x+y",
         "line": {
          "color": "blue",
          "width": 2
         },
         "marker": {
          "color": "red",
          "size": 8
         },
         "mode": "lines+markers",
         "name": "Path 63 (Gen 0, Fitness 0.0)",
         "text": "Gen 0, Path 63",
         "type": "scatter",
         "x": [
          0,
          57.69603383588185,
          71.52563338611043,
          131.67327893609962,
          131.67327893609962,
          166.0308109437717,
          100
         ],
         "y": [
          0,
          0,
          0,
          0,
          65.95618182663857,
          65.95618182663857,
          100
         ]
        },
        {
         "hoverinfo": "text+x+y",
         "line": {
          "color": "blue",
          "width": 2
         },
         "marker": {
          "color": "red",
          "size": 8
         },
         "mode": "lines+markers",
         "name": "Path 64 (Gen 4, Fitness 321.1107038021088)",
         "text": "Gen 4, Path 64",
         "type": "scatter",
         "x": [
          0,
          233.3794239111315,
          46.610634726572115,
          93.08850123719833,
          87.65199747673113,
          8.207150012971278,
          100
         ],
         "y": [
          0,
          151.99228453673555,
          19.34458869824305,
          62.536120297744645,
          21.41028898256981,
          217.63315361393614,
          100
         ]
        },
        {
         "hoverinfo": "text+x+y",
         "line": {
          "color": "blue",
          "width": 2
         },
         "marker": {
          "color": "red",
          "size": 8
         },
         "mode": "lines+markers",
         "name": "Path 65 (Gen 4, Fitness 320.7828902959824)",
         "text": "Gen 4, Path 65",
         "type": "scatter",
         "x": [
          0,
          203.7274808403702,
          92.59473780803415,
          258.4818182140878,
          -80.25438780632706,
          140.24099140163017,
          100
         ],
         "y": [
          0,
          251.96403296153687,
          111.06091617330699,
          386.9801918472952,
          93.39473305248342,
          112.75454446365211,
          100
         ]
        },
        {
         "hoverinfo": "text+x+y",
         "line": {
          "color": "blue",
          "width": 2
         },
         "marker": {
          "color": "red",
          "size": 8
         },
         "mode": "lines+markers",
         "name": "Path 66 (Gen 4, Fitness 287.7856549739837)",
         "text": "Gen 4, Path 66",
         "type": "scatter",
         "x": [
          0,
          233.3794239111315,
          46.610634726572115,
          93.08850123719833,
          87.65199747673113,
          431.43883519944836,
          100
         ],
         "y": [
          0,
          151.99228453673555,
          19.34458869824305,
          62.536120297744645,
          21.41028898256981,
          339.81377656540917,
          100
         ]
        },
        {
         "hoverinfo": "text+x+y",
         "line": {
          "color": "blue",
          "width": 2
         },
         "marker": {
          "color": "red",
          "size": 8
         },
         "mode": "lines+markers",
         "name": "Path 67 (Gen 4, Fitness 316.94980669021606)",
         "text": "Gen 4, Path 67",
         "type": "scatter",
         "x": [
          0,
          54.64506163669543,
          92.59473780803415,
          135.02100257200715,
          371.8314786170018,
          8.207150012971278,
          100
         ],
         "y": [
          0,
          44.622093608573735,
          111.06091617330699,
          165.15897974584024,
          442.31375202069296,
          217.63315361393614,
          100
         ]
        },
        {
         "hoverinfo": "text+x+y",
         "line": {
          "color": "blue",
          "width": 2
         },
         "marker": {
          "color": "red",
          "size": 8
         },
         "mode": "lines+markers",
         "name": "Path 68 (Gen 4, Fitness 292.6443313360214)",
         "text": "Gen 4, Path 68",
         "type": "scatter",
         "x": [
          0,
          203.7274808403702,
          251.19148706658055,
          135.02100257200715,
          371.8314786170018,
          431.43883519944836,
          100
         ],
         "y": [
          0,
          251.96403296153687,
          337.0356075085056,
          165.15897974584024,
          442.31375202069296,
          339.81377656540917,
          100
         ]
        },
        {
         "hoverinfo": "text+x+y",
         "line": {
          "color": "blue",
          "width": 2
         },
         "marker": {
          "color": "red",
          "size": 8
         },
         "mode": "lines+markers",
         "name": "Path 69 (Gen 4, Fitness 337.99873046875)",
         "text": "Gen 4, Path 69",
         "type": "scatter",
         "x": [
          0,
          233.3794239111315,
          92.59473780803415,
          258.4818182140878,
          -80.25438780632706,
          140.24099140163017,
          100
         ],
         "y": [
          0,
          151.99228453673555,
          111.06091617330699,
          386.9801918472952,
          93.39473305248342,
          112.75454446365211,
          100
         ]
        },
        {
         "hoverinfo": "text+x+y",
         "line": {
          "color": "blue",
          "width": 2
         },
         "marker": {
          "color": "red",
          "size": 8
         },
         "mode": "lines+markers",
         "name": "Path 70 (Gen 4, Fitness 309.8902045249939)",
         "text": "Gen 4, Path 70",
         "type": "scatter",
         "x": [
          0,
          233.3794239111315,
          92.59473780803415,
          135.02100257200715,
          371.8314786170018,
          431.43883519944836,
          100
         ],
         "y": [
          0,
          151.99228453673555,
          111.06091617330699,
          165.15897974584024,
          442.31375202069296,
          339.81377656540917,
          100
         ]
        },
        {
         "hoverinfo": "text+x+y",
         "line": {
          "color": "blue",
          "width": 2
         },
         "marker": {
          "color": "red",
          "size": 8
         },
         "mode": "lines+markers",
         "name": "Path 71 (Gen 4, Fitness 295.7939352989197)",
         "text": "Gen 4, Path 71",
         "type": "scatter",
         "x": [
          0,
          54.64506163669543,
          73.2613102466286,
          135.02100257200715,
          371.8314786170018,
          140.24099140163017,
          100
         ],
         "y": [
          0,
          44.622093608573735,
          60.40660223907386,
          165.15897974584024,
          442.31375202069296,
          112.75454446365211,
          100
         ]
        },
        {
         "hoverinfo": "text+x+y",
         "line": {
          "color": "blue",
          "width": 2
         },
         "marker": {
          "color": "red",
          "size": 8
         },
         "mode": "lines+markers",
         "name": "Path 72 (Gen 4, Fitness 292.6443313360214)",
         "text": "Gen 4, Path 72",
         "type": "scatter",
         "x": [
          0,
          203.7274808403702,
          251.19148706658055,
          135.02100257200715,
          371.8314786170018,
          431.43883519944836,
          100
         ],
         "y": [
          0,
          251.96403296153687,
          337.0356075085056,
          165.15897974584024,
          442.31375202069296,
          339.81377656540917,
          100
         ]
        },
        {
         "hoverinfo": "text+x+y",
         "line": {
          "color": "blue",
          "width": 2
         },
         "marker": {
          "color": "red",
          "size": 8
         },
         "mode": "lines+markers",
         "name": "Path 73 (Gen 4, Fitness 316.69809617996214)",
         "text": "Gen 4, Path 73",
         "type": "scatter",
         "x": [
          0,
          17.965968212585164,
          92.59473780803415,
          258.4818182140878,
          -80.25438780632706,
          85.91526839286763,
          100
         ],
         "y": [
          0,
          17.965968212585164,
          111.06091617330699,
          386.9801918472952,
          93.39473305248342,
          60.524845299070165,
          100
         ]
        },
        {
         "hoverinfo": "text+x+y",
         "line": {
          "color": "blue",
          "width": 2
         },
         "marker": {
          "color": "red",
          "size": 8
         },
         "mode": "lines+markers",
         "name": "Path 74 (Gen 4, Fitness 309.84420850276945)",
         "text": "Gen 4, Path 74",
         "type": "scatter",
         "x": [
          0,
          203.7274808403702,
          92.59473780803415,
          88.78648537253655,
          2.164082760400923,
          3.069298039657081,
          100
         ],
         "y": [
          0,
          251.96403296153687,
          111.06091617330699,
          30.593041887536526,
          143.12720007675384,
          185.29035453077935,
          100
         ]
        },
        {
         "hoverinfo": "text+x+y",
         "line": {
          "color": "blue",
          "width": 2
         },
         "marker": {
          "color": "red",
          "size": 8
         },
         "mode": "lines+markers",
         "name": "Path 75 (Gen 4, Fitness 278.01248519420625)",
         "text": "Gen 4, Path 75",
         "type": "scatter",
         "x": [
          0,
          203.7274808403702,
          92.59473780803415,
          93.08850123719833,
          87.65199747673113,
          431.43883519944836,
          100
         ],
         "y": [
          0,
          251.96403296153687,
          111.06091617330699,
          62.536120297744645,
          21.41028898256981,
          339.81377656540917,
          100
         ]
        },
        {
         "hoverinfo": "text+x+y",
         "line": {
          "color": "blue",
          "width": 2
         },
         "marker": {
          "color": "red",
          "size": 8
         },
         "mode": "lines+markers",
         "name": "Path 76 (Gen 4, Fitness 293.61121253967286)",
         "text": "Gen 4, Path 76",
         "type": "scatter",
         "x": [
          0,
          17.965968212585164,
          251.19148706658055,
          135.02100257200715,
          371.8314786170018,
          431.43883519944836,
          100
         ],
         "y": [
          0,
          17.965968212585164,
          337.0356075085056,
          165.15897974584024,
          442.31375202069296,
          339.81377656540917,
          100
         ]
        },
        {
         "hoverinfo": "text+x+y",
         "line": {
          "color": "blue",
          "width": 2
         },
         "marker": {
          "color": "red",
          "size": 8
         },
         "mode": "lines+markers",
         "name": "Path 77 (Gen 4, Fitness 286.9500277042389)",
         "text": "Gen 4, Path 77",
         "type": "scatter",
         "x": [
          0,
          233.3794239111315,
          53.623085437994405,
          93.08850123719833,
          87.65199747673113,
          431.43883519944836,
          100
         ],
         "y": [
          0,
          151.99228453673555,
          14.609054750172303,
          62.536120297744645,
          21.41028898256981,
          339.81377656540917,
          100
         ]
        },
        {
         "hoverinfo": "text+x+y",
         "line": {
          "color": "blue",
          "width": 2
         },
         "marker": {
          "color": "red",
          "size": 8
         },
         "mode": "lines+markers",
         "name": "Path 78 (Gen 4, Fitness 331.19984245300293)",
         "text": "Gen 4, Path 78",
         "type": "scatter",
         "x": [
          0,
          233.3794239111315,
          251.19148706658055,
          258.4818182140878,
          87.65199747673113,
          431.43883519944836,
          100
         ],
         "y": [
          0,
          151.99228453673555,
          337.0356075085056,
          386.9801918472952,
          21.41028898256981,
          339.81377656540917,
          100
         ]
        },
        {
         "hoverinfo": "text+x+y",
         "line": {
          "color": "blue",
          "width": 2
         },
         "marker": {
          "color": "red",
          "size": 8
         },
         "mode": "lines+markers",
         "name": "Path 79 (Gen 0, Fitness 0.0)",
         "text": "Gen 0, Path 79",
         "type": "scatter",
         "x": [
          0,
          57.69603383588185,
          71.52563338611043,
          131.67327893609962,
          131.67327893609962,
          166.0308109437717,
          100
         ],
         "y": [
          0,
          0,
          0,
          0,
          65.95618182663857,
          65.95618182663857,
          100
         ]
        },
        {
         "hoverinfo": "text+x+y",
         "line": {
          "color": "blue",
          "width": 2
         },
         "marker": {
          "color": "red",
          "size": 8
         },
         "mode": "lines+markers",
         "name": "Path 80 (Gen 5, Fitness 315.4914826393127)",
         "text": "Gen 5, Path 80",
         "type": "scatter",
         "x": [
          0,
          17.965968212585164,
          251.19148706658055,
          258.4818182140878,
          87.65199747673113,
          431.43883519944836,
          100
         ],
         "y": [
          0,
          17.965968212585164,
          337.0356075085056,
          386.9801918472952,
          21.41028898256981,
          339.81377656540917,
          100
         ]
        },
        {
         "hoverinfo": "text+x+y",
         "line": {
          "color": "blue",
          "width": 2
         },
         "marker": {
          "color": "red",
          "size": 8
         },
         "mode": "lines+markers",
         "name": "Path 81 (Gen 5, Fitness 309.8902045249939)",
         "text": "Gen 5, Path 81",
         "type": "scatter",
         "x": [
          0,
          233.3794239111315,
          92.59473780803415,
          135.02100257200715,
          371.8314786170018,
          431.43883519944836,
          100
         ],
         "y": [
          0,
          151.99228453673555,
          111.06091617330699,
          165.15897974584024,
          442.31375202069296,
          339.81377656540917,
          100
         ]
        },
        {
         "hoverinfo": "text+x+y",
         "line": {
          "color": "blue",
          "width": 2
         },
         "marker": {
          "color": "red",
          "size": 8
         },
         "mode": "lines+markers",
         "name": "Path 82 (Gen 5, Fitness 278.01248519420625)",
         "text": "Gen 5, Path 82",
         "type": "scatter",
         "x": [
          0,
          203.7274808403702,
          92.59473780803415,
          93.08850123719833,
          87.65199747673113,
          431.43883519944836,
          100
         ],
         "y": [
          0,
          251.96403296153687,
          111.06091617330699,
          62.536120297744645,
          21.41028898256981,
          339.81377656540917,
          100
         ]
        },
        {
         "hoverinfo": "text+x+y",
         "line": {
          "color": "blue",
          "width": 2
         },
         "marker": {
          "color": "red",
          "size": 8
         },
         "mode": "lines+markers",
         "name": "Path 83 (Gen 5, Fitness 315.73407592773435)",
         "text": "Gen 5, Path 83",
         "type": "scatter",
         "x": [
          0,
          233.3794239111315,
          251.19148706658055,
          135.02100257200715,
          371.8314786170018,
          431.43883519944836,
          100
         ],
         "y": [
          0,
          151.99228453673555,
          337.0356075085056,
          165.15897974584024,
          442.31375202069296,
          339.81377656540917,
          100
         ]
        },
        {
         "hoverinfo": "text+x+y",
         "line": {
          "color": "blue",
          "width": 2
         },
         "marker": {
          "color": "red",
          "size": 8
         },
         "mode": "lines+markers",
         "name": "Path 84 (Gen 5, Fitness 332.2562397003174)",
         "text": "Gen 5, Path 84",
         "type": "scatter",
         "x": [
          0,
          233.3794239111315,
          251.19148706658055,
          258.4818182140878,
          -80.25438780632706,
          85.91526839286763,
          100
         ],
         "y": [
          0,
          151.99228453673555,
          337.0356075085056,
          386.9801918472952,
          93.39473305248342,
          60.524845299070165,
          100
         ]
        },
        {
         "hoverinfo": "text+x+y",
         "line": {
          "color": "blue",
          "width": 2
         },
         "marker": {
          "color": "red",
          "size": 8
         },
         "mode": "lines+markers",
         "name": "Path 85 (Gen 5, Fitness 301.1393790960312)",
         "text": "Gen 5, Path 85",
         "type": "scatter",
         "x": [
          0,
          203.7274808403702,
          92.59473780803415,
          135.02100257200715,
          371.8314786170018,
          431.43883519944836,
          100
         ],
         "y": [
          0,
          251.96403296153687,
          111.06091617330699,
          165.15897974584024,
          442.31375202069296,
          339.81377656540917,
          100
         ]
        },
        {
         "hoverinfo": "text+x+y",
         "line": {
          "color": "blue",
          "width": 2
         },
         "marker": {
          "color": "red",
          "size": 8
         },
         "mode": "lines+markers",
         "name": "Path 86 (Gen 5, Fitness 338.6390525817871)",
         "text": "Gen 5, Path 86",
         "type": "scatter",
         "x": [
          0,
          233.3794239111315,
          92.59473780803415,
          258.4818182140878,
          -80.25438780632706,
          85.91526839286763,
          100
         ],
         "y": [
          0,
          151.99228453673555,
          111.06091617330699,
          386.9801918472952,
          93.39473305248342,
          60.524845299070165,
          100
         ]
        },
        {
         "hoverinfo": "text+x+y",
         "line": {
          "color": "blue",
          "width": 2
         },
         "marker": {
          "color": "red",
          "size": 8
         },
         "mode": "lines+markers",
         "name": "Path 87 (Gen 5, Fitness 300.83623654842376)",
         "text": "Gen 5, Path 87",
         "type": "scatter",
         "x": [
          0,
          203.7274808403702,
          92.59473780803415,
          88.78648537253655,
          371.8314786170018,
          431.43883519944836,
          100
         ],
         "y": [
          0,
          251.96403296153687,
          111.06091617330699,
          30.593041887536526,
          442.31375202069296,
          339.81377656540917,
          100
         ]
        },
        {
         "hoverinfo": "text+x+y",
         "line": {
          "color": "blue",
          "width": 2
         },
         "marker": {
          "color": "red",
          "size": 8
         },
         "mode": "lines+markers",
         "name": "Path 88 (Gen 5, Fitness 322.9127000808716)",
         "text": "Gen 5, Path 88",
         "type": "scatter",
         "x": [
          0,
          233.3794239111315,
          92.59473780803415,
          135.02100257200715,
          371.8314786170018,
          140.24099140163017,
          100
         ],
         "y": [
          0,
          151.99228453673555,
          111.06091617330699,
          165.15897974584024,
          442.31375202069296,
          112.75454446365211,
          100
         ]
        },
        {
         "hoverinfo": "text+x+y",
         "line": {
          "color": "blue",
          "width": 2
         },
         "marker": {
          "color": "red",
          "size": 8
         },
         "mode": "lines+markers",
         "name": "Path 89 (Gen 5, Fitness 300.25977554321287)",
         "text": "Gen 5, Path 89",
         "type": "scatter",
         "x": [
          0,
          54.64506163669543,
          73.2613102466286,
          135.02100257200715,
          371.8314786170018,
          140.24099140163017,
          100
         ],
         "y": [
          0,
          44.622093608573735,
          60.40660223907386,
          165.15897974584024,
          442.31375202069296,
          112.75454446365211,
          100
         ]
        },
        {
         "hoverinfo": "text+x+y",
         "line": {
          "color": "blue",
          "width": 2
         },
         "marker": {
          "color": "red",
          "size": 8
         },
         "mode": "lines+markers",
         "name": "Path 90 (Gen 5, Fitness 366.9471088409424)",
         "text": "Gen 5, Path 90",
         "type": "scatter",
         "x": [
          0,
          233.3794239111315,
          251.19148706658055,
          258.4818182140878,
          87.65199747673113,
          8.207150012971278,
          100
         ],
         "y": [
          0,
          151.99228453673555,
          337.0356075085056,
          386.9801918472952,
          21.41028898256981,
          217.63315361393614,
          100
         ]
        },
        {
         "hoverinfo": "text+x+y",
         "line": {
          "color": "blue",
          "width": 2
         },
         "marker": {
          "color": "red",
          "size": 8
         },
         "mode": "lines+markers",
         "name": "Path 91 (Gen 5, Fitness 328.0634717941284)",
         "text": "Gen 5, Path 91",
         "type": "scatter",
         "x": [
          0,
          54.64506163669543,
          92.59473780803415,
          135.02100257200715,
          371.8314786170018,
          8.207150012971278,
          100
         ],
         "y": [
          0,
          44.622093608573735,
          111.06091617330699,
          165.15897974584024,
          442.31375202069296,
          217.63315361393614,
          100
         ]
        },
        {
         "hoverinfo": "text+x+y",
         "line": {
          "color": "blue",
          "width": 2
         },
         "marker": {
          "color": "red",
          "size": 8
         },
         "mode": "lines+markers",
         "name": "Path 92 (Gen 5, Fitness 316.07930011749266)",
         "text": "Gen 5, Path 92",
         "type": "scatter",
         "x": [
          0,
          54.64506163669543,
          92.59473780803415,
          135.02100257200715,
          371.8314786170018,
          85.91526839286763,
          100
         ],
         "y": [
          0,
          44.622093608573735,
          111.06091617330699,
          165.15897974584024,
          442.31375202069296,
          60.524845299070165,
          100
         ]
        },
        {
         "hoverinfo": "text+x+y",
         "line": {
          "color": "blue",
          "width": 2
         },
         "marker": {
          "color": "red",
          "size": 8
         },
         "mode": "lines+markers",
         "name": "Path 93 (Gen 5, Fitness 305.1326500892639)",
         "text": "Gen 5, Path 93",
         "type": "scatter",
         "x": [
          0,
          17.965968212585164,
          251.19148706658055,
          135.02100257200715,
          371.8314786170018,
          431.43883519944836,
          100
         ],
         "y": [
          0,
          17.965968212585164,
          337.0356075085056,
          165.15897974584024,
          442.31375202069296,
          339.81377656540917,
          100
         ]
        },
        {
         "hoverinfo": "text+x+y",
         "line": {
          "color": "blue",
          "width": 2
         },
         "marker": {
          "color": "red",
          "size": 8
         },
         "mode": "lines+markers",
         "name": "Path 94 (Gen 5, Fitness 304.8647173643112)",
         "text": "Gen 5, Path 94",
         "type": "scatter",
         "x": [
          0,
          203.7274808403702,
          251.19148706658055,
          135.02100257200715,
          371.8314786170018,
          431.43883519944836,
          100
         ],
         "y": [
          0,
          251.96403296153687,
          337.0356075085056,
          165.15897974584024,
          442.31375202069296,
          339.81377656540917,
          100
         ]
        },
        {
         "hoverinfo": "text+x+y",
         "line": {
          "color": "blue",
          "width": 2
         },
         "marker": {
          "color": "red",
          "size": 8
         },
         "mode": "lines+markers",
         "name": "Path 95 (Gen 0, Fitness 0.0)",
         "text": "Gen 0, Path 95",
         "type": "scatter",
         "x": [
          0,
          57.69603383588185,
          71.52563338611043,
          131.67327893609962,
          131.67327893609962,
          166.0308109437717,
          100
         ],
         "y": [
          0,
          0,
          0,
          0,
          65.95618182663857,
          65.95618182663857,
          100
         ]
        },
        {
         "hoverinfo": "text+x+y",
         "line": {
          "color": "blue",
          "width": 2
         },
         "marker": {
          "color": "red",
          "size": 8
         },
         "mode": "lines+markers",
         "name": "Path 96 (Gen 6, Fitness 326.2895322799683)",
         "text": "Gen 6, Path 96",
         "type": "scatter",
         "x": [
          0,
          233.3794239111315,
          92.59473780803415,
          88.78648537253655,
          371.8314786170018,
          431.43883519944836,
          100
         ],
         "y": [
          0,
          151.99228453673555,
          111.06091617330699,
          30.593041887536526,
          442.31375202069296,
          339.81377656540917,
          100
         ]
        },
        {
         "hoverinfo": "text+x+y",
         "line": {
          "color": "blue",
          "width": 2
         },
         "marker": {
          "color": "red",
          "size": 8
         },
         "mode": "lines+markers",
         "name": "Path 97 (Gen 6, Fitness 305.1326500892639)",
         "text": "Gen 6, Path 97",
         "type": "scatter",
         "x": [
          0,
          17.965968212585164,
          251.19148706658055,
          135.02100257200715,
          371.8314786170018,
          431.43883519944836,
          100
         ],
         "y": [
          0,
          17.965968212585164,
          337.0356075085056,
          165.15897974584024,
          442.31375202069296,
          339.81377656540917,
          100
         ]
        },
        {
         "hoverinfo": "text+x+y",
         "line": {
          "color": "blue",
          "width": 2
         },
         "marker": {
          "color": "red",
          "size": 8
         },
         "mode": "lines+markers",
         "name": "Path 98 (Gen 6, Fitness 315.08920707702634)",
         "text": "Gen 6, Path 98",
         "type": "scatter",
         "x": [
          0,
          54.64506163669543,
          92.59473780803415,
          135.02100257200715,
          371.8314786170018,
          431.43883519944836,
          100
         ],
         "y": [
          0,
          44.622093608573735,
          111.06091617330699,
          165.15897974584024,
          442.31375202069296,
          339.81377656540917,
          100
         ]
        },
        {
         "hoverinfo": "text+x+y",
         "line": {
          "color": "blue",
          "width": 2
         },
         "marker": {
          "color": "red",
          "size": 8
         },
         "mode": "lines+markers",
         "name": "Path 99 (Gen 6, Fitness 310.6045278549194)",
         "text": "Gen 6, Path 99",
         "type": "scatter",
         "x": [
          0,
          54.64506163669543,
          92.59473780803415,
          135.02100257200715,
          371.8314786170018,
          140.24099140163017,
          100
         ],
         "y": [
          0,
          44.622093608573735,
          111.06091617330699,
          165.15897974584024,
          442.31375202069296,
          112.75454446365211,
          100
         ]
        },
        {
         "hoverinfo": "text+x+y",
         "line": {
          "color": "blue",
          "width": 2
         },
         "marker": {
          "color": "red",
          "size": 8
         },
         "mode": "lines+markers",
         "name": "Path 100 (Gen 6, Fitness 336.65751323699953)",
         "text": "Gen 6, Path 100",
         "type": "scatter",
         "x": [
          0,
          233.3794239111315,
          251.19148706658055,
          258.4818182140878,
          87.65199747673113,
          431.43883519944836,
          100
         ],
         "y": [
          0,
          151.99228453673555,
          337.0356075085056,
          386.9801918472952,
          21.41028898256981,
          339.81377656540917,
          100
         ]
        },
        {
         "hoverinfo": "text+x+y",
         "line": {
          "color": "blue",
          "width": 2
         },
         "marker": {
          "color": "red",
          "size": 8
         },
         "mode": "lines+markers",
         "name": "Path 101 (Gen 6, Fitness 337.66117839813234)",
         "text": "Gen 6, Path 101",
         "type": "scatter",
         "x": [
          0,
          233.3794239111315,
          251.19148706658055,
          258.4818182140878,
          -80.25438780632706,
          431.43883519944836,
          100
         ],
         "y": [
          0,
          151.99228453673555,
          337.0356075085056,
          386.9801918472952,
          93.39473305248342,
          339.81377656540917,
          100
         ]
        },
        {
         "hoverinfo": "text+x+y",
         "line": {
          "color": "blue",
          "width": 2
         },
         "marker": {
          "color": "red",
          "size": 8
         },
         "mode": "lines+markers",
         "name": "Path 102 (Gen 6, Fitness 281.4050424337387)",
         "text": "Gen 6, Path 102",
         "type": "scatter",
         "x": [
          0,
          203.7274808403702,
          92.59473780803415,
          93.08850123719833,
          87.65199747673113,
          431.43883519944836,
          100
         ],
         "y": [
          0,
          251.96403296153687,
          111.06091617330699,
          62.536120297744645,
          21.41028898256981,
          339.81377656540917,
          100
         ]
        },
        {
         "hoverinfo": "text+x+y",
         "line": {
          "color": "blue",
          "width": 2
         },
         "marker": {
          "color": "red",
          "size": 8
         },
         "mode": "lines+markers",
         "name": "Path 103 (Gen 6, Fitness 300.3331064939499)",
         "text": "Gen 6, Path 103",
         "type": "scatter",
         "x": [
          0,
          203.7274808403702,
          92.59473780803415,
          135.02100257200715,
          371.8314786170018,
          140.24099140163017,
          100
         ],
         "y": [
          0,
          251.96403296153687,
          111.06091617330699,
          165.15897974584024,
          442.31375202069296,
          112.75454446365211,
          100
         ]
        },
        {
         "hoverinfo": "text+x+y",
         "line": {
          "color": "blue",
          "width": 2
         },
         "marker": {
          "color": "red",
          "size": 8
         },
         "mode": "lines+markers",
         "name": "Path 104 (Gen 6, Fitness 319.931876373291)",
         "text": "Gen 6, Path 104",
         "type": "scatter",
         "x": [
          0,
          233.3794239111315,
          251.19148706658055,
          135.02100257200715,
          371.8314786170018,
          431.43883519944836,
          100
         ],
         "y": [
          0,
          151.99228453673555,
          337.0356075085056,
          165.15897974584024,
          442.31375202069296,
          339.81377656540917,
          100
         ]
        },
        {
         "hoverinfo": "text+x+y",
         "line": {
          "color": "blue",
          "width": 2
         },
         "marker": {
          "color": "red",
          "size": 8
         },
         "mode": "lines+markers",
         "name": "Path 105 (Gen 6, Fitness 304.81778571605685)",
         "text": "Gen 6, Path 105",
         "type": "scatter",
         "x": [
          0,
          203.7274808403702,
          92.59473780803415,
          135.02100257200715,
          371.8314786170018,
          431.43883519944836,
          100
         ],
         "y": [
          0,
          251.96403296153687,
          111.06091617330699,
          165.15897974584024,
          442.31375202069296,
          339.81377656540917,
          100
         ]
        },
        {
         "hoverinfo": "text+x+y",
         "line": {
          "color": "blue",
          "width": 2
         },
         "marker": {
          "color": "red",
          "size": 8
         },
         "mode": "lines+markers",
         "name": "Path 106 (Gen 6, Fitness 315.08920707702634)",
         "text": "Gen 6, Path 106",
         "type": "scatter",
         "x": [
          0,
          54.64506163669543,
          92.59473780803415,
          135.02100257200715,
          371.8314786170018,
          431.43883519944836,
          100
         ],
         "y": [
          0,
          44.622093608573735,
          111.06091617330699,
          165.15897974584024,
          442.31375202069296,
          339.81377656540917,
          100
         ]
        },
        {
         "hoverinfo": "text+x+y",
         "line": {
          "color": "blue",
          "width": 2
         },
         "marker": {
          "color": "red",
          "size": 8
         },
         "mode": "lines+markers",
         "name": "Path 107 (Gen 6, Fitness 315.67693679332734)",
         "text": "Gen 6, Path 107",
         "type": "scatter",
         "x": [
          0,
          203.7274808403702,
          92.59473780803415,
          258.4818182140878,
          -80.25438780632706,
          85.91526839286763,
          100
         ],
         "y": [
          0,
          251.96403296153687,
          111.06091617330699,
          386.9801918472952,
          93.39473305248342,
          60.524845299070165,
          100
         ]
        },
        {
         "hoverinfo": "text+x+y",
         "line": {
          "color": "blue",
          "width": 2
         },
         "marker": {
          "color": "red",
          "size": 8
         },
         "mode": "lines+markers",
         "name": "Path 108 (Gen 6, Fitness 332.9061410903931)",
         "text": "Gen 6, Path 108",
         "type": "scatter",
         "x": [
          0,
          233.3794239111315,
          251.19148706658055,
          135.02100257200715,
          371.8314786170018,
          8.207150012971278,
          100
         ],
         "y": [
          0,
          151.99228453673555,
          337.0356075085056,
          165.15897974584024,
          442.31375202069296,
          217.63315361393614,
          100
         ]
        },
        {
         "hoverinfo": "text+x+y",
         "line": {
          "color": "blue",
          "width": 2
         },
         "marker": {
          "color": "red",
          "size": 8
         },
         "mode": "lines+markers",
         "name": "Path 109 (Gen 6, Fitness 310.6045278549194)",
         "text": "Gen 6, Path 109",
         "type": "scatter",
         "x": [
          0,
          54.64506163669543,
          92.59473780803415,
          135.02100257200715,
          371.8314786170018,
          140.24099140163017,
          100
         ],
         "y": [
          0,
          44.622093608573735,
          111.06091617330699,
          165.15897974584024,
          442.31375202069296,
          112.75454446365211,
          100
         ]
        },
        {
         "hoverinfo": "text+x+y",
         "line": {
          "color": "blue",
          "width": 2
         },
         "marker": {
          "color": "red",
          "size": 8
         },
         "mode": "lines+markers",
         "name": "Path 110 (Gen 6, Fitness 332.2562397003174)",
         "text": "Gen 6, Path 110",
         "type": "scatter",
         "x": [
          0,
          233.3794239111315,
          251.19148706658055,
          258.4818182140878,
          -80.25438780632706,
          85.91526839286763,
          100
         ],
         "y": [
          0,
          151.99228453673555,
          337.0356075085056,
          386.9801918472952,
          93.39473305248342,
          60.524845299070165,
          100
         ]
        },
        {
         "hoverinfo": "text+x+y",
         "line": {
          "color": "blue",
          "width": 2
         },
         "marker": {
          "color": "red",
          "size": 8
         },
         "mode": "lines+markers",
         "name": "Path 111 (Gen 0, Fitness 0.0)",
         "text": "Gen 0, Path 111",
         "type": "scatter",
         "x": [
          0,
          57.69603383588185,
          71.52563338611043,
          131.67327893609962,
          131.67327893609962,
          166.0308109437717,
          100
         ],
         "y": [
          0,
          0,
          0,
          0,
          65.95618182663857,
          65.95618182663857,
          100
         ]
        },
        {
         "hoverinfo": "text+x+y",
         "line": {
          "color": "blue",
          "width": 2
         },
         "marker": {
          "color": "red",
          "size": 8
         },
         "mode": "lines+markers",
         "name": "Path 112 (Gen 7, Fitness 332.2562397003174)",
         "text": "Gen 7, Path 112",
         "type": "scatter",
         "x": [
          0,
          233.3794239111315,
          251.19148706658055,
          258.4818182140878,
          -80.25438780632706,
          85.91526839286763,
          100
         ],
         "y": [
          0,
          151.99228453673555,
          337.0356075085056,
          386.9801918472952,
          93.39473305248342,
          60.524845299070165,
          100
         ]
        },
        {
         "hoverinfo": "text+x+y",
         "line": {
          "color": "blue",
          "width": 2
         },
         "marker": {
          "color": "red",
          "size": 8
         },
         "mode": "lines+markers",
         "name": "Path 113 (Gen 7, Fitness 330.349631690979)",
         "text": "Gen 7, Path 113",
         "type": "scatter",
         "x": [
          0,
          54.64506163669543,
          92.59473780803415,
          258.4818182140878,
          87.65199747673113,
          431.43883519944836,
          100
         ],
         "y": [
          0,
          44.622093608573735,
          111.06091617330699,
          386.9801918472952,
          21.41028898256981,
          339.81377656540917,
          100
         ]
        },
        {
         "hoverinfo": "text+x+y",
         "line": {
          "color": "blue",
          "width": 2
         },
         "marker": {
          "color": "red",
          "size": 8
         },
         "mode": "lines+markers",
         "name": "Path 114 (Gen 7, Fitness 281.4050424337387)",
         "text": "Gen 7, Path 114",
         "type": "scatter",
         "x": [
          0,
          203.7274808403702,
          92.59473780803415,
          93.08850123719833,
          87.65199747673113,
          431.43883519944836,
          100
         ],
         "y": [
          0,
          251.96403296153687,
          111.06091617330699,
          62.536120297744645,
          21.41028898256981,
          339.81377656540917,
          100
         ]
        },
        {
         "hoverinfo": "text+x+y",
         "line": {
          "color": "blue",
          "width": 2
         },
         "marker": {
          "color": "red",
          "size": 8
         },
         "mode": "lines+markers",
         "name": "Path 115 (Gen 7, Fitness 332.9387395858765)",
         "text": "Gen 7, Path 115",
         "type": "scatter",
         "x": [
          0,
          233.3794239111315,
          251.19148706658055,
          258.4818182140878,
          371.8314786170018,
          431.43883519944836,
          100
         ],
         "y": [
          0,
          151.99228453673555,
          337.0356075085056,
          386.9801918472952,
          442.31375202069296,
          339.81377656540917,
          100
         ]
        },
        {
         "hoverinfo": "text+x+y",
         "line": {
          "color": "blue",
          "width": 2
         },
         "marker": {
          "color": "red",
          "size": 8
         },
         "mode": "lines+markers",
         "name": "Path 116 (Gen 7, Fitness 328.45406036376954)",
         "text": "Gen 7, Path 116",
         "type": "scatter",
         "x": [
          0,
          233.3794239111315,
          251.19148706658055,
          258.4818182140878,
          371.8314786170018,
          140.24099140163017,
          100
         ],
         "y": [
          0,
          151.99228453673555,
          337.0356075085056,
          386.9801918472952,
          442.31375202069296,
          112.75454446365211,
          100
         ]
        },
        {
         "hoverinfo": "text+x+y",
         "line": {
          "color": "blue",
          "width": 2
         },
         "marker": {
          "color": "red",
          "size": 8
         },
         "mode": "lines+markers",
         "name": "Path 117 (Gen 7, Fitness 325.17872123718263)",
         "text": "Gen 7, Path 117",
         "type": "scatter",
         "x": [
          0,
          233.3794239111315,
          92.59473780803415,
          135.02100257200715,
          371.8314786170018,
          431.43883519944836,
          100
         ],
         "y": [
          0,
          151.99228453673555,
          111.06091617330699,
          165.15897974584024,
          442.31375202069296,
          339.81377656540917,
          100
         ]
        },
        {
         "hoverinfo": "text+x+y",
         "line": {
          "color": "blue",
          "width": 2
         },
         "marker": {
          "color": "red",
          "size": 8
         },
         "mode": "lines+markers",
         "name": "Path 118 (Gen 7, Fitness 299.2085963010788)",
         "text": "Gen 7, Path 118",
         "type": "scatter",
         "x": [
          0,
          203.7274808403702,
          92.59473780803415,
          93.08850123719833,
          371.8314786170018,
          431.43883519944836,
          100
         ],
         "y": [
          0,
          251.96403296153687,
          111.06091617330699,
          62.536120297744645,
          442.31375202069296,
          339.81377656540917,
          100
         ]
        },
        {
         "hoverinfo": "text+x+y",
         "line": {
          "color": "blue",
          "width": 2
         },
         "marker": {
          "color": "red",
          "size": 8
         },
         "mode": "lines+markers",
         "name": "Path 119 (Gen 7, Fitness 337.66117839813234)",
         "text": "Gen 7, Path 119",
         "type": "scatter",
         "x": [
          0,
          233.3794239111315,
          251.19148706658055,
          258.4818182140878,
          -80.25438780632706,
          431.43883519944836,
          100
         ],
         "y": [
          0,
          151.99228453673555,
          337.0356075085056,
          386.9801918472952,
          93.39473305248342,
          339.81377656540917,
          100
         ]
        },
        {
         "hoverinfo": "text+x+y",
         "line": {
          "color": "blue",
          "width": 2
         },
         "marker": {
          "color": "red",
          "size": 8
         },
         "mode": "lines+markers",
         "name": "Path 120 (Gen 7, Fitness 319.931876373291)",
         "text": "Gen 7, Path 120",
         "type": "scatter",
         "x": [
          0,
          233.3794239111315,
          251.19148706658055,
          135.02100257200715,
          371.8314786170018,
          431.43883519944836,
          100
         ],
         "y": [
          0,
          151.99228453673555,
          337.0356075085056,
          165.15897974584024,
          442.31375202069296,
          339.81377656540917,
          100
         ]
        },
        {
         "hoverinfo": "text+x+y",
         "line": {
          "color": "blue",
          "width": 2
         },
         "marker": {
          "color": "red",
          "size": 8
         },
         "mode": "lines+markers",
         "name": "Path 121 (Gen 7, Fitness 329.927488899231)",
         "text": "Gen 7, Path 121",
         "type": "scatter",
         "x": [
          0,
          233.3794239111315,
          251.19148706658055,
          88.78648537253655,
          371.8314786170018,
          431.43883519944836,
          100
         ],
         "y": [
          0,
          151.99228453673555,
          337.0356075085056,
          30.593041887536526,
          442.31375202069296,
          339.81377656540917,
          100
         ]
        },
        {
         "hoverinfo": "text+x+y",
         "line": {
          "color": "blue",
          "width": 2
         },
         "marker": {
          "color": "red",
          "size": 8
         },
         "mode": "lines+markers",
         "name": "Path 122 (Gen 7, Fitness 325.17872123718263)",
         "text": "Gen 7, Path 122",
         "type": "scatter",
         "x": [
          0,
          233.3794239111315,
          92.59473780803415,
          135.02100257200715,
          371.8314786170018,
          431.43883519944836,
          100
         ],
         "y": [
          0,
          151.99228453673555,
          111.06091617330699,
          165.15897974584024,
          442.31375202069296,
          339.81377656540917,
          100
         ]
        },
        {
         "hoverinfo": "text+x+y",
         "line": {
          "color": "blue",
          "width": 2
         },
         "marker": {
          "color": "red",
          "size": 8
         },
         "mode": "lines+markers",
         "name": "Path 123 (Gen 7, Fitness 319.931876373291)",
         "text": "Gen 7, Path 123",
         "type": "scatter",
         "x": [
          0,
          233.3794239111315,
          251.19148706658055,
          135.02100257200715,
          371.8314786170018,
          431.43883519944836,
          100
         ],
         "y": [
          0,
          151.99228453673555,
          337.0356075085056,
          165.15897974584024,
          442.31375202069296,
          339.81377656540917,
          100
         ]
        },
        {
         "hoverinfo": "text+x+y",
         "line": {
          "color": "blue",
          "width": 2
         },
         "marker": {
          "color": "red",
          "size": 8
         },
         "mode": "lines+markers",
         "name": "Path 124 (Gen 7, Fitness 332.9387395858765)",
         "text": "Gen 7, Path 124",
         "type": "scatter",
         "x": [
          0,
          233.3794239111315,
          251.19148706658055,
          258.4818182140878,
          371.8314786170018,
          431.43883519944836,
          100
         ],
         "y": [
          0,
          151.99228453673555,
          337.0356075085056,
          386.9801918472952,
          442.31375202069296,
          339.81377656540917,
          100
         ]
        },
        {
         "hoverinfo": "text+x+y",
         "line": {
          "color": "blue",
          "width": 2
         },
         "marker": {
          "color": "red",
          "size": 8
         },
         "mode": "lines+markers",
         "name": "Path 125 (Gen 7, Fitness 304.81778571605685)",
         "text": "Gen 7, Path 125",
         "type": "scatter",
         "x": [
          0,
          203.7274808403702,
          92.59473780803415,
          135.02100257200715,
          371.8314786170018,
          431.43883519944836,
          100
         ],
         "y": [
          0,
          251.96403296153687,
          111.06091617330699,
          165.15897974584024,
          442.31375202069296,
          339.81377656540917,
          100
         ]
        },
        {
         "hoverinfo": "text+x+y",
         "line": {
          "color": "blue",
          "width": 2
         },
         "marker": {
          "color": "red",
          "size": 8
         },
         "mode": "lines+markers",
         "name": "Path 126 (Gen 7, Fitness 307.275087928772)",
         "text": "Gen 7, Path 126",
         "type": "scatter",
         "x": [
          0,
          203.7274808403702,
          92.59473780803415,
          135.02100257200715,
          371.8314786170018,
          431.43883519944836,
          100
         ],
         "y": [
          0,
          251.96403296153687,
          111.06091617330699,
          165.15897974584024,
          442.31375202069296,
          339.81377656540917,
          100
         ]
        },
        {
         "hoverinfo": "text+x+y",
         "line": {
          "color": "blue",
          "width": 2
         },
         "marker": {
          "color": "red",
          "size": 8
         },
         "mode": "lines+markers",
         "name": "Path 127 (Gen 0, Fitness 0.0)",
         "text": "Gen 0, Path 127",
         "type": "scatter",
         "x": [
          0,
          57.69603383588185,
          71.52563338611043,
          131.67327893609962,
          131.67327893609962,
          166.0308109437717,
          100
         ],
         "y": [
          0,
          0,
          0,
          0,
          65.95618182663857,
          65.95618182663857,
          100
         ]
        },
        {
         "hoverinfo": "text+x+y",
         "line": {
          "color": "blue",
          "width": 2
         },
         "marker": {
          "color": "red",
          "size": 8
         },
         "mode": "lines+markers",
         "name": "Path 128 (Gen 8, Fitness 332.2562397003174)",
         "text": "Gen 8, Path 128",
         "type": "scatter",
         "x": [
          0,
          233.3794239111315,
          251.19148706658055,
          258.4818182140878,
          -80.25438780632706,
          85.91526839286763,
          100
         ],
         "y": [
          0,
          151.99228453673555,
          337.0356075085056,
          386.9801918472952,
          93.39473305248342,
          60.524845299070165,
          100
         ]
        },
        {
         "hoverinfo": "text+x+y",
         "line": {
          "color": "blue",
          "width": 2
         },
         "marker": {
          "color": "red",
          "size": 8
         },
         "mode": "lines+markers",
         "name": "Path 129 (Gen 8, Fitness 332.9302927017212)",
         "text": "Gen 8, Path 129",
         "type": "scatter",
         "x": [
          0,
          233.3794239111315,
          251.19148706658055,
          88.78648537253655,
          371.8314786170018,
          431.43883519944836,
          100
         ],
         "y": [
          0,
          151.99228453673555,
          337.0356075085056,
          30.593041887536526,
          442.31375202069296,
          339.81377656540917,
          100
         ]
        },
        {
         "hoverinfo": "text+x+y",
         "line": {
          "color": "blue",
          "width": 2
         },
         "marker": {
          "color": "red",
          "size": 8
         },
         "mode": "lines+markers",
         "name": "Path 130 (Gen 8, Fitness 319.0491274833679)",
         "text": "Gen 8, Path 130",
         "type": "scatter",
         "x": [
          0,
          203.7274808403702,
          92.59473780803415,
          93.08850123719833,
          -80.25438780632706,
          85.91526839286763,
          100
         ],
         "y": [
          0,
          251.96403296153687,
          111.06091617330699,
          62.536120297744645,
          93.39473305248342,
          60.524845299070165,
          100
         ]
        },
        {
         "hoverinfo": "text+x+y",
         "line": {
          "color": "blue",
          "width": 2
         },
         "marker": {
          "color": "red",
          "size": 8
         },
         "mode": "lines+markers",
         "name": "Path 131 (Gen 8, Fitness 340.99207000732423)",
         "text": "Gen 8, Path 131",
         "type": "scatter",
         "x": [
          0,
          233.3794239111315,
          251.19148706658055,
          258.4818182140878,
          371.8314786170018,
          85.91526839286763,
          100
         ],
         "y": [
          0,
          151.99228453673555,
          337.0356075085056,
          386.9801918472952,
          442.31375202069296,
          60.524845299070165,
          100
         ]
        },
        {
         "hoverinfo": "text+x+y",
         "line": {
          "color": "blue",
          "width": 2
         },
         "marker": {
          "color": "red",
          "size": 8
         },
         "mode": "lines+markers",
         "name": "Path 132 (Gen 8, Fitness 335.8361387252808)",
         "text": "Gen 8, Path 132",
         "type": "scatter",
         "x": [
          0,
          233.3794239111315,
          251.19148706658055,
          135.02100257200715,
          87.65199747673113,
          431.43883519944836,
          100
         ],
         "y": [
          0,
          151.99228453673555,
          337.0356075085056,
          165.15897974584024,
          21.41028898256981,
          339.81377656540917,
          100
         ]
        },
        {
         "hoverinfo": "text+x+y",
         "line": {
          "color": "blue",
          "width": 2
         },
         "marker": {
          "color": "red",
          "size": 8
         },
         "mode": "lines+markers",
         "name": "Path 133 (Gen 8, Fitness 332.2562397003174)",
         "text": "Gen 8, Path 133",
         "type": "scatter",
         "x": [
          0,
          233.3794239111315,
          251.19148706658055,
          258.4818182140878,
          -80.25438780632706,
          85.91526839286763,
          100
         ],
         "y": [
          0,
          151.99228453673555,
          337.0356075085056,
          386.9801918472952,
          93.39473305248342,
          60.524845299070165,
          100
         ]
        },
        {
         "hoverinfo": "text+x+y",
         "line": {
          "color": "blue",
          "width": 2
         },
         "marker": {
          "color": "red",
          "size": 8
         },
         "mode": "lines+markers",
         "name": "Path 134 (Gen 8, Fitness 332.9302927017212)",
         "text": "Gen 8, Path 134",
         "type": "scatter",
         "x": [
          0,
          233.3794239111315,
          251.19148706658055,
          88.78648537253655,
          371.8314786170018,
          431.43883519944836,
          100
         ],
         "y": [
          0,
          151.99228453673555,
          337.0356075085056,
          30.593041887536526,
          442.31375202069296,
          339.81377656540917,
          100
         ]
        },
        {
         "hoverinfo": "text+x+y",
         "line": {
          "color": "blue",
          "width": 2
         },
         "marker": {
          "color": "red",
          "size": 8
         },
         "mode": "lines+markers",
         "name": "Path 135 (Gen 8, Fitness 341.0405225753784)",
         "text": "Gen 8, Path 135",
         "type": "scatter",
         "x": [
          0,
          233.3794239111315,
          251.19148706658055,
          258.4818182140878,
          371.8314786170018,
          431.43883519944836,
          100
         ],
         "y": [
          0,
          151.99228453673555,
          337.0356075085056,
          386.9801918472952,
          442.31375202069296,
          339.81377656540917,
          100
         ]
        },
        {
         "hoverinfo": "text+x+y",
         "line": {
          "color": "blue",
          "width": 2
         },
         "marker": {
          "color": "red",
          "size": 8
         },
         "mode": "lines+markers",
         "name": "Path 136 (Gen 8, Fitness 309.4098748207092)",
         "text": "Gen 8, Path 136",
         "type": "scatter",
         "x": [
          0,
          203.7274808403702,
          92.59473780803415,
          93.08850123719833,
          371.8314786170018,
          431.43883519944836,
          100
         ],
         "y": [
          0,
          251.96403296153687,
          111.06091617330699,
          62.536120297744645,
          442.31375202069296,
          339.81377656540917,
          100
         ]
        },
        {
         "hoverinfo": "text+x+y",
         "line": {
          "color": "blue",
          "width": 2
         },
         "marker": {
          "color": "red",
          "size": 8
         },
         "mode": "lines+markers",
         "name": "Path 137 (Gen 8, Fitness 327.840394115448)",
         "text": "Gen 8, Path 137",
         "type": "scatter",
         "x": [
          0,
          233.3794239111315,
          92.59473780803415,
          93.08850123719833,
          371.8314786170018,
          431.43883519944836,
          100
         ],
         "y": [
          0,
          151.99228453673555,
          111.06091617330699,
          62.536120297744645,
          442.31375202069296,
          339.81377656540917,
          100
         ]
        },
        {
         "hoverinfo": "text+x+y",
         "line": {
          "color": "blue",
          "width": 2
         },
         "marker": {
          "color": "red",
          "size": 8
         },
         "mode": "lines+markers",
         "name": "Path 138 (Gen 8, Fitness 343.3832082748413)",
         "text": "Gen 8, Path 138",
         "type": "scatter",
         "x": [
          0,
          233.3794239111315,
          251.19148706658055,
          258.4818182140878,
          371.8314786170018,
          431.43883519944836,
          100
         ],
         "y": [
          0,
          151.99228453673555,
          337.0356075085056,
          386.9801918472952,
          442.31375202069296,
          339.81377656540917,
          100
         ]
        },
        {
         "hoverinfo": "text+x+y",
         "line": {
          "color": "blue",
          "width": 2
         },
         "marker": {
          "color": "red",
          "size": 8
         },
         "mode": "lines+markers",
         "name": "Path 139 (Gen 8, Fitness 348.3240781784058)",
         "text": "Gen 8, Path 139",
         "type": "scatter",
         "x": [
          0,
          233.3794239111315,
          251.19148706658055,
          88.78648537253655,
          371.8314786170018,
          431.43883519944836,
          100
         ],
         "y": [
          0,
          151.99228453673555,
          337.0356075085056,
          30.593041887536526,
          442.31375202069296,
          339.81377656540917,
          100
         ]
        },
        {
         "hoverinfo": "text+x+y",
         "line": {
          "color": "blue",
          "width": 2
         },
         "marker": {
          "color": "red",
          "size": 8
         },
         "mode": "lines+markers",
         "name": "Path 140 (Gen 8, Fitness 343.3832082748413)",
         "text": "Gen 8, Path 140",
         "type": "scatter",
         "x": [
          0,
          233.3794239111315,
          251.19148706658055,
          258.4818182140878,
          371.8314786170018,
          431.43883519944836,
          100
         ],
         "y": [
          0,
          151.99228453673555,
          337.0356075085056,
          386.9801918472952,
          442.31375202069296,
          339.81377656540917,
          100
         ]
        },
        {
         "hoverinfo": "text+x+y",
         "line": {
          "color": "blue",
          "width": 2
         },
         "marker": {
          "color": "red",
          "size": 8
         },
         "mode": "lines+markers",
         "name": "Path 141 (Gen 8, Fitness 323.98851623535154)",
         "text": "Gen 8, Path 141",
         "type": "scatter",
         "x": [
          0,
          203.7274808403702,
          92.59473780803415,
          135.02100257200715,
          87.65199747673113,
          431.43883519944836,
          100
         ],
         "y": [
          0,
          251.96403296153687,
          111.06091617330699,
          165.15897974584024,
          21.41028898256981,
          339.81377656540917,
          100
         ]
        },
        {
         "hoverinfo": "text+x+y",
         "line": {
          "color": "blue",
          "width": 2
         },
         "marker": {
          "color": "red",
          "size": 8
         },
         "mode": "lines+markers",
         "name": "Path 142 (Gen 8, Fitness 323.5347187995911)",
         "text": "Gen 8, Path 142",
         "type": "scatter",
         "x": [
          0,
          233.3794239111315,
          251.19148706658055,
          93.08850123719833,
          87.65199747673113,
          431.43883519944836,
          100
         ],
         "y": [
          0,
          151.99228453673555,
          337.0356075085056,
          62.536120297744645,
          21.41028898256981,
          339.81377656540917,
          100
         ]
        },
        {
         "hoverinfo": "text+x+y",
         "line": {
          "color": "blue",
          "width": 2
         },
         "marker": {
          "color": "red",
          "size": 8
         },
         "mode": "lines+markers",
         "name": "Path 143 (Gen 0, Fitness 0.0)",
         "text": "Gen 0, Path 143",
         "type": "scatter",
         "x": [
          0,
          57.69603383588185,
          71.52563338611043,
          131.67327893609962,
          131.67327893609962,
          166.0308109437717,
          100
         ],
         "y": [
          0,
          0,
          0,
          0,
          65.95618182663857,
          65.95618182663857,
          100
         ]
        },
        {
         "hoverinfo": "text+x+y",
         "line": {
          "color": "blue",
          "width": 2
         },
         "marker": {
          "color": "red",
          "size": 8
         },
         "mode": "lines+markers",
         "name": "Path 144 (Gen 9, Fitness 344.4390155792236)",
         "text": "Gen 9, Path 144",
         "type": "scatter",
         "x": [
          0,
          233.3794239111315,
          251.19148706658055,
          258.4818182140878,
          -80.25438780632706,
          85.91526839286763,
          100
         ],
         "y": [
          0,
          151.99228453673555,
          337.0356075085056,
          386.9801918472952,
          93.39473305248342,
          60.524845299070165,
          100
         ]
        },
        {
         "hoverinfo": "text+x+y",
         "line": {
          "color": "blue",
          "width": 2
         },
         "marker": {
          "color": "red",
          "size": 8
         },
         "mode": "lines+markers",
         "name": "Path 145 (Gen 9, Fitness 343.3832082748413)",
         "text": "Gen 9, Path 145",
         "type": "scatter",
         "x": [
          0,
          233.3794239111315,
          251.19148706658055,
          258.4818182140878,
          371.8314786170018,
          431.43883519944836,
          100
         ],
         "y": [
          0,
          151.99228453673555,
          337.0356075085056,
          386.9801918472952,
          442.31375202069296,
          339.81377656540917,
          100
         ]
        },
        {
         "hoverinfo": "text+x+y",
         "line": {
          "color": "blue",
          "width": 2
         },
         "marker": {
          "color": "red",
          "size": 8
         },
         "mode": "lines+markers",
         "name": "Path 146 (Gen 9, Fitness 309.2767560005188)",
         "text": "Gen 9, Path 146",
         "type": "scatter",
         "x": [
          0,
          203.7274808403702,
          92.59473780803415,
          93.08850123719833,
          371.8314786170018,
          431.43883519944836,
          100
         ],
         "y": [
          0,
          251.96403296153687,
          111.06091617330699,
          62.536120297744645,
          442.31375202069296,
          339.81377656540917,
          100
         ]
        },
        {
         "hoverinfo": "text+x+y",
         "line": {
          "color": "blue",
          "width": 2
         },
         "marker": {
          "color": "red",
          "size": 8
         },
         "mode": "lines+markers",
         "name": "Path 147 (Gen 9, Fitness 325.21942043304443)",
         "text": "Gen 9, Path 147",
         "type": "scatter",
         "x": [
          0,
          203.7274808403702,
          251.19148706658055,
          135.02100257200715,
          87.65199747673113,
          431.43883519944836,
          100
         ],
         "y": [
          0,
          251.96403296153687,
          337.0356075085056,
          165.15897974584024,
          21.41028898256981,
          339.81377656540917,
          100
         ]
        },
        {
         "hoverinfo": "text+x+y",
         "line": {
          "color": "blue",
          "width": 2
         },
         "marker": {
          "color": "red",
          "size": 8
         },
         "mode": "lines+markers",
         "name": "Path 148 (Gen 9, Fitness 348.3240781784058)",
         "text": "Gen 9, Path 148",
         "type": "scatter",
         "x": [
          0,
          233.3794239111315,
          251.19148706658055,
          88.78648537253655,
          371.8314786170018,
          431.43883519944836,
          100
         ],
         "y": [
          0,
          151.99228453673555,
          337.0356075085056,
          30.593041887536526,
          442.31375202069296,
          339.81377656540917,
          100
         ]
        },
        {
         "hoverinfo": "text+x+y",
         "line": {
          "color": "blue",
          "width": 2
         },
         "marker": {
          "color": "red",
          "size": 8
         },
         "mode": "lines+markers",
         "name": "Path 149 (Gen 9, Fitness 348.94137134552)",
         "text": "Gen 9, Path 149",
         "type": "scatter",
         "x": [
          0,
          233.3794239111315,
          92.59473780803415,
          135.02100257200715,
          87.65199747673113,
          431.43883519944836,
          100
         ],
         "y": [
          0,
          151.99228453673555,
          111.06091617330699,
          165.15897974584024,
          21.41028898256981,
          339.81377656540917,
          100
         ]
        },
        {
         "hoverinfo": "text+x+y",
         "line": {
          "color": "blue",
          "width": 2
         },
         "marker": {
          "color": "red",
          "size": 8
         },
         "mode": "lines+markers",
         "name": "Path 150 (Gen 9, Fitness 343.3832082748413)",
         "text": "Gen 9, Path 150",
         "type": "scatter",
         "x": [
          0,
          233.3794239111315,
          251.19148706658055,
          258.4818182140878,
          371.8314786170018,
          431.43883519944836,
          100
         ],
         "y": [
          0,
          151.99228453673555,
          337.0356075085056,
          386.9801918472952,
          442.31375202069296,
          339.81377656540917,
          100
         ]
        },
        {
         "hoverinfo": "text+x+y",
         "line": {
          "color": "blue",
          "width": 2
         },
         "marker": {
          "color": "red",
          "size": 8
         },
         "mode": "lines+markers",
         "name": "Path 151 (Gen 9, Fitness 344.14981136322024)",
         "text": "Gen 9, Path 151",
         "type": "scatter",
         "x": [
          0,
          233.3794239111315,
          251.19148706658055,
          135.02100257200715,
          87.65199747673113,
          431.43883519944836,
          100
         ],
         "y": [
          0,
          151.99228453673555,
          337.0356075085056,
          165.15897974584024,
          21.41028898256981,
          339.81377656540917,
          100
         ]
        },
        {
         "hoverinfo": "text+x+y",
         "line": {
          "color": "blue",
          "width": 2
         },
         "marker": {
          "color": "red",
          "size": 8
         },
         "mode": "lines+markers",
         "name": "Path 152 (Gen 9, Fitness 343.3832082748413)",
         "text": "Gen 9, Path 152",
         "type": "scatter",
         "x": [
          0,
          233.3794239111315,
          251.19148706658055,
          258.4818182140878,
          371.8314786170018,
          431.43883519944836,
          100
         ],
         "y": [
          0,
          151.99228453673555,
          337.0356075085056,
          386.9801918472952,
          442.31375202069296,
          339.81377656540917,
          100
         ]
        },
        {
         "hoverinfo": "text+x+y",
         "line": {
          "color": "blue",
          "width": 2
         },
         "marker": {
          "color": "red",
          "size": 8
         },
         "mode": "lines+markers",
         "name": "Path 153 (Gen 9, Fitness 344.14981136322024)",
         "text": "Gen 9, Path 153",
         "type": "scatter",
         "x": [
          0,
          233.3794239111315,
          251.19148706658055,
          135.02100257200715,
          87.65199747673113,
          431.43883519944836,
          100
         ],
         "y": [
          0,
          151.99228453673555,
          337.0356075085056,
          165.15897974584024,
          21.41028898256981,
          339.81377656540917,
          100
         ]
        },
        {
         "hoverinfo": "text+x+y",
         "line": {
          "color": "blue",
          "width": 2
         },
         "marker": {
          "color": "red",
          "size": 8
         },
         "mode": "lines+markers",
         "name": "Path 154 (Gen 9, Fitness 334.22961111068724)",
         "text": "Gen 9, Path 154",
         "type": "scatter",
         "x": [
          0,
          233.3794239111315,
          92.59473780803415,
          93.08850123719833,
          371.8314786170018,
          431.43883519944836,
          100
         ],
         "y": [
          0,
          151.99228453673555,
          111.06091617330699,
          62.536120297744645,
          442.31375202069296,
          339.81377656540917,
          100
         ]
        },
        {
         "hoverinfo": "text+x+y",
         "line": {
          "color": "blue",
          "width": 2
         },
         "marker": {
          "color": "red",
          "size": 8
         },
         "mode": "lines+markers",
         "name": "Path 155 (Gen 9, Fitness 325.6836497306824)",
         "text": "Gen 9, Path 155",
         "type": "scatter",
         "x": [
          0,
          233.3794239111315,
          251.19148706658055,
          88.78648537253655,
          87.65199747673113,
          431.43883519944836,
          100
         ],
         "y": [
          0,
          151.99228453673555,
          337.0356075085056,
          30.593041887536526,
          21.41028898256981,
          339.81377656540917,
          100
         ]
        },
        {
         "hoverinfo": "text+x+y",
         "line": {
          "color": "blue",
          "width": 2
         },
         "marker": {
          "color": "red",
          "size": 8
         },
         "mode": "lines+markers",
         "name": "Path 156 (Gen 9, Fitness 343.3832082748413)",
         "text": "Gen 9, Path 156",
         "type": "scatter",
         "x": [
          0,
          233.3794239111315,
          251.19148706658055,
          258.4818182140878,
          371.8314786170018,
          431.43883519944836,
          100
         ],
         "y": [
          0,
          151.99228453673555,
          337.0356075085056,
          386.9801918472952,
          442.31375202069296,
          339.81377656540917,
          100
         ]
        },
        {
         "hoverinfo": "text+x+y",
         "line": {
          "color": "blue",
          "width": 2
         },
         "marker": {
          "color": "red",
          "size": 8
         },
         "mode": "lines+markers",
         "name": "Path 157 (Gen 9, Fitness 348.3240781784058)",
         "text": "Gen 9, Path 157",
         "type": "scatter",
         "x": [
          0,
          233.3794239111315,
          251.19148706658055,
          88.78648537253655,
          371.8314786170018,
          431.43883519944836,
          100
         ],
         "y": [
          0,
          151.99228453673555,
          337.0356075085056,
          30.593041887536526,
          442.31375202069296,
          339.81377656540917,
          100
         ]
        },
        {
         "hoverinfo": "text+x+y",
         "line": {
          "color": "blue",
          "width": 2
         },
         "marker": {
          "color": "red",
          "size": 8
         },
         "mode": "lines+markers",
         "name": "Path 158 (Gen 9, Fitness 343.3832082748413)",
         "text": "Gen 9, Path 158",
         "type": "scatter",
         "x": [
          0,
          233.3794239111315,
          251.19148706658055,
          258.4818182140878,
          371.8314786170018,
          431.43883519944836,
          100
         ],
         "y": [
          0,
          151.99228453673555,
          337.0356075085056,
          386.9801918472952,
          442.31375202069296,
          339.81377656540917,
          100
         ]
        },
        {
         "hoverinfo": "text+x+y",
         "line": {
          "color": "blue",
          "width": 2
         },
         "marker": {
          "color": "red",
          "size": 8
         },
         "mode": "lines+markers",
         "name": "Path 159 (Gen 0, Fitness 0.0)",
         "text": "Gen 0, Path 159",
         "type": "scatter",
         "x": [
          0,
          57.69603383588185,
          71.52563338611043,
          131.67327893609962,
          131.67327893609962,
          166.0308109437717,
          100
         ],
         "y": [
          0,
          0,
          0,
          0,
          65.95618182663857,
          65.95618182663857,
          100
         ]
        },
        {
         "hoverinfo": "text+x+y",
         "line": {
          "color": "blue",
          "width": 2
         },
         "marker": {
          "color": "red",
          "size": 8
         },
         "mode": "lines+markers",
         "name": "Path 160 (Gen 10, Fitness 354.90258903503417)",
         "text": "Gen 10, Path 160",
         "type": "scatter",
         "x": [
          0,
          233.3794239111315,
          251.19148706658055,
          88.78648537253655,
          371.8314786170018,
          431.43883519944836,
          100
         ],
         "y": [
          0,
          151.99228453673555,
          337.0356075085056,
          30.593041887536526,
          442.31375202069296,
          339.81377656540917,
          100
         ]
        },
        {
         "hoverinfo": "text+x+y",
         "line": {
          "color": "blue",
          "width": 2
         },
         "marker": {
          "color": "red",
          "size": 8
         },
         "mode": "lines+markers",
         "name": "Path 161 (Gen 10, Fitness 333.0434381484985)",
         "text": "Gen 10, Path 161",
         "type": "scatter",
         "x": [
          0,
          203.7274808403702,
          92.59473780803415,
          258.4818182140878,
          371.8314786170018,
          431.43883519944836,
          100
         ],
         "y": [
          0,
          251.96403296153687,
          111.06091617330699,
          386.9801918472952,
          442.31375202069296,
          339.81377656540917,
          100
         ]
        },
        {
         "hoverinfo": "text+x+y",
         "line": {
          "color": "blue",
          "width": 2
         },
         "marker": {
          "color": "red",
          "size": 8
         },
         "mode": "lines+markers",
         "name": "Path 162 (Gen 10, Fitness 336.25386810302734)",
         "text": "Gen 10, Path 162",
         "type": "scatter",
         "x": [
          0,
          233.3794239111315,
          251.19148706658055,
          88.78648537253655,
          87.65199747673113,
          431.43883519944836,
          100
         ],
         "y": [
          0,
          151.99228453673555,
          337.0356075085056,
          30.593041887536526,
          21.41028898256981,
          339.81377656540917,
          100
         ]
        },
        {
         "hoverinfo": "text+x+y",
         "line": {
          "color": "blue",
          "width": 2
         },
         "marker": {
          "color": "red",
          "size": 8
         },
         "mode": "lines+markers",
         "name": "Path 163 (Gen 10, Fitness 336.24798011779785)",
         "text": "Gen 10, Path 163",
         "type": "scatter",
         "x": [
          0,
          203.7274808403702,
          251.19148706658055,
          258.4818182140878,
          371.8314786170018,
          431.43883519944836,
          100
         ],
         "y": [
          0,
          251.96403296153687,
          337.0356075085056,
          386.9801918472952,
          442.31375202069296,
          339.81377656540917,
          100
         ]
        },
        {
         "hoverinfo": "text+x+y",
         "line": {
          "color": "blue",
          "width": 2
         },
         "marker": {
          "color": "red",
          "size": 8
         },
         "mode": "lines+markers",
         "name": "Path 164 (Gen 10, Fitness 354.45682220458986)",
         "text": "Gen 10, Path 164",
         "type": "scatter",
         "x": [
          0,
          233.3794239111315,
          251.19148706658055,
          258.4818182140878,
          371.8314786170018,
          431.43883519944836,
          100
         ],
         "y": [
          0,
          151.99228453673555,
          337.0356075085056,
          386.9801918472952,
          442.31375202069296,
          339.81377656540917,
          100
         ]
        },
        {
         "hoverinfo": "text+x+y",
         "line": {
          "color": "blue",
          "width": 2
         },
         "marker": {
          "color": "red",
          "size": 8
         },
         "mode": "lines+markers",
         "name": "Path 165 (Gen 10, Fitness 321.8592694282532)",
         "text": "Gen 10, Path 165",
         "type": "scatter",
         "x": [
          0,
          203.7274808403702,
          92.59473780803415,
          93.08850123719833,
          371.8314786170018,
          431.43883519944836,
          100
         ],
         "y": [
          0,
          251.96403296153687,
          111.06091617330699,
          62.536120297744645,
          442.31375202069296,
          339.81377656540917,
          100
         ]
        },
        {
         "hoverinfo": "text+x+y",
         "line": {
          "color": "blue",
          "width": 2
         },
         "marker": {
          "color": "red",
          "size": 8
         },
         "mode": "lines+markers",
         "name": "Path 166 (Gen 10, Fitness 321.8592694282532)",
         "text": "Gen 10, Path 166",
         "type": "scatter",
         "x": [
          0,
          203.7274808403702,
          92.59473780803415,
          93.08850123719833,
          371.8314786170018,
          431.43883519944836,
          100
         ],
         "y": [
          0,
          251.96403296153687,
          111.06091617330699,
          62.536120297744645,
          442.31375202069296,
          339.81377656540917,
          100
         ]
        },
        {
         "hoverinfo": "text+x+y",
         "line": {
          "color": "blue",
          "width": 2
         },
         "marker": {
          "color": "red",
          "size": 8
         },
         "mode": "lines+markers",
         "name": "Path 167 (Gen 10, Fitness 356.9593360900879)",
         "text": "Gen 10, Path 167",
         "type": "scatter",
         "x": [
          0,
          233.3794239111315,
          251.19148706658055,
          258.4818182140878,
          371.8314786170018,
          431.43883519944836,
          100
         ],
         "y": [
          0,
          151.99228453673555,
          337.0356075085056,
          386.9801918472952,
          442.31375202069296,
          339.81377656540917,
          100
         ]
        },
        {
         "hoverinfo": "text+x+y",
         "line": {
          "color": "blue",
          "width": 2
         },
         "marker": {
          "color": "red",
          "size": 8
         },
         "mode": "lines+markers",
         "name": "Path 168 (Gen 10, Fitness 321.8592694282532)",
         "text": "Gen 10, Path 168",
         "type": "scatter",
         "x": [
          0,
          203.7274808403702,
          92.59473780803415,
          93.08850123719833,
          371.8314786170018,
          431.43883519944836,
          100
         ],
         "y": [
          0,
          251.96403296153687,
          111.06091617330699,
          62.536120297744645,
          442.31375202069296,
          339.81377656540917,
          100
         ]
        },
        {
         "hoverinfo": "text+x+y",
         "line": {
          "color": "blue",
          "width": 2
         },
         "marker": {
          "color": "red",
          "size": 8
         },
         "mode": "lines+markers",
         "name": "Path 169 (Gen 10, Fitness 362.216495513916)",
         "text": "Gen 10, Path 169",
         "type": "scatter",
         "x": [
          0,
          233.3794239111315,
          92.59473780803415,
          258.4818182140878,
          371.8314786170018,
          431.43883519944836,
          100
         ],
         "y": [
          0,
          151.99228453673555,
          111.06091617330699,
          386.9801918472952,
          442.31375202069296,
          339.81377656540917,
          100
         ]
        },
        {
         "hoverinfo": "text+x+y",
         "line": {
          "color": "blue",
          "width": 2
         },
         "marker": {
          "color": "red",
          "size": 8
         },
         "mode": "lines+markers",
         "name": "Path 170 (Gen 10, Fitness 359.6350746154785)",
         "text": "Gen 10, Path 170",
         "type": "scatter",
         "x": [
          0,
          233.3794239111315,
          92.59473780803415,
          135.02100257200715,
          87.65199747673113,
          431.43883519944836,
          100
         ],
         "y": [
          0,
          151.99228453673555,
          111.06091617330699,
          165.15897974584024,
          21.41028898256981,
          339.81377656540917,
          100
         ]
        },
        {
         "hoverinfo": "text+x+y",
         "line": {
          "color": "blue",
          "width": 2
         },
         "marker": {
          "color": "red",
          "size": 8
         },
         "mode": "lines+markers",
         "name": "Path 171 (Gen 10, Fitness 344.8015586853027)",
         "text": "Gen 10, Path 171",
         "type": "scatter",
         "x": [
          0,
          233.3794239111315,
          251.19148706658055,
          258.4818182140878,
          -80.25438780632706,
          85.91526839286763,
          100
         ],
         "y": [
          0,
          151.99228453673555,
          337.0356075085056,
          386.9801918472952,
          93.39473305248342,
          60.524845299070165,
          100
         ]
        },
        {
         "hoverinfo": "text+x+y",
         "line": {
          "color": "blue",
          "width": 2
         },
         "marker": {
          "color": "red",
          "size": 8
         },
         "mode": "lines+markers",
         "name": "Path 172 (Gen 10, Fitness 345.22067008018496)",
         "text": "Gen 10, Path 172",
         "type": "scatter",
         "x": [
          0,
          233.3794239111315,
          92.59473780803415,
          93.08850123719833,
          371.8314786170018,
          431.43883519944836,
          100
         ],
         "y": [
          0,
          151.99228453673555,
          111.06091617330699,
          62.536120297744645,
          442.31375202069296,
          339.81377656540917,
          100
         ]
        },
        {
         "hoverinfo": "text+x+y",
         "line": {
          "color": "blue",
          "width": 2
         },
         "marker": {
          "color": "red",
          "size": 8
         },
         "mode": "lines+markers",
         "name": "Path 173 (Gen 10, Fitness 357.6156307220459)",
         "text": "Gen 10, Path 173",
         "type": "scatter",
         "x": [
          0,
          233.3794239111315,
          251.19148706658055,
          88.78648537253655,
          371.8314786170018,
          431.43883519944836,
          100
         ],
         "y": [
          0,
          151.99228453673555,
          337.0356075085056,
          30.593041887536526,
          442.31375202069296,
          339.81377656540917,
          100
         ]
        },
        {
         "hoverinfo": "text+x+y",
         "line": {
          "color": "blue",
          "width": 2
         },
         "marker": {
          "color": "red",
          "size": 8
         },
         "mode": "lines+markers",
         "name": "Path 174 (Gen 10, Fitness 338.7586296081543)",
         "text": "Gen 10, Path 174",
         "type": "scatter",
         "x": [
          0,
          233.3794239111315,
          251.19148706658055,
          135.02100257200715,
          371.8314786170018,
          431.43883519944836,
          100
         ],
         "y": [
          0,
          151.99228453673555,
          337.0356075085056,
          165.15897974584024,
          442.31375202069296,
          339.81377656540917,
          100
         ]
        },
        {
         "hoverinfo": "text+x+y",
         "line": {
          "color": "blue",
          "width": 2
         },
         "marker": {
          "color": "red",
          "size": 8
         },
         "mode": "lines+markers",
         "name": "Path 175 (Gen 0, Fitness 0.0)",
         "text": "Gen 0, Path 175",
         "type": "scatter",
         "x": [
          0,
          57.69603383588185,
          71.52563338611043,
          131.67327893609962,
          131.67327893609962,
          166.0308109437717,
          100
         ],
         "y": [
          0,
          0,
          0,
          0,
          65.95618182663857,
          65.95618182663857,
          100
         ]
        },
        {
         "hoverinfo": "text+x+y",
         "line": {
          "color": "blue",
          "width": 2
         },
         "marker": {
          "color": "red",
          "size": 8
         },
         "mode": "lines+markers",
         "name": "Path 176 (Gen 11, Fitness 362.216495513916)",
         "text": "Gen 11, Path 176",
         "type": "scatter",
         "x": [
          0,
          233.3794239111315,
          92.59473780803415,
          258.4818182140878,
          371.8314786170018,
          431.43883519944836,
          100
         ],
         "y": [
          0,
          151.99228453673555,
          111.06091617330699,
          386.9801918472952,
          442.31375202069296,
          339.81377656540917,
          100
         ]
        },
        {
         "hoverinfo": "text+x+y",
         "line": {
          "color": "blue",
          "width": 2
         },
         "marker": {
          "color": "red",
          "size": 8
         },
         "mode": "lines+markers",
         "name": "Path 177 (Gen 11, Fitness 338.37586135864257)",
         "text": "Gen 11, Path 177",
         "type": "scatter",
         "x": [
          0,
          203.7274808403702,
          251.19148706658055,
          135.02100257200715,
          87.65199747673113,
          431.43883519944836,
          100
         ],
         "y": [
          0,
          251.96403296153687,
          337.0356075085056,
          165.15897974584024,
          21.41028898256981,
          339.81377656540917,
          100
         ]
        },
        {
         "hoverinfo": "text+x+y",
         "line": {
          "color": "blue",
          "width": 2
         },
         "marker": {
          "color": "red",
          "size": 8
         },
         "mode": "lines+markers",
         "name": "Path 178 (Gen 11, Fitness 356.9593360900879)",
         "text": "Gen 11, Path 178",
         "type": "scatter",
         "x": [
          0,
          233.3794239111315,
          251.19148706658055,
          258.4818182140878,
          371.8314786170018,
          431.43883519944836,
          100
         ],
         "y": [
          0,
          151.99228453673555,
          337.0356075085056,
          386.9801918472952,
          442.31375202069296,
          339.81377656540917,
          100
         ]
        },
        {
         "hoverinfo": "text+x+y",
         "line": {
          "color": "blue",
          "width": 2
         },
         "marker": {
          "color": "red",
          "size": 8
         },
         "mode": "lines+markers",
         "name": "Path 179 (Gen 11, Fitness 338.7586296081543)",
         "text": "Gen 11, Path 179",
         "type": "scatter",
         "x": [
          0,
          233.3794239111315,
          251.19148706658055,
          135.02100257200715,
          371.8314786170018,
          431.43883519944836,
          100
         ],
         "y": [
          0,
          151.99228453673555,
          337.0356075085056,
          165.15897974584024,
          442.31375202069296,
          339.81377656540917,
          100
         ]
        },
        {
         "hoverinfo": "text+x+y",
         "line": {
          "color": "blue",
          "width": 2
         },
         "marker": {
          "color": "red",
          "size": 8
         },
         "mode": "lines+markers",
         "name": "Path 180 (Gen 11, Fitness 341.60291442871096)",
         "text": "Gen 11, Path 180",
         "type": "scatter",
         "x": [
          0,
          233.3794239111315,
          251.19148706658055,
          88.78648537253655,
          87.65199747673113,
          431.43883519944836,
          100
         ],
         "y": [
          0,
          151.99228453673555,
          337.0356075085056,
          30.593041887536526,
          21.41028898256981,
          339.81377656540917,
          100
         ]
        },
        {
         "hoverinfo": "text+x+y",
         "line": {
          "color": "blue",
          "width": 2
         },
         "marker": {
          "color": "red",
          "size": 8
         },
         "mode": "lines+markers",
         "name": "Path 181 (Gen 11, Fitness 339.1011878967285)",
         "text": "Gen 11, Path 181",
         "type": "scatter",
         "x": [
          0,
          203.7274808403702,
          251.19148706658055,
          258.4818182140878,
          371.8314786170018,
          431.43883519944836,
          100
         ],
         "y": [
          0,
          251.96403296153687,
          337.0356075085056,
          386.9801918472952,
          442.31375202069296,
          339.81377656540917,
          100
         ]
        },
        {
         "hoverinfo": "text+x+y",
         "line": {
          "color": "blue",
          "width": 2
         },
         "marker": {
          "color": "red",
          "size": 8
         },
         "mode": "lines+markers",
         "name": "Path 182 (Gen 11, Fitness 320.7738877296448)",
         "text": "Gen 11, Path 182",
         "type": "scatter",
         "x": [
          0,
          203.7274808403702,
          92.59473780803415,
          88.78648537253655,
          87.65199747673113,
          431.43883519944836,
          100
         ],
         "y": [
          0,
          251.96403296153687,
          111.06091617330699,
          30.593041887536526,
          21.41028898256981,
          339.81377656540917,
          100
         ]
        },
        {
         "hoverinfo": "text+x+y",
         "line": {
          "color": "blue",
          "width": 2
         },
         "marker": {
          "color": "red",
          "size": 8
         },
         "mode": "lines+markers",
         "name": "Path 183 (Gen 11, Fitness 326.2599301338196)",
         "text": "Gen 11, Path 183",
         "type": "scatter",
         "x": [
          0,
          203.7274808403702,
          92.59473780803415,
          135.02100257200715,
          371.8314786170018,
          431.43883519944836,
          100
         ],
         "y": [
          0,
          251.96403296153687,
          111.06091617330699,
          165.15897974584024,
          442.31375202069296,
          339.81377656540917,
          100
         ]
        },
        {
         "hoverinfo": "text+x+y",
         "line": {
          "color": "blue",
          "width": 2
         },
         "marker": {
          "color": "red",
          "size": 8
         },
         "mode": "lines+markers",
         "name": "Path 184 (Gen 11, Fitness 356.31077308654784)",
         "text": "Gen 11, Path 184",
         "type": "scatter",
         "x": [
          0,
          233.3794239111315,
          251.19148706658055,
          88.78648537253655,
          371.8314786170018,
          431.43883519944836,
          100
         ],
         "y": [
          0,
          151.99228453673555,
          337.0356075085056,
          30.593041887536526,
          442.31375202069296,
          339.81377656540917,
          100
         ]
        },
        {
         "hoverinfo": "text+x+y",
         "line": {
          "color": "blue",
          "width": 2
         },
         "marker": {
          "color": "red",
          "size": 8
         },
         "mode": "lines+markers",
         "name": "Path 185 (Gen 11, Fitness 345.62020149230955)",
         "text": "Gen 11, Path 185",
         "type": "scatter",
         "x": [
          0,
          233.3794239111315,
          251.19148706658055,
          88.78648537253655,
          87.65199747673113,
          431.43883519944836,
          100
         ],
         "y": [
          0,
          151.99228453673555,
          337.0356075085056,
          30.593041887536526,
          21.41028898256981,
          339.81377656540917,
          100
         ]
        },
        {
         "hoverinfo": "text+x+y",
         "line": {
          "color": "blue",
          "width": 2
         },
         "marker": {
          "color": "red",
          "size": 8
         },
         "mode": "lines+markers",
         "name": "Path 186 (Gen 11, Fitness 339.1011878967285)",
         "text": "Gen 11, Path 186",
         "type": "scatter",
         "x": [
          0,
          203.7274808403702,
          251.19148706658055,
          258.4818182140878,
          371.8314786170018,
          431.43883519944836,
          100
         ],
         "y": [
          0,
          251.96403296153687,
          337.0356075085056,
          386.9801918472952,
          442.31375202069296,
          339.81377656540917,
          100
         ]
        },
        {
         "hoverinfo": "text+x+y",
         "line": {
          "color": "blue",
          "width": 2
         },
         "marker": {
          "color": "red",
          "size": 8
         },
         "mode": "lines+markers",
         "name": "Path 187 (Gen 11, Fitness 343.3354742527008)",
         "text": "Gen 11, Path 187",
         "type": "scatter",
         "x": [
          0,
          203.7274808403702,
          92.59473780803415,
          93.08850123719833,
          371.8314786170018,
          85.91526839286763,
          100
         ],
         "y": [
          0,
          251.96403296153687,
          111.06091617330699,
          62.536120297744645,
          442.31375202069296,
          60.524845299070165,
          100
         ]
        },
        {
         "hoverinfo": "text+x+y",
         "line": {
          "color": "blue",
          "width": 2
         },
         "marker": {
          "color": "red",
          "size": 8
         },
         "mode": "lines+markers",
         "name": "Path 188 (Gen 11, Fitness 333.313134765625)",
         "text": "Gen 11, Path 188",
         "type": "scatter",
         "x": [
          0,
          203.7274808403702,
          251.19148706658055,
          88.78648537253655,
          87.65199747673113,
          431.43883519944836,
          100
         ],
         "y": [
          0,
          251.96403296153687,
          337.0356075085056,
          30.593041887536526,
          21.41028898256981,
          339.81377656540917,
          100
         ]
        },
        {
         "hoverinfo": "text+x+y",
         "line": {
          "color": "blue",
          "width": 2
         },
         "marker": {
          "color": "red",
          "size": 8
         },
         "mode": "lines+markers",
         "name": "Path 189 (Gen 11, Fitness 339.1011878967285)",
         "text": "Gen 11, Path 189",
         "type": "scatter",
         "x": [
          0,
          203.7274808403702,
          251.19148706658055,
          258.4818182140878,
          371.8314786170018,
          431.43883519944836,
          100
         ],
         "y": [
          0,
          251.96403296153687,
          337.0356075085056,
          386.9801918472952,
          442.31375202069296,
          339.81377656540917,
          100
         ]
        },
        {
         "hoverinfo": "text+x+y",
         "line": {
          "color": "blue",
          "width": 2
         },
         "marker": {
          "color": "red",
          "size": 8
         },
         "mode": "lines+markers",
         "name": "Path 190 (Gen 11, Fitness 357.7735065460205)",
         "text": "Gen 11, Path 190",
         "type": "scatter",
         "x": [
          0,
          233.3794239111315,
          92.59473780803415,
          258.4818182140878,
          371.8314786170018,
          431.43883519944836,
          100
         ],
         "y": [
          0,
          151.99228453673555,
          111.06091617330699,
          386.9801918472952,
          442.31375202069296,
          339.81377656540917,
          100
         ]
        },
        {
         "hoverinfo": "text+x+y",
         "line": {
          "color": "blue",
          "width": 2
         },
         "marker": {
          "color": "red",
          "size": 8
         },
         "mode": "lines+markers",
         "name": "Path 191 (Gen 0, Fitness 0.0)",
         "text": "Gen 0, Path 191",
         "type": "scatter",
         "x": [
          0,
          57.69603383588185,
          71.52563338611043,
          131.67327893609962,
          131.67327893609962,
          166.0308109437717,
          100
         ],
         "y": [
          0,
          0,
          0,
          0,
          65.95618182663857,
          65.95618182663857,
          100
         ]
        },
        {
         "hoverinfo": "text+x+y",
         "line": {
          "color": "blue",
          "width": 2
         },
         "marker": {
          "color": "red",
          "size": 8
         },
         "mode": "lines+markers",
         "name": "Path 192 (Gen 12, Fitness 371.7083557128906)",
         "text": "Gen 12, Path 192",
         "type": "scatter",
         "x": [
          0,
          233.3794239111315,
          92.59473780803415,
          258.4818182140878,
          371.8314786170018,
          431.43883519944836,
          100
         ],
         "y": [
          0,
          151.99228453673555,
          111.06091617330699,
          386.9801918472952,
          442.31375202069296,
          339.81377656540917,
          100
         ]
        },
        {
         "hoverinfo": "text+x+y",
         "line": {
          "color": "blue",
          "width": 2
         },
         "marker": {
          "color": "red",
          "size": 8
         },
         "mode": "lines+markers",
         "name": "Path 193 (Gen 12, Fitness 330.6719654083252)",
         "text": "Gen 12, Path 193",
         "type": "scatter",
         "x": [
          0,
          203.7274808403702,
          251.19148706658055,
          135.02100257200715,
          371.8314786170018,
          431.43883519944836,
          100
         ],
         "y": [
          0,
          251.96403296153687,
          337.0356075085056,
          165.15897974584024,
          442.31375202069296,
          339.81377656540917,
          100
         ]
        },
        {
         "hoverinfo": "text+x+y",
         "line": {
          "color": "blue",
          "width": 2
         },
         "marker": {
          "color": "red",
          "size": 8
         },
         "mode": "lines+markers",
         "name": "Path 194 (Gen 12, Fitness 348.0215518951416)",
         "text": "Gen 12, Path 194",
         "type": "scatter",
         "x": [
          0,
          233.3794239111315,
          251.19148706658055,
          135.02100257200715,
          371.8314786170018,
          431.43883519944836,
          100
         ],
         "y": [
          0,
          151.99228453673555,
          337.0356075085056,
          165.15897974584024,
          442.31375202069296,
          339.81377656540917,
          100
         ]
        },
        {
         "hoverinfo": "text+x+y",
         "line": {
          "color": "blue",
          "width": 2
         },
         "marker": {
          "color": "red",
          "size": 8
         },
         "mode": "lines+markers",
         "name": "Path 195 (Gen 12, Fitness 339.84496574401857)",
         "text": "Gen 12, Path 195",
         "type": "scatter",
         "x": [
          0,
          203.7274808403702,
          251.19148706658055,
          88.78648537253655,
          87.65199747673113,
          431.43883519944836,
          100
         ],
         "y": [
          0,
          251.96403296153687,
          337.0356075085056,
          30.593041887536526,
          21.41028898256981,
          339.81377656540917,
          100
         ]
        },
        {
         "hoverinfo": "text+x+y",
         "line": {
          "color": "blue",
          "width": 2
         },
         "marker": {
          "color": "red",
          "size": 8
         },
         "mode": "lines+markers",
         "name": "Path 196 (Gen 12, Fitness 371.8180324554443)",
         "text": "Gen 12, Path 196",
         "type": "scatter",
         "x": [
          0,
          233.3794239111315,
          251.19148706658055,
          88.78648537253655,
          371.8314786170018,
          431.43883519944836,
          100
         ],
         "y": [
          0,
          151.99228453673555,
          337.0356075085056,
          30.593041887536526,
          442.31375202069296,
          339.81377656540917,
          100
         ]
        },
        {
         "hoverinfo": "text+x+y",
         "line": {
          "color": "blue",
          "width": 2
         },
         "marker": {
          "color": "red",
          "size": 8
         },
         "mode": "lines+markers",
         "name": "Path 197 (Gen 12, Fitness 353.9342148780823)",
         "text": "Gen 12, Path 197",
         "type": "scatter",
         "x": [
          0,
          203.7274808403702,
          92.59473780803415,
          93.08850123719833,
          371.8314786170018,
          85.91526839286763,
          100
         ],
         "y": [
          0,
          251.96403296153687,
          111.06091617330699,
          62.536120297744645,
          442.31375202069296,
          60.524845299070165,
          100
         ]
        },
        {
         "hoverinfo": "text+x+y",
         "line": {
          "color": "blue",
          "width": 2
         },
         "marker": {
          "color": "red",
          "size": 8
         },
         "mode": "lines+markers",
         "name": "Path 198 (Gen 12, Fitness 348.0215518951416)",
         "text": "Gen 12, Path 198",
         "type": "scatter",
         "x": [
          0,
          233.3794239111315,
          251.19148706658055,
          135.02100257200715,
          371.8314786170018,
          431.43883519944836,
          100
         ],
         "y": [
          0,
          151.99228453673555,
          337.0356075085056,
          165.15897974584024,
          442.31375202069296,
          339.81377656540917,
          100
         ]
        },
        {
         "hoverinfo": "text+x+y",
         "line": {
          "color": "blue",
          "width": 2
         },
         "marker": {
          "color": "red",
          "size": 8
         },
         "mode": "lines+markers",
         "name": "Path 199 (Gen 12, Fitness 362.8299034118653)",
         "text": "Gen 12, Path 199",
         "type": "scatter",
         "x": [
          0,
          233.3794239111315,
          251.19148706658055,
          258.4818182140878,
          371.8314786170018,
          431.43883519944836,
          100
         ],
         "y": [
          0,
          151.99228453673555,
          337.0356075085056,
          386.9801918472952,
          442.31375202069296,
          339.81377656540917,
          100
         ]
        },
        {
         "hoverinfo": "text+x+y",
         "line": {
          "color": "blue",
          "width": 2
         },
         "marker": {
          "color": "red",
          "size": 8
         },
         "mode": "lines+markers",
         "name": "Path 200 (Gen 12, Fitness 362.8299034118653)",
         "text": "Gen 12, Path 200",
         "type": "scatter",
         "x": [
          0,
          233.3794239111315,
          251.19148706658055,
          258.4818182140878,
          371.8314786170018,
          431.43883519944836,
          100
         ],
         "y": [
          0,
          151.99228453673555,
          337.0356075085056,
          386.9801918472952,
          442.31375202069296,
          339.81377656540917,
          100
         ]
        },
        {
         "hoverinfo": "text+x+y",
         "line": {
          "color": "blue",
          "width": 2
         },
         "marker": {
          "color": "red",
          "size": 8
         },
         "mode": "lines+markers",
         "name": "Path 201 (Gen 12, Fitness 362.8299034118653)",
         "text": "Gen 12, Path 201",
         "type": "scatter",
         "x": [
          0,
          233.3794239111315,
          251.19148706658055,
          258.4818182140878,
          371.8314786170018,
          431.43883519944836,
          100
         ],
         "y": [
          0,
          151.99228453673555,
          337.0356075085056,
          386.9801918472952,
          442.31375202069296,
          339.81377656540917,
          100
         ]
        },
        {
         "hoverinfo": "text+x+y",
         "line": {
          "color": "blue",
          "width": 2
         },
         "marker": {
          "color": "red",
          "size": 8
         },
         "mode": "lines+markers",
         "name": "Path 202 (Gen 12, Fitness 357.2987689971924)",
         "text": "Gen 12, Path 202",
         "type": "scatter",
         "x": [
          0,
          203.7274808403702,
          251.19148706658055,
          135.02100257200715,
          87.65199747673113,
          431.43883519944836,
          100
         ],
         "y": [
          0,
          251.96403296153687,
          337.0356075085056,
          165.15897974584024,
          21.41028898256981,
          339.81377656540917,
          100
         ]
        },
        {
         "hoverinfo": "text+x+y",
         "line": {
          "color": "blue",
          "width": 2
         },
         "marker": {
          "color": "red",
          "size": 8
         },
         "mode": "lines+markers",
         "name": "Path 203 (Gen 12, Fitness 358.68116092681885)",
         "text": "Gen 12, Path 203",
         "type": "scatter",
         "x": [
          0,
          233.3794239111315,
          251.19148706658055,
          88.78648537253655,
          87.65199747673113,
          431.43883519944836,
          100
         ],
         "y": [
          0,
          151.99228453673555,
          337.0356075085056,
          30.593041887536526,
          21.41028898256981,
          339.81377656540917,
          100
         ]
        },
        {
         "hoverinfo": "text+x+y",
         "line": {
          "color": "blue",
          "width": 2
         },
         "marker": {
          "color": "red",
          "size": 8
         },
         "mode": "lines+markers",
         "name": "Path 204 (Gen 12, Fitness 344.3599695205688)",
         "text": "Gen 12, Path 204",
         "type": "scatter",
         "x": [
          0,
          203.7274808403702,
          251.19148706658055,
          88.78648537253655,
          87.65199747673113,
          431.43883519944836,
          100
         ],
         "y": [
          0,
          251.96403296153687,
          337.0356075085056,
          30.593041887536526,
          21.41028898256981,
          339.81377656540917,
          100
         ]
        },
        {
         "hoverinfo": "text+x+y",
         "line": {
          "color": "blue",
          "width": 2
         },
         "marker": {
          "color": "red",
          "size": 8
         },
         "mode": "lines+markers",
         "name": "Path 205 (Gen 12, Fitness 358.68116092681885)",
         "text": "Gen 12, Path 205",
         "type": "scatter",
         "x": [
          0,
          233.3794239111315,
          251.19148706658055,
          88.78648537253655,
          87.65199747673113,
          431.43883519944836,
          100
         ],
         "y": [
          0,
          151.99228453673555,
          337.0356075085056,
          30.593041887536526,
          21.41028898256981,
          339.81377656540917,
          100
         ]
        },
        {
         "hoverinfo": "text+x+y",
         "line": {
          "color": "blue",
          "width": 2
         },
         "marker": {
          "color": "red",
          "size": 8
         },
         "mode": "lines+markers",
         "name": "Path 206 (Gen 12, Fitness 375.4437507629394)",
         "text": "Gen 12, Path 206",
         "type": "scatter",
         "x": [
          0,
          203.7274808403702,
          251.19148706658055,
          93.08850123719833,
          371.8314786170018,
          85.91526839286763,
          100
         ],
         "y": [
          0,
          251.96403296153687,
          337.0356075085056,
          62.536120297744645,
          442.31375202069296,
          60.524845299070165,
          100
         ]
        },
        {
         "hoverinfo": "text+x+y",
         "line": {
          "color": "blue",
          "width": 2
         },
         "marker": {
          "color": "red",
          "size": 8
         },
         "mode": "lines+markers",
         "name": "Path 207 (Gen 0, Fitness 0.0)",
         "text": "Gen 0, Path 207",
         "type": "scatter",
         "x": [
          0,
          57.69603383588185,
          71.52563338611043,
          131.67327893609962,
          131.67327893609962,
          166.0308109437717,
          100
         ],
         "y": [
          0,
          0,
          0,
          0,
          65.95618182663857,
          65.95618182663857,
          100
         ]
        },
        {
         "hoverinfo": "text+x+y",
         "line": {
          "color": "blue",
          "width": 2
         },
         "marker": {
          "color": "red",
          "size": 8
         },
         "mode": "lines+markers",
         "name": "Path 208 (Gen 13, Fitness 358.68116092681885)",
         "text": "Gen 13, Path 208",
         "type": "scatter",
         "x": [
          0,
          233.3794239111315,
          251.19148706658055,
          88.78648537253655,
          87.65199747673113,
          431.43883519944836,
          100
         ],
         "y": [
          0,
          151.99228453673555,
          337.0356075085056,
          30.593041887536526,
          21.41028898256981,
          339.81377656540917,
          100
         ]
        },
        {
         "hoverinfo": "text+x+y",
         "line": {
          "color": "blue",
          "width": 2
         },
         "marker": {
          "color": "red",
          "size": 8
         },
         "mode": "lines+markers",
         "name": "Path 209 (Gen 13, Fitness 380.3758499145508)",
         "text": "Gen 13, Path 209",
         "type": "scatter",
         "x": [
          0,
          233.3794239111315,
          92.59473780803415,
          258.4818182140878,
          371.8314786170018,
          431.43883519944836,
          100
         ],
         "y": [
          0,
          151.99228453673555,
          111.06091617330699,
          386.9801918472952,
          442.31375202069296,
          339.81377656540917,
          100
         ]
        },
        {
         "hoverinfo": "text+x+y",
         "line": {
          "color": "blue",
          "width": 2
         },
         "marker": {
          "color": "red",
          "size": 8
         },
         "mode": "lines+markers",
         "name": "Path 210 (Gen 13, Fitness 335.825252532959)",
         "text": "Gen 13, Path 210",
         "type": "scatter",
         "x": [
          0,
          203.7274808403702,
          251.19148706658055,
          135.02100257200715,
          371.8314786170018,
          431.43883519944836,
          100
         ],
         "y": [
          0,
          251.96403296153687,
          337.0356075085056,
          165.15897974584024,
          442.31375202069296,
          339.81377656540917,
          100
         ]
        },
        {
         "hoverinfo": "text+x+y",
         "line": {
          "color": "blue",
          "width": 2
         },
         "marker": {
          "color": "red",
          "size": 8
         },
         "mode": "lines+markers",
         "name": "Path 211 (Gen 13, Fitness 371.0703939437866)",
         "text": "Gen 13, Path 211",
         "type": "scatter",
         "x": [
          0,
          233.3794239111315,
          251.19148706658055,
          88.78648537253655,
          87.65199747673113,
          431.43883519944836,
          100
         ],
         "y": [
          0,
          151.99228453673555,
          337.0356075085056,
          30.593041887536526,
          21.41028898256981,
          339.81377656540917,
          100
         ]
        },
        {
         "hoverinfo": "text+x+y",
         "line": {
          "color": "blue",
          "width": 2
         },
         "marker": {
          "color": "red",
          "size": 8
         },
         "mode": "lines+markers",
         "name": "Path 212 (Gen 13, Fitness 364.4510231018066)",
         "text": "Gen 13, Path 212",
         "type": "scatter",
         "x": [
          0,
          203.7274808403702,
          251.19148706658055,
          88.78648537253655,
          371.8314786170018,
          431.43883519944836,
          100
         ],
         "y": [
          0,
          251.96403296153687,
          337.0356075085056,
          30.593041887536526,
          442.31375202069296,
          339.81377656540917,
          100
         ]
        },
        {
         "hoverinfo": "text+x+y",
         "line": {
          "color": "blue",
          "width": 2
         },
         "marker": {
          "color": "red",
          "size": 8
         },
         "mode": "lines+markers",
         "name": "Path 213 (Gen 13, Fitness 390.17390136718745)",
         "text": "Gen 13, Path 213",
         "type": "scatter",
         "x": [
          0,
          233.3794239111315,
          92.59473780803415,
          93.08850123719833,
          371.8314786170018,
          85.91526839286763,
          100
         ],
         "y": [
          0,
          151.99228453673555,
          111.06091617330699,
          62.536120297744645,
          442.31375202069296,
          60.524845299070165,
          100
         ]
        },
        {
         "hoverinfo": "text+x+y",
         "line": {
          "color": "blue",
          "width": 2
         },
         "marker": {
          "color": "red",
          "size": 8
         },
         "mode": "lines+markers",
         "name": "Path 214 (Gen 13, Fitness 382.8070465087891)",
         "text": "Gen 13, Path 214",
         "type": "scatter",
         "x": [
          0,
          233.3794239111315,
          251.19148706658055,
          258.4818182140878,
          371.8314786170018,
          431.43883519944836,
          100
         ],
         "y": [
          0,
          151.99228453673555,
          337.0356075085056,
          386.9801918472952,
          442.31375202069296,
          339.81377656540917,
          100
         ]
        },
        {
         "hoverinfo": "text+x+y",
         "line": {
          "color": "blue",
          "width": 2
         },
         "marker": {
          "color": "red",
          "size": 8
         },
         "mode": "lines+markers",
         "name": "Path 215 (Gen 13, Fitness 388.708519744873)",
         "text": "Gen 13, Path 215",
         "type": "scatter",
         "x": [
          0,
          233.3794239111315,
          92.59473780803415,
          258.4818182140878,
          371.8314786170018,
          431.43883519944836,
          100
         ],
         "y": [
          0,
          151.99228453673555,
          111.06091617330699,
          386.9801918472952,
          442.31375202069296,
          339.81377656540917,
          100
         ]
        },
        {
         "hoverinfo": "text+x+y",
         "line": {
          "color": "blue",
          "width": 2
         },
         "marker": {
          "color": "red",
          "size": 8
         },
         "mode": "lines+markers",
         "name": "Path 216 (Gen 13, Fitness 363.6578033447266)",
         "text": "Gen 13, Path 216",
         "type": "scatter",
         "x": [
          0,
          203.7274808403702,
          251.19148706658055,
          258.4818182140878,
          371.8314786170018,
          431.43883519944836,
          100
         ],
         "y": [
          0,
          251.96403296153687,
          337.0356075085056,
          386.9801918472952,
          442.31375202069296,
          339.81377656540917,
          100
         ]
        },
        {
         "hoverinfo": "text+x+y",
         "line": {
          "color": "blue",
          "width": 2
         },
         "marker": {
          "color": "red",
          "size": 8
         },
         "mode": "lines+markers",
         "name": "Path 217 (Gen 13, Fitness 402.98472328186034)",
         "text": "Gen 13, Path 217",
         "type": "scatter",
         "x": [
          0,
          233.3794239111315,
          251.19148706658055,
          88.78648537253655,
          371.8314786170018,
          431.43883519944836,
          100
         ],
         "y": [
          0,
          151.99228453673555,
          337.0356075085056,
          30.593041887536526,
          442.31375202069296,
          339.81377656540917,
          100
         ]
        },
        {
         "hoverinfo": "text+x+y",
         "line": {
          "color": "blue",
          "width": 2
         },
         "marker": {
          "color": "red",
          "size": 8
         },
         "mode": "lines+markers",
         "name": "Path 218 (Gen 13, Fitness 371.1253496170044)",
         "text": "Gen 13, Path 218",
         "type": "scatter",
         "x": [
          0,
          203.7274808403702,
          251.19148706658055,
          135.02100257200715,
          87.65199747673113,
          431.43883519944836,
          100
         ],
         "y": [
          0,
          251.96403296153687,
          337.0356075085056,
          165.15897974584024,
          21.41028898256981,
          339.81377656540917,
          100
         ]
        },
        {
         "hoverinfo": "text+x+y",
         "line": {
          "color": "blue",
          "width": 2
         },
         "marker": {
          "color": "red",
          "size": 8
         },
         "mode": "lines+markers",
         "name": "Path 219 (Gen 13, Fitness 387.01818962097167)",
         "text": "Gen 13, Path 219",
         "type": "scatter",
         "x": [
          0,
          233.3794239111315,
          251.19148706658055,
          258.4818182140878,
          371.8314786170018,
          431.43883519944836,
          100
         ],
         "y": [
          0,
          151.99228453673555,
          337.0356075085056,
          386.9801918472952,
          442.31375202069296,
          339.81377656540917,
          100
         ]
        },
        {
         "hoverinfo": "text+x+y",
         "line": {
          "color": "blue",
          "width": 2
         },
         "marker": {
          "color": "red",
          "size": 8
         },
         "mode": "lines+markers",
         "name": "Path 220 (Gen 13, Fitness 372.5414472579956)",
         "text": "Gen 13, Path 220",
         "type": "scatter",
         "x": [
          0,
          233.3794239111315,
          251.19148706658055,
          135.02100257200715,
          371.8314786170018,
          431.43883519944836,
          100
         ],
         "y": [
          0,
          151.99228453673555,
          337.0356075085056,
          165.15897974584024,
          442.31375202069296,
          339.81377656540917,
          100
         ]
        },
        {
         "hoverinfo": "text+x+y",
         "line": {
          "color": "blue",
          "width": 2
         },
         "marker": {
          "color": "red",
          "size": 8
         },
         "mode": "lines+markers",
         "name": "Path 221 (Gen 13, Fitness 402.98472328186034)",
         "text": "Gen 13, Path 221",
         "type": "scatter",
         "x": [
          0,
          233.3794239111315,
          251.19148706658055,
          88.78648537253655,
          371.8314786170018,
          431.43883519944836,
          100
         ],
         "y": [
          0,
          151.99228453673555,
          337.0356075085056,
          30.593041887536526,
          442.31375202069296,
          339.81377656540917,
          100
         ]
        },
        {
         "hoverinfo": "text+x+y",
         "line": {
          "color": "blue",
          "width": 2
         },
         "marker": {
          "color": "red",
          "size": 8
         },
         "mode": "lines+markers",
         "name": "Path 222 (Gen 13, Fitness 367.6049308300018)",
         "text": "Gen 13, Path 222",
         "type": "scatter",
         "x": [
          0,
          203.7274808403702,
          92.59473780803415,
          88.78648537253655,
          371.8314786170018,
          431.43883519944836,
          100
         ],
         "y": [
          0,
          251.96403296153687,
          111.06091617330699,
          30.593041887536526,
          442.31375202069296,
          339.81377656540917,
          100
         ]
        },
        {
         "hoverinfo": "text+x+y",
         "line": {
          "color": "blue",
          "width": 2
         },
         "marker": {
          "color": "red",
          "size": 8
         },
         "mode": "lines+markers",
         "name": "Path 223 (Gen 0, Fitness 0.0)",
         "text": "Gen 0, Path 223",
         "type": "scatter",
         "x": [
          0,
          57.69603383588185,
          71.52563338611043,
          131.67327893609962,
          131.67327893609962,
          166.0308109437717,
          100
         ],
         "y": [
          0,
          0,
          0,
          0,
          65.95618182663857,
          65.95618182663857,
          100
         ]
        },
        {
         "hoverinfo": "text+x+y",
         "line": {
          "color": "blue",
          "width": 2
         },
         "marker": {
          "color": "red",
          "size": 8
         },
         "mode": "lines+markers",
         "name": "Path 224 (Gen 14, Fitness 389.2399942398071)",
         "text": "Gen 14, Path 224",
         "type": "scatter",
         "x": [
          0,
          233.3794239111315,
          92.59473780803415,
          93.08850123719833,
          371.8314786170018,
          431.43883519944836,
          100
         ],
         "y": [
          0,
          151.99228453673555,
          111.06091617330699,
          62.536120297744645,
          442.31375202069296,
          339.81377656540917,
          100
         ]
        },
        {
         "hoverinfo": "text+x+y",
         "line": {
          "color": "blue",
          "width": 2
         },
         "marker": {
          "color": "red",
          "size": 8
         },
         "mode": "lines+markers",
         "name": "Path 225 (Gen 14, Fitness 363.6578033447266)",
         "text": "Gen 14, Path 225",
         "type": "scatter",
         "x": [
          0,
          203.7274808403702,
          251.19148706658055,
          258.4818182140878,
          371.8314786170018,
          431.43883519944836,
          100
         ],
         "y": [
          0,
          251.96403296153687,
          337.0356075085056,
          386.9801918472952,
          442.31375202069296,
          339.81377656540917,
          100
         ]
        },
        {
         "hoverinfo": "text+x+y",
         "line": {
          "color": "blue",
          "width": 2
         },
         "marker": {
          "color": "red",
          "size": 8
         },
         "mode": "lines+markers",
         "name": "Path 226 (Gen 14, Fitness 393.9751628875732)",
         "text": "Gen 14, Path 226",
         "type": "scatter",
         "x": [
          0,
          233.3794239111315,
          92.59473780803415,
          258.4818182140878,
          371.8314786170018,
          431.43883519944836,
          100
         ],
         "y": [
          0,
          151.99228453673555,
          111.06091617330699,
          386.9801918472952,
          442.31375202069296,
          339.81377656540917,
          100
         ]
        },
        {
         "hoverinfo": "text+x+y",
         "line": {
          "color": "blue",
          "width": 2
         },
         "marker": {
          "color": "red",
          "size": 8
         },
         "mode": "lines+markers",
         "name": "Path 227 (Gen 14, Fitness 387.01818962097167)",
         "text": "Gen 14, Path 227",
         "type": "scatter",
         "x": [
          0,
          233.3794239111315,
          251.19148706658055,
          258.4818182140878,
          371.8314786170018,
          431.43883519944836,
          100
         ],
         "y": [
          0,
          151.99228453673555,
          337.0356075085056,
          386.9801918472952,
          442.31375202069296,
          339.81377656540917,
          100
         ]
        },
        {
         "hoverinfo": "text+x+y",
         "line": {
          "color": "blue",
          "width": 2
         },
         "marker": {
          "color": "red",
          "size": 8
         },
         "mode": "lines+markers",
         "name": "Path 228 (Gen 14, Fitness 363.6578033447266)",
         "text": "Gen 14, Path 228",
         "type": "scatter",
         "x": [
          0,
          203.7274808403702,
          251.19148706658055,
          258.4818182140878,
          371.8314786170018,
          431.43883519944836,
          100
         ],
         "y": [
          0,
          251.96403296153687,
          337.0356075085056,
          386.9801918472952,
          442.31375202069296,
          339.81377656540917,
          100
         ]
        },
        {
         "hoverinfo": "text+x+y",
         "line": {
          "color": "blue",
          "width": 2
         },
         "marker": {
          "color": "red",
          "size": 8
         },
         "mode": "lines+markers",
         "name": "Path 229 (Gen 14, Fitness 371.1253496170044)",
         "text": "Gen 14, Path 229",
         "type": "scatter",
         "x": [
          0,
          203.7274808403702,
          251.19148706658055,
          135.02100257200715,
          87.65199747673113,
          431.43883519944836,
          100
         ],
         "y": [
          0,
          251.96403296153687,
          337.0356075085056,
          165.15897974584024,
          21.41028898256981,
          339.81377656540917,
          100
         ]
        },
        {
         "hoverinfo": "text+x+y",
         "line": {
          "color": "blue",
          "width": 2
         },
         "marker": {
          "color": "red",
          "size": 8
         },
         "mode": "lines+markers",
         "name": "Path 230 (Gen 14, Fitness 367.6049308300018)",
         "text": "Gen 14, Path 230",
         "type": "scatter",
         "x": [
          0,
          203.7274808403702,
          92.59473780803415,
          88.78648537253655,
          371.8314786170018,
          431.43883519944836,
          100
         ],
         "y": [
          0,
          251.96403296153687,
          111.06091617330699,
          30.593041887536526,
          442.31375202069296,
          339.81377656540917,
          100
         ]
        },
        {
         "hoverinfo": "text+x+y",
         "line": {
          "color": "blue",
          "width": 2
         },
         "marker": {
          "color": "red",
          "size": 8
         },
         "mode": "lines+markers",
         "name": "Path 231 (Gen 14, Fitness 386.58107452392574)",
         "text": "Gen 14, Path 231",
         "type": "scatter",
         "x": [
          0,
          233.3794239111315,
          251.19148706658055,
          258.4818182140878,
          371.8314786170018,
          431.43883519944836,
          100
         ],
         "y": [
          0,
          151.99228453673555,
          337.0356075085056,
          386.9801918472952,
          442.31375202069296,
          339.81377656540917,
          100
         ]
        },
        {
         "hoverinfo": "text+x+y",
         "line": {
          "color": "blue",
          "width": 2
         },
         "marker": {
          "color": "red",
          "size": 8
         },
         "mode": "lines+markers",
         "name": "Path 232 (Gen 14, Fitness 396.8483640670776)",
         "text": "Gen 14, Path 232",
         "type": "scatter",
         "x": [
          0,
          233.3794239111315,
          92.59473780803415,
          93.08850123719833,
          371.8314786170018,
          431.43883519944836,
          100
         ],
         "y": [
          0,
          151.99228453673555,
          111.06091617330699,
          62.536120297744645,
          442.31375202069296,
          339.81377656540917,
          100
         ]
        },
        {
         "hoverinfo": "text+x+y",
         "line": {
          "color": "blue",
          "width": 2
         },
         "marker": {
          "color": "red",
          "size": 8
         },
         "mode": "lines+markers",
         "name": "Path 233 (Gen 14, Fitness 390.9820087432861)",
         "text": "Gen 14, Path 233",
         "type": "scatter",
         "x": [
          0,
          203.7274808403702,
          251.19148706658055,
          88.78648537253655,
          371.8314786170018,
          431.43883519944836,
          100
         ],
         "y": [
          0,
          251.96403296153687,
          337.0356075085056,
          30.593041887536526,
          442.31375202069296,
          339.81377656540917,
          100
         ]
        },
        {
         "hoverinfo": "text+x+y",
         "line": {
          "color": "blue",
          "width": 2
         },
         "marker": {
          "color": "red",
          "size": 8
         },
         "mode": "lines+markers",
         "name": "Path 234 (Gen 14, Fitness 372.8122221946716)",
         "text": "Gen 14, Path 234",
         "type": "scatter",
         "x": [
          0,
          233.3794239111315,
          251.19148706658055,
          135.02100257200715,
          371.8314786170018,
          431.43883519944836,
          100
         ],
         "y": [
          0,
          151.99228453673555,
          337.0356075085056,
          165.15897974584024,
          442.31375202069296,
          339.81377656540917,
          100
         ]
        },
        {
         "hoverinfo": "text+x+y",
         "line": {
          "color": "blue",
          "width": 2
         },
         "marker": {
          "color": "red",
          "size": 8
         },
         "mode": "lines+markers",
         "name": "Path 235 (Gen 14, Fitness 410.8616310119629)",
         "text": "Gen 14, Path 235",
         "type": "scatter",
         "x": [
          0,
          233.3794239111315,
          251.19148706658055,
          88.78648537253655,
          371.8314786170018,
          431.43883519944836,
          100
         ],
         "y": [
          0,
          151.99228453673555,
          337.0356075085056,
          30.593041887536526,
          442.31375202069296,
          339.81377656540917,
          100
         ]
        },
        {
         "hoverinfo": "text+x+y",
         "line": {
          "color": "blue",
          "width": 2
         },
         "marker": {
          "color": "red",
          "size": 8
         },
         "mode": "lines+markers",
         "name": "Path 236 (Gen 14, Fitness 402.6009742736816)",
         "text": "Gen 14, Path 236",
         "type": "scatter",
         "x": [
          0,
          233.3794239111315,
          92.59473780803415,
          258.4818182140878,
          371.8314786170018,
          431.43883519944836,
          100
         ],
         "y": [
          0,
          151.99228453673555,
          111.06091617330699,
          386.9801918472952,
          442.31375202069296,
          339.81377656540917,
          100
         ]
        },
        {
         "hoverinfo": "text+x+y",
         "line": {
          "color": "blue",
          "width": 2
         },
         "marker": {
          "color": "red",
          "size": 8
         },
         "mode": "lines+markers",
         "name": "Path 237 (Gen 14, Fitness 419.4866722106933)",
         "text": "Gen 14, Path 237",
         "type": "scatter",
         "x": [
          0,
          233.3794239111315,
          251.19148706658055,
          88.78648537253655,
          371.8314786170018,
          431.43883519944836,
          100
         ],
         "y": [
          0,
          151.99228453673555,
          337.0356075085056,
          30.593041887536526,
          442.31375202069296,
          339.81377656540917,
          100
         ]
        },
        {
         "hoverinfo": "text+x+y",
         "line": {
          "color": "blue",
          "width": 2
         },
         "marker": {
          "color": "red",
          "size": 8
         },
         "mode": "lines+markers",
         "name": "Path 238 (Gen 14, Fitness 392.1673683166504)",
         "text": "Gen 14, Path 238",
         "type": "scatter",
         "x": [
          0,
          233.3794239111315,
          251.19148706658055,
          258.4818182140878,
          371.8314786170018,
          431.43883519944836,
          100
         ],
         "y": [
          0,
          151.99228453673555,
          337.0356075085056,
          386.9801918472952,
          442.31375202069296,
          339.81377656540917,
          100
         ]
        },
        {
         "hoverinfo": "text+x+y",
         "line": {
          "color": "blue",
          "width": 2
         },
         "marker": {
          "color": "red",
          "size": 8
         },
         "mode": "lines+markers",
         "name": "Path 239 (Gen 0, Fitness 0.0)",
         "text": "Gen 0, Path 239",
         "type": "scatter",
         "x": [
          0,
          57.69603383588185,
          71.52563338611043,
          131.67327893609962,
          131.67327893609962,
          166.0308109437717,
          100
         ],
         "y": [
          0,
          0,
          0,
          0,
          65.95618182663857,
          65.95618182663857,
          100
         ]
        },
        {
         "hoverinfo": "text+x+y",
         "line": {
          "color": "blue",
          "width": 2
         },
         "marker": {
          "color": "red",
          "size": 8
         },
         "mode": "lines+markers",
         "name": "Path 240 (Gen 15, Fitness 369.181782913208)",
         "text": "Gen 15, Path 240",
         "type": "scatter",
         "x": [
          0,
          203.7274808403702,
          251.19148706658055,
          258.4818182140878,
          371.8314786170018,
          431.43883519944836,
          100
         ],
         "y": [
          0,
          251.96403296153687,
          337.0356075085056,
          386.9801918472952,
          442.31375202069296,
          339.81377656540917,
          100
         ]
        },
        {
         "hoverinfo": "text+x+y",
         "line": {
          "color": "blue",
          "width": 2
         },
         "marker": {
          "color": "red",
          "size": 8
         },
         "mode": "lines+markers",
         "name": "Path 241 (Gen 15, Fitness 392.1673683166504)",
         "text": "Gen 15, Path 241",
         "type": "scatter",
         "x": [
          0,
          233.3794239111315,
          251.19148706658055,
          258.4818182140878,
          371.8314786170018,
          431.43883519944836,
          100
         ],
         "y": [
          0,
          151.99228453673555,
          337.0356075085056,
          386.9801918472952,
          442.31375202069296,
          339.81377656540917,
          100
         ]
        },
        {
         "hoverinfo": "text+x+y",
         "line": {
          "color": "blue",
          "width": 2
         },
         "marker": {
          "color": "red",
          "size": 8
         },
         "mode": "lines+markers",
         "name": "Path 242 (Gen 15, Fitness 414.28304252624514)",
         "text": "Gen 15, Path 242",
         "type": "scatter",
         "x": [
          0,
          233.3794239111315,
          92.59473780803415,
          88.78648537253655,
          371.8314786170018,
          431.43883519944836,
          100
         ],
         "y": [
          0,
          151.99228453673555,
          111.06091617330699,
          30.593041887536526,
          442.31375202069296,
          339.81377656540917,
          100
         ]
        },
        {
         "hoverinfo": "text+x+y",
         "line": {
          "color": "blue",
          "width": 2
         },
         "marker": {
          "color": "red",
          "size": 8
         },
         "mode": "lines+markers",
         "name": "Path 243 (Gen 15, Fitness 419.4866722106933)",
         "text": "Gen 15, Path 243",
         "type": "scatter",
         "x": [
          0,
          233.3794239111315,
          251.19148706658055,
          88.78648537253655,
          371.8314786170018,
          431.43883519944836,
          100
         ],
         "y": [
          0,
          151.99228453673555,
          337.0356075085056,
          30.593041887536526,
          442.31375202069296,
          339.81377656540917,
          100
         ]
        },
        {
         "hoverinfo": "text+x+y",
         "line": {
          "color": "blue",
          "width": 2
         },
         "marker": {
          "color": "red",
          "size": 8
         },
         "mode": "lines+markers",
         "name": "Path 244 (Gen 15, Fitness 381.4487166404724)",
         "text": "Gen 15, Path 244",
         "type": "scatter",
         "x": [
          0,
          233.3794239111315,
          251.19148706658055,
          135.02100257200715,
          371.8314786170018,
          431.43883519944836,
          100
         ],
         "y": [
          0,
          151.99228453673555,
          337.0356075085056,
          165.15897974584024,
          442.31375202069296,
          339.81377656540917,
          100
         ]
        },
        {
         "hoverinfo": "text+x+y",
         "line": {
          "color": "blue",
          "width": 2
         },
         "marker": {
          "color": "red",
          "size": 8
         },
         "mode": "lines+markers",
         "name": "Path 245 (Gen 15, Fitness 381.4487166404724)",
         "text": "Gen 15, Path 245",
         "type": "scatter",
         "x": [
          0,
          233.3794239111315,
          251.19148706658055,
          135.02100257200715,
          371.8314786170018,
          431.43883519944836,
          100
         ],
         "y": [
          0,
          151.99228453673555,
          337.0356075085056,
          165.15897974584024,
          442.31375202069296,
          339.81377656540917,
          100
         ]
        },
        {
         "hoverinfo": "text+x+y",
         "line": {
          "color": "blue",
          "width": 2
         },
         "marker": {
          "color": "red",
          "size": 8
         },
         "mode": "lines+markers",
         "name": "Path 246 (Gen 15, Fitness 392.1673683166504)",
         "text": "Gen 15, Path 246",
         "type": "scatter",
         "x": [
          0,
          233.3794239111315,
          251.19148706658055,
          258.4818182140878,
          371.8314786170018,
          431.43883519944836,
          100
         ],
         "y": [
          0,
          151.99228453673555,
          337.0356075085056,
          386.9801918472952,
          442.31375202069296,
          339.81377656540917,
          100
         ]
        },
        {
         "hoverinfo": "text+x+y",
         "line": {
          "color": "blue",
          "width": 2
         },
         "marker": {
          "color": "red",
          "size": 8
         },
         "mode": "lines+markers",
         "name": "Path 247 (Gen 15, Fitness 405.1617185592651)",
         "text": "Gen 15, Path 247",
         "type": "scatter",
         "x": [
          0,
          233.3794239111315,
          92.59473780803415,
          93.08850123719833,
          371.8314786170018,
          431.43883519944836,
          100
         ],
         "y": [
          0,
          151.99228453673555,
          111.06091617330699,
          62.536120297744645,
          442.31375202069296,
          339.81377656540917,
          100
         ]
        },
        {
         "hoverinfo": "text+x+y",
         "line": {
          "color": "blue",
          "width": 2
         },
         "marker": {
          "color": "red",
          "size": 8
         },
         "mode": "lines+markers",
         "name": "Path 248 (Gen 15, Fitness 402.6009742736816)",
         "text": "Gen 15, Path 248",
         "type": "scatter",
         "x": [
          0,
          233.3794239111315,
          92.59473780803415,
          258.4818182140878,
          371.8314786170018,
          431.43883519944836,
          100
         ],
         "y": [
          0,
          151.99228453673555,
          111.06091617330699,
          386.9801918472952,
          442.31375202069296,
          339.81377656540917,
          100
         ]
        },
        {
         "hoverinfo": "text+x+y",
         "line": {
          "color": "blue",
          "width": 2
         },
         "marker": {
          "color": "red",
          "size": 8
         },
         "mode": "lines+markers",
         "name": "Path 249 (Gen 15, Fitness 392.1673683166504)",
         "text": "Gen 15, Path 249",
         "type": "scatter",
         "x": [
          0,
          233.3794239111315,
          251.19148706658055,
          258.4818182140878,
          371.8314786170018,
          431.43883519944836,
          100
         ],
         "y": [
          0,
          151.99228453673555,
          337.0356075085056,
          386.9801918472952,
          442.31375202069296,
          339.81377656540917,
          100
         ]
        },
        {
         "hoverinfo": "text+x+y",
         "line": {
          "color": "blue",
          "width": 2
         },
         "marker": {
          "color": "red",
          "size": 8
         },
         "mode": "lines+markers",
         "name": "Path 250 (Gen 15, Fitness 396.501086807251)",
         "text": "Gen 15, Path 250",
         "type": "scatter",
         "x": [
          0,
          203.7274808403702,
          251.19148706658055,
          88.78648537253655,
          371.8314786170018,
          431.43883519944836,
          100
         ],
         "y": [
          0,
          251.96403296153687,
          337.0356075085056,
          30.593041887536526,
          442.31375202069296,
          339.81377656540917,
          100
         ]
        },
        {
         "hoverinfo": "text+x+y",
         "line": {
          "color": "blue",
          "width": 2
         },
         "marker": {
          "color": "red",
          "size": 8
         },
         "mode": "lines+markers",
         "name": "Path 251 (Gen 15, Fitness 378.8798044204712)",
         "text": "Gen 15, Path 251",
         "type": "scatter",
         "x": [
          0,
          203.7274808403702,
          92.59473780803415,
          88.78648537253655,
          371.8314786170018,
          431.43883519944836,
          100
         ],
         "y": [
          0,
          251.96403296153687,
          111.06091617330699,
          30.593041887536526,
          442.31375202069296,
          339.81377656540917,
          100
         ]
        },
        {
         "hoverinfo": "text+x+y",
         "line": {
          "color": "blue",
          "width": 2
         },
         "marker": {
          "color": "red",
          "size": 8
         },
         "mode": "lines+markers",
         "name": "Path 252 (Gen 15, Fitness 378.8798044204712)",
         "text": "Gen 15, Path 252",
         "type": "scatter",
         "x": [
          0,
          203.7274808403702,
          92.59473780803415,
          88.78648537253655,
          371.8314786170018,
          431.43883519944836,
          100
         ],
         "y": [
          0,
          251.96403296153687,
          111.06091617330699,
          30.593041887536526,
          442.31375202069296,
          339.81377656540917,
          100
         ]
        },
        {
         "hoverinfo": "text+x+y",
         "line": {
          "color": "blue",
          "width": 2
         },
         "marker": {
          "color": "red",
          "size": 8
         },
         "mode": "lines+markers",
         "name": "Path 253 (Gen 15, Fitness 419.4866722106933)",
         "text": "Gen 15, Path 253",
         "type": "scatter",
         "x": [
          0,
          233.3794239111315,
          251.19148706658055,
          88.78648537253655,
          371.8314786170018,
          431.43883519944836,
          100
         ],
         "y": [
          0,
          151.99228453673555,
          337.0356075085056,
          30.593041887536526,
          442.31375202069296,
          339.81377656540917,
          100
         ]
        },
        {
         "hoverinfo": "text+x+y",
         "line": {
          "color": "blue",
          "width": 2
         },
         "marker": {
          "color": "red",
          "size": 8
         },
         "mode": "lines+markers",
         "name": "Path 254 (Gen 15, Fitness 392.1673683166504)",
         "text": "Gen 15, Path 254",
         "type": "scatter",
         "x": [
          0,
          233.3794239111315,
          251.19148706658055,
          258.4818182140878,
          371.8314786170018,
          431.43883519944836,
          100
         ],
         "y": [
          0,
          151.99228453673555,
          337.0356075085056,
          386.9801918472952,
          442.31375202069296,
          339.81377656540917,
          100
         ]
        },
        {
         "hoverinfo": "text+x+y",
         "line": {
          "color": "blue",
          "width": 2
         },
         "marker": {
          "color": "red",
          "size": 8
         },
         "mode": "lines+markers",
         "name": "Path 255 (Gen 0, Fitness 0.0)",
         "text": "Gen 0, Path 255",
         "type": "scatter",
         "x": [
          0,
          57.69603383588185,
          71.52563338611043,
          131.67327893609962,
          131.67327893609962,
          166.0308109437717,
          100
         ],
         "y": [
          0,
          0,
          0,
          0,
          65.95618182663857,
          65.95618182663857,
          100
         ]
        },
        {
         "hoverinfo": "text+x+y",
         "line": {
          "color": "blue",
          "width": 2
         },
         "marker": {
          "color": "red",
          "size": 8
         },
         "mode": "lines+markers",
         "name": "Path 256 (Gen 16, Fitness 381.4487166404724)",
         "text": "Gen 16, Path 256",
         "type": "scatter",
         "x": [
          0,
          233.3794239111315,
          251.19148706658055,
          135.02100257200715,
          371.8314786170018,
          431.43883519944836,
          100
         ],
         "y": [
          0,
          151.99228453673555,
          337.0356075085056,
          165.15897974584024,
          442.31375202069296,
          339.81377656540917,
          100
         ]
        },
        {
         "hoverinfo": "text+x+y",
         "line": {
          "color": "blue",
          "width": 2
         },
         "marker": {
          "color": "red",
          "size": 8
         },
         "mode": "lines+markers",
         "name": "Path 257 (Gen 16, Fitness 392.1673683166504)",
         "text": "Gen 16, Path 257",
         "type": "scatter",
         "x": [
          0,
          233.3794239111315,
          251.19148706658055,
          258.4818182140878,
          371.8314786170018,
          431.43883519944836,
          100
         ],
         "y": [
          0,
          151.99228453673555,
          337.0356075085056,
          386.9801918472952,
          442.31375202069296,
          339.81377656540917,
          100
         ]
        },
        {
         "hoverinfo": "text+x+y",
         "line": {
          "color": "blue",
          "width": 2
         },
         "marker": {
          "color": "red",
          "size": 8
         },
         "mode": "lines+markers",
         "name": "Path 258 (Gen 16, Fitness 392.1673683166504)",
         "text": "Gen 16, Path 258",
         "type": "scatter",
         "x": [
          0,
          233.3794239111315,
          251.19148706658055,
          258.4818182140878,
          371.8314786170018,
          431.43883519944836,
          100
         ],
         "y": [
          0,
          151.99228453673555,
          337.0356075085056,
          386.9801918472952,
          442.31375202069296,
          339.81377656540917,
          100
         ]
        },
        {
         "hoverinfo": "text+x+y",
         "line": {
          "color": "blue",
          "width": 2
         },
         "marker": {
          "color": "red",
          "size": 8
         },
         "mode": "lines+markers",
         "name": "Path 259 (Gen 16, Fitness 378.8798044204712)",
         "text": "Gen 16, Path 259",
         "type": "scatter",
         "x": [
          0,
          203.7274808403702,
          92.59473780803415,
          88.78648537253655,
          371.8314786170018,
          431.43883519944836,
          100
         ],
         "y": [
          0,
          251.96403296153687,
          111.06091617330699,
          30.593041887536526,
          442.31375202069296,
          339.81377656540917,
          100
         ]
        },
        {
         "hoverinfo": "text+x+y",
         "line": {
          "color": "blue",
          "width": 2
         },
         "marker": {
          "color": "red",
          "size": 8
         },
         "mode": "lines+markers",
         "name": "Path 260 (Gen 16, Fitness 396.501086807251)",
         "text": "Gen 16, Path 260",
         "type": "scatter",
         "x": [
          0,
          203.7274808403702,
          251.19148706658055,
          88.78648537253655,
          371.8314786170018,
          431.43883519944836,
          100
         ],
         "y": [
          0,
          251.96403296153687,
          337.0356075085056,
          30.593041887536526,
          442.31375202069296,
          339.81377656540917,
          100
         ]
        },
        {
         "hoverinfo": "text+x+y",
         "line": {
          "color": "blue",
          "width": 2
         },
         "marker": {
          "color": "red",
          "size": 8
         },
         "mode": "lines+markers",
         "name": "Path 261 (Gen 16, Fitness 392.1673683166504)",
         "text": "Gen 16, Path 261",
         "type": "scatter",
         "x": [
          0,
          233.3794239111315,
          251.19148706658055,
          258.4818182140878,
          371.8314786170018,
          431.43883519944836,
          100
         ],
         "y": [
          0,
          151.99228453673555,
          337.0356075085056,
          386.9801918472952,
          442.31375202069296,
          339.81377656540917,
          100
         ]
        },
        {
         "hoverinfo": "text+x+y",
         "line": {
          "color": "blue",
          "width": 2
         },
         "marker": {
          "color": "red",
          "size": 8
         },
         "mode": "lines+markers",
         "name": "Path 262 (Gen 16, Fitness 392.1673683166504)",
         "text": "Gen 16, Path 262",
         "type": "scatter",
         "x": [
          0,
          233.3794239111315,
          251.19148706658055,
          258.4818182140878,
          371.8314786170018,
          431.43883519944836,
          100
         ],
         "y": [
          0,
          151.99228453673555,
          337.0356075085056,
          386.9801918472952,
          442.31375202069296,
          339.81377656540917,
          100
         ]
        },
        {
         "hoverinfo": "text+x+y",
         "line": {
          "color": "blue",
          "width": 2
         },
         "marker": {
          "color": "red",
          "size": 8
         },
         "mode": "lines+markers",
         "name": "Path 263 (Gen 16, Fitness 419.4866722106933)",
         "text": "Gen 16, Path 263",
         "type": "scatter",
         "x": [
          0,
          233.3794239111315,
          251.19148706658055,
          88.78648537253655,
          371.8314786170018,
          431.43883519944836,
          100
         ],
         "y": [
          0,
          151.99228453673555,
          337.0356075085056,
          30.593041887536526,
          442.31375202069296,
          339.81377656540917,
          100
         ]
        },
        {
         "hoverinfo": "text+x+y",
         "line": {
          "color": "blue",
          "width": 2
         },
         "marker": {
          "color": "red",
          "size": 8
         },
         "mode": "lines+markers",
         "name": "Path 264 (Gen 16, Fitness 392.1673683166504)",
         "text": "Gen 16, Path 264",
         "type": "scatter",
         "x": [
          0,
          233.3794239111315,
          251.19148706658055,
          258.4818182140878,
          371.8314786170018,
          431.43883519944836,
          100
         ],
         "y": [
          0,
          151.99228453673555,
          337.0356075085056,
          386.9801918472952,
          442.31375202069296,
          339.81377656540917,
          100
         ]
        },
        {
         "hoverinfo": "text+x+y",
         "line": {
          "color": "blue",
          "width": 2
         },
         "marker": {
          "color": "red",
          "size": 8
         },
         "mode": "lines+markers",
         "name": "Path 265 (Gen 16, Fitness 419.4866722106933)",
         "text": "Gen 16, Path 265",
         "type": "scatter",
         "x": [
          0,
          233.3794239111315,
          251.19148706658055,
          88.78648537253655,
          371.8314786170018,
          431.43883519944836,
          100
         ],
         "y": [
          0,
          151.99228453673555,
          337.0356075085056,
          30.593041887536526,
          442.31375202069296,
          339.81377656540917,
          100
         ]
        },
        {
         "hoverinfo": "text+x+y",
         "line": {
          "color": "blue",
          "width": 2
         },
         "marker": {
          "color": "red",
          "size": 8
         },
         "mode": "lines+markers",
         "name": "Path 266 (Gen 16, Fitness 419.4866722106933)",
         "text": "Gen 16, Path 266",
         "type": "scatter",
         "x": [
          0,
          233.3794239111315,
          251.19148706658055,
          88.78648537253655,
          371.8314786170018,
          431.43883519944836,
          100
         ],
         "y": [
          0,
          151.99228453673555,
          337.0356075085056,
          30.593041887536526,
          442.31375202069296,
          339.81377656540917,
          100
         ]
        },
        {
         "hoverinfo": "text+x+y",
         "line": {
          "color": "blue",
          "width": 2
         },
         "marker": {
          "color": "red",
          "size": 8
         },
         "mode": "lines+markers",
         "name": "Path 267 (Gen 16, Fitness 396.501086807251)",
         "text": "Gen 16, Path 267",
         "type": "scatter",
         "x": [
          0,
          203.7274808403702,
          251.19148706658055,
          88.78648537253655,
          371.8314786170018,
          431.43883519944836,
          100
         ],
         "y": [
          0,
          251.96403296153687,
          337.0356075085056,
          30.593041887536526,
          442.31375202069296,
          339.81377656540917,
          100
         ]
        },
        {
         "hoverinfo": "text+x+y",
         "line": {
          "color": "blue",
          "width": 2
         },
         "marker": {
          "color": "red",
          "size": 8
         },
         "mode": "lines+markers",
         "name": "Path 268 (Gen 16, Fitness 396.501086807251)",
         "text": "Gen 16, Path 268",
         "type": "scatter",
         "x": [
          0,
          203.7274808403702,
          251.19148706658055,
          88.78648537253655,
          371.8314786170018,
          431.43883519944836,
          100
         ],
         "y": [
          0,
          251.96403296153687,
          337.0356075085056,
          30.593041887536526,
          442.31375202069296,
          339.81377656540917,
          100
         ]
        },
        {
         "hoverinfo": "text+x+y",
         "line": {
          "color": "blue",
          "width": 2
         },
         "marker": {
          "color": "red",
          "size": 8
         },
         "mode": "lines+markers",
         "name": "Path 269 (Gen 16, Fitness 381.4487166404724)",
         "text": "Gen 16, Path 269",
         "type": "scatter",
         "x": [
          0,
          233.3794239111315,
          251.19148706658055,
          135.02100257200715,
          371.8314786170018,
          431.43883519944836,
          100
         ],
         "y": [
          0,
          151.99228453673555,
          337.0356075085056,
          165.15897974584024,
          442.31375202069296,
          339.81377656540917,
          100
         ]
        },
        {
         "hoverinfo": "text+x+y",
         "line": {
          "color": "blue",
          "width": 2
         },
         "marker": {
          "color": "red",
          "size": 8
         },
         "mode": "lines+markers",
         "name": "Path 270 (Gen 16, Fitness 369.181782913208)",
         "text": "Gen 16, Path 270",
         "type": "scatter",
         "x": [
          0,
          203.7274808403702,
          251.19148706658055,
          258.4818182140878,
          371.8314786170018,
          431.43883519944836,
          100
         ],
         "y": [
          0,
          251.96403296153687,
          337.0356075085056,
          386.9801918472952,
          442.31375202069296,
          339.81377656540917,
          100
         ]
        },
        {
         "hoverinfo": "text+x+y",
         "line": {
          "color": "blue",
          "width": 2
         },
         "marker": {
          "color": "red",
          "size": 8
         },
         "mode": "lines+markers",
         "name": "Path 271 (Gen 0, Fitness 0.0)",
         "text": "Gen 0, Path 271",
         "type": "scatter",
         "x": [
          0,
          57.69603383588185,
          71.52563338611043,
          131.67327893609962,
          131.67327893609962,
          166.0308109437717,
          100
         ],
         "y": [
          0,
          0,
          0,
          0,
          65.95618182663857,
          65.95618182663857,
          100
         ]
        },
        {
         "hoverinfo": "text+x+y",
         "line": {
          "color": "blue",
          "width": 2
         },
         "marker": {
          "color": "red",
          "size": 8
         },
         "mode": "lines+markers",
         "name": "Path 272 (Gen 17, Fitness 392.1673683166504)",
         "text": "Gen 17, Path 272",
         "type": "scatter",
         "x": [
          0,
          233.3794239111315,
          251.19148706658055,
          258.4818182140878,
          371.8314786170018,
          431.43883519944836,
          100
         ],
         "y": [
          0,
          151.99228453673555,
          337.0356075085056,
          386.9801918472952,
          442.31375202069296,
          339.81377656540917,
          100
         ]
        },
        {
         "hoverinfo": "text+x+y",
         "line": {
          "color": "blue",
          "width": 2
         },
         "marker": {
          "color": "red",
          "size": 8
         },
         "mode": "lines+markers",
         "name": "Path 273 (Gen 17, Fitness 369.181782913208)",
         "text": "Gen 17, Path 273",
         "type": "scatter",
         "x": [
          0,
          203.7274808403702,
          251.19148706658055,
          258.4818182140878,
          371.8314786170018,
          431.43883519944836,
          100
         ],
         "y": [
          0,
          251.96403296153687,
          337.0356075085056,
          386.9801918472952,
          442.31375202069296,
          339.81377656540917,
          100
         ]
        },
        {
         "hoverinfo": "text+x+y",
         "line": {
          "color": "blue",
          "width": 2
         },
         "marker": {
          "color": "red",
          "size": 8
         },
         "mode": "lines+markers",
         "name": "Path 274 (Gen 17, Fitness 369.181782913208)",
         "text": "Gen 17, Path 274",
         "type": "scatter",
         "x": [
          0,
          203.7274808403702,
          251.19148706658055,
          258.4818182140878,
          371.8314786170018,
          431.43883519944836,
          100
         ],
         "y": [
          0,
          251.96403296153687,
          337.0356075085056,
          386.9801918472952,
          442.31375202069296,
          339.81377656540917,
          100
         ]
        },
        {
         "hoverinfo": "text+x+y",
         "line": {
          "color": "blue",
          "width": 2
         },
         "marker": {
          "color": "red",
          "size": 8
         },
         "mode": "lines+markers",
         "name": "Path 275 (Gen 17, Fitness 392.1673683166504)",
         "text": "Gen 17, Path 275",
         "type": "scatter",
         "x": [
          0,
          233.3794239111315,
          251.19148706658055,
          258.4818182140878,
          371.8314786170018,
          431.43883519944836,
          100
         ],
         "y": [
          0,
          151.99228453673555,
          337.0356075085056,
          386.9801918472952,
          442.31375202069296,
          339.81377656540917,
          100
         ]
        },
        {
         "hoverinfo": "text+x+y",
         "line": {
          "color": "blue",
          "width": 2
         },
         "marker": {
          "color": "red",
          "size": 8
         },
         "mode": "lines+markers",
         "name": "Path 276 (Gen 17, Fitness 369.181782913208)",
         "text": "Gen 17, Path 276",
         "type": "scatter",
         "x": [
          0,
          203.7274808403702,
          251.19148706658055,
          258.4818182140878,
          371.8314786170018,
          431.43883519944836,
          100
         ],
         "y": [
          0,
          251.96403296153687,
          337.0356075085056,
          386.9801918472952,
          442.31375202069296,
          339.81377656540917,
          100
         ]
        },
        {
         "hoverinfo": "text+x+y",
         "line": {
          "color": "blue",
          "width": 2
         },
         "marker": {
          "color": "red",
          "size": 8
         },
         "mode": "lines+markers",
         "name": "Path 277 (Gen 17, Fitness 419.4866722106933)",
         "text": "Gen 17, Path 277",
         "type": "scatter",
         "x": [
          0,
          233.3794239111315,
          251.19148706658055,
          88.78648537253655,
          371.8314786170018,
          431.43883519944836,
          100
         ],
         "y": [
          0,
          151.99228453673555,
          337.0356075085056,
          30.593041887536526,
          442.31375202069296,
          339.81377656540917,
          100
         ]
        },
        {
         "hoverinfo": "text+x+y",
         "line": {
          "color": "blue",
          "width": 2
         },
         "marker": {
          "color": "red",
          "size": 8
         },
         "mode": "lines+markers",
         "name": "Path 278 (Gen 17, Fitness 381.4487166404724)",
         "text": "Gen 17, Path 278",
         "type": "scatter",
         "x": [
          0,
          233.3794239111315,
          251.19148706658055,
          135.02100257200715,
          371.8314786170018,
          431.43883519944836,
          100
         ],
         "y": [
          0,
          151.99228453673555,
          337.0356075085056,
          165.15897974584024,
          442.31375202069296,
          339.81377656540917,
          100
         ]
        },
        {
         "hoverinfo": "text+x+y",
         "line": {
          "color": "blue",
          "width": 2
         },
         "marker": {
          "color": "red",
          "size": 8
         },
         "mode": "lines+markers",
         "name": "Path 279 (Gen 17, Fitness 392.1673683166504)",
         "text": "Gen 17, Path 279",
         "type": "scatter",
         "x": [
          0,
          233.3794239111315,
          251.19148706658055,
          258.4818182140878,
          371.8314786170018,
          431.43883519944836,
          100
         ],
         "y": [
          0,
          151.99228453673555,
          337.0356075085056,
          386.9801918472952,
          442.31375202069296,
          339.81377656540917,
          100
         ]
        },
        {
         "hoverinfo": "text+x+y",
         "line": {
          "color": "blue",
          "width": 2
         },
         "marker": {
          "color": "red",
          "size": 8
         },
         "mode": "lines+markers",
         "name": "Path 280 (Gen 17, Fitness 369.181782913208)",
         "text": "Gen 17, Path 280",
         "type": "scatter",
         "x": [
          0,
          203.7274808403702,
          251.19148706658055,
          258.4818182140878,
          371.8314786170018,
          431.43883519944836,
          100
         ],
         "y": [
          0,
          251.96403296153687,
          337.0356075085056,
          386.9801918472952,
          442.31375202069296,
          339.81377656540917,
          100
         ]
        },
        {
         "hoverinfo": "text+x+y",
         "line": {
          "color": "blue",
          "width": 2
         },
         "marker": {
          "color": "red",
          "size": 8
         },
         "mode": "lines+markers",
         "name": "Path 281 (Gen 17, Fitness 419.4866722106933)",
         "text": "Gen 17, Path 281",
         "type": "scatter",
         "x": [
          0,
          233.3794239111315,
          251.19148706658055,
          88.78648537253655,
          371.8314786170018,
          431.43883519944836,
          100
         ],
         "y": [
          0,
          151.99228453673555,
          337.0356075085056,
          30.593041887536526,
          442.31375202069296,
          339.81377656540917,
          100
         ]
        },
        {
         "hoverinfo": "text+x+y",
         "line": {
          "color": "blue",
          "width": 2
         },
         "marker": {
          "color": "red",
          "size": 8
         },
         "mode": "lines+markers",
         "name": "Path 282 (Gen 17, Fitness 392.1673683166504)",
         "text": "Gen 17, Path 282",
         "type": "scatter",
         "x": [
          0,
          233.3794239111315,
          251.19148706658055,
          258.4818182140878,
          371.8314786170018,
          431.43883519944836,
          100
         ],
         "y": [
          0,
          151.99228453673555,
          337.0356075085056,
          386.9801918472952,
          442.31375202069296,
          339.81377656540917,
          100
         ]
        },
        {
         "hoverinfo": "text+x+y",
         "line": {
          "color": "blue",
          "width": 2
         },
         "marker": {
          "color": "red",
          "size": 8
         },
         "mode": "lines+markers",
         "name": "Path 283 (Gen 17, Fitness 396.501086807251)",
         "text": "Gen 17, Path 283",
         "type": "scatter",
         "x": [
          0,
          203.7274808403702,
          251.19148706658055,
          88.78648537253655,
          371.8314786170018,
          431.43883519944836,
          100
         ],
         "y": [
          0,
          251.96403296153687,
          337.0356075085056,
          30.593041887536526,
          442.31375202069296,
          339.81377656540917,
          100
         ]
        },
        {
         "hoverinfo": "text+x+y",
         "line": {
          "color": "blue",
          "width": 2
         },
         "marker": {
          "color": "red",
          "size": 8
         },
         "mode": "lines+markers",
         "name": "Path 284 (Gen 17, Fitness 392.1673683166504)",
         "text": "Gen 17, Path 284",
         "type": "scatter",
         "x": [
          0,
          233.3794239111315,
          251.19148706658055,
          258.4818182140878,
          371.8314786170018,
          431.43883519944836,
          100
         ],
         "y": [
          0,
          151.99228453673555,
          337.0356075085056,
          386.9801918472952,
          442.31375202069296,
          339.81377656540917,
          100
         ]
        },
        {
         "hoverinfo": "text+x+y",
         "line": {
          "color": "blue",
          "width": 2
         },
         "marker": {
          "color": "red",
          "size": 8
         },
         "mode": "lines+markers",
         "name": "Path 285 (Gen 17, Fitness 369.181782913208)",
         "text": "Gen 17, Path 285",
         "type": "scatter",
         "x": [
          0,
          203.7274808403702,
          251.19148706658055,
          258.4818182140878,
          371.8314786170018,
          431.43883519944836,
          100
         ],
         "y": [
          0,
          251.96403296153687,
          337.0356075085056,
          386.9801918472952,
          442.31375202069296,
          339.81377656540917,
          100
         ]
        },
        {
         "hoverinfo": "text+x+y",
         "line": {
          "color": "blue",
          "width": 2
         },
         "marker": {
          "color": "red",
          "size": 8
         },
         "mode": "lines+markers",
         "name": "Path 286 (Gen 17, Fitness 378.8798044204712)",
         "text": "Gen 17, Path 286",
         "type": "scatter",
         "x": [
          0,
          203.7274808403702,
          92.59473780803415,
          88.78648537253655,
          371.8314786170018,
          431.43883519944836,
          100
         ],
         "y": [
          0,
          251.96403296153687,
          111.06091617330699,
          30.593041887536526,
          442.31375202069296,
          339.81377656540917,
          100
         ]
        },
        {
         "hoverinfo": "text+x+y",
         "line": {
          "color": "blue",
          "width": 2
         },
         "marker": {
          "color": "red",
          "size": 8
         },
         "mode": "lines+markers",
         "name": "Path 287 (Gen 0, Fitness 0.0)",
         "text": "Gen 0, Path 287",
         "type": "scatter",
         "x": [
          0,
          57.69603383588185,
          71.52563338611043,
          131.67327893609962,
          131.67327893609962,
          166.0308109437717,
          100
         ],
         "y": [
          0,
          0,
          0,
          0,
          65.95618182663857,
          65.95618182663857,
          100
         ]
        },
        {
         "hoverinfo": "text+x+y",
         "line": {
          "color": "blue",
          "width": 2
         },
         "marker": {
          "color": "red",
          "size": 8
         },
         "mode": "lines+markers",
         "name": "Path 288 (Gen 18, Fitness 369.181782913208)",
         "text": "Gen 18, Path 288",
         "type": "scatter",
         "x": [
          0,
          203.7274808403702,
          251.19148706658055,
          258.4818182140878,
          371.8314786170018,
          431.43883519944836,
          100
         ],
         "y": [
          0,
          251.96403296153687,
          337.0356075085056,
          386.9801918472952,
          442.31375202069296,
          339.81377656540917,
          100
         ]
        },
        {
         "hoverinfo": "text+x+y",
         "line": {
          "color": "blue",
          "width": 2
         },
         "marker": {
          "color": "red",
          "size": 8
         },
         "mode": "lines+markers",
         "name": "Path 289 (Gen 18, Fitness 392.1673683166504)",
         "text": "Gen 18, Path 289",
         "type": "scatter",
         "x": [
          0,
          233.3794239111315,
          251.19148706658055,
          258.4818182140878,
          371.8314786170018,
          431.43883519944836,
          100
         ],
         "y": [
          0,
          151.99228453673555,
          337.0356075085056,
          386.9801918472952,
          442.31375202069296,
          339.81377656540917,
          100
         ]
        },
        {
         "hoverinfo": "text+x+y",
         "line": {
          "color": "blue",
          "width": 2
         },
         "marker": {
          "color": "red",
          "size": 8
         },
         "mode": "lines+markers",
         "name": "Path 290 (Gen 18, Fitness 369.181782913208)",
         "text": "Gen 18, Path 290",
         "type": "scatter",
         "x": [
          0,
          203.7274808403702,
          251.19148706658055,
          258.4818182140878,
          371.8314786170018,
          431.43883519944836,
          100
         ],
         "y": [
          0,
          251.96403296153687,
          337.0356075085056,
          386.9801918472952,
          442.31375202069296,
          339.81377656540917,
          100
         ]
        },
        {
         "hoverinfo": "text+x+y",
         "line": {
          "color": "blue",
          "width": 2
         },
         "marker": {
          "color": "red",
          "size": 8
         },
         "mode": "lines+markers",
         "name": "Path 291 (Gen 18, Fitness 392.1673683166504)",
         "text": "Gen 18, Path 291",
         "type": "scatter",
         "x": [
          0,
          233.3794239111315,
          251.19148706658055,
          258.4818182140878,
          371.8314786170018,
          431.43883519944836,
          100
         ],
         "y": [
          0,
          151.99228453673555,
          337.0356075085056,
          386.9801918472952,
          442.31375202069296,
          339.81377656540917,
          100
         ]
        },
        {
         "hoverinfo": "text+x+y",
         "line": {
          "color": "blue",
          "width": 2
         },
         "marker": {
          "color": "red",
          "size": 8
         },
         "mode": "lines+markers",
         "name": "Path 292 (Gen 18, Fitness 396.501086807251)",
         "text": "Gen 18, Path 292",
         "type": "scatter",
         "x": [
          0,
          203.7274808403702,
          251.19148706658055,
          88.78648537253655,
          371.8314786170018,
          431.43883519944836,
          100
         ],
         "y": [
          0,
          251.96403296153687,
          337.0356075085056,
          30.593041887536526,
          442.31375202069296,
          339.81377656540917,
          100
         ]
        },
        {
         "hoverinfo": "text+x+y",
         "line": {
          "color": "blue",
          "width": 2
         },
         "marker": {
          "color": "red",
          "size": 8
         },
         "mode": "lines+markers",
         "name": "Path 293 (Gen 18, Fitness 392.1673683166504)",
         "text": "Gen 18, Path 293",
         "type": "scatter",
         "x": [
          0,
          233.3794239111315,
          251.19148706658055,
          258.4818182140878,
          371.8314786170018,
          431.43883519944836,
          100
         ],
         "y": [
          0,
          151.99228453673555,
          337.0356075085056,
          386.9801918472952,
          442.31375202069296,
          339.81377656540917,
          100
         ]
        },
        {
         "hoverinfo": "text+x+y",
         "line": {
          "color": "blue",
          "width": 2
         },
         "marker": {
          "color": "red",
          "size": 8
         },
         "mode": "lines+markers",
         "name": "Path 294 (Gen 18, Fitness 369.181782913208)",
         "text": "Gen 18, Path 294",
         "type": "scatter",
         "x": [
          0,
          203.7274808403702,
          251.19148706658055,
          258.4818182140878,
          371.8314786170018,
          431.43883519944836,
          100
         ],
         "y": [
          0,
          251.96403296153687,
          337.0356075085056,
          386.9801918472952,
          442.31375202069296,
          339.81377656540917,
          100
         ]
        },
        {
         "hoverinfo": "text+x+y",
         "line": {
          "color": "blue",
          "width": 2
         },
         "marker": {
          "color": "red",
          "size": 8
         },
         "mode": "lines+markers",
         "name": "Path 295 (Gen 18, Fitness 369.181782913208)",
         "text": "Gen 18, Path 295",
         "type": "scatter",
         "x": [
          0,
          203.7274808403702,
          251.19148706658055,
          258.4818182140878,
          371.8314786170018,
          431.43883519944836,
          100
         ],
         "y": [
          0,
          251.96403296153687,
          337.0356075085056,
          386.9801918472952,
          442.31375202069296,
          339.81377656540917,
          100
         ]
        },
        {
         "hoverinfo": "text+x+y",
         "line": {
          "color": "blue",
          "width": 2
         },
         "marker": {
          "color": "red",
          "size": 8
         },
         "mode": "lines+markers",
         "name": "Path 296 (Gen 18, Fitness 392.1673683166504)",
         "text": "Gen 18, Path 296",
         "type": "scatter",
         "x": [
          0,
          233.3794239111315,
          251.19148706658055,
          258.4818182140878,
          371.8314786170018,
          431.43883519944836,
          100
         ],
         "y": [
          0,
          151.99228453673555,
          337.0356075085056,
          386.9801918472952,
          442.31375202069296,
          339.81377656540917,
          100
         ]
        },
        {
         "hoverinfo": "text+x+y",
         "line": {
          "color": "blue",
          "width": 2
         },
         "marker": {
          "color": "red",
          "size": 8
         },
         "mode": "lines+markers",
         "name": "Path 297 (Gen 18, Fitness 369.181782913208)",
         "text": "Gen 18, Path 297",
         "type": "scatter",
         "x": [
          0,
          203.7274808403702,
          251.19148706658055,
          258.4818182140878,
          371.8314786170018,
          431.43883519944836,
          100
         ],
         "y": [
          0,
          251.96403296153687,
          337.0356075085056,
          386.9801918472952,
          442.31375202069296,
          339.81377656540917,
          100
         ]
        },
        {
         "hoverinfo": "text+x+y",
         "line": {
          "color": "blue",
          "width": 2
         },
         "marker": {
          "color": "red",
          "size": 8
         },
         "mode": "lines+markers",
         "name": "Path 298 (Gen 18, Fitness 369.181782913208)",
         "text": "Gen 18, Path 298",
         "type": "scatter",
         "x": [
          0,
          203.7274808403702,
          251.19148706658055,
          258.4818182140878,
          371.8314786170018,
          431.43883519944836,
          100
         ],
         "y": [
          0,
          251.96403296153687,
          337.0356075085056,
          386.9801918472952,
          442.31375202069296,
          339.81377656540917,
          100
         ]
        },
        {
         "hoverinfo": "text+x+y",
         "line": {
          "color": "blue",
          "width": 2
         },
         "marker": {
          "color": "red",
          "size": 8
         },
         "mode": "lines+markers",
         "name": "Path 299 (Gen 18, Fitness 392.1673683166504)",
         "text": "Gen 18, Path 299",
         "type": "scatter",
         "x": [
          0,
          233.3794239111315,
          251.19148706658055,
          258.4818182140878,
          371.8314786170018,
          431.43883519944836,
          100
         ],
         "y": [
          0,
          151.99228453673555,
          337.0356075085056,
          386.9801918472952,
          442.31375202069296,
          339.81377656540917,
          100
         ]
        },
        {
         "hoverinfo": "text+x+y",
         "line": {
          "color": "blue",
          "width": 2
         },
         "marker": {
          "color": "red",
          "size": 8
         },
         "mode": "lines+markers",
         "name": "Path 300 (Gen 18, Fitness 369.181782913208)",
         "text": "Gen 18, Path 300",
         "type": "scatter",
         "x": [
          0,
          203.7274808403702,
          251.19148706658055,
          258.4818182140878,
          371.8314786170018,
          431.43883519944836,
          100
         ],
         "y": [
          0,
          251.96403296153687,
          337.0356075085056,
          386.9801918472952,
          442.31375202069296,
          339.81377656540917,
          100
         ]
        },
        {
         "hoverinfo": "text+x+y",
         "line": {
          "color": "blue",
          "width": 2
         },
         "marker": {
          "color": "red",
          "size": 8
         },
         "mode": "lines+markers",
         "name": "Path 301 (Gen 18, Fitness 400.2328048706055)",
         "text": "Gen 18, Path 301",
         "type": "scatter",
         "x": [
          0,
          233.3794239111315,
          251.19148706658055,
          258.4818182140878,
          371.8314786170018,
          431.43883519944836,
          100
         ],
         "y": [
          0,
          151.99228453673555,
          337.0356075085056,
          386.9801918472952,
          442.31375202069296,
          339.81377656540917,
          100
         ]
        },
        {
         "hoverinfo": "text+x+y",
         "line": {
          "color": "blue",
          "width": 2
         },
         "marker": {
          "color": "red",
          "size": 8
         },
         "mode": "lines+markers",
         "name": "Path 302 (Gen 18, Fitness 377.7793479919434)",
         "text": "Gen 18, Path 302",
         "type": "scatter",
         "x": [
          0,
          203.7274808403702,
          251.19148706658055,
          258.4818182140878,
          371.8314786170018,
          431.43883519944836,
          100
         ],
         "y": [
          0,
          251.96403296153687,
          337.0356075085056,
          386.9801918472952,
          442.31375202069296,
          339.81377656540917,
          100
         ]
        },
        {
         "hoverinfo": "text+x+y",
         "line": {
          "color": "blue",
          "width": 2
         },
         "marker": {
          "color": "red",
          "size": 8
         },
         "mode": "lines+markers",
         "name": "Path 303 (Gen 0, Fitness 0.0)",
         "text": "Gen 0, Path 303",
         "type": "scatter",
         "x": [
          0,
          57.69603383588185,
          71.52563338611043,
          131.67327893609962,
          131.67327893609962,
          166.0308109437717,
          100
         ],
         "y": [
          0,
          0,
          0,
          0,
          65.95618182663857,
          65.95618182663857,
          100
         ]
        },
        {
         "hoverinfo": "text+x+y",
         "line": {
          "color": "blue",
          "width": 2
         },
         "marker": {
          "color": "red",
          "size": 8
         },
         "mode": "lines+markers",
         "name": "Path 304 (Gen 19, Fitness 377.7793479919434)",
         "text": "Gen 19, Path 304",
         "type": "scatter",
         "x": [
          0,
          203.7274808403702,
          251.19148706658055,
          258.4818182140878,
          371.8314786170018,
          431.43883519944836,
          100
         ],
         "y": [
          0,
          251.96403296153687,
          337.0356075085056,
          386.9801918472952,
          442.31375202069296,
          339.81377656540917,
          100
         ]
        },
        {
         "hoverinfo": "text+x+y",
         "line": {
          "color": "blue",
          "width": 2
         },
         "marker": {
          "color": "red",
          "size": 8
         },
         "mode": "lines+markers",
         "name": "Path 305 (Gen 19, Fitness 436.3544326782227)",
         "text": "Gen 19, Path 305",
         "type": "scatter",
         "x": [
          0,
          233.3794239111315,
          251.19148706658055,
          88.78648537253655,
          371.8314786170018,
          431.43883519944836,
          100
         ],
         "y": [
          0,
          151.99228453673555,
          337.0356075085056,
          30.593041887536526,
          442.31375202069296,
          339.81377656540917,
          100
         ]
        },
        {
         "hoverinfo": "text+x+y",
         "line": {
          "color": "blue",
          "width": 2
         },
         "marker": {
          "color": "red",
          "size": 8
         },
         "mode": "lines+markers",
         "name": "Path 306 (Gen 19, Fitness 400.2328048706055)",
         "text": "Gen 19, Path 306",
         "type": "scatter",
         "x": [
          0,
          233.3794239111315,
          251.19148706658055,
          258.4818182140878,
          371.8314786170018,
          431.43883519944836,
          100
         ],
         "y": [
          0,
          151.99228453673555,
          337.0356075085056,
          386.9801918472952,
          442.31375202069296,
          339.81377656540917,
          100
         ]
        },
        {
         "hoverinfo": "text+x+y",
         "line": {
          "color": "blue",
          "width": 2
         },
         "marker": {
          "color": "red",
          "size": 8
         },
         "mode": "lines+markers",
         "name": "Path 307 (Gen 19, Fitness 377.7793479919434)",
         "text": "Gen 19, Path 307",
         "type": "scatter",
         "x": [
          0,
          203.7274808403702,
          251.19148706658055,
          258.4818182140878,
          371.8314786170018,
          431.43883519944836,
          100
         ],
         "y": [
          0,
          251.96403296153687,
          337.0356075085056,
          386.9801918472952,
          442.31375202069296,
          339.81377656540917,
          100
         ]
        },
        {
         "hoverinfo": "text+x+y",
         "line": {
          "color": "blue",
          "width": 2
         },
         "marker": {
          "color": "red",
          "size": 8
         },
         "mode": "lines+markers",
         "name": "Path 308 (Gen 19, Fitness 377.7793479919434)",
         "text": "Gen 19, Path 308",
         "type": "scatter",
         "x": [
          0,
          203.7274808403702,
          251.19148706658055,
          258.4818182140878,
          371.8314786170018,
          431.43883519944836,
          100
         ],
         "y": [
          0,
          251.96403296153687,
          337.0356075085056,
          386.9801918472952,
          442.31375202069296,
          339.81377656540917,
          100
         ]
        },
        {
         "hoverinfo": "text+x+y",
         "line": {
          "color": "blue",
          "width": 2
         },
         "marker": {
          "color": "red",
          "size": 8
         },
         "mode": "lines+markers",
         "name": "Path 309 (Gen 19, Fitness 377.7793479919434)",
         "text": "Gen 19, Path 309",
         "type": "scatter",
         "x": [
          0,
          203.7274808403702,
          251.19148706658055,
          258.4818182140878,
          371.8314786170018,
          431.43883519944836,
          100
         ],
         "y": [
          0,
          251.96403296153687,
          337.0356075085056,
          386.9801918472952,
          442.31375202069296,
          339.81377656540917,
          100
         ]
        },
        {
         "hoverinfo": "text+x+y",
         "line": {
          "color": "blue",
          "width": 2
         },
         "marker": {
          "color": "red",
          "size": 8
         },
         "mode": "lines+markers",
         "name": "Path 310 (Gen 19, Fitness 413.90097579956057)",
         "text": "Gen 19, Path 310",
         "type": "scatter",
         "x": [
          0,
          203.7274808403702,
          251.19148706658055,
          88.78648537253655,
          371.8314786170018,
          431.43883519944836,
          100
         ],
         "y": [
          0,
          251.96403296153687,
          337.0356075085056,
          30.593041887536526,
          442.31375202069296,
          339.81377656540917,
          100
         ]
        },
        {
         "hoverinfo": "text+x+y",
         "line": {
          "color": "blue",
          "width": 2
         },
         "marker": {
          "color": "red",
          "size": 8
         },
         "mode": "lines+markers",
         "name": "Path 311 (Gen 19, Fitness 400.2328048706055)",
         "text": "Gen 19, Path 311",
         "type": "scatter",
         "x": [
          0,
          233.3794239111315,
          251.19148706658055,
          258.4818182140878,
          371.8314786170018,
          431.43883519944836,
          100
         ],
         "y": [
          0,
          151.99228453673555,
          337.0356075085056,
          386.9801918472952,
          442.31375202069296,
          339.81377656540917,
          100
         ]
        },
        {
         "hoverinfo": "text+x+y",
         "line": {
          "color": "blue",
          "width": 2
         },
         "marker": {
          "color": "red",
          "size": 8
         },
         "mode": "lines+markers",
         "name": "Path 312 (Gen 19, Fitness 377.7793479919434)",
         "text": "Gen 19, Path 312",
         "type": "scatter",
         "x": [
          0,
          203.7274808403702,
          251.19148706658055,
          258.4818182140878,
          371.8314786170018,
          431.43883519944836,
          100
         ],
         "y": [
          0,
          251.96403296153687,
          337.0356075085056,
          386.9801918472952,
          442.31375202069296,
          339.81377656540917,
          100
         ]
        },
        {
         "hoverinfo": "text+x+y",
         "line": {
          "color": "blue",
          "width": 2
         },
         "marker": {
          "color": "red",
          "size": 8
         },
         "mode": "lines+markers",
         "name": "Path 313 (Gen 19, Fitness 436.3544326782227)",
         "text": "Gen 19, Path 313",
         "type": "scatter",
         "x": [
          0,
          233.3794239111315,
          251.19148706658055,
          88.78648537253655,
          371.8314786170018,
          431.43883519944836,
          100
         ],
         "y": [
          0,
          151.99228453673555,
          337.0356075085056,
          30.593041887536526,
          442.31375202069296,
          339.81377656540917,
          100
         ]
        },
        {
         "hoverinfo": "text+x+y",
         "line": {
          "color": "blue",
          "width": 2
         },
         "marker": {
          "color": "red",
          "size": 8
         },
         "mode": "lines+markers",
         "name": "Path 314 (Gen 19, Fitness 377.7793479919434)",
         "text": "Gen 19, Path 314",
         "type": "scatter",
         "x": [
          0,
          203.7274808403702,
          251.19148706658055,
          258.4818182140878,
          371.8314786170018,
          431.43883519944836,
          100
         ],
         "y": [
          0,
          251.96403296153687,
          337.0356075085056,
          386.9801918472952,
          442.31375202069296,
          339.81377656540917,
          100
         ]
        },
        {
         "hoverinfo": "text+x+y",
         "line": {
          "color": "blue",
          "width": 2
         },
         "marker": {
          "color": "red",
          "size": 8
         },
         "mode": "lines+markers",
         "name": "Path 315 (Gen 19, Fitness 377.7793479919434)",
         "text": "Gen 19, Path 315",
         "type": "scatter",
         "x": [
          0,
          203.7274808403702,
          251.19148706658055,
          258.4818182140878,
          371.8314786170018,
          431.43883519944836,
          100
         ],
         "y": [
          0,
          251.96403296153687,
          337.0356075085056,
          386.9801918472952,
          442.31375202069296,
          339.81377656540917,
          100
         ]
        },
        {
         "hoverinfo": "text+x+y",
         "line": {
          "color": "blue",
          "width": 2
         },
         "marker": {
          "color": "red",
          "size": 8
         },
         "mode": "lines+markers",
         "name": "Path 316 (Gen 19, Fitness 377.7793479919434)",
         "text": "Gen 19, Path 316",
         "type": "scatter",
         "x": [
          0,
          203.7274808403702,
          251.19148706658055,
          258.4818182140878,
          371.8314786170018,
          431.43883519944836,
          100
         ],
         "y": [
          0,
          251.96403296153687,
          337.0356075085056,
          386.9801918472952,
          442.31375202069296,
          339.81377656540917,
          100
         ]
        },
        {
         "hoverinfo": "text+x+y",
         "line": {
          "color": "blue",
          "width": 2
         },
         "marker": {
          "color": "red",
          "size": 8
         },
         "mode": "lines+markers",
         "name": "Path 317 (Gen 19, Fitness 377.7793479919434)",
         "text": "Gen 19, Path 317",
         "type": "scatter",
         "x": [
          0,
          203.7274808403702,
          251.19148706658055,
          258.4818182140878,
          371.8314786170018,
          431.43883519944836,
          100
         ],
         "y": [
          0,
          251.96403296153687,
          337.0356075085056,
          386.9801918472952,
          442.31375202069296,
          339.81377656540917,
          100
         ]
        },
        {
         "hoverinfo": "text+x+y",
         "line": {
          "color": "blue",
          "width": 2
         },
         "marker": {
          "color": "red",
          "size": 8
         },
         "mode": "lines+markers",
         "name": "Path 318 (Gen 19, Fitness 400.2328048706055)",
         "text": "Gen 19, Path 318",
         "type": "scatter",
         "x": [
          0,
          233.3794239111315,
          251.19148706658055,
          258.4818182140878,
          371.8314786170018,
          431.43883519944836,
          100
         ],
         "y": [
          0,
          151.99228453673555,
          337.0356075085056,
          386.9801918472952,
          442.31375202069296,
          339.81377656540917,
          100
         ]
        },
        {
         "hoverinfo": "text+x+y",
         "line": {
          "color": "blue",
          "width": 2
         },
         "marker": {
          "color": "red",
          "size": 8
         },
         "mode": "lines+markers",
         "name": "Path 319 (Gen 0, Fitness 0.0)",
         "text": "Gen 0, Path 319",
         "type": "scatter",
         "x": [
          0,
          57.69603383588185,
          71.52563338611043,
          131.67327893609962,
          131.67327893609962,
          166.0308109437717,
          100
         ],
         "y": [
          0,
          0,
          0,
          0,
          65.95618182663857,
          65.95618182663857,
          100
         ]
        },
        {
         "hoverinfo": "text+x+y",
         "line": {
          "color": "blue",
          "width": 2
         },
         "marker": {
          "color": "red",
          "size": 8
         },
         "mode": "lines+markers",
         "name": "Path 320 (Gen 20, Fitness 377.7793479919434)",
         "text": "Gen 20, Path 320",
         "type": "scatter",
         "x": [
          0,
          203.7274808403702,
          251.19148706658055,
          258.4818182140878,
          371.8314786170018,
          431.43883519944836,
          100
         ],
         "y": [
          0,
          251.96403296153687,
          337.0356075085056,
          386.9801918472952,
          442.31375202069296,
          339.81377656540917,
          100
         ]
        },
        {
         "hoverinfo": "text+x+y",
         "line": {
          "color": "blue",
          "width": 2
         },
         "marker": {
          "color": "red",
          "size": 8
         },
         "mode": "lines+markers",
         "name": "Path 321 (Gen 20, Fitness 400.2328048706055)",
         "text": "Gen 20, Path 321",
         "type": "scatter",
         "x": [
          0,
          233.3794239111315,
          251.19148706658055,
          258.4818182140878,
          371.8314786170018,
          431.43883519944836,
          100
         ],
         "y": [
          0,
          151.99228453673555,
          337.0356075085056,
          386.9801918472952,
          442.31375202069296,
          339.81377656540917,
          100
         ]
        },
        {
         "hoverinfo": "text+x+y",
         "line": {
          "color": "blue",
          "width": 2
         },
         "marker": {
          "color": "red",
          "size": 8
         },
         "mode": "lines+markers",
         "name": "Path 322 (Gen 20, Fitness 400.2328048706055)",
         "text": "Gen 20, Path 322",
         "type": "scatter",
         "x": [
          0,
          233.3794239111315,
          251.19148706658055,
          258.4818182140878,
          371.8314786170018,
          431.43883519944836,
          100
         ],
         "y": [
          0,
          151.99228453673555,
          337.0356075085056,
          386.9801918472952,
          442.31375202069296,
          339.81377656540917,
          100
         ]
        },
        {
         "hoverinfo": "text+x+y",
         "line": {
          "color": "blue",
          "width": 2
         },
         "marker": {
          "color": "red",
          "size": 8
         },
         "mode": "lines+markers",
         "name": "Path 323 (Gen 20, Fitness 377.7793479919434)",
         "text": "Gen 20, Path 323",
         "type": "scatter",
         "x": [
          0,
          203.7274808403702,
          251.19148706658055,
          258.4818182140878,
          371.8314786170018,
          431.43883519944836,
          100
         ],
         "y": [
          0,
          251.96403296153687,
          337.0356075085056,
          386.9801918472952,
          442.31375202069296,
          339.81377656540917,
          100
         ]
        },
        {
         "hoverinfo": "text+x+y",
         "line": {
          "color": "blue",
          "width": 2
         },
         "marker": {
          "color": "red",
          "size": 8
         },
         "mode": "lines+markers",
         "name": "Path 324 (Gen 20, Fitness 413.90097579956057)",
         "text": "Gen 20, Path 324",
         "type": "scatter",
         "x": [
          0,
          203.7274808403702,
          251.19148706658055,
          88.78648537253655,
          371.8314786170018,
          431.43883519944836,
          100
         ],
         "y": [
          0,
          251.96403296153687,
          337.0356075085056,
          30.593041887536526,
          442.31375202069296,
          339.81377656540917,
          100
         ]
        },
        {
         "hoverinfo": "text+x+y",
         "line": {
          "color": "blue",
          "width": 2
         },
         "marker": {
          "color": "red",
          "size": 8
         },
         "mode": "lines+markers",
         "name": "Path 325 (Gen 20, Fitness 379.4194688796997)",
         "text": "Gen 20, Path 325",
         "type": "scatter",
         "x": [
          0,
          203.7274808403702,
          251.19148706658055,
          258.4818182140878,
          371.8314786170018,
          431.43883519944836,
          100
         ],
         "y": [
          0,
          251.96403296153687,
          337.0356075085056,
          386.9801918472952,
          442.31375202069296,
          339.81377656540917,
          100
         ]
        },
        {
         "hoverinfo": "text+x+y",
         "line": {
          "color": "blue",
          "width": 2
         },
         "marker": {
          "color": "red",
          "size": 8
         },
         "mode": "lines+markers",
         "name": "Path 326 (Gen 20, Fitness 399.450266456604)",
         "text": "Gen 20, Path 326",
         "type": "scatter",
         "x": [
          0,
          233.3794239111315,
          251.19148706658055,
          258.4818182140878,
          371.8314786170018,
          431.43883519944836,
          100
         ],
         "y": [
          0,
          151.99228453673555,
          337.0356075085056,
          386.9801918472952,
          442.31375202069296,
          339.81377656540917,
          100
         ]
        },
        {
         "hoverinfo": "text+x+y",
         "line": {
          "color": "blue",
          "width": 2
         },
         "marker": {
          "color": "red",
          "size": 8
         },
         "mode": "lines+markers",
         "name": "Path 327 (Gen 20, Fitness 399.450266456604)",
         "text": "Gen 20, Path 327",
         "type": "scatter",
         "x": [
          0,
          233.3794239111315,
          251.19148706658055,
          258.4818182140878,
          371.8314786170018,
          431.43883519944836,
          100
         ],
         "y": [
          0,
          151.99228453673555,
          337.0356075085056,
          386.9801918472952,
          442.31375202069296,
          339.81377656540917,
          100
         ]
        },
        {
         "hoverinfo": "text+x+y",
         "line": {
          "color": "blue",
          "width": 2
         },
         "marker": {
          "color": "red",
          "size": 8
         },
         "mode": "lines+markers",
         "name": "Path 328 (Gen 20, Fitness 379.4194688796997)",
         "text": "Gen 20, Path 328",
         "type": "scatter",
         "x": [
          0,
          203.7274808403702,
          251.19148706658055,
          258.4818182140878,
          371.8314786170018,
          431.43883519944836,
          100
         ],
         "y": [
          0,
          251.96403296153687,
          337.0356075085056,
          386.9801918472952,
          442.31375202069296,
          339.81377656540917,
          100
         ]
        },
        {
         "hoverinfo": "text+x+y",
         "line": {
          "color": "blue",
          "width": 2
         },
         "marker": {
          "color": "red",
          "size": 8
         },
         "mode": "lines+markers",
         "name": "Path 329 (Gen 20, Fitness 379.4194688796997)",
         "text": "Gen 20, Path 329",
         "type": "scatter",
         "x": [
          0,
          203.7274808403702,
          251.19148706658055,
          258.4818182140878,
          371.8314786170018,
          431.43883519944836,
          100
         ],
         "y": [
          0,
          251.96403296153687,
          337.0356075085056,
          386.9801918472952,
          442.31375202069296,
          339.81377656540917,
          100
         ]
        },
        {
         "hoverinfo": "text+x+y",
         "line": {
          "color": "blue",
          "width": 2
         },
         "marker": {
          "color": "red",
          "size": 8
         },
         "mode": "lines+markers",
         "name": "Path 330 (Gen 20, Fitness 379.4194688796997)",
         "text": "Gen 20, Path 330",
         "type": "scatter",
         "x": [
          0,
          203.7274808403702,
          251.19148706658055,
          258.4818182140878,
          371.8314786170018,
          431.43883519944836,
          100
         ],
         "y": [
          0,
          251.96403296153687,
          337.0356075085056,
          386.9801918472952,
          442.31375202069296,
          339.81377656540917,
          100
         ]
        },
        {
         "hoverinfo": "text+x+y",
         "line": {
          "color": "blue",
          "width": 2
         },
         "marker": {
          "color": "red",
          "size": 8
         },
         "mode": "lines+markers",
         "name": "Path 331 (Gen 20, Fitness 379.4194688796997)",
         "text": "Gen 20, Path 331",
         "type": "scatter",
         "x": [
          0,
          203.7274808403702,
          251.19148706658055,
          258.4818182140878,
          371.8314786170018,
          431.43883519944836,
          100
         ],
         "y": [
          0,
          251.96403296153687,
          337.0356075085056,
          386.9801918472952,
          442.31375202069296,
          339.81377656540917,
          100
         ]
        },
        {
         "hoverinfo": "text+x+y",
         "line": {
          "color": "blue",
          "width": 2
         },
         "marker": {
          "color": "red",
          "size": 8
         },
         "mode": "lines+markers",
         "name": "Path 332 (Gen 20, Fitness 399.450266456604)",
         "text": "Gen 20, Path 332",
         "type": "scatter",
         "x": [
          0,
          233.3794239111315,
          251.19148706658055,
          258.4818182140878,
          371.8314786170018,
          431.43883519944836,
          100
         ],
         "y": [
          0,
          151.99228453673555,
          337.0356075085056,
          386.9801918472952,
          442.31375202069296,
          339.81377656540917,
          100
         ]
        },
        {
         "hoverinfo": "text+x+y",
         "line": {
          "color": "blue",
          "width": 2
         },
         "marker": {
          "color": "red",
          "size": 8
         },
         "mode": "lines+markers",
         "name": "Path 333 (Gen 20, Fitness 379.4194688796997)",
         "text": "Gen 20, Path 333",
         "type": "scatter",
         "x": [
          0,
          203.7274808403702,
          251.19148706658055,
          258.4818182140878,
          371.8314786170018,
          431.43883519944836,
          100
         ],
         "y": [
          0,
          251.96403296153687,
          337.0356075085056,
          386.9801918472952,
          442.31375202069296,
          339.81377656540917,
          100
         ]
        },
        {
         "hoverinfo": "text+x+y",
         "line": {
          "color": "blue",
          "width": 2
         },
         "marker": {
          "color": "red",
          "size": 8
         },
         "mode": "lines+markers",
         "name": "Path 334 (Gen 20, Fitness 379.4194688796997)",
         "text": "Gen 20, Path 334",
         "type": "scatter",
         "x": [
          0,
          203.7274808403702,
          251.19148706658055,
          258.4818182140878,
          371.8314786170018,
          431.43883519944836,
          100
         ],
         "y": [
          0,
          251.96403296153687,
          337.0356075085056,
          386.9801918472952,
          442.31375202069296,
          339.81377656540917,
          100
         ]
        },
        {
         "hoverinfo": "text+x+y",
         "line": {
          "color": "blue",
          "width": 2
         },
         "marker": {
          "color": "red",
          "size": 8
         },
         "mode": "lines+markers",
         "name": "Path 335 (Gen 0, Fitness 0.0)",
         "text": "Gen 0, Path 335",
         "type": "scatter",
         "x": [
          0,
          57.69603383588185,
          71.52563338611043,
          131.67327893609962,
          131.67327893609962,
          166.0308109437717,
          100
         ],
         "y": [
          0,
          0,
          0,
          0,
          65.95618182663857,
          65.95618182663857,
          100
         ]
        },
        {
         "hoverinfo": "text+x+y",
         "line": {
          "color": "blue",
          "width": 2
         },
         "marker": {
          "color": "red",
          "size": 8
         },
         "mode": "lines+markers",
         "name": "Path 336 (Gen 21, Fitness 379.4194688796997)",
         "text": "Gen 21, Path 336",
         "type": "scatter",
         "x": [
          0,
          203.7274808403702,
          251.19148706658055,
          258.4818182140878,
          371.8314786170018,
          431.43883519944836,
          100
         ],
         "y": [
          0,
          251.96403296153687,
          337.0356075085056,
          386.9801918472952,
          442.31375202069296,
          339.81377656540917,
          100
         ]
        },
        {
         "hoverinfo": "text+x+y",
         "line": {
          "color": "blue",
          "width": 2
         },
         "marker": {
          "color": "red",
          "size": 8
         },
         "mode": "lines+markers",
         "name": "Path 337 (Gen 21, Fitness 379.4194688796997)",
         "text": "Gen 21, Path 337",
         "type": "scatter",
         "x": [
          0,
          203.7274808403702,
          251.19148706658055,
          258.4818182140878,
          371.8314786170018,
          431.43883519944836,
          100
         ],
         "y": [
          0,
          251.96403296153687,
          337.0356075085056,
          386.9801918472952,
          442.31375202069296,
          339.81377656540917,
          100
         ]
        },
        {
         "hoverinfo": "text+x+y",
         "line": {
          "color": "blue",
          "width": 2
         },
         "marker": {
          "color": "red",
          "size": 8
         },
         "mode": "lines+markers",
         "name": "Path 338 (Gen 21, Fitness 379.4194688796997)",
         "text": "Gen 21, Path 338",
         "type": "scatter",
         "x": [
          0,
          203.7274808403702,
          251.19148706658055,
          258.4818182140878,
          371.8314786170018,
          431.43883519944836,
          100
         ],
         "y": [
          0,
          251.96403296153687,
          337.0356075085056,
          386.9801918472952,
          442.31375202069296,
          339.81377656540917,
          100
         ]
        },
        {
         "hoverinfo": "text+x+y",
         "line": {
          "color": "blue",
          "width": 2
         },
         "marker": {
          "color": "red",
          "size": 8
         },
         "mode": "lines+markers",
         "name": "Path 339 (Gen 21, Fitness 379.4194688796997)",
         "text": "Gen 21, Path 339",
         "type": "scatter",
         "x": [
          0,
          203.7274808403702,
          251.19148706658055,
          258.4818182140878,
          371.8314786170018,
          431.43883519944836,
          100
         ],
         "y": [
          0,
          251.96403296153687,
          337.0356075085056,
          386.9801918472952,
          442.31375202069296,
          339.81377656540917,
          100
         ]
        },
        {
         "hoverinfo": "text+x+y",
         "line": {
          "color": "blue",
          "width": 2
         },
         "marker": {
          "color": "red",
          "size": 8
         },
         "mode": "lines+markers",
         "name": "Path 340 (Gen 21, Fitness 379.4194688796997)",
         "text": "Gen 21, Path 340",
         "type": "scatter",
         "x": [
          0,
          203.7274808403702,
          251.19148706658055,
          258.4818182140878,
          371.8314786170018,
          431.43883519944836,
          100
         ],
         "y": [
          0,
          251.96403296153687,
          337.0356075085056,
          386.9801918472952,
          442.31375202069296,
          339.81377656540917,
          100
         ]
        },
        {
         "hoverinfo": "text+x+y",
         "line": {
          "color": "blue",
          "width": 2
         },
         "marker": {
          "color": "red",
          "size": 8
         },
         "mode": "lines+markers",
         "name": "Path 341 (Gen 21, Fitness 379.4194688796997)",
         "text": "Gen 21, Path 341",
         "type": "scatter",
         "x": [
          0,
          203.7274808403702,
          251.19148706658055,
          258.4818182140878,
          371.8314786170018,
          431.43883519944836,
          100
         ],
         "y": [
          0,
          251.96403296153687,
          337.0356075085056,
          386.9801918472952,
          442.31375202069296,
          339.81377656540917,
          100
         ]
        },
        {
         "hoverinfo": "text+x+y",
         "line": {
          "color": "blue",
          "width": 2
         },
         "marker": {
          "color": "red",
          "size": 8
         },
         "mode": "lines+markers",
         "name": "Path 342 (Gen 21, Fitness 379.4194688796997)",
         "text": "Gen 21, Path 342",
         "type": "scatter",
         "x": [
          0,
          203.7274808403702,
          251.19148706658055,
          258.4818182140878,
          371.8314786170018,
          431.43883519944836,
          100
         ],
         "y": [
          0,
          251.96403296153687,
          337.0356075085056,
          386.9801918472952,
          442.31375202069296,
          339.81377656540917,
          100
         ]
        },
        {
         "hoverinfo": "text+x+y",
         "line": {
          "color": "blue",
          "width": 2
         },
         "marker": {
          "color": "red",
          "size": 8
         },
         "mode": "lines+markers",
         "name": "Path 343 (Gen 21, Fitness 379.4194688796997)",
         "text": "Gen 21, Path 343",
         "type": "scatter",
         "x": [
          0,
          203.7274808403702,
          251.19148706658055,
          258.4818182140878,
          371.8314786170018,
          431.43883519944836,
          100
         ],
         "y": [
          0,
          251.96403296153687,
          337.0356075085056,
          386.9801918472952,
          442.31375202069296,
          339.81377656540917,
          100
         ]
        },
        {
         "hoverinfo": "text+x+y",
         "line": {
          "color": "blue",
          "width": 2
         },
         "marker": {
          "color": "red",
          "size": 8
         },
         "mode": "lines+markers",
         "name": "Path 344 (Gen 21, Fitness 379.4194688796997)",
         "text": "Gen 21, Path 344",
         "type": "scatter",
         "x": [
          0,
          203.7274808403702,
          251.19148706658055,
          258.4818182140878,
          371.8314786170018,
          431.43883519944836,
          100
         ],
         "y": [
          0,
          251.96403296153687,
          337.0356075085056,
          386.9801918472952,
          442.31375202069296,
          339.81377656540917,
          100
         ]
        },
        {
         "hoverinfo": "text+x+y",
         "line": {
          "color": "blue",
          "width": 2
         },
         "marker": {
          "color": "red",
          "size": 8
         },
         "mode": "lines+markers",
         "name": "Path 345 (Gen 21, Fitness 379.4194688796997)",
         "text": "Gen 21, Path 345",
         "type": "scatter",
         "x": [
          0,
          203.7274808403702,
          251.19148706658055,
          258.4818182140878,
          371.8314786170018,
          431.43883519944836,
          100
         ],
         "y": [
          0,
          251.96403296153687,
          337.0356075085056,
          386.9801918472952,
          442.31375202069296,
          339.81377656540917,
          100
         ]
        },
        {
         "hoverinfo": "text+x+y",
         "line": {
          "color": "blue",
          "width": 2
         },
         "marker": {
          "color": "red",
          "size": 8
         },
         "mode": "lines+markers",
         "name": "Path 346 (Gen 21, Fitness 379.4194688796997)",
         "text": "Gen 21, Path 346",
         "type": "scatter",
         "x": [
          0,
          203.7274808403702,
          251.19148706658055,
          258.4818182140878,
          371.8314786170018,
          431.43883519944836,
          100
         ],
         "y": [
          0,
          251.96403296153687,
          337.0356075085056,
          386.9801918472952,
          442.31375202069296,
          339.81377656540917,
          100
         ]
        },
        {
         "hoverinfo": "text+x+y",
         "line": {
          "color": "blue",
          "width": 2
         },
         "marker": {
          "color": "red",
          "size": 8
         },
         "mode": "lines+markers",
         "name": "Path 347 (Gen 21, Fitness 379.4194688796997)",
         "text": "Gen 21, Path 347",
         "type": "scatter",
         "x": [
          0,
          203.7274808403702,
          251.19148706658055,
          258.4818182140878,
          371.8314786170018,
          431.43883519944836,
          100
         ],
         "y": [
          0,
          251.96403296153687,
          337.0356075085056,
          386.9801918472952,
          442.31375202069296,
          339.81377656540917,
          100
         ]
        },
        {
         "hoverinfo": "text+x+y",
         "line": {
          "color": "blue",
          "width": 2
         },
         "marker": {
          "color": "red",
          "size": 8
         },
         "mode": "lines+markers",
         "name": "Path 348 (Gen 21, Fitness 379.4194688796997)",
         "text": "Gen 21, Path 348",
         "type": "scatter",
         "x": [
          0,
          203.7274808403702,
          251.19148706658055,
          258.4818182140878,
          371.8314786170018,
          431.43883519944836,
          100
         ],
         "y": [
          0,
          251.96403296153687,
          337.0356075085056,
          386.9801918472952,
          442.31375202069296,
          339.81377656540917,
          100
         ]
        },
        {
         "hoverinfo": "text+x+y",
         "line": {
          "color": "blue",
          "width": 2
         },
         "marker": {
          "color": "red",
          "size": 8
         },
         "mode": "lines+markers",
         "name": "Path 349 (Gen 21, Fitness 399.450266456604)",
         "text": "Gen 21, Path 349",
         "type": "scatter",
         "x": [
          0,
          233.3794239111315,
          251.19148706658055,
          258.4818182140878,
          371.8314786170018,
          431.43883519944836,
          100
         ],
         "y": [
          0,
          151.99228453673555,
          337.0356075085056,
          386.9801918472952,
          442.31375202069296,
          339.81377656540917,
          100
         ]
        },
        {
         "hoverinfo": "text+x+y",
         "line": {
          "color": "blue",
          "width": 2
         },
         "marker": {
          "color": "red",
          "size": 8
         },
         "mode": "lines+markers",
         "name": "Path 350 (Gen 21, Fitness 379.4194688796997)",
         "text": "Gen 21, Path 350",
         "type": "scatter",
         "x": [
          0,
          203.7274808403702,
          251.19148706658055,
          258.4818182140878,
          371.8314786170018,
          431.43883519944836,
          100
         ],
         "y": [
          0,
          251.96403296153687,
          337.0356075085056,
          386.9801918472952,
          442.31375202069296,
          339.81377656540917,
          100
         ]
        },
        {
         "hoverinfo": "text+x+y",
         "line": {
          "color": "blue",
          "width": 2
         },
         "marker": {
          "color": "red",
          "size": 8
         },
         "mode": "lines+markers",
         "name": "Path 351 (Gen 0, Fitness 0.0)",
         "text": "Gen 0, Path 351",
         "type": "scatter",
         "x": [
          0,
          57.69603383588185,
          71.52563338611043,
          131.67327893609962,
          131.67327893609962,
          166.0308109437717,
          100
         ],
         "y": [
          0,
          0,
          0,
          0,
          65.95618182663857,
          65.95618182663857,
          100
         ]
        },
        {
         "hoverinfo": "text+x+y",
         "line": {
          "color": "blue",
          "width": 2
         },
         "marker": {
          "color": "red",
          "size": 8
         },
         "mode": "lines+markers",
         "name": "Path 352 (Gen 22, Fitness 379.4194688796997)",
         "text": "Gen 22, Path 352",
         "type": "scatter",
         "x": [
          0,
          203.7274808403702,
          251.19148706658055,
          258.4818182140878,
          371.8314786170018,
          431.43883519944836,
          100
         ],
         "y": [
          0,
          251.96403296153687,
          337.0356075085056,
          386.9801918472952,
          442.31375202069296,
          339.81377656540917,
          100
         ]
        },
        {
         "hoverinfo": "text+x+y",
         "line": {
          "color": "blue",
          "width": 2
         },
         "marker": {
          "color": "red",
          "size": 8
         },
         "mode": "lines+markers",
         "name": "Path 353 (Gen 22, Fitness 379.4194688796997)",
         "text": "Gen 22, Path 353",
         "type": "scatter",
         "x": [
          0,
          203.7274808403702,
          251.19148706658055,
          258.4818182140878,
          371.8314786170018,
          431.43883519944836,
          100
         ],
         "y": [
          0,
          251.96403296153687,
          337.0356075085056,
          386.9801918472952,
          442.31375202069296,
          339.81377656540917,
          100
         ]
        },
        {
         "hoverinfo": "text+x+y",
         "line": {
          "color": "blue",
          "width": 2
         },
         "marker": {
          "color": "red",
          "size": 8
         },
         "mode": "lines+markers",
         "name": "Path 354 (Gen 22, Fitness 399.450266456604)",
         "text": "Gen 22, Path 354",
         "type": "scatter",
         "x": [
          0,
          233.3794239111315,
          251.19148706658055,
          258.4818182140878,
          371.8314786170018,
          431.43883519944836,
          100
         ],
         "y": [
          0,
          151.99228453673555,
          337.0356075085056,
          386.9801918472952,
          442.31375202069296,
          339.81377656540917,
          100
         ]
        },
        {
         "hoverinfo": "text+x+y",
         "line": {
          "color": "blue",
          "width": 2
         },
         "marker": {
          "color": "red",
          "size": 8
         },
         "mode": "lines+markers",
         "name": "Path 355 (Gen 22, Fitness 385.39029731750486)",
         "text": "Gen 22, Path 355",
         "type": "scatter",
         "x": [
          0,
          203.7274808403702,
          251.19148706658055,
          258.4818182140878,
          371.8314786170018,
          431.43883519944836,
          100
         ],
         "y": [
          0,
          251.96403296153687,
          337.0356075085056,
          386.9801918472952,
          442.31375202069296,
          339.81377656540917,
          100
         ]
        },
        {
         "hoverinfo": "text+x+y",
         "line": {
          "color": "blue",
          "width": 2
         },
         "marker": {
          "color": "red",
          "size": 8
         },
         "mode": "lines+markers",
         "name": "Path 356 (Gen 22, Fitness 385.39029731750486)",
         "text": "Gen 22, Path 356",
         "type": "scatter",
         "x": [
          0,
          203.7274808403702,
          251.19148706658055,
          258.4818182140878,
          371.8314786170018,
          431.43883519944836,
          100
         ],
         "y": [
          0,
          251.96403296153687,
          337.0356075085056,
          386.9801918472952,
          442.31375202069296,
          339.81377656540917,
          100
         ]
        },
        {
         "hoverinfo": "text+x+y",
         "line": {
          "color": "blue",
          "width": 2
         },
         "marker": {
          "color": "red",
          "size": 8
         },
         "mode": "lines+markers",
         "name": "Path 357 (Gen 22, Fitness 392.37210311889646)",
         "text": "Gen 22, Path 357",
         "type": "scatter",
         "x": [
          0,
          203.7274808403702,
          251.19148706658055,
          258.4818182140878,
          371.8314786170018,
          431.43883519944836,
          100
         ],
         "y": [
          0,
          251.96403296153687,
          337.0356075085056,
          386.9801918472952,
          442.31375202069296,
          339.81377656540917,
          100
         ]
        },
        {
         "hoverinfo": "text+x+y",
         "line": {
          "color": "blue",
          "width": 2
         },
         "marker": {
          "color": "red",
          "size": 8
         },
         "mode": "lines+markers",
         "name": "Path 358 (Gen 22, Fitness 392.37210311889646)",
         "text": "Gen 22, Path 358",
         "type": "scatter",
         "x": [
          0,
          203.7274808403702,
          251.19148706658055,
          258.4818182140878,
          371.8314786170018,
          431.43883519944836,
          100
         ],
         "y": [
          0,
          251.96403296153687,
          337.0356075085056,
          386.9801918472952,
          442.31375202069296,
          339.81377656540917,
          100
         ]
        },
        {
         "hoverinfo": "text+x+y",
         "line": {
          "color": "blue",
          "width": 2
         },
         "marker": {
          "color": "red",
          "size": 8
         },
         "mode": "lines+markers",
         "name": "Path 359 (Gen 22, Fitness 392.37210311889646)",
         "text": "Gen 22, Path 359",
         "type": "scatter",
         "x": [
          0,
          203.7274808403702,
          251.19148706658055,
          258.4818182140878,
          371.8314786170018,
          431.43883519944836,
          100
         ],
         "y": [
          0,
          251.96403296153687,
          337.0356075085056,
          386.9801918472952,
          442.31375202069296,
          339.81377656540917,
          100
         ]
        },
        {
         "hoverinfo": "text+x+y",
         "line": {
          "color": "blue",
          "width": 2
         },
         "marker": {
          "color": "red",
          "size": 8
         },
         "mode": "lines+markers",
         "name": "Path 360 (Gen 22, Fitness 392.37210311889646)",
         "text": "Gen 22, Path 360",
         "type": "scatter",
         "x": [
          0,
          203.7274808403702,
          251.19148706658055,
          258.4818182140878,
          371.8314786170018,
          431.43883519944836,
          100
         ],
         "y": [
          0,
          251.96403296153687,
          337.0356075085056,
          386.9801918472952,
          442.31375202069296,
          339.81377656540917,
          100
         ]
        },
        {
         "hoverinfo": "text+x+y",
         "line": {
          "color": "blue",
          "width": 2
         },
         "marker": {
          "color": "red",
          "size": 8
         },
         "mode": "lines+markers",
         "name": "Path 361 (Gen 22, Fitness 393.11289005279536)",
         "text": "Gen 22, Path 361",
         "type": "scatter",
         "x": [
          0,
          203.7274808403702,
          251.19148706658055,
          258.4818182140878,
          371.8314786170018,
          431.43883519944836,
          100
         ],
         "y": [
          0,
          251.96403296153687,
          337.0356075085056,
          386.9801918472952,
          442.31375202069296,
          339.81377656540917,
          100
         ]
        },
        {
         "hoverinfo": "text+x+y",
         "line": {
          "color": "blue",
          "width": 2
         },
         "marker": {
          "color": "red",
          "size": 8
         },
         "mode": "lines+markers",
         "name": "Path 362 (Gen 22, Fitness 393.11289005279536)",
         "text": "Gen 22, Path 362",
         "type": "scatter",
         "x": [
          0,
          203.7274808403702,
          251.19148706658055,
          258.4818182140878,
          371.8314786170018,
          431.43883519944836,
          100
         ],
         "y": [
          0,
          251.96403296153687,
          337.0356075085056,
          386.9801918472952,
          442.31375202069296,
          339.81377656540917,
          100
         ]
        },
        {
         "hoverinfo": "text+x+y",
         "line": {
          "color": "blue",
          "width": 2
         },
         "marker": {
          "color": "red",
          "size": 8
         },
         "mode": "lines+markers",
         "name": "Path 363 (Gen 22, Fitness 393.11289005279536)",
         "text": "Gen 22, Path 363",
         "type": "scatter",
         "x": [
          0,
          203.7274808403702,
          251.19148706658055,
          258.4818182140878,
          371.8314786170018,
          431.43883519944836,
          100
         ],
         "y": [
          0,
          251.96403296153687,
          337.0356075085056,
          386.9801918472952,
          442.31375202069296,
          339.81377656540917,
          100
         ]
        },
        {
         "hoverinfo": "text+x+y",
         "line": {
          "color": "blue",
          "width": 2
         },
         "marker": {
          "color": "red",
          "size": 8
         },
         "mode": "lines+markers",
         "name": "Path 364 (Gen 22, Fitness 393.11289005279536)",
         "text": "Gen 22, Path 364",
         "type": "scatter",
         "x": [
          0,
          203.7274808403702,
          251.19148706658055,
          258.4818182140878,
          371.8314786170018,
          431.43883519944836,
          100
         ],
         "y": [
          0,
          251.96403296153687,
          337.0356075085056,
          386.9801918472952,
          442.31375202069296,
          339.81377656540917,
          100
         ]
        },
        {
         "hoverinfo": "text+x+y",
         "line": {
          "color": "blue",
          "width": 2
         },
         "marker": {
          "color": "red",
          "size": 8
         },
         "mode": "lines+markers",
         "name": "Path 365 (Gen 22, Fitness 393.11289005279536)",
         "text": "Gen 22, Path 365",
         "type": "scatter",
         "x": [
          0,
          203.7274808403702,
          251.19148706658055,
          258.4818182140878,
          371.8314786170018,
          431.43883519944836,
          100
         ],
         "y": [
          0,
          251.96403296153687,
          337.0356075085056,
          386.9801918472952,
          442.31375202069296,
          339.81377656540917,
          100
         ]
        },
        {
         "hoverinfo": "text+x+y",
         "line": {
          "color": "blue",
          "width": 2
         },
         "marker": {
          "color": "red",
          "size": 8
         },
         "mode": "lines+markers",
         "name": "Path 366 (Gen 22, Fitness 393.11289005279536)",
         "text": "Gen 22, Path 366",
         "type": "scatter",
         "x": [
          0,
          203.7274808403702,
          251.19148706658055,
          258.4818182140878,
          371.8314786170018,
          431.43883519944836,
          100
         ],
         "y": [
          0,
          251.96403296153687,
          337.0356075085056,
          386.9801918472952,
          442.31375202069296,
          339.81377656540917,
          100
         ]
        },
        {
         "hoverinfo": "text+x+y",
         "line": {
          "color": "blue",
          "width": 2
         },
         "marker": {
          "color": "red",
          "size": 8
         },
         "mode": "lines+markers",
         "name": "Path 367 (Gen 0, Fitness 0.0)",
         "text": "Gen 0, Path 367",
         "type": "scatter",
         "x": [
          0,
          57.69603383588185,
          71.52563338611043,
          131.67327893609962,
          131.67327893609962,
          166.0308109437717,
          100
         ],
         "y": [
          0,
          0,
          0,
          0,
          65.95618182663857,
          65.95618182663857,
          100
         ]
        },
        {
         "hoverinfo": "text+x+y",
         "line": {
          "color": "blue",
          "width": 2
         },
         "marker": {
          "color": "red",
          "size": 8
         },
         "mode": "lines+markers",
         "name": "Path 368 (Gen 23, Fitness 393.11289005279536)",
         "text": "Gen 23, Path 368",
         "type": "scatter",
         "x": [
          0,
          203.7274808403702,
          251.19148706658055,
          258.4818182140878,
          371.8314786170018,
          431.43883519944836,
          100
         ],
         "y": [
          0,
          251.96403296153687,
          337.0356075085056,
          386.9801918472952,
          442.31375202069296,
          339.81377656540917,
          100
         ]
        },
        {
         "hoverinfo": "text+x+y",
         "line": {
          "color": "blue",
          "width": 2
         },
         "marker": {
          "color": "red",
          "size": 8
         },
         "mode": "lines+markers",
         "name": "Path 369 (Gen 23, Fitness 404.89541454315184)",
         "text": "Gen 23, Path 369",
         "type": "scatter",
         "x": [
          0,
          233.3794239111315,
          251.19148706658055,
          258.4818182140878,
          371.8314786170018,
          431.43883519944836,
          100
         ],
         "y": [
          0,
          151.99228453673555,
          337.0356075085056,
          386.9801918472952,
          442.31375202069296,
          339.81377656540917,
          100
         ]
        },
        {
         "hoverinfo": "text+x+y",
         "line": {
          "color": "blue",
          "width": 2
         },
         "marker": {
          "color": "red",
          "size": 8
         },
         "mode": "lines+markers",
         "name": "Path 370 (Gen 23, Fitness 393.11289005279536)",
         "text": "Gen 23, Path 370",
         "type": "scatter",
         "x": [
          0,
          203.7274808403702,
          251.19148706658055,
          258.4818182140878,
          371.8314786170018,
          431.43883519944836,
          100
         ],
         "y": [
          0,
          251.96403296153687,
          337.0356075085056,
          386.9801918472952,
          442.31375202069296,
          339.81377656540917,
          100
         ]
        },
        {
         "hoverinfo": "text+x+y",
         "line": {
          "color": "blue",
          "width": 2
         },
         "marker": {
          "color": "red",
          "size": 8
         },
         "mode": "lines+markers",
         "name": "Path 371 (Gen 23, Fitness 393.11289005279536)",
         "text": "Gen 23, Path 371",
         "type": "scatter",
         "x": [
          0,
          203.7274808403702,
          251.19148706658055,
          258.4818182140878,
          371.8314786170018,
          431.43883519944836,
          100
         ],
         "y": [
          0,
          251.96403296153687,
          337.0356075085056,
          386.9801918472952,
          442.31375202069296,
          339.81377656540917,
          100
         ]
        },
        {
         "hoverinfo": "text+x+y",
         "line": {
          "color": "blue",
          "width": 2
         },
         "marker": {
          "color": "red",
          "size": 8
         },
         "mode": "lines+markers",
         "name": "Path 372 (Gen 23, Fitness 393.11289005279536)",
         "text": "Gen 23, Path 372",
         "type": "scatter",
         "x": [
          0,
          203.7274808403702,
          251.19148706658055,
          258.4818182140878,
          371.8314786170018,
          431.43883519944836,
          100
         ],
         "y": [
          0,
          251.96403296153687,
          337.0356075085056,
          386.9801918472952,
          442.31375202069296,
          339.81377656540917,
          100
         ]
        },
        {
         "hoverinfo": "text+x+y",
         "line": {
          "color": "blue",
          "width": 2
         },
         "marker": {
          "color": "red",
          "size": 8
         },
         "mode": "lines+markers",
         "name": "Path 373 (Gen 23, Fitness 393.11289005279536)",
         "text": "Gen 23, Path 373",
         "type": "scatter",
         "x": [
          0,
          203.7274808403702,
          251.19148706658055,
          258.4818182140878,
          371.8314786170018,
          431.43883519944836,
          100
         ],
         "y": [
          0,
          251.96403296153687,
          337.0356075085056,
          386.9801918472952,
          442.31375202069296,
          339.81377656540917,
          100
         ]
        },
        {
         "hoverinfo": "text+x+y",
         "line": {
          "color": "blue",
          "width": 2
         },
         "marker": {
          "color": "red",
          "size": 8
         },
         "mode": "lines+markers",
         "name": "Path 374 (Gen 23, Fitness 393.7879404067993)",
         "text": "Gen 23, Path 374",
         "type": "scatter",
         "x": [
          0,
          203.7274808403702,
          251.19148706658055,
          258.4818182140878,
          371.8314786170018,
          431.43883519944836,
          100
         ],
         "y": [
          0,
          251.96403296153687,
          337.0356075085056,
          386.9801918472952,
          442.31375202069296,
          339.81377656540917,
          100
         ]
        },
        {
         "hoverinfo": "text+x+y",
         "line": {
          "color": "blue",
          "width": 2
         },
         "marker": {
          "color": "red",
          "size": 8
         },
         "mode": "lines+markers",
         "name": "Path 375 (Gen 23, Fitness 393.7879404067993)",
         "text": "Gen 23, Path 375",
         "type": "scatter",
         "x": [
          0,
          203.7274808403702,
          251.19148706658055,
          258.4818182140878,
          371.8314786170018,
          431.43883519944836,
          100
         ],
         "y": [
          0,
          251.96403296153687,
          337.0356075085056,
          386.9801918472952,
          442.31375202069296,
          339.81377656540917,
          100
         ]
        },
        {
         "hoverinfo": "text+x+y",
         "line": {
          "color": "blue",
          "width": 2
         },
         "marker": {
          "color": "red",
          "size": 8
         },
         "mode": "lines+markers",
         "name": "Path 376 (Gen 23, Fitness 393.7879404067993)",
         "text": "Gen 23, Path 376",
         "type": "scatter",
         "x": [
          0,
          203.7274808403702,
          251.19148706658055,
          258.4818182140878,
          371.8314786170018,
          431.43883519944836,
          100
         ],
         "y": [
          0,
          251.96403296153687,
          337.0356075085056,
          386.9801918472952,
          442.31375202069296,
          339.81377656540917,
          100
         ]
        },
        {
         "hoverinfo": "text+x+y",
         "line": {
          "color": "blue",
          "width": 2
         },
         "marker": {
          "color": "red",
          "size": 8
         },
         "mode": "lines+markers",
         "name": "Path 377 (Gen 23, Fitness 393.7879404067993)",
         "text": "Gen 23, Path 377",
         "type": "scatter",
         "x": [
          0,
          203.7274808403702,
          251.19148706658055,
          258.4818182140878,
          371.8314786170018,
          431.43883519944836,
          100
         ],
         "y": [
          0,
          251.96403296153687,
          337.0356075085056,
          386.9801918472952,
          442.31375202069296,
          339.81377656540917,
          100
         ]
        },
        {
         "hoverinfo": "text+x+y",
         "line": {
          "color": "blue",
          "width": 2
         },
         "marker": {
          "color": "red",
          "size": 8
         },
         "mode": "lines+markers",
         "name": "Path 378 (Gen 23, Fitness 393.7879404067993)",
         "text": "Gen 23, Path 378",
         "type": "scatter",
         "x": [
          0,
          203.7274808403702,
          251.19148706658055,
          258.4818182140878,
          371.8314786170018,
          431.43883519944836,
          100
         ],
         "y": [
          0,
          251.96403296153687,
          337.0356075085056,
          386.9801918472952,
          442.31375202069296,
          339.81377656540917,
          100
         ]
        },
        {
         "hoverinfo": "text+x+y",
         "line": {
          "color": "blue",
          "width": 2
         },
         "marker": {
          "color": "red",
          "size": 8
         },
         "mode": "lines+markers",
         "name": "Path 379 (Gen 23, Fitness 405.6051851272583)",
         "text": "Gen 23, Path 379",
         "type": "scatter",
         "x": [
          0,
          233.3794239111315,
          251.19148706658055,
          258.4818182140878,
          371.8314786170018,
          431.43883519944836,
          100
         ],
         "y": [
          0,
          151.99228453673555,
          337.0356075085056,
          386.9801918472952,
          442.31375202069296,
          339.81377656540917,
          100
         ]
        },
        {
         "hoverinfo": "text+x+y",
         "line": {
          "color": "blue",
          "width": 2
         },
         "marker": {
          "color": "red",
          "size": 8
         },
         "mode": "lines+markers",
         "name": "Path 380 (Gen 23, Fitness 393.7879404067993)",
         "text": "Gen 23, Path 380",
         "type": "scatter",
         "x": [
          0,
          203.7274808403702,
          251.19148706658055,
          258.4818182140878,
          371.8314786170018,
          431.43883519944836,
          100
         ],
         "y": [
          0,
          251.96403296153687,
          337.0356075085056,
          386.9801918472952,
          442.31375202069296,
          339.81377656540917,
          100
         ]
        },
        {
         "hoverinfo": "text+x+y",
         "line": {
          "color": "blue",
          "width": 2
         },
         "marker": {
          "color": "red",
          "size": 8
         },
         "mode": "lines+markers",
         "name": "Path 381 (Gen 23, Fitness 393.7879404067993)",
         "text": "Gen 23, Path 381",
         "type": "scatter",
         "x": [
          0,
          203.7274808403702,
          251.19148706658055,
          258.4818182140878,
          371.8314786170018,
          431.43883519944836,
          100
         ],
         "y": [
          0,
          251.96403296153687,
          337.0356075085056,
          386.9801918472952,
          442.31375202069296,
          339.81377656540917,
          100
         ]
        },
        {
         "hoverinfo": "text+x+y",
         "line": {
          "color": "blue",
          "width": 2
         },
         "marker": {
          "color": "red",
          "size": 8
         },
         "mode": "lines+markers",
         "name": "Path 382 (Gen 23, Fitness 393.7879404067993)",
         "text": "Gen 23, Path 382",
         "type": "scatter",
         "x": [
          0,
          203.7274808403702,
          251.19148706658055,
          258.4818182140878,
          371.8314786170018,
          431.43883519944836,
          100
         ],
         "y": [
          0,
          251.96403296153687,
          337.0356075085056,
          386.9801918472952,
          442.31375202069296,
          339.81377656540917,
          100
         ]
        },
        {
         "hoverinfo": "text+x+y",
         "line": {
          "color": "blue",
          "width": 2
         },
         "marker": {
          "color": "red",
          "size": 8
         },
         "mode": "lines+markers",
         "name": "Path 383 (Gen 0, Fitness 0.0)",
         "text": "Gen 0, Path 383",
         "type": "scatter",
         "x": [
          0,
          57.69603383588185,
          71.52563338611043,
          131.67327893609962,
          131.67327893609962,
          166.0308109437717,
          100
         ],
         "y": [
          0,
          0,
          0,
          0,
          65.95618182663857,
          65.95618182663857,
          100
         ]
        },
        {
         "hoverinfo": "text+x+y",
         "line": {
          "color": "blue",
          "width": 2
         },
         "marker": {
          "color": "red",
          "size": 8
         },
         "mode": "lines+markers",
         "name": "Path 384 (Gen 24, Fitness 393.7879404067993)",
         "text": "Gen 24, Path 384",
         "type": "scatter",
         "x": [
          0,
          203.7274808403702,
          251.19148706658055,
          258.4818182140878,
          371.8314786170018,
          431.43883519944836,
          100
         ],
         "y": [
          0,
          251.96403296153687,
          337.0356075085056,
          386.9801918472952,
          442.31375202069296,
          339.81377656540917,
          100
         ]
        },
        {
         "hoverinfo": "text+x+y",
         "line": {
          "color": "blue",
          "width": 2
         },
         "marker": {
          "color": "red",
          "size": 8
         },
         "mode": "lines+markers",
         "name": "Path 385 (Gen 24, Fitness 393.7879404067993)",
         "text": "Gen 24, Path 385",
         "type": "scatter",
         "x": [
          0,
          203.7274808403702,
          251.19148706658055,
          258.4818182140878,
          371.8314786170018,
          431.43883519944836,
          100
         ],
         "y": [
          0,
          251.96403296153687,
          337.0356075085056,
          386.9801918472952,
          442.31375202069296,
          339.81377656540917,
          100
         ]
        },
        {
         "hoverinfo": "text+x+y",
         "line": {
          "color": "blue",
          "width": 2
         },
         "marker": {
          "color": "red",
          "size": 8
         },
         "mode": "lines+markers",
         "name": "Path 386 (Gen 24, Fitness 393.7879404067993)",
         "text": "Gen 24, Path 386",
         "type": "scatter",
         "x": [
          0,
          203.7274808403702,
          251.19148706658055,
          258.4818182140878,
          371.8314786170018,
          431.43883519944836,
          100
         ],
         "y": [
          0,
          251.96403296153687,
          337.0356075085056,
          386.9801918472952,
          442.31375202069296,
          339.81377656540917,
          100
         ]
        },
        {
         "hoverinfo": "text+x+y",
         "line": {
          "color": "blue",
          "width": 2
         },
         "marker": {
          "color": "red",
          "size": 8
         },
         "mode": "lines+markers",
         "name": "Path 387 (Gen 24, Fitness 393.7879404067993)",
         "text": "Gen 24, Path 387",
         "type": "scatter",
         "x": [
          0,
          203.7274808403702,
          251.19148706658055,
          258.4818182140878,
          371.8314786170018,
          431.43883519944836,
          100
         ],
         "y": [
          0,
          251.96403296153687,
          337.0356075085056,
          386.9801918472952,
          442.31375202069296,
          339.81377656540917,
          100
         ]
        },
        {
         "hoverinfo": "text+x+y",
         "line": {
          "color": "blue",
          "width": 2
         },
         "marker": {
          "color": "red",
          "size": 8
         },
         "mode": "lines+markers",
         "name": "Path 388 (Gen 24, Fitness 393.7879404067993)",
         "text": "Gen 24, Path 388",
         "type": "scatter",
         "x": [
          0,
          203.7274808403702,
          251.19148706658055,
          258.4818182140878,
          371.8314786170018,
          431.43883519944836,
          100
         ],
         "y": [
          0,
          251.96403296153687,
          337.0356075085056,
          386.9801918472952,
          442.31375202069296,
          339.81377656540917,
          100
         ]
        },
        {
         "hoverinfo": "text+x+y",
         "line": {
          "color": "blue",
          "width": 2
         },
         "marker": {
          "color": "red",
          "size": 8
         },
         "mode": "lines+markers",
         "name": "Path 389 (Gen 24, Fitness 393.7879404067993)",
         "text": "Gen 24, Path 389",
         "type": "scatter",
         "x": [
          0,
          203.7274808403702,
          251.19148706658055,
          258.4818182140878,
          371.8314786170018,
          431.43883519944836,
          100
         ],
         "y": [
          0,
          251.96403296153687,
          337.0356075085056,
          386.9801918472952,
          442.31375202069296,
          339.81377656540917,
          100
         ]
        },
        {
         "hoverinfo": "text+x+y",
         "line": {
          "color": "blue",
          "width": 2
         },
         "marker": {
          "color": "red",
          "size": 8
         },
         "mode": "lines+markers",
         "name": "Path 390 (Gen 24, Fitness 393.7879404067993)",
         "text": "Gen 24, Path 390",
         "type": "scatter",
         "x": [
          0,
          203.7274808403702,
          251.19148706658055,
          258.4818182140878,
          371.8314786170018,
          431.43883519944836,
          100
         ],
         "y": [
          0,
          251.96403296153687,
          337.0356075085056,
          386.9801918472952,
          442.31375202069296,
          339.81377656540917,
          100
         ]
        },
        {
         "hoverinfo": "text+x+y",
         "line": {
          "color": "blue",
          "width": 2
         },
         "marker": {
          "color": "red",
          "size": 8
         },
         "mode": "lines+markers",
         "name": "Path 391 (Gen 24, Fitness 393.7879404067993)",
         "text": "Gen 24, Path 391",
         "type": "scatter",
         "x": [
          0,
          203.7274808403702,
          251.19148706658055,
          258.4818182140878,
          371.8314786170018,
          431.43883519944836,
          100
         ],
         "y": [
          0,
          251.96403296153687,
          337.0356075085056,
          386.9801918472952,
          442.31375202069296,
          339.81377656540917,
          100
         ]
        },
        {
         "hoverinfo": "text+x+y",
         "line": {
          "color": "blue",
          "width": 2
         },
         "marker": {
          "color": "red",
          "size": 8
         },
         "mode": "lines+markers",
         "name": "Path 392 (Gen 24, Fitness 393.7879404067993)",
         "text": "Gen 24, Path 392",
         "type": "scatter",
         "x": [
          0,
          203.7274808403702,
          251.19148706658055,
          258.4818182140878,
          371.8314786170018,
          431.43883519944836,
          100
         ],
         "y": [
          0,
          251.96403296153687,
          337.0356075085056,
          386.9801918472952,
          442.31375202069296,
          339.81377656540917,
          100
         ]
        },
        {
         "hoverinfo": "text+x+y",
         "line": {
          "color": "blue",
          "width": 2
         },
         "marker": {
          "color": "red",
          "size": 8
         },
         "mode": "lines+markers",
         "name": "Path 393 (Gen 24, Fitness 393.7879404067993)",
         "text": "Gen 24, Path 393",
         "type": "scatter",
         "x": [
          0,
          203.7274808403702,
          251.19148706658055,
          258.4818182140878,
          371.8314786170018,
          431.43883519944836,
          100
         ],
         "y": [
          0,
          251.96403296153687,
          337.0356075085056,
          386.9801918472952,
          442.31375202069296,
          339.81377656540917,
          100
         ]
        },
        {
         "hoverinfo": "text+x+y",
         "line": {
          "color": "blue",
          "width": 2
         },
         "marker": {
          "color": "red",
          "size": 8
         },
         "mode": "lines+markers",
         "name": "Path 394 (Gen 24, Fitness 393.7879404067993)",
         "text": "Gen 24, Path 394",
         "type": "scatter",
         "x": [
          0,
          203.7274808403702,
          251.19148706658055,
          258.4818182140878,
          371.8314786170018,
          431.43883519944836,
          100
         ],
         "y": [
          0,
          251.96403296153687,
          337.0356075085056,
          386.9801918472952,
          442.31375202069296,
          339.81377656540917,
          100
         ]
        },
        {
         "hoverinfo": "text+x+y",
         "line": {
          "color": "blue",
          "width": 2
         },
         "marker": {
          "color": "red",
          "size": 8
         },
         "mode": "lines+markers",
         "name": "Path 395 (Gen 24, Fitness 393.7879404067993)",
         "text": "Gen 24, Path 395",
         "type": "scatter",
         "x": [
          0,
          203.7274808403702,
          251.19148706658055,
          258.4818182140878,
          371.8314786170018,
          431.43883519944836,
          100
         ],
         "y": [
          0,
          251.96403296153687,
          337.0356075085056,
          386.9801918472952,
          442.31375202069296,
          339.81377656540917,
          100
         ]
        },
        {
         "hoverinfo": "text+x+y",
         "line": {
          "color": "blue",
          "width": 2
         },
         "marker": {
          "color": "red",
          "size": 8
         },
         "mode": "lines+markers",
         "name": "Path 396 (Gen 24, Fitness 405.6051851272583)",
         "text": "Gen 24, Path 396",
         "type": "scatter",
         "x": [
          0,
          233.3794239111315,
          251.19148706658055,
          258.4818182140878,
          371.8314786170018,
          431.43883519944836,
          100
         ],
         "y": [
          0,
          151.99228453673555,
          337.0356075085056,
          386.9801918472952,
          442.31375202069296,
          339.81377656540917,
          100
         ]
        },
        {
         "hoverinfo": "text+x+y",
         "line": {
          "color": "blue",
          "width": 2
         },
         "marker": {
          "color": "red",
          "size": 8
         },
         "mode": "lines+markers",
         "name": "Path 397 (Gen 24, Fitness 393.7879404067993)",
         "text": "Gen 24, Path 397",
         "type": "scatter",
         "x": [
          0,
          203.7274808403702,
          251.19148706658055,
          258.4818182140878,
          371.8314786170018,
          431.43883519944836,
          100
         ],
         "y": [
          0,
          251.96403296153687,
          337.0356075085056,
          386.9801918472952,
          442.31375202069296,
          339.81377656540917,
          100
         ]
        },
        {
         "hoverinfo": "text+x+y",
         "line": {
          "color": "blue",
          "width": 2
         },
         "marker": {
          "color": "red",
          "size": 8
         },
         "mode": "lines+markers",
         "name": "Path 398 (Gen 24, Fitness 393.7879404067993)",
         "text": "Gen 24, Path 398",
         "type": "scatter",
         "x": [
          0,
          203.7274808403702,
          251.19148706658055,
          258.4818182140878,
          371.8314786170018,
          431.43883519944836,
          100
         ],
         "y": [
          0,
          251.96403296153687,
          337.0356075085056,
          386.9801918472952,
          442.31375202069296,
          339.81377656540917,
          100
         ]
        },
        {
         "hoverinfo": "text+x+y",
         "line": {
          "color": "blue",
          "width": 2
         },
         "marker": {
          "color": "red",
          "size": 8
         },
         "mode": "lines+markers",
         "name": "Path 399 (Gen 0, Fitness 0.0)",
         "text": "Gen 0, Path 399",
         "type": "scatter",
         "x": [
          0,
          57.69603383588185,
          71.52563338611043,
          131.67327893609962,
          131.67327893609962,
          166.0308109437717,
          100
         ],
         "y": [
          0,
          0,
          0,
          0,
          65.95618182663857,
          65.95618182663857,
          100
         ]
        },
        {
         "hoverinfo": "text+x+y",
         "line": {
          "color": "blue",
          "width": 2
         },
         "marker": {
          "color": "red",
          "size": 8
         },
         "mode": "lines+markers",
         "name": "Path 400 (Gen 25, Fitness 405.6051851272583)",
         "text": "Gen 25, Path 400",
         "type": "scatter",
         "x": [
          0,
          233.3794239111315,
          251.19148706658055,
          258.4818182140878,
          371.8314786170018,
          431.43883519944836,
          100
         ],
         "y": [
          0,
          151.99228453673555,
          337.0356075085056,
          386.9801918472952,
          442.31375202069296,
          339.81377656540917,
          100
         ]
        },
        {
         "hoverinfo": "text+x+y",
         "line": {
          "color": "blue",
          "width": 2
         },
         "marker": {
          "color": "red",
          "size": 8
         },
         "mode": "lines+markers",
         "name": "Path 401 (Gen 25, Fitness 393.7879404067993)",
         "text": "Gen 25, Path 401",
         "type": "scatter",
         "x": [
          0,
          203.7274808403702,
          251.19148706658055,
          258.4818182140878,
          371.8314786170018,
          431.43883519944836,
          100
         ],
         "y": [
          0,
          251.96403296153687,
          337.0356075085056,
          386.9801918472952,
          442.31375202069296,
          339.81377656540917,
          100
         ]
        },
        {
         "hoverinfo": "text+x+y",
         "line": {
          "color": "blue",
          "width": 2
         },
         "marker": {
          "color": "red",
          "size": 8
         },
         "mode": "lines+markers",
         "name": "Path 402 (Gen 25, Fitness 405.6051851272583)",
         "text": "Gen 25, Path 402",
         "type": "scatter",
         "x": [
          0,
          233.3794239111315,
          251.19148706658055,
          258.4818182140878,
          371.8314786170018,
          431.43883519944836,
          100
         ],
         "y": [
          0,
          151.99228453673555,
          337.0356075085056,
          386.9801918472952,
          442.31375202069296,
          339.81377656540917,
          100
         ]
        },
        {
         "hoverinfo": "text+x+y",
         "line": {
          "color": "blue",
          "width": 2
         },
         "marker": {
          "color": "red",
          "size": 8
         },
         "mode": "lines+markers",
         "name": "Path 403 (Gen 25, Fitness 393.7879404067993)",
         "text": "Gen 25, Path 403",
         "type": "scatter",
         "x": [
          0,
          203.7274808403702,
          251.19148706658055,
          258.4818182140878,
          371.8314786170018,
          431.43883519944836,
          100
         ],
         "y": [
          0,
          251.96403296153687,
          337.0356075085056,
          386.9801918472952,
          442.31375202069296,
          339.81377656540917,
          100
         ]
        },
        {
         "hoverinfo": "text+x+y",
         "line": {
          "color": "blue",
          "width": 2
         },
         "marker": {
          "color": "red",
          "size": 8
         },
         "mode": "lines+markers",
         "name": "Path 404 (Gen 25, Fitness 393.7879404067993)",
         "text": "Gen 25, Path 404",
         "type": "scatter",
         "x": [
          0,
          203.7274808403702,
          251.19148706658055,
          258.4818182140878,
          371.8314786170018,
          431.43883519944836,
          100
         ],
         "y": [
          0,
          251.96403296153687,
          337.0356075085056,
          386.9801918472952,
          442.31375202069296,
          339.81377656540917,
          100
         ]
        },
        {
         "hoverinfo": "text+x+y",
         "line": {
          "color": "blue",
          "width": 2
         },
         "marker": {
          "color": "red",
          "size": 8
         },
         "mode": "lines+markers",
         "name": "Path 405 (Gen 25, Fitness 393.7879404067993)",
         "text": "Gen 25, Path 405",
         "type": "scatter",
         "x": [
          0,
          203.7274808403702,
          251.19148706658055,
          258.4818182140878,
          371.8314786170018,
          431.43883519944836,
          100
         ],
         "y": [
          0,
          251.96403296153687,
          337.0356075085056,
          386.9801918472952,
          442.31375202069296,
          339.81377656540917,
          100
         ]
        },
        {
         "hoverinfo": "text+x+y",
         "line": {
          "color": "blue",
          "width": 2
         },
         "marker": {
          "color": "red",
          "size": 8
         },
         "mode": "lines+markers",
         "name": "Path 406 (Gen 25, Fitness 393.7879404067993)",
         "text": "Gen 25, Path 406",
         "type": "scatter",
         "x": [
          0,
          203.7274808403702,
          251.19148706658055,
          258.4818182140878,
          371.8314786170018,
          431.43883519944836,
          100
         ],
         "y": [
          0,
          251.96403296153687,
          337.0356075085056,
          386.9801918472952,
          442.31375202069296,
          339.81377656540917,
          100
         ]
        },
        {
         "hoverinfo": "text+x+y",
         "line": {
          "color": "blue",
          "width": 2
         },
         "marker": {
          "color": "red",
          "size": 8
         },
         "mode": "lines+markers",
         "name": "Path 407 (Gen 25, Fitness 393.7879404067993)",
         "text": "Gen 25, Path 407",
         "type": "scatter",
         "x": [
          0,
          203.7274808403702,
          251.19148706658055,
          258.4818182140878,
          371.8314786170018,
          431.43883519944836,
          100
         ],
         "y": [
          0,
          251.96403296153687,
          337.0356075085056,
          386.9801918472952,
          442.31375202069296,
          339.81377656540917,
          100
         ]
        },
        {
         "hoverinfo": "text+x+y",
         "line": {
          "color": "blue",
          "width": 2
         },
         "marker": {
          "color": "red",
          "size": 8
         },
         "mode": "lines+markers",
         "name": "Path 408 (Gen 25, Fitness 401.7424007415772)",
         "text": "Gen 25, Path 408",
         "type": "scatter",
         "x": [
          0,
          203.7274808403702,
          251.19148706658055,
          258.4818182140878,
          371.8314786170018,
          431.43883519944836,
          100
         ],
         "y": [
          0,
          251.96403296153687,
          337.0356075085056,
          386.9801918472952,
          442.31375202069296,
          339.81377656540917,
          100
         ]
        },
        {
         "hoverinfo": "text+x+y",
         "line": {
          "color": "blue",
          "width": 2
         },
         "marker": {
          "color": "red",
          "size": 8
         },
         "mode": "lines+markers",
         "name": "Path 409 (Gen 25, Fitness 401.7424007415772)",
         "text": "Gen 25, Path 409",
         "type": "scatter",
         "x": [
          0,
          203.7274808403702,
          251.19148706658055,
          258.4818182140878,
          371.8314786170018,
          431.43883519944836,
          100
         ],
         "y": [
          0,
          251.96403296153687,
          337.0356075085056,
          386.9801918472952,
          442.31375202069296,
          339.81377656540917,
          100
         ]
        },
        {
         "hoverinfo": "text+x+y",
         "line": {
          "color": "blue",
          "width": 2
         },
         "marker": {
          "color": "red",
          "size": 8
         },
         "mode": "lines+markers",
         "name": "Path 410 (Gen 25, Fitness 401.7424007415772)",
         "text": "Gen 25, Path 410",
         "type": "scatter",
         "x": [
          0,
          203.7274808403702,
          251.19148706658055,
          258.4818182140878,
          371.8314786170018,
          431.43883519944836,
          100
         ],
         "y": [
          0,
          251.96403296153687,
          337.0356075085056,
          386.9801918472952,
          442.31375202069296,
          339.81377656540917,
          100
         ]
        },
        {
         "hoverinfo": "text+x+y",
         "line": {
          "color": "blue",
          "width": 2
         },
         "marker": {
          "color": "red",
          "size": 8
         },
         "mode": "lines+markers",
         "name": "Path 411 (Gen 25, Fitness 401.7424007415772)",
         "text": "Gen 25, Path 411",
         "type": "scatter",
         "x": [
          0,
          203.7274808403702,
          251.19148706658055,
          258.4818182140878,
          371.8314786170018,
          431.43883519944836,
          100
         ],
         "y": [
          0,
          251.96403296153687,
          337.0356075085056,
          386.9801918472952,
          442.31375202069296,
          339.81377656540917,
          100
         ]
        },
        {
         "hoverinfo": "text+x+y",
         "line": {
          "color": "blue",
          "width": 2
         },
         "marker": {
          "color": "red",
          "size": 8
         },
         "mode": "lines+markers",
         "name": "Path 412 (Gen 25, Fitness 401.7424007415772)",
         "text": "Gen 25, Path 412",
         "type": "scatter",
         "x": [
          0,
          203.7274808403702,
          251.19148706658055,
          258.4818182140878,
          371.8314786170018,
          431.43883519944836,
          100
         ],
         "y": [
          0,
          251.96403296153687,
          337.0356075085056,
          386.9801918472952,
          442.31375202069296,
          339.81377656540917,
          100
         ]
        },
        {
         "hoverinfo": "text+x+y",
         "line": {
          "color": "blue",
          "width": 2
         },
         "marker": {
          "color": "red",
          "size": 8
         },
         "mode": "lines+markers",
         "name": "Path 413 (Gen 25, Fitness 401.7424007415772)",
         "text": "Gen 25, Path 413",
         "type": "scatter",
         "x": [
          0,
          203.7274808403702,
          251.19148706658055,
          258.4818182140878,
          371.8314786170018,
          431.43883519944836,
          100
         ],
         "y": [
          0,
          251.96403296153687,
          337.0356075085056,
          386.9801918472952,
          442.31375202069296,
          339.81377656540917,
          100
         ]
        },
        {
         "hoverinfo": "text+x+y",
         "line": {
          "color": "blue",
          "width": 2
         },
         "marker": {
          "color": "red",
          "size": 8
         },
         "mode": "lines+markers",
         "name": "Path 414 (Gen 25, Fitness 401.7424007415772)",
         "text": "Gen 25, Path 414",
         "type": "scatter",
         "x": [
          0,
          203.7274808403702,
          251.19148706658055,
          258.4818182140878,
          371.8314786170018,
          431.43883519944836,
          100
         ],
         "y": [
          0,
          251.96403296153687,
          337.0356075085056,
          386.9801918472952,
          442.31375202069296,
          339.81377656540917,
          100
         ]
        },
        {
         "hoverinfo": "text+x+y",
         "line": {
          "color": "blue",
          "width": 2
         },
         "marker": {
          "color": "red",
          "size": 8
         },
         "mode": "lines+markers",
         "name": "Path 415 (Gen 0, Fitness 0.0)",
         "text": "Gen 0, Path 415",
         "type": "scatter",
         "x": [
          0,
          57.69603383588185,
          71.52563338611043,
          131.67327893609962,
          131.67327893609962,
          166.0308109437717,
          100
         ],
         "y": [
          0,
          0,
          0,
          0,
          65.95618182663857,
          65.95618182663857,
          100
         ]
        },
        {
         "hoverinfo": "text+x+y",
         "line": {
          "color": "blue",
          "width": 2
         },
         "marker": {
          "color": "red",
          "size": 8
         },
         "mode": "lines+markers",
         "name": "Path 416 (Gen 26, Fitness 401.7424007415772)",
         "text": "Gen 26, Path 416",
         "type": "scatter",
         "x": [
          0,
          203.7274808403702,
          251.19148706658055,
          258.4818182140878,
          371.8314786170018,
          431.43883519944836,
          100
         ],
         "y": [
          0,
          251.96403296153687,
          337.0356075085056,
          386.9801918472952,
          442.31375202069296,
          339.81377656540917,
          100
         ]
        },
        {
         "hoverinfo": "text+x+y",
         "line": {
          "color": "blue",
          "width": 2
         },
         "marker": {
          "color": "red",
          "size": 8
         },
         "mode": "lines+markers",
         "name": "Path 417 (Gen 26, Fitness 401.7424007415772)",
         "text": "Gen 26, Path 417",
         "type": "scatter",
         "x": [
          0,
          203.7274808403702,
          251.19148706658055,
          258.4818182140878,
          371.8314786170018,
          431.43883519944836,
          100
         ],
         "y": [
          0,
          251.96403296153687,
          337.0356075085056,
          386.9801918472952,
          442.31375202069296,
          339.81377656540917,
          100
         ]
        },
        {
         "hoverinfo": "text+x+y",
         "line": {
          "color": "blue",
          "width": 2
         },
         "marker": {
          "color": "red",
          "size": 8
         },
         "mode": "lines+markers",
         "name": "Path 418 (Gen 26, Fitness 401.7424007415772)",
         "text": "Gen 26, Path 418",
         "type": "scatter",
         "x": [
          0,
          203.7274808403702,
          251.19148706658055,
          258.4818182140878,
          371.8314786170018,
          431.43883519944836,
          100
         ],
         "y": [
          0,
          251.96403296153687,
          337.0356075085056,
          386.9801918472952,
          442.31375202069296,
          339.81377656540917,
          100
         ]
        },
        {
         "hoverinfo": "text+x+y",
         "line": {
          "color": "blue",
          "width": 2
         },
         "marker": {
          "color": "red",
          "size": 8
         },
         "mode": "lines+markers",
         "name": "Path 419 (Gen 26, Fitness 401.7424007415772)",
         "text": "Gen 26, Path 419",
         "type": "scatter",
         "x": [
          0,
          203.7274808403702,
          251.19148706658055,
          258.4818182140878,
          371.8314786170018,
          431.43883519944836,
          100
         ],
         "y": [
          0,
          251.96403296153687,
          337.0356075085056,
          386.9801918472952,
          442.31375202069296,
          339.81377656540917,
          100
         ]
        },
        {
         "hoverinfo": "text+x+y",
         "line": {
          "color": "blue",
          "width": 2
         },
         "marker": {
          "color": "red",
          "size": 8
         },
         "mode": "lines+markers",
         "name": "Path 420 (Gen 26, Fitness 401.7424007415772)",
         "text": "Gen 26, Path 420",
         "type": "scatter",
         "x": [
          0,
          203.7274808403702,
          251.19148706658055,
          258.4818182140878,
          371.8314786170018,
          431.43883519944836,
          100
         ],
         "y": [
          0,
          251.96403296153687,
          337.0356075085056,
          386.9801918472952,
          442.31375202069296,
          339.81377656540917,
          100
         ]
        },
        {
         "hoverinfo": "text+x+y",
         "line": {
          "color": "blue",
          "width": 2
         },
         "marker": {
          "color": "red",
          "size": 8
         },
         "mode": "lines+markers",
         "name": "Path 421 (Gen 26, Fitness 401.7424007415772)",
         "text": "Gen 26, Path 421",
         "type": "scatter",
         "x": [
          0,
          203.7274808403702,
          251.19148706658055,
          258.4818182140878,
          371.8314786170018,
          431.43883519944836,
          100
         ],
         "y": [
          0,
          251.96403296153687,
          337.0356075085056,
          386.9801918472952,
          442.31375202069296,
          339.81377656540917,
          100
         ]
        },
        {
         "hoverinfo": "text+x+y",
         "line": {
          "color": "blue",
          "width": 2
         },
         "marker": {
          "color": "red",
          "size": 8
         },
         "mode": "lines+markers",
         "name": "Path 422 (Gen 26, Fitness 401.7424007415772)",
         "text": "Gen 26, Path 422",
         "type": "scatter",
         "x": [
          0,
          203.7274808403702,
          251.19148706658055,
          258.4818182140878,
          371.8314786170018,
          431.43883519944836,
          100
         ],
         "y": [
          0,
          251.96403296153687,
          337.0356075085056,
          386.9801918472952,
          442.31375202069296,
          339.81377656540917,
          100
         ]
        },
        {
         "hoverinfo": "text+x+y",
         "line": {
          "color": "blue",
          "width": 2
         },
         "marker": {
          "color": "red",
          "size": 8
         },
         "mode": "lines+markers",
         "name": "Path 423 (Gen 26, Fitness 401.7424007415772)",
         "text": "Gen 26, Path 423",
         "type": "scatter",
         "x": [
          0,
          203.7274808403702,
          251.19148706658055,
          258.4818182140878,
          371.8314786170018,
          431.43883519944836,
          100
         ],
         "y": [
          0,
          251.96403296153687,
          337.0356075085056,
          386.9801918472952,
          442.31375202069296,
          339.81377656540917,
          100
         ]
        },
        {
         "hoverinfo": "text+x+y",
         "line": {
          "color": "blue",
          "width": 2
         },
         "marker": {
          "color": "red",
          "size": 8
         },
         "mode": "lines+markers",
         "name": "Path 424 (Gen 26, Fitness 401.7424007415772)",
         "text": "Gen 26, Path 424",
         "type": "scatter",
         "x": [
          0,
          203.7274808403702,
          251.19148706658055,
          258.4818182140878,
          371.8314786170018,
          431.43883519944836,
          100
         ],
         "y": [
          0,
          251.96403296153687,
          337.0356075085056,
          386.9801918472952,
          442.31375202069296,
          339.81377656540917,
          100
         ]
        },
        {
         "hoverinfo": "text+x+y",
         "line": {
          "color": "blue",
          "width": 2
         },
         "marker": {
          "color": "red",
          "size": 8
         },
         "mode": "lines+markers",
         "name": "Path 425 (Gen 26, Fitness 401.7424007415772)",
         "text": "Gen 26, Path 425",
         "type": "scatter",
         "x": [
          0,
          203.7274808403702,
          251.19148706658055,
          258.4818182140878,
          371.8314786170018,
          431.43883519944836,
          100
         ],
         "y": [
          0,
          251.96403296153687,
          337.0356075085056,
          386.9801918472952,
          442.31375202069296,
          339.81377656540917,
          100
         ]
        },
        {
         "hoverinfo": "text+x+y",
         "line": {
          "color": "blue",
          "width": 2
         },
         "marker": {
          "color": "red",
          "size": 8
         },
         "mode": "lines+markers",
         "name": "Path 426 (Gen 26, Fitness 401.7424007415772)",
         "text": "Gen 26, Path 426",
         "type": "scatter",
         "x": [
          0,
          203.7274808403702,
          251.19148706658055,
          258.4818182140878,
          371.8314786170018,
          431.43883519944836,
          100
         ],
         "y": [
          0,
          251.96403296153687,
          337.0356075085056,
          386.9801918472952,
          442.31375202069296,
          339.81377656540917,
          100
         ]
        },
        {
         "hoverinfo": "text+x+y",
         "line": {
          "color": "blue",
          "width": 2
         },
         "marker": {
          "color": "red",
          "size": 8
         },
         "mode": "lines+markers",
         "name": "Path 427 (Gen 26, Fitness 401.7424007415772)",
         "text": "Gen 26, Path 427",
         "type": "scatter",
         "x": [
          0,
          203.7274808403702,
          251.19148706658055,
          258.4818182140878,
          371.8314786170018,
          431.43883519944836,
          100
         ],
         "y": [
          0,
          251.96403296153687,
          337.0356075085056,
          386.9801918472952,
          442.31375202069296,
          339.81377656540917,
          100
         ]
        },
        {
         "hoverinfo": "text+x+y",
         "line": {
          "color": "blue",
          "width": 2
         },
         "marker": {
          "color": "red",
          "size": 8
         },
         "mode": "lines+markers",
         "name": "Path 428 (Gen 26, Fitness 409.6900535583496)",
         "text": "Gen 26, Path 428",
         "type": "scatter",
         "x": [
          0,
          203.7274808403702,
          251.19148706658055,
          258.4818182140878,
          371.8314786170018,
          431.43883519944836,
          100
         ],
         "y": [
          0,
          251.96403296153687,
          337.0356075085056,
          386.9801918472952,
          442.31375202069296,
          339.81377656540917,
          100
         ]
        },
        {
         "hoverinfo": "text+x+y",
         "line": {
          "color": "blue",
          "width": 2
         },
         "marker": {
          "color": "red",
          "size": 8
         },
         "mode": "lines+markers",
         "name": "Path 429 (Gen 26, Fitness 409.6900535583496)",
         "text": "Gen 26, Path 429",
         "type": "scatter",
         "x": [
          0,
          203.7274808403702,
          251.19148706658055,
          258.4818182140878,
          371.8314786170018,
          431.43883519944836,
          100
         ],
         "y": [
          0,
          251.96403296153687,
          337.0356075085056,
          386.9801918472952,
          442.31375202069296,
          339.81377656540917,
          100
         ]
        },
        {
         "hoverinfo": "text+x+y",
         "line": {
          "color": "blue",
          "width": 2
         },
         "marker": {
          "color": "red",
          "size": 8
         },
         "mode": "lines+markers",
         "name": "Path 430 (Gen 26, Fitness 417.0703037261962)",
         "text": "Gen 26, Path 430",
         "type": "scatter",
         "x": [
          0,
          233.3794239111315,
          251.19148706658055,
          258.4818182140878,
          371.8314786170018,
          431.43883519944836,
          100
         ],
         "y": [
          0,
          151.99228453673555,
          337.0356075085056,
          386.9801918472952,
          442.31375202069296,
          339.81377656540917,
          100
         ]
        },
        {
         "hoverinfo": "text+x+y",
         "line": {
          "color": "blue",
          "width": 2
         },
         "marker": {
          "color": "red",
          "size": 8
         },
         "mode": "lines+markers",
         "name": "Path 431 (Gen 0, Fitness 0.0)",
         "text": "Gen 0, Path 431",
         "type": "scatter",
         "x": [
          0,
          57.69603383588185,
          71.52563338611043,
          131.67327893609962,
          131.67327893609962,
          166.0308109437717,
          100
         ],
         "y": [
          0,
          0,
          0,
          0,
          65.95618182663857,
          65.95618182663857,
          100
         ]
        },
        {
         "hoverinfo": "text+x+y",
         "line": {
          "color": "blue",
          "width": 2
         },
         "marker": {
          "color": "red",
          "size": 8
         },
         "mode": "lines+markers",
         "name": "Path 432 (Gen 27, Fitness 409.6900535583496)",
         "text": "Gen 27, Path 432",
         "type": "scatter",
         "x": [
          0,
          203.7274808403702,
          251.19148706658055,
          258.4818182140878,
          371.8314786170018,
          431.43883519944836,
          100
         ],
         "y": [
          0,
          251.96403296153687,
          337.0356075085056,
          386.9801918472952,
          442.31375202069296,
          339.81377656540917,
          100
         ]
        },
        {
         "hoverinfo": "text+x+y",
         "line": {
          "color": "blue",
          "width": 2
         },
         "marker": {
          "color": "red",
          "size": 8
         },
         "mode": "lines+markers",
         "name": "Path 433 (Gen 27, Fitness 409.6900535583496)",
         "text": "Gen 27, Path 433",
         "type": "scatter",
         "x": [
          0,
          203.7274808403702,
          251.19148706658055,
          258.4818182140878,
          371.8314786170018,
          431.43883519944836,
          100
         ],
         "y": [
          0,
          251.96403296153687,
          337.0356075085056,
          386.9801918472952,
          442.31375202069296,
          339.81377656540917,
          100
         ]
        },
        {
         "hoverinfo": "text+x+y",
         "line": {
          "color": "blue",
          "width": 2
         },
         "marker": {
          "color": "red",
          "size": 8
         },
         "mode": "lines+markers",
         "name": "Path 434 (Gen 27, Fitness 409.6900535583496)",
         "text": "Gen 27, Path 434",
         "type": "scatter",
         "x": [
          0,
          203.7274808403702,
          251.19148706658055,
          258.4818182140878,
          371.8314786170018,
          431.43883519944836,
          100
         ],
         "y": [
          0,
          251.96403296153687,
          337.0356075085056,
          386.9801918472952,
          442.31375202069296,
          339.81377656540917,
          100
         ]
        },
        {
         "hoverinfo": "text+x+y",
         "line": {
          "color": "blue",
          "width": 2
         },
         "marker": {
          "color": "red",
          "size": 8
         },
         "mode": "lines+markers",
         "name": "Path 435 (Gen 27, Fitness 409.6900535583496)",
         "text": "Gen 27, Path 435",
         "type": "scatter",
         "x": [
          0,
          203.7274808403702,
          251.19148706658055,
          258.4818182140878,
          371.8314786170018,
          431.43883519944836,
          100
         ],
         "y": [
          0,
          251.96403296153687,
          337.0356075085056,
          386.9801918472952,
          442.31375202069296,
          339.81377656540917,
          100
         ]
        },
        {
         "hoverinfo": "text+x+y",
         "line": {
          "color": "blue",
          "width": 2
         },
         "marker": {
          "color": "red",
          "size": 8
         },
         "mode": "lines+markers",
         "name": "Path 436 (Gen 27, Fitness 409.6900535583496)",
         "text": "Gen 27, Path 436",
         "type": "scatter",
         "x": [
          0,
          203.7274808403702,
          251.19148706658055,
          258.4818182140878,
          371.8314786170018,
          431.43883519944836,
          100
         ],
         "y": [
          0,
          251.96403296153687,
          337.0356075085056,
          386.9801918472952,
          442.31375202069296,
          339.81377656540917,
          100
         ]
        },
        {
         "hoverinfo": "text+x+y",
         "line": {
          "color": "blue",
          "width": 2
         },
         "marker": {
          "color": "red",
          "size": 8
         },
         "mode": "lines+markers",
         "name": "Path 437 (Gen 27, Fitness 409.6900535583496)",
         "text": "Gen 27, Path 437",
         "type": "scatter",
         "x": [
          0,
          203.7274808403702,
          251.19148706658055,
          258.4818182140878,
          371.8314786170018,
          431.43883519944836,
          100
         ],
         "y": [
          0,
          251.96403296153687,
          337.0356075085056,
          386.9801918472952,
          442.31375202069296,
          339.81377656540917,
          100
         ]
        },
        {
         "hoverinfo": "text+x+y",
         "line": {
          "color": "blue",
          "width": 2
         },
         "marker": {
          "color": "red",
          "size": 8
         },
         "mode": "lines+markers",
         "name": "Path 438 (Gen 27, Fitness 410.35581703186034)",
         "text": "Gen 27, Path 438",
         "type": "scatter",
         "x": [
          0,
          203.7274808403702,
          251.19148706658055,
          258.4818182140878,
          371.8314786170018,
          431.43883519944836,
          100
         ],
         "y": [
          0,
          251.96403296153687,
          337.0356075085056,
          386.9801918472952,
          442.31375202069296,
          339.81377656540917,
          100
         ]
        },
        {
         "hoverinfo": "text+x+y",
         "line": {
          "color": "blue",
          "width": 2
         },
         "marker": {
          "color": "red",
          "size": 8
         },
         "mode": "lines+markers",
         "name": "Path 439 (Gen 27, Fitness 410.35581703186034)",
         "text": "Gen 27, Path 439",
         "type": "scatter",
         "x": [
          0,
          203.7274808403702,
          251.19148706658055,
          258.4818182140878,
          371.8314786170018,
          431.43883519944836,
          100
         ],
         "y": [
          0,
          251.96403296153687,
          337.0356075085056,
          386.9801918472952,
          442.31375202069296,
          339.81377656540917,
          100
         ]
        },
        {
         "hoverinfo": "text+x+y",
         "line": {
          "color": "blue",
          "width": 2
         },
         "marker": {
          "color": "red",
          "size": 8
         },
         "mode": "lines+markers",
         "name": "Path 440 (Gen 27, Fitness 410.35581703186034)",
         "text": "Gen 27, Path 440",
         "type": "scatter",
         "x": [
          0,
          203.7274808403702,
          251.19148706658055,
          258.4818182140878,
          371.8314786170018,
          431.43883519944836,
          100
         ],
         "y": [
          0,
          251.96403296153687,
          337.0356075085056,
          386.9801918472952,
          442.31375202069296,
          339.81377656540917,
          100
         ]
        },
        {
         "hoverinfo": "text+x+y",
         "line": {
          "color": "blue",
          "width": 2
         },
         "marker": {
          "color": "red",
          "size": 8
         },
         "mode": "lines+markers",
         "name": "Path 441 (Gen 27, Fitness 410.35581703186034)",
         "text": "Gen 27, Path 441",
         "type": "scatter",
         "x": [
          0,
          203.7274808403702,
          251.19148706658055,
          258.4818182140878,
          371.8314786170018,
          431.43883519944836,
          100
         ],
         "y": [
          0,
          251.96403296153687,
          337.0356075085056,
          386.9801918472952,
          442.31375202069296,
          339.81377656540917,
          100
         ]
        },
        {
         "hoverinfo": "text+x+y",
         "line": {
          "color": "blue",
          "width": 2
         },
         "marker": {
          "color": "red",
          "size": 8
         },
         "mode": "lines+markers",
         "name": "Path 442 (Gen 27, Fitness 410.35581703186034)",
         "text": "Gen 27, Path 442",
         "type": "scatter",
         "x": [
          0,
          203.7274808403702,
          251.19148706658055,
          258.4818182140878,
          371.8314786170018,
          431.43883519944836,
          100
         ],
         "y": [
          0,
          251.96403296153687,
          337.0356075085056,
          386.9801918472952,
          442.31375202069296,
          339.81377656540917,
          100
         ]
        },
        {
         "hoverinfo": "text+x+y",
         "line": {
          "color": "blue",
          "width": 2
         },
         "marker": {
          "color": "red",
          "size": 8
         },
         "mode": "lines+markers",
         "name": "Path 443 (Gen 27, Fitness 413.05316944122313)",
         "text": "Gen 27, Path 443",
         "type": "scatter",
         "x": [
          0,
          203.7274808403702,
          251.19148706658055,
          258.4818182140878,
          371.8314786170018,
          431.43883519944836,
          100
         ],
         "y": [
          0,
          251.96403296153687,
          337.0356075085056,
          386.9801918472952,
          442.31375202069296,
          339.81377656540917,
          100
         ]
        },
        {
         "hoverinfo": "text+x+y",
         "line": {
          "color": "blue",
          "width": 2
         },
         "marker": {
          "color": "red",
          "size": 8
         },
         "mode": "lines+markers",
         "name": "Path 444 (Gen 27, Fitness 413.05316944122313)",
         "text": "Gen 27, Path 444",
         "type": "scatter",
         "x": [
          0,
          203.7274808403702,
          251.19148706658055,
          258.4818182140878,
          371.8314786170018,
          431.43883519944836,
          100
         ],
         "y": [
          0,
          251.96403296153687,
          337.0356075085056,
          386.9801918472952,
          442.31375202069296,
          339.81377656540917,
          100
         ]
        },
        {
         "hoverinfo": "text+x+y",
         "line": {
          "color": "blue",
          "width": 2
         },
         "marker": {
          "color": "red",
          "size": 8
         },
         "mode": "lines+markers",
         "name": "Path 445 (Gen 27, Fitness 419.4784490585327)",
         "text": "Gen 27, Path 445",
         "type": "scatter",
         "x": [
          0,
          233.3794239111315,
          251.19148706658055,
          258.4818182140878,
          371.8314786170018,
          431.43883519944836,
          100
         ],
         "y": [
          0,
          151.99228453673555,
          337.0356075085056,
          386.9801918472952,
          442.31375202069296,
          339.81377656540917,
          100
         ]
        },
        {
         "hoverinfo": "text+x+y",
         "line": {
          "color": "blue",
          "width": 2
         },
         "marker": {
          "color": "red",
          "size": 8
         },
         "mode": "lines+markers",
         "name": "Path 446 (Gen 27, Fitness 413.05316944122313)",
         "text": "Gen 27, Path 446",
         "type": "scatter",
         "x": [
          0,
          203.7274808403702,
          251.19148706658055,
          258.4818182140878,
          371.8314786170018,
          431.43883519944836,
          100
         ],
         "y": [
          0,
          251.96403296153687,
          337.0356075085056,
          386.9801918472952,
          442.31375202069296,
          339.81377656540917,
          100
         ]
        },
        {
         "hoverinfo": "text+x+y",
         "line": {
          "color": "blue",
          "width": 2
         },
         "marker": {
          "color": "red",
          "size": 8
         },
         "mode": "lines+markers",
         "name": "Path 447 (Gen 0, Fitness 0.0)",
         "text": "Gen 0, Path 447",
         "type": "scatter",
         "x": [
          0,
          57.69603383588185,
          71.52563338611043,
          131.67327893609962,
          131.67327893609962,
          166.0308109437717,
          100
         ],
         "y": [
          0,
          0,
          0,
          0,
          65.95618182663857,
          65.95618182663857,
          100
         ]
        },
        {
         "hoverinfo": "text+x+y",
         "line": {
          "color": "blue",
          "width": 2
         },
         "marker": {
          "color": "red",
          "size": 8
         },
         "mode": "lines+markers",
         "name": "Path 448 (Gen 28, Fitness 413.05316944122313)",
         "text": "Gen 28, Path 448",
         "type": "scatter",
         "x": [
          0,
          203.7274808403702,
          251.19148706658055,
          258.4818182140878,
          371.8314786170018,
          431.43883519944836,
          100
         ],
         "y": [
          0,
          251.96403296153687,
          337.0356075085056,
          386.9801918472952,
          442.31375202069296,
          339.81377656540917,
          100
         ]
        },
        {
         "hoverinfo": "text+x+y",
         "line": {
          "color": "blue",
          "width": 2
         },
         "marker": {
          "color": "red",
          "size": 8
         },
         "mode": "lines+markers",
         "name": "Path 449 (Gen 28, Fitness 413.05316944122313)",
         "text": "Gen 28, Path 449",
         "type": "scatter",
         "x": [
          0,
          203.7274808403702,
          251.19148706658055,
          258.4818182140878,
          371.8314786170018,
          431.43883519944836,
          100
         ],
         "y": [
          0,
          251.96403296153687,
          337.0356075085056,
          386.9801918472952,
          442.31375202069296,
          339.81377656540917,
          100
         ]
        },
        {
         "hoverinfo": "text+x+y",
         "line": {
          "color": "blue",
          "width": 2
         },
         "marker": {
          "color": "red",
          "size": 8
         },
         "mode": "lines+markers",
         "name": "Path 450 (Gen 28, Fitness 413.05316944122313)",
         "text": "Gen 28, Path 450",
         "type": "scatter",
         "x": [
          0,
          203.7274808403702,
          251.19148706658055,
          258.4818182140878,
          371.8314786170018,
          431.43883519944836,
          100
         ],
         "y": [
          0,
          251.96403296153687,
          337.0356075085056,
          386.9801918472952,
          442.31375202069296,
          339.81377656540917,
          100
         ]
        },
        {
         "hoverinfo": "text+x+y",
         "line": {
          "color": "blue",
          "width": 2
         },
         "marker": {
          "color": "red",
          "size": 8
         },
         "mode": "lines+markers",
         "name": "Path 451 (Gen 28, Fitness 413.05316944122313)",
         "text": "Gen 28, Path 451",
         "type": "scatter",
         "x": [
          0,
          203.7274808403702,
          251.19148706658055,
          258.4818182140878,
          371.8314786170018,
          431.43883519944836,
          100
         ],
         "y": [
          0,
          251.96403296153687,
          337.0356075085056,
          386.9801918472952,
          442.31375202069296,
          339.81377656540917,
          100
         ]
        },
        {
         "hoverinfo": "text+x+y",
         "line": {
          "color": "blue",
          "width": 2
         },
         "marker": {
          "color": "red",
          "size": 8
         },
         "mode": "lines+markers",
         "name": "Path 452 (Gen 28, Fitness 413.05316944122313)",
         "text": "Gen 28, Path 452",
         "type": "scatter",
         "x": [
          0,
          203.7274808403702,
          251.19148706658055,
          258.4818182140878,
          371.8314786170018,
          431.43883519944836,
          100
         ],
         "y": [
          0,
          251.96403296153687,
          337.0356075085056,
          386.9801918472952,
          442.31375202069296,
          339.81377656540917,
          100
         ]
        },
        {
         "hoverinfo": "text+x+y",
         "line": {
          "color": "blue",
          "width": 2
         },
         "marker": {
          "color": "red",
          "size": 8
         },
         "mode": "lines+markers",
         "name": "Path 453 (Gen 28, Fitness 419.4784490585327)",
         "text": "Gen 28, Path 453",
         "type": "scatter",
         "x": [
          0,
          233.3794239111315,
          251.19148706658055,
          258.4818182140878,
          371.8314786170018,
          431.43883519944836,
          100
         ],
         "y": [
          0,
          151.99228453673555,
          337.0356075085056,
          386.9801918472952,
          442.31375202069296,
          339.81377656540917,
          100
         ]
        },
        {
         "hoverinfo": "text+x+y",
         "line": {
          "color": "blue",
          "width": 2
         },
         "marker": {
          "color": "red",
          "size": 8
         },
         "mode": "lines+markers",
         "name": "Path 454 (Gen 28, Fitness 413.05316944122313)",
         "text": "Gen 28, Path 454",
         "type": "scatter",
         "x": [
          0,
          203.7274808403702,
          251.19148706658055,
          258.4818182140878,
          371.8314786170018,
          431.43883519944836,
          100
         ],
         "y": [
          0,
          251.96403296153687,
          337.0356075085056,
          386.9801918472952,
          442.31375202069296,
          339.81377656540917,
          100
         ]
        },
        {
         "hoverinfo": "text+x+y",
         "line": {
          "color": "blue",
          "width": 2
         },
         "marker": {
          "color": "red",
          "size": 8
         },
         "mode": "lines+markers",
         "name": "Path 455 (Gen 28, Fitness 413.05316944122313)",
         "text": "Gen 28, Path 455",
         "type": "scatter",
         "x": [
          0,
          203.7274808403702,
          251.19148706658055,
          258.4818182140878,
          371.8314786170018,
          431.43883519944836,
          100
         ],
         "y": [
          0,
          251.96403296153687,
          337.0356075085056,
          386.9801918472952,
          442.31375202069296,
          339.81377656540917,
          100
         ]
        },
        {
         "hoverinfo": "text+x+y",
         "line": {
          "color": "blue",
          "width": 2
         },
         "marker": {
          "color": "red",
          "size": 8
         },
         "mode": "lines+markers",
         "name": "Path 456 (Gen 28, Fitness 419.4784490585327)",
         "text": "Gen 28, Path 456",
         "type": "scatter",
         "x": [
          0,
          233.3794239111315,
          251.19148706658055,
          258.4818182140878,
          371.8314786170018,
          431.43883519944836,
          100
         ],
         "y": [
          0,
          151.99228453673555,
          337.0356075085056,
          386.9801918472952,
          442.31375202069296,
          339.81377656540917,
          100
         ]
        },
        {
         "hoverinfo": "text+x+y",
         "line": {
          "color": "blue",
          "width": 2
         },
         "marker": {
          "color": "red",
          "size": 8
         },
         "mode": "lines+markers",
         "name": "Path 457 (Gen 28, Fitness 419.4784490585327)",
         "text": "Gen 28, Path 457",
         "type": "scatter",
         "x": [
          0,
          233.3794239111315,
          251.19148706658055,
          258.4818182140878,
          371.8314786170018,
          431.43883519944836,
          100
         ],
         "y": [
          0,
          151.99228453673555,
          337.0356075085056,
          386.9801918472952,
          442.31375202069296,
          339.81377656540917,
          100
         ]
        },
        {
         "hoverinfo": "text+x+y",
         "line": {
          "color": "blue",
          "width": 2
         },
         "marker": {
          "color": "red",
          "size": 8
         },
         "mode": "lines+markers",
         "name": "Path 458 (Gen 28, Fitness 413.05316944122313)",
         "text": "Gen 28, Path 458",
         "type": "scatter",
         "x": [
          0,
          203.7274808403702,
          251.19148706658055,
          258.4818182140878,
          371.8314786170018,
          431.43883519944836,
          100
         ],
         "y": [
          0,
          251.96403296153687,
          337.0356075085056,
          386.9801918472952,
          442.31375202069296,
          339.81377656540917,
          100
         ]
        },
        {
         "hoverinfo": "text+x+y",
         "line": {
          "color": "blue",
          "width": 2
         },
         "marker": {
          "color": "red",
          "size": 8
         },
         "mode": "lines+markers",
         "name": "Path 459 (Gen 28, Fitness 419.4784490585327)",
         "text": "Gen 28, Path 459",
         "type": "scatter",
         "x": [
          0,
          233.3794239111315,
          251.19148706658055,
          258.4818182140878,
          371.8314786170018,
          431.43883519944836,
          100
         ],
         "y": [
          0,
          151.99228453673555,
          337.0356075085056,
          386.9801918472952,
          442.31375202069296,
          339.81377656540917,
          100
         ]
        },
        {
         "hoverinfo": "text+x+y",
         "line": {
          "color": "blue",
          "width": 2
         },
         "marker": {
          "color": "red",
          "size": 8
         },
         "mode": "lines+markers",
         "name": "Path 460 (Gen 28, Fitness 413.05316944122313)",
         "text": "Gen 28, Path 460",
         "type": "scatter",
         "x": [
          0,
          203.7274808403702,
          251.19148706658055,
          258.4818182140878,
          371.8314786170018,
          431.43883519944836,
          100
         ],
         "y": [
          0,
          251.96403296153687,
          337.0356075085056,
          386.9801918472952,
          442.31375202069296,
          339.81377656540917,
          100
         ]
        },
        {
         "hoverinfo": "text+x+y",
         "line": {
          "color": "blue",
          "width": 2
         },
         "marker": {
          "color": "red",
          "size": 8
         },
         "mode": "lines+markers",
         "name": "Path 461 (Gen 28, Fitness 419.4784490585327)",
         "text": "Gen 28, Path 461",
         "type": "scatter",
         "x": [
          0,
          233.3794239111315,
          251.19148706658055,
          258.4818182140878,
          371.8314786170018,
          431.43883519944836,
          100
         ],
         "y": [
          0,
          151.99228453673555,
          337.0356075085056,
          386.9801918472952,
          442.31375202069296,
          339.81377656540917,
          100
         ]
        },
        {
         "hoverinfo": "text+x+y",
         "line": {
          "color": "blue",
          "width": 2
         },
         "marker": {
          "color": "red",
          "size": 8
         },
         "mode": "lines+markers",
         "name": "Path 462 (Gen 28, Fitness 413.05316944122313)",
         "text": "Gen 28, Path 462",
         "type": "scatter",
         "x": [
          0,
          203.7274808403702,
          251.19148706658055,
          258.4818182140878,
          371.8314786170018,
          431.43883519944836,
          100
         ],
         "y": [
          0,
          251.96403296153687,
          337.0356075085056,
          386.9801918472952,
          442.31375202069296,
          339.81377656540917,
          100
         ]
        },
        {
         "hoverinfo": "text+x+y",
         "line": {
          "color": "blue",
          "width": 2
         },
         "marker": {
          "color": "red",
          "size": 8
         },
         "mode": "lines+markers",
         "name": "Path 463 (Gen 0, Fitness 0.0)",
         "text": "Gen 0, Path 463",
         "type": "scatter",
         "x": [
          0,
          57.69603383588185,
          71.52563338611043,
          131.67327893609962,
          131.67327893609962,
          166.0308109437717,
          100
         ],
         "y": [
          0,
          0,
          0,
          0,
          65.95618182663857,
          65.95618182663857,
          100
         ]
        },
        {
         "hoverinfo": "text+x+y",
         "line": {
          "color": "blue",
          "width": 2
         },
         "marker": {
          "color": "red",
          "size": 8
         },
         "mode": "lines+markers",
         "name": "Path 464 (Gen 29, Fitness 419.4784490585327)",
         "text": "Gen 29, Path 464",
         "type": "scatter",
         "x": [
          0,
          233.3794239111315,
          251.19148706658055,
          258.4818182140878,
          371.8314786170018,
          431.43883519944836,
          100
         ],
         "y": [
          0,
          151.99228453673555,
          337.0356075085056,
          386.9801918472952,
          442.31375202069296,
          339.81377656540917,
          100
         ]
        },
        {
         "hoverinfo": "text+x+y",
         "line": {
          "color": "blue",
          "width": 2
         },
         "marker": {
          "color": "red",
          "size": 8
         },
         "mode": "lines+markers",
         "name": "Path 465 (Gen 29, Fitness 419.4784490585327)",
         "text": "Gen 29, Path 465",
         "type": "scatter",
         "x": [
          0,
          233.3794239111315,
          251.19148706658055,
          258.4818182140878,
          371.8314786170018,
          431.43883519944836,
          100
         ],
         "y": [
          0,
          151.99228453673555,
          337.0356075085056,
          386.9801918472952,
          442.31375202069296,
          339.81377656540917,
          100
         ]
        },
        {
         "hoverinfo": "text+x+y",
         "line": {
          "color": "blue",
          "width": 2
         },
         "marker": {
          "color": "red",
          "size": 8
         },
         "mode": "lines+markers",
         "name": "Path 466 (Gen 29, Fitness 419.4784490585327)",
         "text": "Gen 29, Path 466",
         "type": "scatter",
         "x": [
          0,
          233.3794239111315,
          251.19148706658055,
          258.4818182140878,
          371.8314786170018,
          431.43883519944836,
          100
         ],
         "y": [
          0,
          151.99228453673555,
          337.0356075085056,
          386.9801918472952,
          442.31375202069296,
          339.81377656540917,
          100
         ]
        },
        {
         "hoverinfo": "text+x+y",
         "line": {
          "color": "blue",
          "width": 2
         },
         "marker": {
          "color": "red",
          "size": 8
         },
         "mode": "lines+markers",
         "name": "Path 467 (Gen 29, Fitness 413.05316944122313)",
         "text": "Gen 29, Path 467",
         "type": "scatter",
         "x": [
          0,
          203.7274808403702,
          251.19148706658055,
          258.4818182140878,
          371.8314786170018,
          431.43883519944836,
          100
         ],
         "y": [
          0,
          251.96403296153687,
          337.0356075085056,
          386.9801918472952,
          442.31375202069296,
          339.81377656540917,
          100
         ]
        },
        {
         "hoverinfo": "text+x+y",
         "line": {
          "color": "blue",
          "width": 2
         },
         "marker": {
          "color": "red",
          "size": 8
         },
         "mode": "lines+markers",
         "name": "Path 468 (Gen 29, Fitness 413.05316944122313)",
         "text": "Gen 29, Path 468",
         "type": "scatter",
         "x": [
          0,
          203.7274808403702,
          251.19148706658055,
          258.4818182140878,
          371.8314786170018,
          431.43883519944836,
          100
         ],
         "y": [
          0,
          251.96403296153687,
          337.0356075085056,
          386.9801918472952,
          442.31375202069296,
          339.81377656540917,
          100
         ]
        },
        {
         "hoverinfo": "text+x+y",
         "line": {
          "color": "blue",
          "width": 2
         },
         "marker": {
          "color": "red",
          "size": 8
         },
         "mode": "lines+markers",
         "name": "Path 469 (Gen 29, Fitness 413.05316944122313)",
         "text": "Gen 29, Path 469",
         "type": "scatter",
         "x": [
          0,
          203.7274808403702,
          251.19148706658055,
          258.4818182140878,
          371.8314786170018,
          431.43883519944836,
          100
         ],
         "y": [
          0,
          251.96403296153687,
          337.0356075085056,
          386.9801918472952,
          442.31375202069296,
          339.81377656540917,
          100
         ]
        },
        {
         "hoverinfo": "text+x+y",
         "line": {
          "color": "blue",
          "width": 2
         },
         "marker": {
          "color": "red",
          "size": 8
         },
         "mode": "lines+markers",
         "name": "Path 470 (Gen 29, Fitness 419.4784490585327)",
         "text": "Gen 29, Path 470",
         "type": "scatter",
         "x": [
          0,
          233.3794239111315,
          251.19148706658055,
          258.4818182140878,
          371.8314786170018,
          431.43883519944836,
          100
         ],
         "y": [
          0,
          151.99228453673555,
          337.0356075085056,
          386.9801918472952,
          442.31375202069296,
          339.81377656540917,
          100
         ]
        },
        {
         "hoverinfo": "text+x+y",
         "line": {
          "color": "blue",
          "width": 2
         },
         "marker": {
          "color": "red",
          "size": 8
         },
         "mode": "lines+markers",
         "name": "Path 471 (Gen 29, Fitness 419.4784490585327)",
         "text": "Gen 29, Path 471",
         "type": "scatter",
         "x": [
          0,
          233.3794239111315,
          251.19148706658055,
          258.4818182140878,
          371.8314786170018,
          431.43883519944836,
          100
         ],
         "y": [
          0,
          151.99228453673555,
          337.0356075085056,
          386.9801918472952,
          442.31375202069296,
          339.81377656540917,
          100
         ]
        },
        {
         "hoverinfo": "text+x+y",
         "line": {
          "color": "blue",
          "width": 2
         },
         "marker": {
          "color": "red",
          "size": 8
         },
         "mode": "lines+markers",
         "name": "Path 472 (Gen 29, Fitness 413.05316944122313)",
         "text": "Gen 29, Path 472",
         "type": "scatter",
         "x": [
          0,
          203.7274808403702,
          251.19148706658055,
          258.4818182140878,
          371.8314786170018,
          431.43883519944836,
          100
         ],
         "y": [
          0,
          251.96403296153687,
          337.0356075085056,
          386.9801918472952,
          442.31375202069296,
          339.81377656540917,
          100
         ]
        },
        {
         "hoverinfo": "text+x+y",
         "line": {
          "color": "blue",
          "width": 2
         },
         "marker": {
          "color": "red",
          "size": 8
         },
         "mode": "lines+markers",
         "name": "Path 473 (Gen 29, Fitness 413.05316944122313)",
         "text": "Gen 29, Path 473",
         "type": "scatter",
         "x": [
          0,
          203.7274808403702,
          251.19148706658055,
          258.4818182140878,
          371.8314786170018,
          431.43883519944836,
          100
         ],
         "y": [
          0,
          251.96403296153687,
          337.0356075085056,
          386.9801918472952,
          442.31375202069296,
          339.81377656540917,
          100
         ]
        },
        {
         "hoverinfo": "text+x+y",
         "line": {
          "color": "blue",
          "width": 2
         },
         "marker": {
          "color": "red",
          "size": 8
         },
         "mode": "lines+markers",
         "name": "Path 474 (Gen 29, Fitness 418.8578828811645)",
         "text": "Gen 29, Path 474",
         "type": "scatter",
         "x": [
          0,
          203.7274808403702,
          251.19148706658055,
          258.4818182140878,
          371.8314786170018,
          431.43883519944836,
          100
         ],
         "y": [
          0,
          251.96403296153687,
          337.0356075085056,
          386.9801918472952,
          442.31375202069296,
          339.81377656540917,
          100
         ]
        },
        {
         "hoverinfo": "text+x+y",
         "line": {
          "color": "blue",
          "width": 2
         },
         "marker": {
          "color": "red",
          "size": 8
         },
         "mode": "lines+markers",
         "name": "Path 475 (Gen 29, Fitness 418.8578828811645)",
         "text": "Gen 29, Path 475",
         "type": "scatter",
         "x": [
          0,
          203.7274808403702,
          251.19148706658055,
          258.4818182140878,
          371.8314786170018,
          431.43883519944836,
          100
         ],
         "y": [
          0,
          251.96403296153687,
          337.0356075085056,
          386.9801918472952,
          442.31375202069296,
          339.81377656540917,
          100
         ]
        },
        {
         "hoverinfo": "text+x+y",
         "line": {
          "color": "blue",
          "width": 2
         },
         "marker": {
          "color": "red",
          "size": 8
         },
         "mode": "lines+markers",
         "name": "Path 476 (Gen 29, Fitness 425.3032033920288)",
         "text": "Gen 29, Path 476",
         "type": "scatter",
         "x": [
          0,
          233.3794239111315,
          251.19148706658055,
          258.4818182140878,
          371.8314786170018,
          431.43883519944836,
          100
         ],
         "y": [
          0,
          151.99228453673555,
          337.0356075085056,
          386.9801918472952,
          442.31375202069296,
          339.81377656540917,
          100
         ]
        },
        {
         "hoverinfo": "text+x+y",
         "line": {
          "color": "blue",
          "width": 2
         },
         "marker": {
          "color": "red",
          "size": 8
         },
         "mode": "lines+markers",
         "name": "Path 477 (Gen 29, Fitness 425.3032033920288)",
         "text": "Gen 29, Path 477",
         "type": "scatter",
         "x": [
          0,
          233.3794239111315,
          251.19148706658055,
          258.4818182140878,
          371.8314786170018,
          431.43883519944836,
          100
         ],
         "y": [
          0,
          151.99228453673555,
          337.0356075085056,
          386.9801918472952,
          442.31375202069296,
          339.81377656540917,
          100
         ]
        },
        {
         "hoverinfo": "text+x+y",
         "line": {
          "color": "blue",
          "width": 2
         },
         "marker": {
          "color": "red",
          "size": 8
         },
         "mode": "lines+markers",
         "name": "Path 478 (Gen 29, Fitness 418.8578828811645)",
         "text": "Gen 29, Path 478",
         "type": "scatter",
         "x": [
          0,
          203.7274808403702,
          251.19148706658055,
          258.4818182140878,
          371.8314786170018,
          431.43883519944836,
          100
         ],
         "y": [
          0,
          251.96403296153687,
          337.0356075085056,
          386.9801918472952,
          442.31375202069296,
          339.81377656540917,
          100
         ]
        },
        {
         "hoverinfo": "text+x+y",
         "line": {
          "color": "blue",
          "width": 2
         },
         "marker": {
          "color": "red",
          "size": 8
         },
         "mode": "lines+markers",
         "name": "Path 479 (Gen 0, Fitness 0.0)",
         "text": "Gen 0, Path 479",
         "type": "scatter",
         "x": [
          0,
          57.69603383588185,
          71.52563338611043,
          131.67327893609962,
          131.67327893609962,
          166.0308109437717,
          100
         ],
         "y": [
          0,
          0,
          0,
          0,
          65.95618182663857,
          65.95618182663857,
          100
         ]
        },
        {
         "hoverinfo": "text+x+y",
         "marker": {
          "color": "green",
          "size": 12,
          "symbol": "circle"
         },
         "mode": "markers",
         "name": "Start Point",
         "text": [
          "Start"
         ],
         "type": "scatter",
         "x": [
          0
         ],
         "y": [
          0
         ]
        },
        {
         "hoverinfo": "text+x+y",
         "marker": {
          "color": "purple",
          "size": 12,
          "symbol": "square"
         },
         "mode": "markers",
         "name": "End Point",
         "text": [
          "End"
         ],
         "type": "scatter",
         "x": [
          100
         ],
         "y": [
          100
         ]
        }
       ],
       "layout": {
        "showlegend": true,
        "template": {
         "data": {
          "bar": [
           {
            "error_x": {
             "color": "#2a3f5f"
            },
            "error_y": {
             "color": "#2a3f5f"
            },
            "marker": {
             "line": {
              "color": "#E5ECF6",
              "width": 0.5
             },
             "pattern": {
              "fillmode": "overlay",
              "size": 10,
              "solidity": 0.2
             }
            },
            "type": "bar"
           }
          ],
          "barpolar": [
           {
            "marker": {
             "line": {
              "color": "#E5ECF6",
              "width": 0.5
             },
             "pattern": {
              "fillmode": "overlay",
              "size": 10,
              "solidity": 0.2
             }
            },
            "type": "barpolar"
           }
          ],
          "carpet": [
           {
            "aaxis": {
             "endlinecolor": "#2a3f5f",
             "gridcolor": "white",
             "linecolor": "white",
             "minorgridcolor": "white",
             "startlinecolor": "#2a3f5f"
            },
            "baxis": {
             "endlinecolor": "#2a3f5f",
             "gridcolor": "white",
             "linecolor": "white",
             "minorgridcolor": "white",
             "startlinecolor": "#2a3f5f"
            },
            "type": "carpet"
           }
          ],
          "choropleth": [
           {
            "colorbar": {
             "outlinewidth": 0,
             "ticks": ""
            },
            "type": "choropleth"
           }
          ],
          "contour": [
           {
            "colorbar": {
             "outlinewidth": 0,
             "ticks": ""
            },
            "colorscale": [
             [
              0,
              "#0d0887"
             ],
             [
              0.1111111111111111,
              "#46039f"
             ],
             [
              0.2222222222222222,
              "#7201a8"
             ],
             [
              0.3333333333333333,
              "#9c179e"
             ],
             [
              0.4444444444444444,
              "#bd3786"
             ],
             [
              0.5555555555555556,
              "#d8576b"
             ],
             [
              0.6666666666666666,
              "#ed7953"
             ],
             [
              0.7777777777777778,
              "#fb9f3a"
             ],
             [
              0.8888888888888888,
              "#fdca26"
             ],
             [
              1,
              "#f0f921"
             ]
            ],
            "type": "contour"
           }
          ],
          "contourcarpet": [
           {
            "colorbar": {
             "outlinewidth": 0,
             "ticks": ""
            },
            "type": "contourcarpet"
           }
          ],
          "heatmap": [
           {
            "colorbar": {
             "outlinewidth": 0,
             "ticks": ""
            },
            "colorscale": [
             [
              0,
              "#0d0887"
             ],
             [
              0.1111111111111111,
              "#46039f"
             ],
             [
              0.2222222222222222,
              "#7201a8"
             ],
             [
              0.3333333333333333,
              "#9c179e"
             ],
             [
              0.4444444444444444,
              "#bd3786"
             ],
             [
              0.5555555555555556,
              "#d8576b"
             ],
             [
              0.6666666666666666,
              "#ed7953"
             ],
             [
              0.7777777777777778,
              "#fb9f3a"
             ],
             [
              0.8888888888888888,
              "#fdca26"
             ],
             [
              1,
              "#f0f921"
             ]
            ],
            "type": "heatmap"
           }
          ],
          "histogram": [
           {
            "marker": {
             "pattern": {
              "fillmode": "overlay",
              "size": 10,
              "solidity": 0.2
             }
            },
            "type": "histogram"
           }
          ],
          "histogram2d": [
           {
            "colorbar": {
             "outlinewidth": 0,
             "ticks": ""
            },
            "colorscale": [
             [
              0,
              "#0d0887"
             ],
             [
              0.1111111111111111,
              "#46039f"
             ],
             [
              0.2222222222222222,
              "#7201a8"
             ],
             [
              0.3333333333333333,
              "#9c179e"
             ],
             [
              0.4444444444444444,
              "#bd3786"
             ],
             [
              0.5555555555555556,
              "#d8576b"
             ],
             [
              0.6666666666666666,
              "#ed7953"
             ],
             [
              0.7777777777777778,
              "#fb9f3a"
             ],
             [
              0.8888888888888888,
              "#fdca26"
             ],
             [
              1,
              "#f0f921"
             ]
            ],
            "type": "histogram2d"
           }
          ],
          "histogram2dcontour": [
           {
            "colorbar": {
             "outlinewidth": 0,
             "ticks": ""
            },
            "colorscale": [
             [
              0,
              "#0d0887"
             ],
             [
              0.1111111111111111,
              "#46039f"
             ],
             [
              0.2222222222222222,
              "#7201a8"
             ],
             [
              0.3333333333333333,
              "#9c179e"
             ],
             [
              0.4444444444444444,
              "#bd3786"
             ],
             [
              0.5555555555555556,
              "#d8576b"
             ],
             [
              0.6666666666666666,
              "#ed7953"
             ],
             [
              0.7777777777777778,
              "#fb9f3a"
             ],
             [
              0.8888888888888888,
              "#fdca26"
             ],
             [
              1,
              "#f0f921"
             ]
            ],
            "type": "histogram2dcontour"
           }
          ],
          "mesh3d": [
           {
            "colorbar": {
             "outlinewidth": 0,
             "ticks": ""
            },
            "type": "mesh3d"
           }
          ],
          "parcoords": [
           {
            "line": {
             "colorbar": {
              "outlinewidth": 0,
              "ticks": ""
             }
            },
            "type": "parcoords"
           }
          ],
          "pie": [
           {
            "automargin": true,
            "type": "pie"
           }
          ],
          "scatter": [
           {
            "fillpattern": {
             "fillmode": "overlay",
             "size": 10,
             "solidity": 0.2
            },
            "type": "scatter"
           }
          ],
          "scatter3d": [
           {
            "line": {
             "colorbar": {
              "outlinewidth": 0,
              "ticks": ""
             }
            },
            "marker": {
             "colorbar": {
              "outlinewidth": 0,
              "ticks": ""
             }
            },
            "type": "scatter3d"
           }
          ],
          "scattercarpet": [
           {
            "marker": {
             "colorbar": {
              "outlinewidth": 0,
              "ticks": ""
             }
            },
            "type": "scattercarpet"
           }
          ],
          "scattergeo": [
           {
            "marker": {
             "colorbar": {
              "outlinewidth": 0,
              "ticks": ""
             }
            },
            "type": "scattergeo"
           }
          ],
          "scattergl": [
           {
            "marker": {
             "colorbar": {
              "outlinewidth": 0,
              "ticks": ""
             }
            },
            "type": "scattergl"
           }
          ],
          "scattermap": [
           {
            "marker": {
             "colorbar": {
              "outlinewidth": 0,
              "ticks": ""
             }
            },
            "type": "scattermap"
           }
          ],
          "scattermapbox": [
           {
            "marker": {
             "colorbar": {
              "outlinewidth": 0,
              "ticks": ""
             }
            },
            "type": "scattermapbox"
           }
          ],
          "scatterpolar": [
           {
            "marker": {
             "colorbar": {
              "outlinewidth": 0,
              "ticks": ""
             }
            },
            "type": "scatterpolar"
           }
          ],
          "scatterpolargl": [
           {
            "marker": {
             "colorbar": {
              "outlinewidth": 0,
              "ticks": ""
             }
            },
            "type": "scatterpolargl"
           }
          ],
          "scatterternary": [
           {
            "marker": {
             "colorbar": {
              "outlinewidth": 0,
              "ticks": ""
             }
            },
            "type": "scatterternary"
           }
          ],
          "surface": [
           {
            "colorbar": {
             "outlinewidth": 0,
             "ticks": ""
            },
            "colorscale": [
             [
              0,
              "#0d0887"
             ],
             [
              0.1111111111111111,
              "#46039f"
             ],
             [
              0.2222222222222222,
              "#7201a8"
             ],
             [
              0.3333333333333333,
              "#9c179e"
             ],
             [
              0.4444444444444444,
              "#bd3786"
             ],
             [
              0.5555555555555556,
              "#d8576b"
             ],
             [
              0.6666666666666666,
              "#ed7953"
             ],
             [
              0.7777777777777778,
              "#fb9f3a"
             ],
             [
              0.8888888888888888,
              "#fdca26"
             ],
             [
              1,
              "#f0f921"
             ]
            ],
            "type": "surface"
           }
          ],
          "table": [
           {
            "cells": {
             "fill": {
              "color": "#EBF0F8"
             },
             "line": {
              "color": "white"
             }
            },
            "header": {
             "fill": {
              "color": "#C8D4E3"
             },
             "line": {
              "color": "white"
             }
            },
            "type": "table"
           }
          ]
         },
         "layout": {
          "annotationdefaults": {
           "arrowcolor": "#2a3f5f",
           "arrowhead": 0,
           "arrowwidth": 1
          },
          "autotypenumbers": "strict",
          "coloraxis": {
           "colorbar": {
            "outlinewidth": 0,
            "ticks": ""
           }
          },
          "colorscale": {
           "diverging": [
            [
             0,
             "#8e0152"
            ],
            [
             0.1,
             "#c51b7d"
            ],
            [
             0.2,
             "#de77ae"
            ],
            [
             0.3,
             "#f1b6da"
            ],
            [
             0.4,
             "#fde0ef"
            ],
            [
             0.5,
             "#f7f7f7"
            ],
            [
             0.6,
             "#e6f5d0"
            ],
            [
             0.7,
             "#b8e186"
            ],
            [
             0.8,
             "#7fbc41"
            ],
            [
             0.9,
             "#4d9221"
            ],
            [
             1,
             "#276419"
            ]
           ],
           "sequential": [
            [
             0,
             "#0d0887"
            ],
            [
             0.1111111111111111,
             "#46039f"
            ],
            [
             0.2222222222222222,
             "#7201a8"
            ],
            [
             0.3333333333333333,
             "#9c179e"
            ],
            [
             0.4444444444444444,
             "#bd3786"
            ],
            [
             0.5555555555555556,
             "#d8576b"
            ],
            [
             0.6666666666666666,
             "#ed7953"
            ],
            [
             0.7777777777777778,
             "#fb9f3a"
            ],
            [
             0.8888888888888888,
             "#fdca26"
            ],
            [
             1,
             "#f0f921"
            ]
           ],
           "sequentialminus": [
            [
             0,
             "#0d0887"
            ],
            [
             0.1111111111111111,
             "#46039f"
            ],
            [
             0.2222222222222222,
             "#7201a8"
            ],
            [
             0.3333333333333333,
             "#9c179e"
            ],
            [
             0.4444444444444444,
             "#bd3786"
            ],
            [
             0.5555555555555556,
             "#d8576b"
            ],
            [
             0.6666666666666666,
             "#ed7953"
            ],
            [
             0.7777777777777778,
             "#fb9f3a"
            ],
            [
             0.8888888888888888,
             "#fdca26"
            ],
            [
             1,
             "#f0f921"
            ]
           ]
          },
          "colorway": [
           "#636efa",
           "#EF553B",
           "#00cc96",
           "#ab63fa",
           "#FFA15A",
           "#19d3f3",
           "#FF6692",
           "#B6E880",
           "#FF97FF",
           "#FECB52"
          ],
          "font": {
           "color": "#2a3f5f"
          },
          "geo": {
           "bgcolor": "white",
           "lakecolor": "white",
           "landcolor": "#E5ECF6",
           "showlakes": true,
           "showland": true,
           "subunitcolor": "white"
          },
          "hoverlabel": {
           "align": "left"
          },
          "hovermode": "closest",
          "mapbox": {
           "style": "light"
          },
          "paper_bgcolor": "white",
          "plot_bgcolor": "#E5ECF6",
          "polar": {
           "angularaxis": {
            "gridcolor": "white",
            "linecolor": "white",
            "ticks": ""
           },
           "bgcolor": "#E5ECF6",
           "radialaxis": {
            "gridcolor": "white",
            "linecolor": "white",
            "ticks": ""
           }
          },
          "scene": {
           "xaxis": {
            "backgroundcolor": "#E5ECF6",
            "gridcolor": "white",
            "gridwidth": 2,
            "linecolor": "white",
            "showbackground": true,
            "ticks": "",
            "zerolinecolor": "white"
           },
           "yaxis": {
            "backgroundcolor": "#E5ECF6",
            "gridcolor": "white",
            "gridwidth": 2,
            "linecolor": "white",
            "showbackground": true,
            "ticks": "",
            "zerolinecolor": "white"
           },
           "zaxis": {
            "backgroundcolor": "#E5ECF6",
            "gridcolor": "white",
            "gridwidth": 2,
            "linecolor": "white",
            "showbackground": true,
            "ticks": "",
            "zerolinecolor": "white"
           }
          },
          "shapedefaults": {
           "line": {
            "color": "#2a3f5f"
           }
          },
          "ternary": {
           "aaxis": {
            "gridcolor": "white",
            "linecolor": "white",
            "ticks": ""
           },
           "baxis": {
            "gridcolor": "white",
            "linecolor": "white",
            "ticks": ""
           },
           "bgcolor": "#E5ECF6",
           "caxis": {
            "gridcolor": "white",
            "linecolor": "white",
            "ticks": ""
           }
          },
          "title": {
           "x": 0.05
          },
          "xaxis": {
           "automargin": true,
           "gridcolor": "white",
           "linecolor": "white",
           "ticks": "",
           "title": {
            "standoff": 15
           },
           "zerolinecolor": "white",
           "zerolinewidth": 2
          },
          "yaxis": {
           "automargin": true,
           "gridcolor": "white",
           "linecolor": "white",
           "ticks": "",
           "title": {
            "standoff": 15
           },
           "zerolinecolor": "white",
           "zerolinewidth": 2
          }
         }
        },
        "title": {
         "text": "Paths with Start Point, Waypoints, and End Point"
        },
        "xaxis": {
         "title": {
          "text": "X Coordinate"
         }
        },
        "yaxis": {
         "title": {
          "text": "Y Coordinate"
         }
        }
       }
      }
     },
     "metadata": {},
     "output_type": "display_data"
    }
   ],
   "source": [
    "import pandas as pd\n",
    "import json\n",
    "import plotly.graph_objects as go\n",
    "\n",
    "# Define start and end points\n",
    "start_point = (0, 0)  # Example: (X, Y)\n",
    "end_point = (100, 100)  # Example: (X, Y)\n",
    "\n",
    "# Load the CSV file\n",
    "df = pd.read_csv(\"GeneticEvolution_20250208-0.csv\")\n",
    "\n",
    "# Parse the JSON string in the 'Waypoints' column\n",
    "df[\"Waypoints\"] = df[\"Waypoints\"].apply(json.loads)\n",
    "\n",
    "# Extract Waypoints into a separate DataFrame\n",
    "waypoints_data = []\n",
    "for index, row in df.iterrows():\n",
    "    for waypoint in row[\"Waypoints\"]:\n",
    "        waypoints_data.append({\n",
    "            \"PathIndividual_ID\": index,\n",
    "            \"X\": waypoint[\"Position\"][\"X\"],\n",
    "            \"Y\": waypoint[\"Position\"][\"Y\"],\n",
    "            \"GenerationNumber\": row[\"Generation\"],\n",
    "            \"Fitness\": row[\"Fitness\"]\n",
    "        })\n",
    "\n",
    "waypoints_df = pd.DataFrame(waypoints_data)\n",
    "\n",
    "# Create a Plotly figure\n",
    "fig = go.Figure()\n",
    "\n",
    "# Group waypoints by PathIndividual_ID\n",
    "grouped = waypoints_df.groupby(\"PathIndividual_ID\")\n",
    "\n",
    "# Add lines and markers for each path\n",
    "for name, group in grouped:\n",
    "    # Get the GenerationNumber for this path\n",
    "    generation_number = group[\"GenerationNumber\"].iloc[0]\n",
    "    path_number = group[\"PathIndividual_ID\"].iloc[0]\n",
    "    fitness = group[\"Fitness\"].iloc[0]\n",
    "    \n",
    "    # Combine StartPoint, Waypoints, and EndPoint into a single list of coordinates\n",
    "    x_coords = [start_point[0]] + group[\"X\"].tolist() + [end_point[0]]\n",
    "    y_coords = [start_point[1]] + group[\"Y\"].tolist() + [end_point[1]]\n",
    "\n",
    "    # Add a trace for the path\n",
    "    fig.add_trace(go.Scatter(\n",
    "        x=x_coords,\n",
    "        y=y_coords,\n",
    "        mode='lines+markers',  # Draw lines and markers\n",
    "        name=f\"Path {name} (Gen {generation_number}, Fitness {fitness})\",  # Include GenerationNumber in the legend\n",
    "        line=dict(color='blue', width=2),  # Customize line color and width\n",
    "        marker=dict(size=8, color='red'),  # Customize marker size and color\n",
    "        text=f\"Gen {generation_number}, Path {path_number}\",  # Add hover text\n",
    "        hoverinfo='text+x+y'  # Show hover information\n",
    "    ))\n",
    "\n",
    "# Add a trace for the start point\n",
    "fig.add_trace(go.Scatter(\n",
    "    x=[start_point[0]],\n",
    "    y=[start_point[1]],\n",
    "    mode='markers',\n",
    "    name='Start Point',\n",
    "    marker=dict(size=12, color='green', symbol='circle'),\n",
    "    hoverinfo='text+x+y',\n",
    "    text=[\"Start\"]\n",
    "))\n",
    "\n",
    "# Add a trace for the end point\n",
    "fig.add_trace(go.Scatter(\n",
    "    x=[end_point[0]],\n",
    "    y=[end_point[1]],\n",
    "    mode='markers',\n",
    "    name='End Point',\n",
    "    marker=dict(size=12, color='purple', symbol='square'),\n",
    "    hoverinfo='text+x+y',\n",
    "    text=[\"End\"]\n",
    "))\n",
    "\n",
    "# Update layout\n",
    "fig.update_layout(\n",
    "    title=\"Paths with Start Point, Waypoints, and End Point\",\n",
    "    xaxis_title=\"X Coordinate\",\n",
    "    yaxis_title=\"Y Coordinate\",\n",
    "    showlegend=True\n",
    ")\n",
    "\n",
    "# Show the plot\n",
    "fig.show()"
   ]
  },
  {
   "cell_type": "code",
   "execution_count": 16,
   "metadata": {},
   "outputs": [
    {
     "data": {
      "application/vnd.microsoft.datawrangler.viewer.v0+json": {
       "columns": [
        {
         "name": "index",
         "rawType": "int64",
         "type": "integer"
        },
        {
         "name": "PathIndividual_ID",
         "rawType": "int64",
         "type": "integer"
        },
        {
         "name": "X",
         "rawType": "float64",
         "type": "float"
        },
        {
         "name": "Y",
         "rawType": "float64",
         "type": "float"
        },
        {
         "name": "GenerationNumber",
         "rawType": "int64",
         "type": "integer"
        },
        {
         "name": "Fitness",
         "rawType": "float64",
         "type": "float"
        },
        {
         "name": "Footprint",
         "rawType": "float64",
         "type": "float"
        }
       ],
       "conversionMethod": "pd.DataFrame",
       "ref": "823f5594-2fd5-45af-a7ac-34489473785b",
       "rows": [
        [
         "0",
         "0",
         "1.3139090878581962e-15",
         "21.457763802150804",
         "0",
         "184.71970624923705",
         "480.3456588355064"
        ],
        [
         "1",
         "0",
         "69.45359872455234",
         "21.457763802150804",
         "0",
         "184.71970624923705",
         "480.3456588355064"
        ],
        [
         "2",
         "0",
         "69.45359872455234",
         "31.95267009700435",
         "0",
         "184.71970624923705",
         "480.3456588355064"
        ],
        [
         "3",
         "0",
         "51.43940219818036",
         "49.966866623376326",
         "0",
         "184.71970624923705",
         "480.3456588355064"
        ],
        [
         "4",
         "0",
         "64.91085427427498",
         "49.966866623376326",
         "0",
         "184.71970624923705",
         "480.3456588355064"
        ]
       ],
       "shape": {
        "columns": 6,
        "rows": 5
       }
      },
      "text/html": [
       "<div>\n",
       "<style scoped>\n",
       "    .dataframe tbody tr th:only-of-type {\n",
       "        vertical-align: middle;\n",
       "    }\n",
       "\n",
       "    .dataframe tbody tr th {\n",
       "        vertical-align: top;\n",
       "    }\n",
       "\n",
       "    .dataframe thead th {\n",
       "        text-align: right;\n",
       "    }\n",
       "</style>\n",
       "<table border=\"1\" class=\"dataframe\">\n",
       "  <thead>\n",
       "    <tr style=\"text-align: right;\">\n",
       "      <th></th>\n",
       "      <th>PathIndividual_ID</th>\n",
       "      <th>X</th>\n",
       "      <th>Y</th>\n",
       "      <th>GenerationNumber</th>\n",
       "      <th>Fitness</th>\n",
       "      <th>Footprint</th>\n",
       "    </tr>\n",
       "  </thead>\n",
       "  <tbody>\n",
       "    <tr>\n",
       "      <th>0</th>\n",
       "      <td>0</td>\n",
       "      <td>1.313909e-15</td>\n",
       "      <td>21.457764</td>\n",
       "      <td>0</td>\n",
       "      <td>184.719706</td>\n",
       "      <td>480.345659</td>\n",
       "    </tr>\n",
       "    <tr>\n",
       "      <th>1</th>\n",
       "      <td>0</td>\n",
       "      <td>6.945360e+01</td>\n",
       "      <td>21.457764</td>\n",
       "      <td>0</td>\n",
       "      <td>184.719706</td>\n",
       "      <td>480.345659</td>\n",
       "    </tr>\n",
       "    <tr>\n",
       "      <th>2</th>\n",
       "      <td>0</td>\n",
       "      <td>6.945360e+01</td>\n",
       "      <td>31.952670</td>\n",
       "      <td>0</td>\n",
       "      <td>184.719706</td>\n",
       "      <td>480.345659</td>\n",
       "    </tr>\n",
       "    <tr>\n",
       "      <th>3</th>\n",
       "      <td>0</td>\n",
       "      <td>5.143940e+01</td>\n",
       "      <td>49.966867</td>\n",
       "      <td>0</td>\n",
       "      <td>184.719706</td>\n",
       "      <td>480.345659</td>\n",
       "    </tr>\n",
       "    <tr>\n",
       "      <th>4</th>\n",
       "      <td>0</td>\n",
       "      <td>6.491085e+01</td>\n",
       "      <td>49.966867</td>\n",
       "      <td>0</td>\n",
       "      <td>184.719706</td>\n",
       "      <td>480.345659</td>\n",
       "    </tr>\n",
       "  </tbody>\n",
       "</table>\n",
       "</div>"
      ],
      "text/plain": [
       "   PathIndividual_ID             X          Y  GenerationNumber     Fitness  \\\n",
       "0                  0  1.313909e-15  21.457764                 0  184.719706   \n",
       "1                  0  6.945360e+01  21.457764                 0  184.719706   \n",
       "2                  0  6.945360e+01  31.952670                 0  184.719706   \n",
       "3                  0  5.143940e+01  49.966867                 0  184.719706   \n",
       "4                  0  6.491085e+01  49.966867                 0  184.719706   \n",
       "\n",
       "    Footprint  \n",
       "0  480.345659  \n",
       "1  480.345659  \n",
       "2  480.345659  \n",
       "3  480.345659  \n",
       "4  480.345659  "
      ]
     },
     "execution_count": 16,
     "metadata": {},
     "output_type": "execute_result"
    }
   ],
   "source": [
    "import pandas as pd\n",
    "import json\n",
    "import plotly.graph_objects as go\n",
    "\n",
    "start_point = (0, 0) \n",
    "end_point = (100, 100) \n",
    "\n",
    "df = pd.read_csv(\"GeneticEvolution_20250209-0.csv\")\n",
    "\n",
    "# Parse the JSON string in the 'Waypoints' column\n",
    "df[\"Waypoints\"] = df[\"Waypoints\"].apply(json.loads)\n",
    "\n",
    "# Extract Waypoints into a separate DataFrame\n",
    "waypoints_data = []\n",
    "for index, row in df.iterrows():\n",
    "    for waypoint in row[\"Waypoints\"]:\n",
    "        waypoints_data.append({\n",
    "            \"PathIndividual_ID\": index,\n",
    "            \"X\": waypoint[\"Position\"][\"X\"],\n",
    "            \"Y\": waypoint[\"Position\"][\"Y\"],\n",
    "            \"GenerationNumber\": row[\"Generation\"],\n",
    "            \"Fitness\": row[\"Fitness\"],\n",
    "            \"Footprint\": row[\"Footprint\"]\n",
    "        })\n",
    "\n",
    "waypoints_df = pd.DataFrame(waypoints_data)\n",
    "waypoints_df.head()\n"
   ]
  },
  {
   "cell_type": "code",
   "execution_count": 17,
   "metadata": {},
   "outputs": [
    {
     "data": {
      "application/vnd.plotly.v1+json": {
       "config": {
        "plotlyServerURL": "https://plot.ly"
       },
       "data": [
        {
         "hoverinfo": "text+x+y",
         "line": {
          "color": "blue",
          "width": 2
         },
         "marker": {
          "color": "red",
          "size": 8
         },
         "mode": "lines+markers",
         "name": "Path 0 (Gen 0, Fitness 184.71970624923705)",
         "text": "Gen 0, Path 0",
         "type": "scatter",
         "x": [
          0,
          1.3139090878581962e-15,
          69.45359872455234,
          69.45359872455234,
          51.43940219818036,
          64.91085427427498,
          100
         ],
         "y": [
          0,
          21.457763802150804,
          21.457763802150804,
          31.95267009700435,
          49.966866623376326,
          49.966866623376326,
          100
         ]
        },
        {
         "hoverinfo": "text+x+y",
         "line": {
          "color": "blue",
          "width": 2
         },
         "marker": {
          "color": "red",
          "size": 8
         },
         "mode": "lines+markers",
         "name": "Path 1 (Gen 0, Fitness 286.4153733253479)",
         "text": "Gen 0, Path 1",
         "type": "scatter",
         "x": [
          0,
          -20.468134223371315,
          -20.46813422337131,
          15.230898046202821,
          60.18724497705243,
          -43.355591773986816,
          100
         ],
         "y": [
          0,
          20.46813422337132,
          57.074687576163186,
          92.77371984573732,
          137.73006677658694,
          150.44116401672363,
          100
         ]
        },
        {
         "hoverinfo": "text+x+y",
         "line": {
          "color": "blue",
          "width": 2
         },
         "marker": {
          "color": "red",
          "size": 8
         },
         "mode": "lines+markers",
         "name": "Path 2 (Gen 0, Fitness 277.97583413124084)",
         "text": "Gen 0, Path 2",
         "type": "scatter",
         "x": [
          0,
          -10.033027982681443,
          33.73335539013634,
          55.712261917081534,
          76.76521748872968,
          96.86025606598773,
          100
         ],
         "y": [
          0,
          10.033027982681443,
          10.033027982681443,
          32.011934509626634,
          32.011934509626634,
          52.10697308688468,
          100
         ]
        },
        {
         "hoverinfo": "text+x+y",
         "line": {
          "color": "blue",
          "width": 2
         },
         "marker": {
          "color": "red",
          "size": 8
         },
         "mode": "lines+markers",
         "name": "Path 3 (Gen 0, Fitness 185.09847679138184)",
         "text": "Gen 0, Path 3",
         "type": "scatter",
         "x": [
          0,
          -28.85971387178135,
          -8.962310501997713,
          55.98861537825352,
          55.98861537825352,
          69.2964082867245,
          100
         ],
         "y": [
          0,
          28.859713871781352,
          28.859713871781352,
          28.859713871781352,
          66.76286923555111,
          80.07066214402208,
          100
         ]
        },
        {
         "hoverinfo": "text+x+y",
         "line": {
          "color": "blue",
          "width": 2
         },
         "marker": {
          "color": "red",
          "size": 8
         },
         "mode": "lines+markers",
         "name": "Path 4 (Gen 0, Fitness 229.93978541344404)",
         "text": "Gen 0, Path 4",
         "type": "scatter",
         "x": [
          0,
          29.42298126220703,
          -38.91856384277344,
          43.68508616319728,
          57.43205243225037,
          33.69119350453295,
          100
         ],
         "y": [
          0,
          -33.018348693847656,
          28.099849700927734,
          14.351383423306503,
          28.098349692359594,
          51.83920862007702,
          100
         ]
        },
        {
         "hoverinfo": "text+x+y",
         "line": {
          "color": "blue",
          "width": 2
         },
         "marker": {
          "color": "red",
          "size": 8
         },
         "mode": "lines+markers",
         "name": "Path 5 (Gen 0, Fitness 229.19188230633736)",
         "text": "Gen 0, Path 5",
         "type": "scatter",
         "x": [
          0,
          0.8617066100127414,
          45.603427250188346,
          -150.37197017669678,
          435.8581008911133,
          -228.92485809326172,
          100
         ],
         "y": [
          0,
          0.8617066100127414,
          0.8617066100127414,
          -106.50339865684509,
          -418.11683464050293,
          793.0389270782471,
          100
         ]
        },
        {
         "hoverinfo": "text+x+y",
         "line": {
          "color": "blue",
          "width": 2
         },
         "marker": {
          "color": "red",
          "size": 8
         },
         "mode": "lines+markers",
         "name": "Path 6 (Gen 0, Fitness 186.4252640247345)",
         "text": "Gen 0, Path 6",
         "type": "scatter",
         "x": [
          0,
          -43.56434717143015,
          -17.659109438298238,
          -2.5299095073018645,
          25.590893023347505,
          22.62124003503989,
          100
         ],
         "y": [
          0,
          43.56434717143016,
          69.46958490456207,
          69.46958490456207,
          69.46958490456207,
          72.43923789286968,
          100
         ]
        },
        {
         "hoverinfo": "text+x+y",
         "line": {
          "color": "blue",
          "width": 2
         },
         "marker": {
          "color": "red",
          "size": 8
         },
         "mode": "lines+markers",
         "name": "Path 7 (Gen 0, Fitness 243.49056634902956)",
         "text": "Gen 0, Path 7",
         "type": "scatter",
         "x": [
          0,
          22.135146037219823,
          46.619503222981706,
          83.46365843263263,
          36.372825710596445,
          22.195014988633748,
          100
         ],
         "y": [
          0,
          22.135146037219823,
          22.135146037219823,
          58.97930124687075,
          106.07013396890693,
          120.24794469086963,
          100
         ]
        },
        {
         "hoverinfo": "text+x+y",
         "line": {
          "color": "blue",
          "width": 2
         },
         "marker": {
          "color": "red",
          "size": 8
         },
         "mode": "lines+markers",
         "name": "Path 8 (Gen 0, Fitness 241.42314624786377)",
         "text": "Gen 0, Path 8",
         "type": "scatter",
         "x": [
          0,
          3.4867556215414814e-15,
          6.813528510638637e-15,
          -16.258332204857858,
          16.07404391095986,
          8.189230748269724,
          100
         ],
         "y": [
          0,
          56.943040621493424,
          111.27336494706034,
          127.53169715191821,
          127.53169715191821,
          135.41651031460833,
          100
         ]
        },
        {
         "hoverinfo": "text+x+y",
         "line": {
          "color": "blue",
          "width": 2
         },
         "marker": {
          "color": "red",
          "size": 8
         },
         "mode": "lines+markers",
         "name": "Path 9 (Gen 0, Fitness 185.09847679138184)",
         "text": "Gen 0, Path 9",
         "type": "scatter",
         "x": [
          0,
          -28.85971387178135,
          -8.962310501997713,
          55.98861537825352,
          55.98861537825352,
          69.2964082867245,
          100
         ],
         "y": [
          0,
          28.859713871781352,
          28.859713871781352,
          28.859713871781352,
          66.76286923555111,
          80.07066214402208,
          100
         ]
        },
        {
         "hoverinfo": "text+x+y",
         "line": {
          "color": "blue",
          "width": 2
         },
         "marker": {
          "color": "red",
          "size": 8
         },
         "mode": "lines+markers",
         "name": "Path 10 (Gen 0, Fitness 185.09847679138184)",
         "text": "Gen 0, Path 10",
         "type": "scatter",
         "x": [
          0,
          -28.85971387178135,
          -8.962310501997713,
          55.98861537825352,
          55.98861537825352,
          69.2964082867245,
          100
         ],
         "y": [
          0,
          28.859713871781352,
          28.859713871781352,
          28.859713871781352,
          66.76286923555111,
          80.07066214402208,
          100
         ]
        },
        {
         "hoverinfo": "text+x+y",
         "line": {
          "color": "blue",
          "width": 2
         },
         "marker": {
          "color": "red",
          "size": 8
         },
         "mode": "lines+markers",
         "name": "Path 11 (Gen 0, Fitness 241.42314624786377)",
         "text": "Gen 0, Path 11",
         "type": "scatter",
         "x": [
          0,
          3.4867556215414814e-15,
          6.813528510638637e-15,
          -16.258332204857858,
          16.07404391095986,
          8.189230748269724,
          100
         ],
         "y": [
          0,
          56.943040621493424,
          111.27336494706034,
          127.53169715191821,
          127.53169715191821,
          135.41651031460833,
          100
         ]
        },
        {
         "hoverinfo": "text+x+y",
         "line": {
          "color": "blue",
          "width": 2
         },
         "marker": {
          "color": "red",
          "size": 8
         },
         "mode": "lines+markers",
         "name": "Path 12 (Gen 0, Fitness 229.93978541344404)",
         "text": "Gen 0, Path 12",
         "type": "scatter",
         "x": [
          0,
          29.42298126220703,
          -38.91856384277344,
          43.68508616319728,
          57.43205243225037,
          33.69119350453295,
          100
         ],
         "y": [
          0,
          -33.018348693847656,
          28.099849700927734,
          14.351383423306503,
          28.098349692359594,
          51.83920862007702,
          100
         ]
        },
        {
         "hoverinfo": "text+x+y",
         "line": {
          "color": "blue",
          "width": 2
         },
         "marker": {
          "color": "red",
          "size": 8
         },
         "mode": "lines+markers",
         "name": "Path 13 (Gen 0, Fitness 186.4252640247345)",
         "text": "Gen 0, Path 13",
         "type": "scatter",
         "x": [
          0,
          -43.56434717143015,
          -17.659109438298238,
          -2.5299095073018645,
          25.590893023347505,
          22.62124003503989,
          100
         ],
         "y": [
          0,
          43.56434717143016,
          69.46958490456207,
          69.46958490456207,
          69.46958490456207,
          72.43923789286968,
          100
         ]
        },
        {
         "hoverinfo": "text+x+y",
         "line": {
          "color": "blue",
          "width": 2
         },
         "marker": {
          "color": "red",
          "size": 8
         },
         "mode": "lines+markers",
         "name": "Path 14 (Gen 1, Fitness 209.95544852614404)",
         "text": "Gen 1, Path 14",
         "type": "scatter",
         "x": [
          0,
          49.20833784738724,
          31.117812755941628,
          -18.477017072876173,
          -18.477017072876173,
          -18.47701707287617,
          100
         ],
         "y": [
          0,
          49.20833784738724,
          67.29886293883285,
          116.89369276765066,
          118.58725683047464,
          188.43877366956298,
          100
         ]
        },
        {
         "hoverinfo": "text+x+y",
         "line": {
          "color": "blue",
          "width": 2
         },
         "marker": {
          "color": "red",
          "size": 8
         },
         "mode": "lines+markers",
         "name": "Path 15 (Gen 1, Fitness 337.31170587539674)",
         "text": "Gen 1, Path 15",
         "type": "scatter",
         "x": [
          0,
          -49.48716735839844,
          45.742340087890625,
          29.110353469848633,
          -11.221506118774414,
          -120.54989051818848,
          100
         ],
         "y": [
          0,
          35.544761657714844,
          101.0009536743164,
          106.31315469741821,
          66.83956384658813,
          82.67516279220581,
          100
         ]
        },
        {
         "hoverinfo": "text+x+y",
         "line": {
          "color": "blue",
          "width": 2
         },
         "marker": {
          "color": "red",
          "size": 8
         },
         "mode": "lines+markers",
         "name": "Path 16 (Gen 1, Fitness 339.49873447418213)",
         "text": "Gen 1, Path 16",
         "type": "scatter",
         "x": [
          0,
          -69.38810729980469,
          -183.37677764892578,
          6.118095397949219,
          17.292353630065918,
          13.830610416170963,
          100
         ],
         "y": [
          0,
          20.507545471191406,
          -7.852579116821289,
          93.94426536560059,
          104.90837669372559,
          169.92351196043774,
          100
         ]
        },
        {
         "hoverinfo": "text+x+y",
         "line": {
          "color": "blue",
          "width": 2
         },
         "marker": {
          "color": "red",
          "size": 8
         },
         "mode": "lines+markers",
         "name": "Path 17 (Gen 1, Fitness 209.95544852614404)",
         "text": "Gen 1, Path 17",
         "type": "scatter",
         "x": [
          0,
          49.20833784738724,
          31.117812755941628,
          -18.477017072876173,
          -18.477017072876173,
          -18.47701707287617,
          100
         ],
         "y": [
          0,
          49.20833784738724,
          67.29886293883285,
          116.89369276765066,
          118.58725683047464,
          188.43877366956298,
          100
         ]
        },
        {
         "hoverinfo": "text+x+y",
         "line": {
          "color": "blue",
          "width": 2
         },
         "marker": {
          "color": "red",
          "size": 8
         },
         "mode": "lines+markers",
         "name": "Path 18 (Gen 1, Fitness 347.25839977264405)",
         "text": "Gen 1, Path 18",
         "type": "scatter",
         "x": [
          0,
          -69.38810729980469,
          -183.37677764892578,
          6.118095397949219,
          17.292353630065918,
          -43.355591773986816,
          100
         ],
         "y": [
          0,
          20.507545471191406,
          -7.852579116821289,
          93.94426536560059,
          104.90837669372559,
          150.44116401672363,
          100
         ]
        },
        {
         "hoverinfo": "text+x+y",
         "line": {
          "color": "blue",
          "width": 2
         },
         "marker": {
          "color": "red",
          "size": 8
         },
         "mode": "lines+markers",
         "name": "Path 19 (Gen 1, Fitness 339.49873447418213)",
         "text": "Gen 1, Path 19",
         "type": "scatter",
         "x": [
          0,
          -69.38810729980469,
          -183.37677764892578,
          6.118095397949219,
          17.292353630065918,
          13.830610416170963,
          100
         ],
         "y": [
          0,
          20.507545471191406,
          -7.852579116821289,
          93.94426536560059,
          104.90837669372559,
          169.92351196043774,
          100
         ]
        },
        {
         "hoverinfo": "text+x+y",
         "line": {
          "color": "blue",
          "width": 2
         },
         "marker": {
          "color": "red",
          "size": 8
         },
         "mode": "lines+markers",
         "name": "Path 20 (Gen 1, Fitness 337.31170587539674)",
         "text": "Gen 1, Path 20",
         "type": "scatter",
         "x": [
          0,
          -49.48716735839844,
          45.742340087890625,
          29.110353469848633,
          -11.221506118774414,
          -120.54989051818848,
          100
         ],
         "y": [
          0,
          35.544761657714844,
          101.0009536743164,
          106.31315469741821,
          66.83956384658813,
          82.67516279220581,
          100
         ]
        },
        {
         "hoverinfo": "text+x+y",
         "line": {
          "color": "blue",
          "width": 2
         },
         "marker": {
          "color": "red",
          "size": 8
         },
         "mode": "lines+markers",
         "name": "Path 21 (Gen 1, Fitness 347.25839977264405)",
         "text": "Gen 1, Path 21",
         "type": "scatter",
         "x": [
          0,
          -69.38810729980469,
          -183.37677764892578,
          6.118095397949219,
          17.292353630065918,
          -43.355591773986816,
          100
         ],
         "y": [
          0,
          20.507545471191406,
          -7.852579116821289,
          93.94426536560059,
          104.90837669372559,
          150.44116401672363,
          100
         ]
        },
        {
         "hoverinfo": "text+x+y",
         "line": {
          "color": "blue",
          "width": 2
         },
         "marker": {
          "color": "red",
          "size": 8
         },
         "mode": "lines+markers",
         "name": "Path 22 (Gen 1, Fitness 209.95544852614404)",
         "text": "Gen 1, Path 22",
         "type": "scatter",
         "x": [
          0,
          49.20833784738724,
          31.117812755941628,
          -18.477017072876173,
          -18.477017072876173,
          -18.47701707287617,
          100
         ],
         "y": [
          0,
          49.20833784738724,
          67.29886293883285,
          116.89369276765066,
          118.58725683047464,
          188.43877366956298,
          100
         ]
        },
        {
         "hoverinfo": "text+x+y",
         "line": {
          "color": "blue",
          "width": 2
         },
         "marker": {
          "color": "red",
          "size": 8
         },
         "mode": "lines+markers",
         "name": "Path 23 (Gen 1, Fitness 339.49873447418213)",
         "text": "Gen 1, Path 23",
         "type": "scatter",
         "x": [
          0,
          -69.38810729980469,
          -183.37677764892578,
          6.118095397949219,
          17.292353630065918,
          13.830610416170963,
          100
         ],
         "y": [
          0,
          20.507545471191406,
          -7.852579116821289,
          93.94426536560059,
          104.90837669372559,
          169.92351196043774,
          100
         ]
        },
        {
         "hoverinfo": "text+x+y",
         "line": {
          "color": "blue",
          "width": 2
         },
         "marker": {
          "color": "red",
          "size": 8
         },
         "mode": "lines+markers",
         "name": "Path 24 (Gen 1, Fitness 337.31170587539674)",
         "text": "Gen 1, Path 24",
         "type": "scatter",
         "x": [
          0,
          -49.48716735839844,
          45.742340087890625,
          29.110353469848633,
          -11.221506118774414,
          -120.54989051818848,
          100
         ],
         "y": [
          0,
          35.544761657714844,
          101.0009536743164,
          106.31315469741821,
          66.83956384658813,
          82.67516279220581,
          100
         ]
        },
        {
         "hoverinfo": "text+x+y",
         "line": {
          "color": "blue",
          "width": 2
         },
         "marker": {
          "color": "red",
          "size": 8
         },
         "mode": "lines+markers",
         "name": "Path 25 (Gen 1, Fitness 337.31170587539674)",
         "text": "Gen 1, Path 25",
         "type": "scatter",
         "x": [
          0,
          -49.48716735839844,
          45.742340087890625,
          29.110353469848633,
          -11.221506118774414,
          -120.54989051818848,
          100
         ],
         "y": [
          0,
          35.544761657714844,
          101.0009536743164,
          106.31315469741821,
          66.83956384658813,
          82.67516279220581,
          100
         ]
        },
        {
         "hoverinfo": "text+x+y",
         "line": {
          "color": "blue",
          "width": 2
         },
         "marker": {
          "color": "red",
          "size": 8
         },
         "mode": "lines+markers",
         "name": "Path 26 (Gen 2, Fitness 318.83520221710205)",
         "text": "Gen 2, Path 26",
         "type": "scatter",
         "x": [
          0,
          1.3710659742355347,
          -103.71755707263947,
          -4.434537053108215,
          -10.878259301185608,
          -36.527148842811584,
          100
         ],
         "y": [
          0,
          -37.26125717163086,
          14.637542724609375,
          86.05876159667969,
          104.16278839111328,
          108.85898399353027,
          100
         ]
        },
        {
         "hoverinfo": "text+x+y",
         "line": {
          "color": "blue",
          "width": 2
         },
         "marker": {
          "color": "red",
          "size": 8
         },
         "mode": "lines+markers",
         "name": "Path 27 (Gen 2, Fitness 318.83520221710205)",
         "text": "Gen 2, Path 27",
         "type": "scatter",
         "x": [
          0,
          1.3710659742355347,
          -103.71755707263947,
          -4.434537053108215,
          -10.878259301185608,
          -36.527148842811584,
          100
         ],
         "y": [
          0,
          -37.26125717163086,
          14.637542724609375,
          86.05876159667969,
          104.16278839111328,
          108.85898399353027,
          100
         ]
        },
        {
         "hoverinfo": "text+x+y",
         "line": {
          "color": "blue",
          "width": 2
         },
         "marker": {
          "color": "red",
          "size": 8
         },
         "mode": "lines+markers",
         "name": "Path 28 (Gen 2, Fitness 318.83520221710205)",
         "text": "Gen 2, Path 28",
         "type": "scatter",
         "x": [
          0,
          1.3710659742355347,
          -103.71755707263947,
          -4.434537053108215,
          -10.878259301185608,
          -36.527148842811584,
          100
         ],
         "y": [
          0,
          -37.26125717163086,
          14.637542724609375,
          86.05876159667969,
          104.16278839111328,
          108.85898399353027,
          100
         ]
        },
        {
         "hoverinfo": "text+x+y",
         "line": {
          "color": "blue",
          "width": 2
         },
         "marker": {
          "color": "red",
          "size": 8
         },
         "mode": "lines+markers",
         "name": "Path 29 (Gen 2, Fitness 318.83520221710205)",
         "text": "Gen 2, Path 29",
         "type": "scatter",
         "x": [
          0,
          1.3710659742355347,
          -103.71755707263947,
          -4.434537053108215,
          -10.878259301185608,
          -36.527148842811584,
          100
         ],
         "y": [
          0,
          -37.26125717163086,
          14.637542724609375,
          86.05876159667969,
          104.16278839111328,
          108.85898399353027,
          100
         ]
        },
        {
         "hoverinfo": "text+x+y",
         "line": {
          "color": "blue",
          "width": 2
         },
         "marker": {
          "color": "red",
          "size": 8
         },
         "mode": "lines+markers",
         "name": "Path 30 (Gen 2, Fitness 318.83520221710205)",
         "text": "Gen 2, Path 30",
         "type": "scatter",
         "x": [
          0,
          1.3710659742355347,
          -103.71755707263947,
          -4.434537053108215,
          -10.878259301185608,
          -36.527148842811584,
          100
         ],
         "y": [
          0,
          -37.26125717163086,
          14.637542724609375,
          86.05876159667969,
          104.16278839111328,
          108.85898399353027,
          100
         ]
        },
        {
         "hoverinfo": "text+x+y",
         "line": {
          "color": "blue",
          "width": 2
         },
         "marker": {
          "color": "red",
          "size": 8
         },
         "mode": "lines+markers",
         "name": "Path 31 (Gen 2, Fitness 318.83520221710205)",
         "text": "Gen 2, Path 31",
         "type": "scatter",
         "x": [
          0,
          1.3710659742355347,
          -103.71755707263947,
          -4.434537053108215,
          -10.878259301185608,
          -36.527148842811584,
          100
         ],
         "y": [
          0,
          -37.26125717163086,
          14.637542724609375,
          86.05876159667969,
          104.16278839111328,
          108.85898399353027,
          100
         ]
        },
        {
         "hoverinfo": "text+x+y",
         "line": {
          "color": "blue",
          "width": 2
         },
         "marker": {
          "color": "red",
          "size": 8
         },
         "mode": "lines+markers",
         "name": "Path 32 (Gen 2, Fitness 318.83520221710205)",
         "text": "Gen 2, Path 32",
         "type": "scatter",
         "x": [
          0,
          1.3710659742355347,
          -103.71755707263947,
          -4.434537053108215,
          -10.878259301185608,
          -36.527148842811584,
          100
         ],
         "y": [
          0,
          -37.26125717163086,
          14.637542724609375,
          86.05876159667969,
          104.16278839111328,
          108.85898399353027,
          100
         ]
        },
        {
         "hoverinfo": "text+x+y",
         "line": {
          "color": "blue",
          "width": 2
         },
         "marker": {
          "color": "red",
          "size": 8
         },
         "mode": "lines+markers",
         "name": "Path 33 (Gen 2, Fitness 318.83520221710205)",
         "text": "Gen 2, Path 33",
         "type": "scatter",
         "x": [
          0,
          1.3710659742355347,
          -103.71755707263947,
          -4.434537053108215,
          -10.878259301185608,
          -36.527148842811584,
          100
         ],
         "y": [
          0,
          -37.26125717163086,
          14.637542724609375,
          86.05876159667969,
          104.16278839111328,
          108.85898399353027,
          100
         ]
        },
        {
         "hoverinfo": "text+x+y",
         "line": {
          "color": "blue",
          "width": 2
         },
         "marker": {
          "color": "red",
          "size": 8
         },
         "mode": "lines+markers",
         "name": "Path 34 (Gen 2, Fitness 318.83520221710205)",
         "text": "Gen 2, Path 34",
         "type": "scatter",
         "x": [
          0,
          1.3710659742355347,
          -103.71755707263947,
          -4.434537053108215,
          -10.878259301185608,
          -36.527148842811584,
          100
         ],
         "y": [
          0,
          -37.26125717163086,
          14.637542724609375,
          86.05876159667969,
          104.16278839111328,
          108.85898399353027,
          100
         ]
        },
        {
         "hoverinfo": "text+x+y",
         "line": {
          "color": "blue",
          "width": 2
         },
         "marker": {
          "color": "red",
          "size": 8
         },
         "mode": "lines+markers",
         "name": "Path 35 (Gen 3, Fitness 518.3176795959473)",
         "text": "Gen 3, Path 35",
         "type": "scatter",
         "x": [
          0,
          28.671110153198242,
          -9.196088790893555,
          -65.09219551086426,
          -210.97296333312988,
          -555.3503131866455,
          100
         ],
         "y": [
          0,
          6.332442283630371,
          105.38783931732178,
          36.96005916595459,
          -173.36350345611572,
          -459.2046899795532,
          100
         ]
        },
        {
         "hoverinfo": "text+x+y",
         "line": {
          "color": "blue",
          "width": 2
         },
         "marker": {
          "color": "red",
          "size": 8
         },
         "mode": "lines+markers",
         "name": "Path 36 (Gen 3, Fitness 433.3766742706299)",
         "text": "Gen 3, Path 36",
         "type": "scatter",
         "x": [
          0,
          -34.2589225769043,
          -122.0415153503418,
          -246.23060989379883,
          -131.04966354370117,
          -234.82404708862305,
          100
         ],
         "y": [
          0,
          -20.46015739440918,
          -24.004517555236816,
          -197.76977634429932,
          117.18380641937256,
          -35.502442359924316,
          100
         ]
        },
        {
         "hoverinfo": "text+x+y",
         "line": {
          "color": "blue",
          "width": 2
         },
         "marker": {
          "color": "red",
          "size": 8
         },
         "mode": "lines+markers",
         "name": "Path 37 (Gen 3, Fitness 518.3176795959473)",
         "text": "Gen 3, Path 37",
         "type": "scatter",
         "x": [
          0,
          28.671110153198242,
          -9.196088790893555,
          -65.09219551086426,
          -210.97296333312988,
          -555.3503131866455,
          100
         ],
         "y": [
          0,
          6.332442283630371,
          105.38783931732178,
          36.96005916595459,
          -173.36350345611572,
          -459.2046899795532,
          100
         ]
        },
        {
         "hoverinfo": "text+x+y",
         "line": {
          "color": "blue",
          "width": 2
         },
         "marker": {
          "color": "red",
          "size": 8
         },
         "mode": "lines+markers",
         "name": "Path 38 (Gen 3, Fitness 433.3766742706299)",
         "text": "Gen 3, Path 38",
         "type": "scatter",
         "x": [
          0,
          -34.2589225769043,
          -122.0415153503418,
          -246.23060989379883,
          -131.04966354370117,
          -234.82404708862305,
          100
         ],
         "y": [
          0,
          -20.46015739440918,
          -24.004517555236816,
          -197.76977634429932,
          117.18380641937256,
          -35.502442359924316,
          100
         ]
        },
        {
         "hoverinfo": "text+x+y",
         "line": {
          "color": "blue",
          "width": 2
         },
         "marker": {
          "color": "red",
          "size": 8
         },
         "mode": "lines+markers",
         "name": "Path 39 (Gen 3, Fitness 518.3176795959473)",
         "text": "Gen 3, Path 39",
         "type": "scatter",
         "x": [
          0,
          28.671110153198242,
          -9.196088790893555,
          -65.09219551086426,
          -210.97296333312988,
          -555.3503131866455,
          100
         ],
         "y": [
          0,
          6.332442283630371,
          105.38783931732178,
          36.96005916595459,
          -173.36350345611572,
          -459.2046899795532,
          100
         ]
        },
        {
         "hoverinfo": "text+x+y",
         "line": {
          "color": "blue",
          "width": 2
         },
         "marker": {
          "color": "red",
          "size": 8
         },
         "mode": "lines+markers",
         "name": "Path 40 (Gen 3, Fitness 433.3766742706299)",
         "text": "Gen 3, Path 40",
         "type": "scatter",
         "x": [
          0,
          -34.2589225769043,
          -122.0415153503418,
          -246.23060989379883,
          -131.04966354370117,
          -234.82404708862305,
          100
         ],
         "y": [
          0,
          -20.46015739440918,
          -24.004517555236816,
          -197.76977634429932,
          117.18380641937256,
          -35.502442359924316,
          100
         ]
        },
        {
         "hoverinfo": "text+x+y",
         "line": {
          "color": "blue",
          "width": 2
         },
         "marker": {
          "color": "red",
          "size": 8
         },
         "mode": "lines+markers",
         "name": "Path 41 (Gen 3, Fitness 518.3176795959473)",
         "text": "Gen 3, Path 41",
         "type": "scatter",
         "x": [
          0,
          28.671110153198242,
          -9.196088790893555,
          -65.09219551086426,
          -210.97296333312988,
          -555.3503131866455,
          100
         ],
         "y": [
          0,
          6.332442283630371,
          105.38783931732178,
          36.96005916595459,
          -173.36350345611572,
          -459.2046899795532,
          100
         ]
        },
        {
         "hoverinfo": "text+x+y",
         "line": {
          "color": "blue",
          "width": 2
         },
         "marker": {
          "color": "red",
          "size": 8
         },
         "mode": "lines+markers",
         "name": "Path 42 (Gen 3, Fitness 518.3176795959473)",
         "text": "Gen 3, Path 42",
         "type": "scatter",
         "x": [
          0,
          28.671110153198242,
          -9.196088790893555,
          -65.09219551086426,
          -210.97296333312988,
          -555.3503131866455,
          100
         ],
         "y": [
          0,
          6.332442283630371,
          105.38783931732178,
          36.96005916595459,
          -173.36350345611572,
          -459.2046899795532,
          100
         ]
        },
        {
         "hoverinfo": "text+x+y",
         "line": {
          "color": "blue",
          "width": 2
         },
         "marker": {
          "color": "red",
          "size": 8
         },
         "mode": "lines+markers",
         "name": "Path 43 (Gen 3, Fitness 518.3176795959473)",
         "text": "Gen 3, Path 43",
         "type": "scatter",
         "x": [
          0,
          28.671110153198242,
          -9.196088790893555,
          -65.09219551086426,
          -210.97296333312988,
          -555.3503131866455,
          100
         ],
         "y": [
          0,
          6.332442283630371,
          105.38783931732178,
          36.96005916595459,
          -173.36350345611572,
          -459.2046899795532,
          100
         ]
        },
        {
         "hoverinfo": "text+x+y",
         "line": {
          "color": "blue",
          "width": 2
         },
         "marker": {
          "color": "red",
          "size": 8
         },
         "mode": "lines+markers",
         "name": "Path 44 (Gen 3, Fitness 433.3766742706299)",
         "text": "Gen 3, Path 44",
         "type": "scatter",
         "x": [
          0,
          -34.2589225769043,
          -122.0415153503418,
          -246.23060989379883,
          -131.04966354370117,
          -234.82404708862305,
          100
         ],
         "y": [
          0,
          -20.46015739440918,
          -24.004517555236816,
          -197.76977634429932,
          117.18380641937256,
          -35.502442359924316,
          100
         ]
        },
        {
         "hoverinfo": "text+x+y",
         "line": {
          "color": "blue",
          "width": 2
         },
         "marker": {
          "color": "red",
          "size": 8
         },
         "mode": "lines+markers",
         "name": "Path 45 (Gen 3, Fitness 433.3766742706299)",
         "text": "Gen 3, Path 45",
         "type": "scatter",
         "x": [
          0,
          -34.2589225769043,
          -122.0415153503418,
          -246.23060989379883,
          -131.04966354370117,
          -234.82404708862305,
          100
         ],
         "y": [
          0,
          -20.46015739440918,
          -24.004517555236816,
          -197.76977634429932,
          117.18380641937256,
          -35.502442359924316,
          100
         ]
        },
        {
         "hoverinfo": "text+x+y",
         "line": {
          "color": "blue",
          "width": 2
         },
         "marker": {
          "color": "red",
          "size": 8
         },
         "mode": "lines+markers",
         "name": "Path 46 (Gen 3, Fitness 433.3766742706299)",
         "text": "Gen 3, Path 46",
         "type": "scatter",
         "x": [
          0,
          -34.2589225769043,
          -122.0415153503418,
          -246.23060989379883,
          -131.04966354370117,
          -234.82404708862305,
          100
         ],
         "y": [
          0,
          -20.46015739440918,
          -24.004517555236816,
          -197.76977634429932,
          117.18380641937256,
          -35.502442359924316,
          100
         ]
        },
        {
         "hoverinfo": "text+x+y",
         "line": {
          "color": "blue",
          "width": 2
         },
         "marker": {
          "color": "red",
          "size": 8
         },
         "mode": "lines+markers",
         "name": "Path 47 (Gen 3, Fitness 521.8907218933105)",
         "text": "Gen 3, Path 47",
         "type": "scatter",
         "x": [
          0,
          -16.957395553588867,
          -55.83208656311035,
          35.18520164489746,
          222.89871788024902,
          -555.3503131866455,
          100
         ],
         "y": [
          0,
          -24.07883071899414,
          -76.60790252685547,
          -218.4209213256836,
          -372.7145004272461,
          -459.2046899795532,
          100
         ]
        },
        {
         "hoverinfo": "text+x+y",
         "line": {
          "color": "blue",
          "width": 2
         },
         "marker": {
          "color": "red",
          "size": 8
         },
         "mode": "lines+markers",
         "name": "Path 48 (Gen 3, Fitness 518.3176795959473)",
         "text": "Gen 3, Path 48",
         "type": "scatter",
         "x": [
          0,
          28.671110153198242,
          -9.196088790893555,
          -65.09219551086426,
          -210.97296333312988,
          -555.3503131866455,
          100
         ],
         "y": [
          0,
          6.332442283630371,
          105.38783931732178,
          36.96005916595459,
          -173.36350345611572,
          -459.2046899795532,
          100
         ]
        },
        {
         "hoverinfo": "text+x+y",
         "line": {
          "color": "blue",
          "width": 2
         },
         "marker": {
          "color": "red",
          "size": 8
         },
         "mode": "lines+markers",
         "name": "Path 49 (Gen 3, Fitness 518.3176795959473)",
         "text": "Gen 3, Path 49",
         "type": "scatter",
         "x": [
          0,
          28.671110153198242,
          -9.196088790893555,
          -65.09219551086426,
          -210.97296333312988,
          -555.3503131866455,
          100
         ],
         "y": [
          0,
          6.332442283630371,
          105.38783931732178,
          36.96005916595459,
          -173.36350345611572,
          -459.2046899795532,
          100
         ]
        },
        {
         "hoverinfo": "text+x+y",
         "line": {
          "color": "blue",
          "width": 2
         },
         "marker": {
          "color": "red",
          "size": 8
         },
         "mode": "lines+markers",
         "name": "Path 50 (Gen 3, Fitness 518.3176795959473)",
         "text": "Gen 3, Path 50",
         "type": "scatter",
         "x": [
          0,
          28.671110153198242,
          -9.196088790893555,
          -65.09219551086426,
          -210.97296333312988,
          -555.3503131866455,
          100
         ],
         "y": [
          0,
          6.332442283630371,
          105.38783931732178,
          36.96005916595459,
          -173.36350345611572,
          -459.2046899795532,
          100
         ]
        },
        {
         "hoverinfo": "text+x+y",
         "line": {
          "color": "blue",
          "width": 2
         },
         "marker": {
          "color": "red",
          "size": 8
         },
         "mode": "lines+markers",
         "name": "Path 51 (Gen 3, Fitness 433.3766742706299)",
         "text": "Gen 3, Path 51",
         "type": "scatter",
         "x": [
          0,
          -34.2589225769043,
          -122.0415153503418,
          -246.23060989379883,
          -131.04966354370117,
          -234.82404708862305,
          100
         ],
         "y": [
          0,
          -20.46015739440918,
          -24.004517555236816,
          -197.76977634429932,
          117.18380641937256,
          -35.502442359924316,
          100
         ]
        },
        {
         "hoverinfo": "text+x+y",
         "line": {
          "color": "blue",
          "width": 2
         },
         "marker": {
          "color": "red",
          "size": 8
         },
         "mode": "lines+markers",
         "name": "Path 52 (Gen 3, Fitness 312.2087875366211)",
         "text": "Gen 3, Path 52",
         "type": "scatter",
         "x": [
          0,
          28.671110153198242,
          -103.71755707263947,
          -4.434537053108215,
          -10.878259301185608,
          -36.527148842811584,
          100
         ],
         "y": [
          0,
          6.332442283630371,
          14.637542724609375,
          86.05876159667969,
          104.16278839111328,
          108.85898399353027,
          100
         ]
        },
        {
         "hoverinfo": "text+x+y",
         "line": {
          "color": "blue",
          "width": 2
         },
         "marker": {
          "color": "red",
          "size": 8
         },
         "mode": "lines+markers",
         "name": "Path 53 (Gen 3, Fitness 518.3176795959473)",
         "text": "Gen 3, Path 53",
         "type": "scatter",
         "x": [
          0,
          28.671110153198242,
          -9.196088790893555,
          -65.09219551086426,
          -210.97296333312988,
          -555.3503131866455,
          100
         ],
         "y": [
          0,
          6.332442283630371,
          105.38783931732178,
          36.96005916595459,
          -173.36350345611572,
          -459.2046899795532,
          100
         ]
        },
        {
         "hoverinfo": "text+x+y",
         "line": {
          "color": "blue",
          "width": 2
         },
         "marker": {
          "color": "red",
          "size": 8
         },
         "mode": "lines+markers",
         "name": "Path 54 (Gen 3, Fitness 521.8907218933105)",
         "text": "Gen 3, Path 54",
         "type": "scatter",
         "x": [
          0,
          -16.957395553588867,
          -55.83208656311035,
          35.18520164489746,
          222.89871788024902,
          -555.3503131866455,
          100
         ],
         "y": [
          0,
          -24.07883071899414,
          -76.60790252685547,
          -218.4209213256836,
          -372.7145004272461,
          -459.2046899795532,
          100
         ]
        },
        {
         "hoverinfo": "text+x+y",
         "line": {
          "color": "blue",
          "width": 2
         },
         "marker": {
          "color": "red",
          "size": 8
         },
         "mode": "lines+markers",
         "name": "Path 55 (Gen 4, Fitness 511.4492086410522)",
         "text": "Gen 4, Path 55",
         "type": "scatter",
         "x": [
          0,
          -16.957395553588867,
          -55.83208656311035,
          35.18520164489746,
          -210.97296333312988,
          -555.3503131866455,
          100
         ],
         "y": [
          0,
          -24.07883071899414,
          -76.60790252685547,
          -218.4209213256836,
          -173.36350345611572,
          -459.2046899795532,
          100
         ]
        },
        {
         "hoverinfo": "text+x+y",
         "line": {
          "color": "blue",
          "width": 2
         },
         "marker": {
          "color": "red",
          "size": 8
         },
         "mode": "lines+markers",
         "name": "Path 56 (Gen 5, Fitness 475.0003370285034)",
         "text": "Gen 5, Path 56",
         "type": "scatter",
         "x": [
          0,
          -16.957395553588867,
          -55.83208656311035,
          35.18520164489746,
          222.89871788024902,
          585.8665523529053,
          100
         ],
         "y": [
          0,
          -24.07883071899414,
          -76.60790252685547,
          -218.4209213256836,
          -372.7145004272461,
          -285.97467041015625,
          100
         ]
        },
        {
         "hoverinfo": "text+x+y",
         "line": {
          "color": "blue",
          "width": 2
         },
         "marker": {
          "color": "red",
          "size": 8
         },
         "mode": "lines+markers",
         "name": "Path 57 (Gen 5, Fitness 475.0003370285034)",
         "text": "Gen 5, Path 57",
         "type": "scatter",
         "x": [
          0,
          -16.957395553588867,
          -55.83208656311035,
          35.18520164489746,
          222.89871788024902,
          585.8665523529053,
          100
         ],
         "y": [
          0,
          -24.07883071899414,
          -76.60790252685547,
          -218.4209213256836,
          -372.7145004272461,
          -285.97467041015625,
          100
         ]
        },
        {
         "hoverinfo": "text+x+y",
         "line": {
          "color": "blue",
          "width": 2
         },
         "marker": {
          "color": "red",
          "size": 8
         },
         "mode": "lines+markers",
         "name": "Path 58 (Gen 5, Fitness 475.0003370285034)",
         "text": "Gen 5, Path 58",
         "type": "scatter",
         "x": [
          0,
          -16.957395553588867,
          -55.83208656311035,
          35.18520164489746,
          222.89871788024902,
          585.8665523529053,
          100
         ],
         "y": [
          0,
          -24.07883071899414,
          -76.60790252685547,
          -218.4209213256836,
          -372.7145004272461,
          -285.97467041015625,
          100
         ]
        },
        {
         "hoverinfo": "text+x+y",
         "line": {
          "color": "blue",
          "width": 2
         },
         "marker": {
          "color": "red",
          "size": 8
         },
         "mode": "lines+markers",
         "name": "Path 59 (Gen 5, Fitness 475.0003370285034)",
         "text": "Gen 5, Path 59",
         "type": "scatter",
         "x": [
          0,
          -16.957395553588867,
          -55.83208656311035,
          35.18520164489746,
          222.89871788024902,
          585.8665523529053,
          100
         ],
         "y": [
          0,
          -24.07883071899414,
          -76.60790252685547,
          -218.4209213256836,
          -372.7145004272461,
          -285.97467041015625,
          100
         ]
        },
        {
         "hoverinfo": "text+x+y",
         "line": {
          "color": "blue",
          "width": 2
         },
         "marker": {
          "color": "red",
          "size": 8
         },
         "mode": "lines+markers",
         "name": "Path 60 (Gen 5, Fitness 475.0003370285034)",
         "text": "Gen 5, Path 60",
         "type": "scatter",
         "x": [
          0,
          -16.957395553588867,
          -55.83208656311035,
          35.18520164489746,
          222.89871788024902,
          585.8665523529053,
          100
         ],
         "y": [
          0,
          -24.07883071899414,
          -76.60790252685547,
          -218.4209213256836,
          -372.7145004272461,
          -285.97467041015625,
          100
         ]
        },
        {
         "hoverinfo": "text+x+y",
         "line": {
          "color": "blue",
          "width": 2
         },
         "marker": {
          "color": "red",
          "size": 8
         },
         "mode": "lines+markers",
         "name": "Path 61 (Gen 5, Fitness 475.0003370285034)",
         "text": "Gen 5, Path 61",
         "type": "scatter",
         "x": [
          0,
          -16.957395553588867,
          -55.83208656311035,
          35.18520164489746,
          222.89871788024902,
          585.8665523529053,
          100
         ],
         "y": [
          0,
          -24.07883071899414,
          -76.60790252685547,
          -218.4209213256836,
          -372.7145004272461,
          -285.97467041015625,
          100
         ]
        },
        {
         "hoverinfo": "text+x+y",
         "line": {
          "color": "blue",
          "width": 2
         },
         "marker": {
          "color": "red",
          "size": 8
         },
         "mode": "lines+markers",
         "name": "Path 62 (Gen 5, Fitness 475.0003370285034)",
         "text": "Gen 5, Path 62",
         "type": "scatter",
         "x": [
          0,
          -16.957395553588867,
          -55.83208656311035,
          35.18520164489746,
          222.89871788024902,
          585.8665523529053,
          100
         ],
         "y": [
          0,
          -24.07883071899414,
          -76.60790252685547,
          -218.4209213256836,
          -372.7145004272461,
          -285.97467041015625,
          100
         ]
        },
        {
         "hoverinfo": "text+x+y",
         "line": {
          "color": "blue",
          "width": 2
         },
         "marker": {
          "color": "red",
          "size": 8
         },
         "mode": "lines+markers",
         "name": "Path 63 (Gen 5, Fitness 475.0003370285034)",
         "text": "Gen 5, Path 63",
         "type": "scatter",
         "x": [
          0,
          -16.957395553588867,
          -55.83208656311035,
          35.18520164489746,
          222.89871788024902,
          585.8665523529053,
          100
         ],
         "y": [
          0,
          -24.07883071899414,
          -76.60790252685547,
          -218.4209213256836,
          -372.7145004272461,
          -285.97467041015625,
          100
         ]
        },
        {
         "hoverinfo": "text+x+y",
         "line": {
          "color": "blue",
          "width": 2
         },
         "marker": {
          "color": "red",
          "size": 8
         },
         "mode": "lines+markers",
         "name": "Path 64 (Gen 5, Fitness 475.0003370285034)",
         "text": "Gen 5, Path 64",
         "type": "scatter",
         "x": [
          0,
          -16.957395553588867,
          -55.83208656311035,
          35.18520164489746,
          222.89871788024902,
          585.8665523529053,
          100
         ],
         "y": [
          0,
          -24.07883071899414,
          -76.60790252685547,
          -218.4209213256836,
          -372.7145004272461,
          -285.97467041015625,
          100
         ]
        },
        {
         "hoverinfo": "text+x+y",
         "line": {
          "color": "blue",
          "width": 2
         },
         "marker": {
          "color": "red",
          "size": 8
         },
         "mode": "lines+markers",
         "name": "Path 65 (Gen 5, Fitness 475.0003370285034)",
         "text": "Gen 5, Path 65",
         "type": "scatter",
         "x": [
          0,
          -16.957395553588867,
          -55.83208656311035,
          35.18520164489746,
          222.89871788024902,
          585.8665523529053,
          100
         ],
         "y": [
          0,
          -24.07883071899414,
          -76.60790252685547,
          -218.4209213256836,
          -372.7145004272461,
          -285.97467041015625,
          100
         ]
        },
        {
         "hoverinfo": "text+x+y",
         "line": {
          "color": "blue",
          "width": 2
         },
         "marker": {
          "color": "red",
          "size": 8
         },
         "mode": "lines+markers",
         "name": "Path 66 (Gen 5, Fitness 475.0003370285034)",
         "text": "Gen 5, Path 66",
         "type": "scatter",
         "x": [
          0,
          -16.957395553588867,
          -55.83208656311035,
          35.18520164489746,
          222.89871788024902,
          585.8665523529053,
          100
         ],
         "y": [
          0,
          -24.07883071899414,
          -76.60790252685547,
          -218.4209213256836,
          -372.7145004272461,
          -285.97467041015625,
          100
         ]
        },
        {
         "hoverinfo": "text+x+y",
         "line": {
          "color": "blue",
          "width": 2
         },
         "marker": {
          "color": "red",
          "size": 8
         },
         "mode": "lines+markers",
         "name": "Path 67 (Gen 5, Fitness 475.0003370285034)",
         "text": "Gen 5, Path 67",
         "type": "scatter",
         "x": [
          0,
          -16.957395553588867,
          -55.83208656311035,
          35.18520164489746,
          222.89871788024902,
          585.8665523529053,
          100
         ],
         "y": [
          0,
          -24.07883071899414,
          -76.60790252685547,
          -218.4209213256836,
          -372.7145004272461,
          -285.97467041015625,
          100
         ]
        },
        {
         "hoverinfo": "text+x+y",
         "line": {
          "color": "blue",
          "width": 2
         },
         "marker": {
          "color": "red",
          "size": 8
         },
         "mode": "lines+markers",
         "name": "Path 68 (Gen 5, Fitness 475.0003370285034)",
         "text": "Gen 5, Path 68",
         "type": "scatter",
         "x": [
          0,
          -16.957395553588867,
          -55.83208656311035,
          35.18520164489746,
          222.89871788024902,
          585.8665523529053,
          100
         ],
         "y": [
          0,
          -24.07883071899414,
          -76.60790252685547,
          -218.4209213256836,
          -372.7145004272461,
          -285.97467041015625,
          100
         ]
        },
        {
         "hoverinfo": "text+x+y",
         "line": {
          "color": "blue",
          "width": 2
         },
         "marker": {
          "color": "red",
          "size": 8
         },
         "mode": "lines+markers",
         "name": "Path 69 (Gen 5, Fitness 475.0003370285034)",
         "text": "Gen 5, Path 69",
         "type": "scatter",
         "x": [
          0,
          -16.957395553588867,
          -55.83208656311035,
          35.18520164489746,
          222.89871788024902,
          585.8665523529053,
          100
         ],
         "y": [
          0,
          -24.07883071899414,
          -76.60790252685547,
          -218.4209213256836,
          -372.7145004272461,
          -285.97467041015625,
          100
         ]
        },
        {
         "hoverinfo": "text+x+y",
         "line": {
          "color": "blue",
          "width": 2
         },
         "marker": {
          "color": "red",
          "size": 8
         },
         "mode": "lines+markers",
         "name": "Path 70 (Gen 5, Fitness 475.0003370285034)",
         "text": "Gen 5, Path 70",
         "type": "scatter",
         "x": [
          0,
          -16.957395553588867,
          -55.83208656311035,
          35.18520164489746,
          222.89871788024902,
          585.8665523529053,
          100
         ],
         "y": [
          0,
          -24.07883071899414,
          -76.60790252685547,
          -218.4209213256836,
          -372.7145004272461,
          -285.97467041015625,
          100
         ]
        },
        {
         "hoverinfo": "text+x+y",
         "line": {
          "color": "blue",
          "width": 2
         },
         "marker": {
          "color": "red",
          "size": 8
         },
         "mode": "lines+markers",
         "name": "Path 71 (Gen 6, Fitness 432.15584659576416)",
         "text": "Gen 6, Path 71",
         "type": "scatter",
         "x": [
          0,
          -8.09125804901123,
          -35.39093494415283,
          -74.86082172393799,
          -186.68644428253174,
          -164.8144760131836,
          100
         ],
         "y": [
          0,
          -10.646988868713379,
          -24.852477073669434,
          -2.690800666809082,
          90.79290294647217,
          -159.04796409606934,
          100
         ]
        },
        {
         "hoverinfo": "text+x+y",
         "line": {
          "color": "blue",
          "width": 2
         },
         "marker": {
          "color": "red",
          "size": 8
         },
         "mode": "lines+markers",
         "name": "Path 72 (Gen 6, Fitness 432.15584659576416)",
         "text": "Gen 6, Path 72",
         "type": "scatter",
         "x": [
          0,
          -8.09125804901123,
          -35.39093494415283,
          -74.86082172393799,
          -186.68644428253174,
          -164.8144760131836,
          100
         ],
         "y": [
          0,
          -10.646988868713379,
          -24.852477073669434,
          -2.690800666809082,
          90.79290294647217,
          -159.04796409606934,
          100
         ]
        },
        {
         "hoverinfo": "text+x+y",
         "line": {
          "color": "blue",
          "width": 2
         },
         "marker": {
          "color": "red",
          "size": 8
         },
         "mode": "lines+markers",
         "name": "Path 73 (Gen 7, Fitness 355.5683613777161)",
         "text": "Gen 7, Path 73",
         "type": "scatter",
         "x": [
          0,
          -8.09125804901123,
          -35.39093494415283,
          -74.86082172393799,
          -186.68644428253174,
          -13.140393257141113,
          100
         ],
         "y": [
          0,
          -10.646988868713379,
          -24.852477073669434,
          -2.690800666809082,
          90.79290294647217,
          -88.02170276641846,
          100
         ]
        },
        {
         "hoverinfo": "text+x+y",
         "line": {
          "color": "blue",
          "width": 2
         },
         "marker": {
          "color": "red",
          "size": 8
         },
         "mode": "lines+markers",
         "name": "Path 74 (Gen 7, Fitness 355.5683613777161)",
         "text": "Gen 7, Path 74",
         "type": "scatter",
         "x": [
          0,
          -8.09125804901123,
          -35.39093494415283,
          -74.86082172393799,
          -186.68644428253174,
          -13.140393257141113,
          100
         ],
         "y": [
          0,
          -10.646988868713379,
          -24.852477073669434,
          -2.690800666809082,
          90.79290294647217,
          -88.02170276641846,
          100
         ]
        },
        {
         "hoverinfo": "text+x+y",
         "line": {
          "color": "blue",
          "width": 2
         },
         "marker": {
          "color": "red",
          "size": 8
         },
         "mode": "lines+markers",
         "name": "Path 75 (Gen 7, Fitness 355.5683613777161)",
         "text": "Gen 7, Path 75",
         "type": "scatter",
         "x": [
          0,
          -8.09125804901123,
          -35.39093494415283,
          -74.86082172393799,
          -186.68644428253174,
          -13.140393257141113,
          100
         ],
         "y": [
          0,
          -10.646988868713379,
          -24.852477073669434,
          -2.690800666809082,
          90.79290294647217,
          -88.02170276641846,
          100
         ]
        },
        {
         "hoverinfo": "text+x+y",
         "line": {
          "color": "blue",
          "width": 2
         },
         "marker": {
          "color": "red",
          "size": 8
         },
         "mode": "lines+markers",
         "name": "Path 76 (Gen 7, Fitness 355.5683613777161)",
         "text": "Gen 7, Path 76",
         "type": "scatter",
         "x": [
          0,
          -8.09125804901123,
          -35.39093494415283,
          -74.86082172393799,
          -186.68644428253174,
          -13.140393257141113,
          100
         ],
         "y": [
          0,
          -10.646988868713379,
          -24.852477073669434,
          -2.690800666809082,
          90.79290294647217,
          -88.02170276641846,
          100
         ]
        },
        {
         "hoverinfo": "text+x+y",
         "line": {
          "color": "blue",
          "width": 2
         },
         "marker": {
          "color": "red",
          "size": 8
         },
         "mode": "lines+markers",
         "name": "Path 77 (Gen 7, Fitness 355.5683613777161)",
         "text": "Gen 7, Path 77",
         "type": "scatter",
         "x": [
          0,
          -8.09125804901123,
          -35.39093494415283,
          -74.86082172393799,
          -186.68644428253174,
          -13.140393257141113,
          100
         ],
         "y": [
          0,
          -10.646988868713379,
          -24.852477073669434,
          -2.690800666809082,
          90.79290294647217,
          -88.02170276641846,
          100
         ]
        },
        {
         "hoverinfo": "text+x+y",
         "line": {
          "color": "blue",
          "width": 2
         },
         "marker": {
          "color": "red",
          "size": 8
         },
         "mode": "lines+markers",
         "name": "Path 78 (Gen 7, Fitness 355.5683613777161)",
         "text": "Gen 7, Path 78",
         "type": "scatter",
         "x": [
          0,
          -8.09125804901123,
          -35.39093494415283,
          -74.86082172393799,
          -186.68644428253174,
          -13.140393257141113,
          100
         ],
         "y": [
          0,
          -10.646988868713379,
          -24.852477073669434,
          -2.690800666809082,
          90.79290294647217,
          -88.02170276641846,
          100
         ]
        },
        {
         "hoverinfo": "text+x+y",
         "line": {
          "color": "blue",
          "width": 2
         },
         "marker": {
          "color": "red",
          "size": 8
         },
         "mode": "lines+markers",
         "name": "Path 79 (Gen 7, Fitness 355.5683613777161)",
         "text": "Gen 7, Path 79",
         "type": "scatter",
         "x": [
          0,
          -8.09125804901123,
          -35.39093494415283,
          -74.86082172393799,
          -186.68644428253174,
          -13.140393257141113,
          100
         ],
         "y": [
          0,
          -10.646988868713379,
          -24.852477073669434,
          -2.690800666809082,
          90.79290294647217,
          -88.02170276641846,
          100
         ]
        },
        {
         "hoverinfo": "text+x+y",
         "line": {
          "color": "blue",
          "width": 2
         },
         "marker": {
          "color": "red",
          "size": 8
         },
         "mode": "lines+markers",
         "name": "Path 80 (Gen 7, Fitness 355.5683613777161)",
         "text": "Gen 7, Path 80",
         "type": "scatter",
         "x": [
          0,
          -8.09125804901123,
          -35.39093494415283,
          -74.86082172393799,
          -186.68644428253174,
          -13.140393257141113,
          100
         ],
         "y": [
          0,
          -10.646988868713379,
          -24.852477073669434,
          -2.690800666809082,
          90.79290294647217,
          -88.02170276641846,
          100
         ]
        },
        {
         "hoverinfo": "text+x+y",
         "line": {
          "color": "blue",
          "width": 2
         },
         "marker": {
          "color": "red",
          "size": 8
         },
         "mode": "lines+markers",
         "name": "Path 81 (Gen 7, Fitness 355.5683613777161)",
         "text": "Gen 7, Path 81",
         "type": "scatter",
         "x": [
          0,
          -8.09125804901123,
          -35.39093494415283,
          -74.86082172393799,
          -186.68644428253174,
          -13.140393257141113,
          100
         ],
         "y": [
          0,
          -10.646988868713379,
          -24.852477073669434,
          -2.690800666809082,
          90.79290294647217,
          -88.02170276641846,
          100
         ]
        },
        {
         "hoverinfo": "text+x+y",
         "line": {
          "color": "blue",
          "width": 2
         },
         "marker": {
          "color": "red",
          "size": 8
         },
         "mode": "lines+markers",
         "name": "Path 82 (Gen 7, Fitness 355.5683613777161)",
         "text": "Gen 7, Path 82",
         "type": "scatter",
         "x": [
          0,
          -8.09125804901123,
          -35.39093494415283,
          -74.86082172393799,
          -186.68644428253174,
          -13.140393257141113,
          100
         ],
         "y": [
          0,
          -10.646988868713379,
          -24.852477073669434,
          -2.690800666809082,
          90.79290294647217,
          -88.02170276641846,
          100
         ]
        },
        {
         "hoverinfo": "text+x+y",
         "line": {
          "color": "blue",
          "width": 2
         },
         "marker": {
          "color": "red",
          "size": 8
         },
         "mode": "lines+markers",
         "name": "Path 83 (Gen 7, Fitness 355.5683613777161)",
         "text": "Gen 7, Path 83",
         "type": "scatter",
         "x": [
          0,
          -8.09125804901123,
          -35.39093494415283,
          -74.86082172393799,
          -186.68644428253174,
          -13.140393257141113,
          100
         ],
         "y": [
          0,
          -10.646988868713379,
          -24.852477073669434,
          -2.690800666809082,
          90.79290294647217,
          -88.02170276641846,
          100
         ]
        },
        {
         "hoverinfo": "text+x+y",
         "line": {
          "color": "blue",
          "width": 2
         },
         "marker": {
          "color": "red",
          "size": 8
         },
         "mode": "lines+markers",
         "name": "Path 84 (Gen 7, Fitness 355.5683613777161)",
         "text": "Gen 7, Path 84",
         "type": "scatter",
         "x": [
          0,
          -8.09125804901123,
          -35.39093494415283,
          -74.86082172393799,
          -186.68644428253174,
          -13.140393257141113,
          100
         ],
         "y": [
          0,
          -10.646988868713379,
          -24.852477073669434,
          -2.690800666809082,
          90.79290294647217,
          -88.02170276641846,
          100
         ]
        },
        {
         "hoverinfo": "text+x+y",
         "line": {
          "color": "blue",
          "width": 2
         },
         "marker": {
          "color": "red",
          "size": 8
         },
         "mode": "lines+markers",
         "name": "Path 85 (Gen 7, Fitness 355.5683613777161)",
         "text": "Gen 7, Path 85",
         "type": "scatter",
         "x": [
          0,
          -8.09125804901123,
          -35.39093494415283,
          -74.86082172393799,
          -186.68644428253174,
          -13.140393257141113,
          100
         ],
         "y": [
          0,
          -10.646988868713379,
          -24.852477073669434,
          -2.690800666809082,
          90.79290294647217,
          -88.02170276641846,
          100
         ]
        },
        {
         "hoverinfo": "text+x+y",
         "line": {
          "color": "blue",
          "width": 2
         },
         "marker": {
          "color": "red",
          "size": 8
         },
         "mode": "lines+markers",
         "name": "Path 86 (Gen 9, Fitness 1241.291351890564)",
         "text": "Gen 9, Path 86",
         "type": "scatter",
         "x": [
          0,
          -0.24469685554504395,
          66.13127207756042,
          276.62104868888855,
          955.4629065990448,
          2905.3541419506073,
          100
         ],
         "y": [
          0,
          33.288944244384766,
          -116.86922836303711,
          -208.61079788208008,
          -1084.1202583312988,
          -1256.6446723937988,
          100
         ]
        },
        {
         "hoverinfo": "text+x+y",
         "line": {
          "color": "blue",
          "width": 2
         },
         "marker": {
          "color": "red",
          "size": 8
         },
         "mode": "lines+markers",
         "name": "Path 87 (Gen 9, Fitness 1241.291351890564)",
         "text": "Gen 9, Path 87",
         "type": "scatter",
         "x": [
          0,
          -0.24469685554504395,
          66.13127207756042,
          276.62104868888855,
          955.4629065990448,
          2905.3541419506073,
          100
         ],
         "y": [
          0,
          33.288944244384766,
          -116.86922836303711,
          -208.61079788208008,
          -1084.1202583312988,
          -1256.6446723937988,
          100
         ]
        },
        {
         "hoverinfo": "text+x+y",
         "line": {
          "color": "blue",
          "width": 2
         },
         "marker": {
          "color": "red",
          "size": 8
         },
         "mode": "lines+markers",
         "name": "Path 88 (Gen 9, Fitness 1241.291351890564)",
         "text": "Gen 9, Path 88",
         "type": "scatter",
         "x": [
          0,
          -0.24469685554504395,
          66.13127207756042,
          276.62104868888855,
          955.4629065990448,
          2905.3541419506073,
          100
         ],
         "y": [
          0,
          33.288944244384766,
          -116.86922836303711,
          -208.61079788208008,
          -1084.1202583312988,
          -1256.6446723937988,
          100
         ]
        },
        {
         "hoverinfo": "text+x+y",
         "line": {
          "color": "blue",
          "width": 2
         },
         "marker": {
          "color": "red",
          "size": 8
         },
         "mode": "lines+markers",
         "name": "Path 89 (Gen 9, Fitness 1241.291351890564)",
         "text": "Gen 9, Path 89",
         "type": "scatter",
         "x": [
          0,
          -0.24469685554504395,
          66.13127207756042,
          276.62104868888855,
          955.4629065990448,
          2905.3541419506073,
          100
         ],
         "y": [
          0,
          33.288944244384766,
          -116.86922836303711,
          -208.61079788208008,
          -1084.1202583312988,
          -1256.6446723937988,
          100
         ]
        },
        {
         "hoverinfo": "text+x+y",
         "line": {
          "color": "blue",
          "width": 2
         },
         "marker": {
          "color": "red",
          "size": 8
         },
         "mode": "lines+markers",
         "name": "Path 90 (Gen 9, Fitness 1241.291351890564)",
         "text": "Gen 9, Path 90",
         "type": "scatter",
         "x": [
          0,
          -0.24469685554504395,
          66.13127207756042,
          276.62104868888855,
          955.4629065990448,
          2905.3541419506073,
          100
         ],
         "y": [
          0,
          33.288944244384766,
          -116.86922836303711,
          -208.61079788208008,
          -1084.1202583312988,
          -1256.6446723937988,
          100
         ]
        },
        {
         "hoverinfo": "text+x+y",
         "line": {
          "color": "blue",
          "width": 2
         },
         "marker": {
          "color": "red",
          "size": 8
         },
         "mode": "lines+markers",
         "name": "Path 91 (Gen 9, Fitness 1241.291351890564)",
         "text": "Gen 9, Path 91",
         "type": "scatter",
         "x": [
          0,
          -0.24469685554504395,
          66.13127207756042,
          276.62104868888855,
          955.4629065990448,
          2905.3541419506073,
          100
         ],
         "y": [
          0,
          33.288944244384766,
          -116.86922836303711,
          -208.61079788208008,
          -1084.1202583312988,
          -1256.6446723937988,
          100
         ]
        },
        {
         "hoverinfo": "text+x+y",
         "line": {
          "color": "blue",
          "width": 2
         },
         "marker": {
          "color": "red",
          "size": 8
         },
         "mode": "lines+markers",
         "name": "Path 92 (Gen 9, Fitness 1241.291351890564)",
         "text": "Gen 9, Path 92",
         "type": "scatter",
         "x": [
          0,
          -0.24469685554504395,
          66.13127207756042,
          276.62104868888855,
          955.4629065990448,
          2905.3541419506073,
          100
         ],
         "y": [
          0,
          33.288944244384766,
          -116.86922836303711,
          -208.61079788208008,
          -1084.1202583312988,
          -1256.6446723937988,
          100
         ]
        },
        {
         "hoverinfo": "text+x+y",
         "line": {
          "color": "blue",
          "width": 2
         },
         "marker": {
          "color": "red",
          "size": 8
         },
         "mode": "lines+markers",
         "name": "Path 93 (Gen 9, Fitness 1241.291351890564)",
         "text": "Gen 9, Path 93",
         "type": "scatter",
         "x": [
          0,
          -0.24469685554504395,
          66.13127207756042,
          276.62104868888855,
          955.4629065990448,
          2905.3541419506073,
          100
         ],
         "y": [
          0,
          33.288944244384766,
          -116.86922836303711,
          -208.61079788208008,
          -1084.1202583312988,
          -1256.6446723937988,
          100
         ]
        },
        {
         "hoverinfo": "text+x+y",
         "line": {
          "color": "blue",
          "width": 2
         },
         "marker": {
          "color": "red",
          "size": 8
         },
         "mode": "lines+markers",
         "name": "Path 94 (Gen 9, Fitness 1241.291351890564)",
         "text": "Gen 9, Path 94",
         "type": "scatter",
         "x": [
          0,
          -0.24469685554504395,
          66.13127207756042,
          276.62104868888855,
          955.4629065990448,
          2905.3541419506073,
          100
         ],
         "y": [
          0,
          33.288944244384766,
          -116.86922836303711,
          -208.61079788208008,
          -1084.1202583312988,
          -1256.6446723937988,
          100
         ]
        },
        {
         "hoverinfo": "text+x+y",
         "line": {
          "color": "blue",
          "width": 2
         },
         "marker": {
          "color": "red",
          "size": 8
         },
         "mode": "lines+markers",
         "name": "Path 95 (Gen 9, Fitness 1241.291351890564)",
         "text": "Gen 9, Path 95",
         "type": "scatter",
         "x": [
          0,
          -0.24469685554504395,
          66.13127207756042,
          276.62104868888855,
          955.4629065990448,
          2905.3541419506073,
          100
         ],
         "y": [
          0,
          33.288944244384766,
          -116.86922836303711,
          -208.61079788208008,
          -1084.1202583312988,
          -1256.6446723937988,
          100
         ]
        },
        {
         "hoverinfo": "text+x+y",
         "line": {
          "color": "blue",
          "width": 2
         },
         "marker": {
          "color": "red",
          "size": 8
         },
         "mode": "lines+markers",
         "name": "Path 96 (Gen 9, Fitness 1241.291351890564)",
         "text": "Gen 9, Path 96",
         "type": "scatter",
         "x": [
          0,
          -0.24469685554504395,
          66.13127207756042,
          276.62104868888855,
          955.4629065990448,
          2905.3541419506073,
          100
         ],
         "y": [
          0,
          33.288944244384766,
          -116.86922836303711,
          -208.61079788208008,
          -1084.1202583312988,
          -1256.6446723937988,
          100
         ]
        },
        {
         "hoverinfo": "text+x+y",
         "line": {
          "color": "blue",
          "width": 2
         },
         "marker": {
          "color": "red",
          "size": 8
         },
         "mode": "lines+markers",
         "name": "Path 97 (Gen 9, Fitness 1241.291351890564)",
         "text": "Gen 9, Path 97",
         "type": "scatter",
         "x": [
          0,
          -0.24469685554504395,
          66.13127207756042,
          276.62104868888855,
          955.4629065990448,
          2905.3541419506073,
          100
         ],
         "y": [
          0,
          33.288944244384766,
          -116.86922836303711,
          -208.61079788208008,
          -1084.1202583312988,
          -1256.6446723937988,
          100
         ]
        },
        {
         "hoverinfo": "text+x+y",
         "line": {
          "color": "blue",
          "width": 2
         },
         "marker": {
          "color": "red",
          "size": 8
         },
         "mode": "lines+markers",
         "name": "Path 98 (Gen 9, Fitness 1241.291351890564)",
         "text": "Gen 9, Path 98",
         "type": "scatter",
         "x": [
          0,
          -0.24469685554504395,
          66.13127207756042,
          276.62104868888855,
          955.4629065990448,
          2905.3541419506073,
          100
         ],
         "y": [
          0,
          33.288944244384766,
          -116.86922836303711,
          -208.61079788208008,
          -1084.1202583312988,
          -1256.6446723937988,
          100
         ]
        },
        {
         "hoverinfo": "text+x+y",
         "line": {
          "color": "blue",
          "width": 2
         },
         "marker": {
          "color": "red",
          "size": 8
         },
         "mode": "lines+markers",
         "name": "Path 99 (Gen 9, Fitness 1241.291351890564)",
         "text": "Gen 9, Path 99",
         "type": "scatter",
         "x": [
          0,
          -0.24469685554504395,
          66.13127207756042,
          276.62104868888855,
          955.4629065990448,
          2905.3541419506073,
          100
         ],
         "y": [
          0,
          33.288944244384766,
          -116.86922836303711,
          -208.61079788208008,
          -1084.1202583312988,
          -1256.6446723937988,
          100
         ]
        },
        {
         "hoverinfo": "text+x+y",
         "line": {
          "color": "blue",
          "width": 2
         },
         "marker": {
          "color": "red",
          "size": 8
         },
         "mode": "lines+markers",
         "name": "Path 100 (Gen 9, Fitness 1241.291351890564)",
         "text": "Gen 9, Path 100",
         "type": "scatter",
         "x": [
          0,
          -0.24469685554504395,
          66.13127207756042,
          276.62104868888855,
          955.4629065990448,
          2905.3541419506073,
          100
         ],
         "y": [
          0,
          33.288944244384766,
          -116.86922836303711,
          -208.61079788208008,
          -1084.1202583312988,
          -1256.6446723937988,
          100
         ]
        },
        {
         "hoverinfo": "text+x+y",
         "line": {
          "color": "blue",
          "width": 2
         },
         "marker": {
          "color": "red",
          "size": 8
         },
         "mode": "lines+markers",
         "name": "Path 101 (Gen 9, Fitness 1241.291351890564)",
         "text": "Gen 9, Path 101",
         "type": "scatter",
         "x": [
          0,
          -0.24469685554504395,
          66.13127207756042,
          276.62104868888855,
          955.4629065990448,
          2905.3541419506073,
          100
         ],
         "y": [
          0,
          33.288944244384766,
          -116.86922836303711,
          -208.61079788208008,
          -1084.1202583312988,
          -1256.6446723937988,
          100
         ]
        },
        {
         "hoverinfo": "text+x+y",
         "line": {
          "color": "blue",
          "width": 2
         },
         "marker": {
          "color": "red",
          "size": 8
         },
         "mode": "lines+markers",
         "name": "Path 102 (Gen 9, Fitness 1241.291351890564)",
         "text": "Gen 9, Path 102",
         "type": "scatter",
         "x": [
          0,
          -0.24469685554504395,
          66.13127207756042,
          276.62104868888855,
          955.4629065990448,
          2905.3541419506073,
          100
         ],
         "y": [
          0,
          33.288944244384766,
          -116.86922836303711,
          -208.61079788208008,
          -1084.1202583312988,
          -1256.6446723937988,
          100
         ]
        },
        {
         "hoverinfo": "text+x+y",
         "line": {
          "color": "blue",
          "width": 2
         },
         "marker": {
          "color": "red",
          "size": 8
         },
         "mode": "lines+markers",
         "name": "Path 103 (Gen 9, Fitness 842.1328100204468)",
         "text": "Gen 9, Path 103",
         "type": "scatter",
         "x": [
          0,
          -0.24469685554504395,
          66.13127207756042,
          276.62104868888855,
          955.4629065990448,
          -164.8144760131836,
          100
         ],
         "y": [
          0,
          33.288944244384766,
          -116.86922836303711,
          -208.61079788208008,
          -1084.1202583312988,
          -159.04796409606934,
          100
         ]
        },
        {
         "hoverinfo": "text+x+y",
         "line": {
          "color": "blue",
          "width": 2
         },
         "marker": {
          "color": "red",
          "size": 8
         },
         "mode": "lines+markers",
         "name": "Path 104 (Gen 9, Fitness 1241.291351890564)",
         "text": "Gen 9, Path 104",
         "type": "scatter",
         "x": [
          0,
          -0.24469685554504395,
          66.13127207756042,
          276.62104868888855,
          955.4629065990448,
          2905.3541419506073,
          100
         ],
         "y": [
          0,
          33.288944244384766,
          -116.86922836303711,
          -208.61079788208008,
          -1084.1202583312988,
          -1256.6446723937988,
          100
         ]
        },
        {
         "hoverinfo": "text+x+y",
         "line": {
          "color": "blue",
          "width": 2
         },
         "marker": {
          "color": "red",
          "size": 8
         },
         "mode": "lines+markers",
         "name": "Path 105 (Gen 9, Fitness 1241.291351890564)",
         "text": "Gen 9, Path 105",
         "type": "scatter",
         "x": [
          0,
          -0.24469685554504395,
          66.13127207756042,
          276.62104868888855,
          955.4629065990448,
          2905.3541419506073,
          100
         ],
         "y": [
          0,
          33.288944244384766,
          -116.86922836303711,
          -208.61079788208008,
          -1084.1202583312988,
          -1256.6446723937988,
          100
         ]
        },
        {
         "hoverinfo": "text+x+y",
         "line": {
          "color": "blue",
          "width": 2
         },
         "marker": {
          "color": "red",
          "size": 8
         },
         "mode": "lines+markers",
         "name": "Path 106 (Gen 9, Fitness 1241.291351890564)",
         "text": "Gen 9, Path 106",
         "type": "scatter",
         "x": [
          0,
          -0.24469685554504395,
          66.13127207756042,
          276.62104868888855,
          955.4629065990448,
          2905.3541419506073,
          100
         ],
         "y": [
          0,
          33.288944244384766,
          -116.86922836303711,
          -208.61079788208008,
          -1084.1202583312988,
          -1256.6446723937988,
          100
         ]
        },
        {
         "hoverinfo": "text+x+y",
         "line": {
          "color": "blue",
          "width": 2
         },
         "marker": {
          "color": "red",
          "size": 8
         },
         "mode": "lines+markers",
         "name": "Path 107 (Gen 9, Fitness 527.0706176757812)",
         "text": "Gen 9, Path 107",
         "type": "scatter",
         "x": [
          0,
          -0.24469685554504395,
          66.13127207756042,
          276.62104868888855,
          -21.32880401611328,
          -164.8144760131836,
          100
         ],
         "y": [
          0,
          33.288944244384766,
          -116.86922836303711,
          -208.61079788208008,
          -66.66875267028809,
          -159.04796409606934,
          100
         ]
        },
        {
         "hoverinfo": "text+x+y",
         "line": {
          "color": "blue",
          "width": 2
         },
         "marker": {
          "color": "red",
          "size": 8
         },
         "mode": "lines+markers",
         "name": "Path 108 (Gen 9, Fitness 842.1328100204468)",
         "text": "Gen 9, Path 108",
         "type": "scatter",
         "x": [
          0,
          -0.24469685554504395,
          66.13127207756042,
          276.62104868888855,
          955.4629065990448,
          -164.8144760131836,
          100
         ],
         "y": [
          0,
          33.288944244384766,
          -116.86922836303711,
          -208.61079788208008,
          -1084.1202583312988,
          -159.04796409606934,
          100
         ]
        },
        {
         "hoverinfo": "text+x+y",
         "line": {
          "color": "blue",
          "width": 2
         },
         "marker": {
          "color": "red",
          "size": 8
         },
         "mode": "lines+markers",
         "name": "Path 109 (Gen 10, Fitness 679.7946702957154)",
         "text": "Gen 10, Path 109",
         "type": "scatter",
         "x": [
          0,
          29.42298126220703,
          -38.91856384277344,
          -150.37197017669678,
          435.8581008911133,
          -228.92485809326172,
          100
         ],
         "y": [
          0,
          -33.018348693847656,
          28.099849700927734,
          -106.50339865684509,
          -418.11683464050293,
          793.0389270782471,
          100
         ]
        },
        {
         "hoverinfo": "text+x+y",
         "line": {
          "color": "blue",
          "width": 2
         },
         "marker": {
          "color": "red",
          "size": 8
         },
         "mode": "lines+markers",
         "name": "Path 110 (Gen 10, Fitness 679.7946702957154)",
         "text": "Gen 10, Path 110",
         "type": "scatter",
         "x": [
          0,
          29.42298126220703,
          -38.91856384277344,
          -150.37197017669678,
          435.8581008911133,
          -228.92485809326172,
          100
         ],
         "y": [
          0,
          -33.018348693847656,
          28.099849700927734,
          -106.50339865684509,
          -418.11683464050293,
          793.0389270782471,
          100
         ]
        },
        {
         "hoverinfo": "text+x+y",
         "line": {
          "color": "blue",
          "width": 2
         },
         "marker": {
          "color": "red",
          "size": 8
         },
         "mode": "lines+markers",
         "name": "Path 111 (Gen 10, Fitness 679.7946702957154)",
         "text": "Gen 10, Path 111",
         "type": "scatter",
         "x": [
          0,
          29.42298126220703,
          -38.91856384277344,
          -150.37197017669678,
          435.8581008911133,
          -228.92485809326172,
          100
         ],
         "y": [
          0,
          -33.018348693847656,
          28.099849700927734,
          -106.50339865684509,
          -418.11683464050293,
          793.0389270782471,
          100
         ]
        },
        {
         "hoverinfo": "text+x+y",
         "line": {
          "color": "blue",
          "width": 2
         },
         "marker": {
          "color": "red",
          "size": 8
         },
         "mode": "lines+markers",
         "name": "Path 112 (Gen 10, Fitness 679.7946702957154)",
         "text": "Gen 10, Path 112",
         "type": "scatter",
         "x": [
          0,
          29.42298126220703,
          -38.91856384277344,
          -150.37197017669678,
          435.8581008911133,
          -228.92485809326172,
          100
         ],
         "y": [
          0,
          -33.018348693847656,
          28.099849700927734,
          -106.50339865684509,
          -418.11683464050293,
          793.0389270782471,
          100
         ]
        },
        {
         "hoverinfo": "text+x+y",
         "line": {
          "color": "blue",
          "width": 2
         },
         "marker": {
          "color": "red",
          "size": 8
         },
         "mode": "lines+markers",
         "name": "Path 113 (Gen 10, Fitness 679.7946702957154)",
         "text": "Gen 10, Path 113",
         "type": "scatter",
         "x": [
          0,
          29.42298126220703,
          -38.91856384277344,
          -150.37197017669678,
          435.8581008911133,
          -228.92485809326172,
          100
         ],
         "y": [
          0,
          -33.018348693847656,
          28.099849700927734,
          -106.50339865684509,
          -418.11683464050293,
          793.0389270782471,
          100
         ]
        },
        {
         "hoverinfo": "text+x+y",
         "line": {
          "color": "blue",
          "width": 2
         },
         "marker": {
          "color": "red",
          "size": 8
         },
         "mode": "lines+markers",
         "name": "Path 114 (Gen 10, Fitness 679.7946702957154)",
         "text": "Gen 10, Path 114",
         "type": "scatter",
         "x": [
          0,
          29.42298126220703,
          -38.91856384277344,
          -150.37197017669678,
          435.8581008911133,
          -228.92485809326172,
          100
         ],
         "y": [
          0,
          -33.018348693847656,
          28.099849700927734,
          -106.50339865684509,
          -418.11683464050293,
          793.0389270782471,
          100
         ]
        },
        {
         "hoverinfo": "text+x+y",
         "line": {
          "color": "blue",
          "width": 2
         },
         "marker": {
          "color": "red",
          "size": 8
         },
         "mode": "lines+markers",
         "name": "Path 115 (Gen 10, Fitness 679.7946702957154)",
         "text": "Gen 10, Path 115",
         "type": "scatter",
         "x": [
          0,
          29.42298126220703,
          -38.91856384277344,
          -150.37197017669678,
          435.8581008911133,
          -228.92485809326172,
          100
         ],
         "y": [
          0,
          -33.018348693847656,
          28.099849700927734,
          -106.50339865684509,
          -418.11683464050293,
          793.0389270782471,
          100
         ]
        },
        {
         "hoverinfo": "text+x+y",
         "line": {
          "color": "blue",
          "width": 2
         },
         "marker": {
          "color": "red",
          "size": 8
         },
         "mode": "lines+markers",
         "name": "Path 116 (Gen 10, Fitness 679.7946702957154)",
         "text": "Gen 10, Path 116",
         "type": "scatter",
         "x": [
          0,
          29.42298126220703,
          -38.91856384277344,
          -150.37197017669678,
          435.8581008911133,
          -228.92485809326172,
          100
         ],
         "y": [
          0,
          -33.018348693847656,
          28.099849700927734,
          -106.50339865684509,
          -418.11683464050293,
          793.0389270782471,
          100
         ]
        },
        {
         "hoverinfo": "text+x+y",
         "line": {
          "color": "blue",
          "width": 2
         },
         "marker": {
          "color": "red",
          "size": 8
         },
         "mode": "lines+markers",
         "name": "Path 117 (Gen 10, Fitness 679.7946702957154)",
         "text": "Gen 10, Path 117",
         "type": "scatter",
         "x": [
          0,
          29.42298126220703,
          -38.91856384277344,
          -150.37197017669678,
          435.8581008911133,
          -228.92485809326172,
          100
         ],
         "y": [
          0,
          -33.018348693847656,
          28.099849700927734,
          -106.50339865684509,
          -418.11683464050293,
          793.0389270782471,
          100
         ]
        },
        {
         "hoverinfo": "text+x+y",
         "line": {
          "color": "blue",
          "width": 2
         },
         "marker": {
          "color": "red",
          "size": 8
         },
         "mode": "lines+markers",
         "name": "Path 118 (Gen 10, Fitness 679.7946702957154)",
         "text": "Gen 10, Path 118",
         "type": "scatter",
         "x": [
          0,
          29.42298126220703,
          -38.91856384277344,
          -150.37197017669678,
          435.8581008911133,
          -228.92485809326172,
          100
         ],
         "y": [
          0,
          -33.018348693847656,
          28.099849700927734,
          -106.50339865684509,
          -418.11683464050293,
          793.0389270782471,
          100
         ]
        },
        {
         "hoverinfo": "text+x+y",
         "line": {
          "color": "blue",
          "width": 2
         },
         "marker": {
          "color": "red",
          "size": 8
         },
         "mode": "lines+markers",
         "name": "Path 119 (Gen 10, Fitness 679.7946702957154)",
         "text": "Gen 10, Path 119",
         "type": "scatter",
         "x": [
          0,
          29.42298126220703,
          -38.91856384277344,
          -150.37197017669678,
          435.8581008911133,
          -228.92485809326172,
          100
         ],
         "y": [
          0,
          -33.018348693847656,
          28.099849700927734,
          -106.50339865684509,
          -418.11683464050293,
          793.0389270782471,
          100
         ]
        },
        {
         "hoverinfo": "text+x+y",
         "line": {
          "color": "blue",
          "width": 2
         },
         "marker": {
          "color": "red",
          "size": 8
         },
         "mode": "lines+markers",
         "name": "Path 120 (Gen 10, Fitness 679.7946702957154)",
         "text": "Gen 10, Path 120",
         "type": "scatter",
         "x": [
          0,
          29.42298126220703,
          -38.91856384277344,
          -150.37197017669678,
          435.8581008911133,
          -228.92485809326172,
          100
         ],
         "y": [
          0,
          -33.018348693847656,
          28.099849700927734,
          -106.50339865684509,
          -418.11683464050293,
          793.0389270782471,
          100
         ]
        },
        {
         "hoverinfo": "text+x+y",
         "line": {
          "color": "blue",
          "width": 2
         },
         "marker": {
          "color": "red",
          "size": 8
         },
         "mode": "lines+markers",
         "name": "Path 121 (Gen 10, Fitness 679.7946702957154)",
         "text": "Gen 10, Path 121",
         "type": "scatter",
         "x": [
          0,
          29.42298126220703,
          -38.91856384277344,
          -150.37197017669678,
          435.8581008911133,
          -228.92485809326172,
          100
         ],
         "y": [
          0,
          -33.018348693847656,
          28.099849700927734,
          -106.50339865684509,
          -418.11683464050293,
          793.0389270782471,
          100
         ]
        },
        {
         "hoverinfo": "text+x+y",
         "line": {
          "color": "blue",
          "width": 2
         },
         "marker": {
          "color": "red",
          "size": 8
         },
         "mode": "lines+markers",
         "name": "Path 122 (Gen 10, Fitness 679.7946702957154)",
         "text": "Gen 10, Path 122",
         "type": "scatter",
         "x": [
          0,
          29.42298126220703,
          -38.91856384277344,
          -150.37197017669678,
          435.8581008911133,
          -228.92485809326172,
          100
         ],
         "y": [
          0,
          -33.018348693847656,
          28.099849700927734,
          -106.50339865684509,
          -418.11683464050293,
          793.0389270782471,
          100
         ]
        },
        {
         "hoverinfo": "text+x+y",
         "line": {
          "color": "blue",
          "width": 2
         },
         "marker": {
          "color": "red",
          "size": 8
         },
         "mode": "lines+markers",
         "name": "Path 123 (Gen 10, Fitness 679.7946702957154)",
         "text": "Gen 10, Path 123",
         "type": "scatter",
         "x": [
          0,
          29.42298126220703,
          -38.91856384277344,
          -150.37197017669678,
          435.8581008911133,
          -228.92485809326172,
          100
         ],
         "y": [
          0,
          -33.018348693847656,
          28.099849700927734,
          -106.50339865684509,
          -418.11683464050293,
          793.0389270782471,
          100
         ]
        },
        {
         "hoverinfo": "text+x+y",
         "line": {
          "color": "blue",
          "width": 2
         },
         "marker": {
          "color": "red",
          "size": 8
         },
         "mode": "lines+markers",
         "name": "Path 124 (Gen 10, Fitness 679.7946702957154)",
         "text": "Gen 10, Path 124",
         "type": "scatter",
         "x": [
          0,
          29.42298126220703,
          -38.91856384277344,
          -150.37197017669678,
          435.8581008911133,
          -228.92485809326172,
          100
         ],
         "y": [
          0,
          -33.018348693847656,
          28.099849700927734,
          -106.50339865684509,
          -418.11683464050293,
          793.0389270782471,
          100
         ]
        },
        {
         "hoverinfo": "text+x+y",
         "line": {
          "color": "blue",
          "width": 2
         },
         "marker": {
          "color": "red",
          "size": 8
         },
         "mode": "lines+markers",
         "name": "Path 125 (Gen 10, Fitness 679.7946702957154)",
         "text": "Gen 10, Path 125",
         "type": "scatter",
         "x": [
          0,
          29.42298126220703,
          -38.91856384277344,
          -150.37197017669678,
          435.8581008911133,
          -228.92485809326172,
          100
         ],
         "y": [
          0,
          -33.018348693847656,
          28.099849700927734,
          -106.50339865684509,
          -418.11683464050293,
          793.0389270782471,
          100
         ]
        },
        {
         "hoverinfo": "text+x+y",
         "line": {
          "color": "blue",
          "width": 2
         },
         "marker": {
          "color": "red",
          "size": 8
         },
         "mode": "lines+markers",
         "name": "Path 126 (Gen 10, Fitness 679.7946702957154)",
         "text": "Gen 10, Path 126",
         "type": "scatter",
         "x": [
          0,
          29.42298126220703,
          -38.91856384277344,
          -150.37197017669678,
          435.8581008911133,
          -228.92485809326172,
          100
         ],
         "y": [
          0,
          -33.018348693847656,
          28.099849700927734,
          -106.50339865684509,
          -418.11683464050293,
          793.0389270782471,
          100
         ]
        },
        {
         "hoverinfo": "text+x+y",
         "line": {
          "color": "blue",
          "width": 2
         },
         "marker": {
          "color": "red",
          "size": 8
         },
         "mode": "lines+markers",
         "name": "Path 127 (Gen 10, Fitness 679.7946702957154)",
         "text": "Gen 10, Path 127",
         "type": "scatter",
         "x": [
          0,
          29.42298126220703,
          -38.91856384277344,
          -150.37197017669678,
          435.8581008911133,
          -228.92485809326172,
          100
         ],
         "y": [
          0,
          -33.018348693847656,
          28.099849700927734,
          -106.50339865684509,
          -418.11683464050293,
          793.0389270782471,
          100
         ]
        },
        {
         "hoverinfo": "text+x+y",
         "line": {
          "color": "blue",
          "width": 2
         },
         "marker": {
          "color": "red",
          "size": 8
         },
         "mode": "lines+markers",
         "name": "Path 128 (Gen 10, Fitness 679.7946702957154)",
         "text": "Gen 10, Path 128",
         "type": "scatter",
         "x": [
          0,
          29.42298126220703,
          -38.91856384277344,
          -150.37197017669678,
          435.8581008911133,
          -228.92485809326172,
          100
         ],
         "y": [
          0,
          -33.018348693847656,
          28.099849700927734,
          -106.50339865684509,
          -418.11683464050293,
          793.0389270782471,
          100
         ]
        },
        {
         "hoverinfo": "text+x+y",
         "line": {
          "color": "blue",
          "width": 2
         },
         "marker": {
          "color": "red",
          "size": 8
         },
         "mode": "lines+markers",
         "name": "Path 129 (Gen 10, Fitness 679.7946702957154)",
         "text": "Gen 10, Path 129",
         "type": "scatter",
         "x": [
          0,
          29.42298126220703,
          -38.91856384277344,
          -150.37197017669678,
          435.8581008911133,
          -228.92485809326172,
          100
         ],
         "y": [
          0,
          -33.018348693847656,
          28.099849700927734,
          -106.50339865684509,
          -418.11683464050293,
          793.0389270782471,
          100
         ]
        },
        {
         "hoverinfo": "text+x+y",
         "line": {
          "color": "blue",
          "width": 2
         },
         "marker": {
          "color": "red",
          "size": 8
         },
         "mode": "lines+markers",
         "name": "Path 130 (Gen 10, Fitness 679.7946702957154)",
         "text": "Gen 10, Path 130",
         "type": "scatter",
         "x": [
          0,
          29.42298126220703,
          -38.91856384277344,
          -150.37197017669678,
          435.8581008911133,
          -228.92485809326172,
          100
         ],
         "y": [
          0,
          -33.018348693847656,
          28.099849700927734,
          -106.50339865684509,
          -418.11683464050293,
          793.0389270782471,
          100
         ]
        },
        {
         "hoverinfo": "text+x+y",
         "line": {
          "color": "blue",
          "width": 2
         },
         "marker": {
          "color": "red",
          "size": 8
         },
         "mode": "lines+markers",
         "name": "Path 131 (Gen 10, Fitness 679.7946702957154)",
         "text": "Gen 10, Path 131",
         "type": "scatter",
         "x": [
          0,
          29.42298126220703,
          -38.91856384277344,
          -150.37197017669678,
          435.8581008911133,
          -228.92485809326172,
          100
         ],
         "y": [
          0,
          -33.018348693847656,
          28.099849700927734,
          -106.50339865684509,
          -418.11683464050293,
          793.0389270782471,
          100
         ]
        },
        {
         "hoverinfo": "text+x+y",
         "line": {
          "color": "blue",
          "width": 2
         },
         "marker": {
          "color": "red",
          "size": 8
         },
         "mode": "lines+markers",
         "name": "Path 132 (Gen 10, Fitness 679.7946702957154)",
         "text": "Gen 10, Path 132",
         "type": "scatter",
         "x": [
          0,
          29.42298126220703,
          -38.91856384277344,
          -150.37197017669678,
          435.8581008911133,
          -228.92485809326172,
          100
         ],
         "y": [
          0,
          -33.018348693847656,
          28.099849700927734,
          -106.50339865684509,
          -418.11683464050293,
          793.0389270782471,
          100
         ]
        },
        {
         "hoverinfo": "text+x+y",
         "line": {
          "color": "blue",
          "width": 2
         },
         "marker": {
          "color": "red",
          "size": 8
         },
         "mode": "lines+markers",
         "name": "Path 133 (Gen 10, Fitness 679.7946702957154)",
         "text": "Gen 10, Path 133",
         "type": "scatter",
         "x": [
          0,
          29.42298126220703,
          -38.91856384277344,
          -150.37197017669678,
          435.8581008911133,
          -228.92485809326172,
          100
         ],
         "y": [
          0,
          -33.018348693847656,
          28.099849700927734,
          -106.50339865684509,
          -418.11683464050293,
          793.0389270782471,
          100
         ]
        },
        {
         "hoverinfo": "text+x+y",
         "line": {
          "color": "blue",
          "width": 2
         },
         "marker": {
          "color": "red",
          "size": 8
         },
         "mode": "lines+markers",
         "name": "Path 134 (Gen 10, Fitness 679.7946702957154)",
         "text": "Gen 10, Path 134",
         "type": "scatter",
         "x": [
          0,
          29.42298126220703,
          -38.91856384277344,
          -150.37197017669678,
          435.8581008911133,
          -228.92485809326172,
          100
         ],
         "y": [
          0,
          -33.018348693847656,
          28.099849700927734,
          -106.50339865684509,
          -418.11683464050293,
          793.0389270782471,
          100
         ]
        },
        {
         "hoverinfo": "text+x+y",
         "line": {
          "color": "blue",
          "width": 2
         },
         "marker": {
          "color": "red",
          "size": 8
         },
         "mode": "lines+markers",
         "name": "Path 135 (Gen 10, Fitness 679.7946702957154)",
         "text": "Gen 10, Path 135",
         "type": "scatter",
         "x": [
          0,
          29.42298126220703,
          -38.91856384277344,
          -150.37197017669678,
          435.8581008911133,
          -228.92485809326172,
          100
         ],
         "y": [
          0,
          -33.018348693847656,
          28.099849700927734,
          -106.50339865684509,
          -418.11683464050293,
          793.0389270782471,
          100
         ]
        },
        {
         "hoverinfo": "text+x+y",
         "line": {
          "color": "blue",
          "width": 2
         },
         "marker": {
          "color": "red",
          "size": 8
         },
         "mode": "lines+markers",
         "name": "Path 136 (Gen 10, Fitness 679.7946702957154)",
         "text": "Gen 10, Path 136",
         "type": "scatter",
         "x": [
          0,
          29.42298126220703,
          -38.91856384277344,
          -150.37197017669678,
          435.8581008911133,
          -228.92485809326172,
          100
         ],
         "y": [
          0,
          -33.018348693847656,
          28.099849700927734,
          -106.50339865684509,
          -418.11683464050293,
          793.0389270782471,
          100
         ]
        },
        {
         "hoverinfo": "text+x+y",
         "line": {
          "color": "blue",
          "width": 2
         },
         "marker": {
          "color": "red",
          "size": 8
         },
         "mode": "lines+markers",
         "name": "Path 137 (Gen 10, Fitness 679.7946702957154)",
         "text": "Gen 10, Path 137",
         "type": "scatter",
         "x": [
          0,
          29.42298126220703,
          -38.91856384277344,
          -150.37197017669678,
          435.8581008911133,
          -228.92485809326172,
          100
         ],
         "y": [
          0,
          -33.018348693847656,
          28.099849700927734,
          -106.50339865684509,
          -418.11683464050293,
          793.0389270782471,
          100
         ]
        },
        {
         "hoverinfo": "text+x+y",
         "line": {
          "color": "blue",
          "width": 2
         },
         "marker": {
          "color": "red",
          "size": 8
         },
         "mode": "lines+markers",
         "name": "Path 138 (Gen 10, Fitness 679.7946702957154)",
         "text": "Gen 10, Path 138",
         "type": "scatter",
         "x": [
          0,
          29.42298126220703,
          -38.91856384277344,
          -150.37197017669678,
          435.8581008911133,
          -228.92485809326172,
          100
         ],
         "y": [
          0,
          -33.018348693847656,
          28.099849700927734,
          -106.50339865684509,
          -418.11683464050293,
          793.0389270782471,
          100
         ]
        },
        {
         "hoverinfo": "text+x+y",
         "line": {
          "color": "blue",
          "width": 2
         },
         "marker": {
          "color": "red",
          "size": 8
         },
         "mode": "lines+markers",
         "name": "Path 139 (Gen 10, Fitness 679.7946702957154)",
         "text": "Gen 10, Path 139",
         "type": "scatter",
         "x": [
          0,
          29.42298126220703,
          -38.91856384277344,
          -150.37197017669678,
          435.8581008911133,
          -228.92485809326172,
          100
         ],
         "y": [
          0,
          -33.018348693847656,
          28.099849700927734,
          -106.50339865684509,
          -418.11683464050293,
          793.0389270782471,
          100
         ]
        },
        {
         "hoverinfo": "text+x+y",
         "line": {
          "color": "blue",
          "width": 2
         },
         "marker": {
          "color": "red",
          "size": 8
         },
         "mode": "lines+markers",
         "name": "Path 140 (Gen 10, Fitness 679.7946702957154)",
         "text": "Gen 10, Path 140",
         "type": "scatter",
         "x": [
          0,
          29.42298126220703,
          -38.91856384277344,
          -150.37197017669678,
          435.8581008911133,
          -228.92485809326172,
          100
         ],
         "y": [
          0,
          -33.018348693847656,
          28.099849700927734,
          -106.50339865684509,
          -418.11683464050293,
          793.0389270782471,
          100
         ]
        },
        {
         "hoverinfo": "text+x+y",
         "line": {
          "color": "blue",
          "width": 2
         },
         "marker": {
          "color": "red",
          "size": 8
         },
         "mode": "lines+markers",
         "name": "Path 141 (Gen 10, Fitness 679.7946702957154)",
         "text": "Gen 10, Path 141",
         "type": "scatter",
         "x": [
          0,
          29.42298126220703,
          -38.91856384277344,
          -150.37197017669678,
          435.8581008911133,
          -228.92485809326172,
          100
         ],
         "y": [
          0,
          -33.018348693847656,
          28.099849700927734,
          -106.50339865684509,
          -418.11683464050293,
          793.0389270782471,
          100
         ]
        },
        {
         "hoverinfo": "text+x+y",
         "line": {
          "color": "blue",
          "width": 2
         },
         "marker": {
          "color": "red",
          "size": 8
         },
         "mode": "lines+markers",
         "name": "Path 142 (Gen 10, Fitness 679.7946702957154)",
         "text": "Gen 10, Path 142",
         "type": "scatter",
         "x": [
          0,
          29.42298126220703,
          -38.91856384277344,
          -150.37197017669678,
          435.8581008911133,
          -228.92485809326172,
          100
         ],
         "y": [
          0,
          -33.018348693847656,
          28.099849700927734,
          -106.50339865684509,
          -418.11683464050293,
          793.0389270782471,
          100
         ]
        },
        {
         "hoverinfo": "text+x+y",
         "line": {
          "color": "blue",
          "width": 2
         },
         "marker": {
          "color": "red",
          "size": 8
         },
         "mode": "lines+markers",
         "name": "Path 143 (Gen 10, Fitness 679.7946702957154)",
         "text": "Gen 10, Path 143",
         "type": "scatter",
         "x": [
          0,
          29.42298126220703,
          -38.91856384277344,
          -150.37197017669678,
          435.8581008911133,
          -228.92485809326172,
          100
         ],
         "y": [
          0,
          -33.018348693847656,
          28.099849700927734,
          -106.50339865684509,
          -418.11683464050293,
          793.0389270782471,
          100
         ]
        },
        {
         "hoverinfo": "text+x+y",
         "line": {
          "color": "blue",
          "width": 2
         },
         "marker": {
          "color": "red",
          "size": 8
         },
         "mode": "lines+markers",
         "name": "Path 144 (Gen 10, Fitness 679.7946702957154)",
         "text": "Gen 10, Path 144",
         "type": "scatter",
         "x": [
          0,
          29.42298126220703,
          -38.91856384277344,
          -150.37197017669678,
          435.8581008911133,
          -228.92485809326172,
          100
         ],
         "y": [
          0,
          -33.018348693847656,
          28.099849700927734,
          -106.50339865684509,
          -418.11683464050293,
          793.0389270782471,
          100
         ]
        },
        {
         "hoverinfo": "text+x+y",
         "line": {
          "color": "blue",
          "width": 2
         },
         "marker": {
          "color": "red",
          "size": 8
         },
         "mode": "lines+markers",
         "name": "Path 145 (Gen 10, Fitness 679.7946702957154)",
         "text": "Gen 10, Path 145",
         "type": "scatter",
         "x": [
          0,
          29.42298126220703,
          -38.91856384277344,
          -150.37197017669678,
          435.8581008911133,
          -228.92485809326172,
          100
         ],
         "y": [
          0,
          -33.018348693847656,
          28.099849700927734,
          -106.50339865684509,
          -418.11683464050293,
          793.0389270782471,
          100
         ]
        },
        {
         "hoverinfo": "text+x+y",
         "line": {
          "color": "blue",
          "width": 2
         },
         "marker": {
          "color": "red",
          "size": 8
         },
         "mode": "lines+markers",
         "name": "Path 146 (Gen 10, Fitness 679.7946702957154)",
         "text": "Gen 10, Path 146",
         "type": "scatter",
         "x": [
          0,
          29.42298126220703,
          -38.91856384277344,
          -150.37197017669678,
          435.8581008911133,
          -228.92485809326172,
          100
         ],
         "y": [
          0,
          -33.018348693847656,
          28.099849700927734,
          -106.50339865684509,
          -418.11683464050293,
          793.0389270782471,
          100
         ]
        },
        {
         "hoverinfo": "text+x+y",
         "line": {
          "color": "blue",
          "width": 2
         },
         "marker": {
          "color": "red",
          "size": 8
         },
         "mode": "lines+markers",
         "name": "Path 147 (Gen 10, Fitness 679.7946702957154)",
         "text": "Gen 10, Path 147",
         "type": "scatter",
         "x": [
          0,
          29.42298126220703,
          -38.91856384277344,
          -150.37197017669678,
          435.8581008911133,
          -228.92485809326172,
          100
         ],
         "y": [
          0,
          -33.018348693847656,
          28.099849700927734,
          -106.50339865684509,
          -418.11683464050293,
          793.0389270782471,
          100
         ]
        },
        {
         "hoverinfo": "text+x+y",
         "line": {
          "color": "blue",
          "width": 2
         },
         "marker": {
          "color": "red",
          "size": 8
         },
         "mode": "lines+markers",
         "name": "Path 148 (Gen 10, Fitness 679.7946702957154)",
         "text": "Gen 10, Path 148",
         "type": "scatter",
         "x": [
          0,
          29.42298126220703,
          -38.91856384277344,
          -150.37197017669678,
          435.8581008911133,
          -228.92485809326172,
          100
         ],
         "y": [
          0,
          -33.018348693847656,
          28.099849700927734,
          -106.50339865684509,
          -418.11683464050293,
          793.0389270782471,
          100
         ]
        },
        {
         "hoverinfo": "text+x+y",
         "line": {
          "color": "blue",
          "width": 2
         },
         "marker": {
          "color": "red",
          "size": 8
         },
         "mode": "lines+markers",
         "name": "Path 149 (Gen 10, Fitness 679.7946702957154)",
         "text": "Gen 10, Path 149",
         "type": "scatter",
         "x": [
          0,
          29.42298126220703,
          -38.91856384277344,
          -150.37197017669678,
          435.8581008911133,
          -228.92485809326172,
          100
         ],
         "y": [
          0,
          -33.018348693847656,
          28.099849700927734,
          -106.50339865684509,
          -418.11683464050293,
          793.0389270782471,
          100
         ]
        },
        {
         "hoverinfo": "text+x+y",
         "line": {
          "color": "blue",
          "width": 2
         },
         "marker": {
          "color": "red",
          "size": 8
         },
         "mode": "lines+markers",
         "name": "Path 150 (Gen 10, Fitness 679.7946702957154)",
         "text": "Gen 10, Path 150",
         "type": "scatter",
         "x": [
          0,
          29.42298126220703,
          -38.91856384277344,
          -150.37197017669678,
          435.8581008911133,
          -228.92485809326172,
          100
         ],
         "y": [
          0,
          -33.018348693847656,
          28.099849700927734,
          -106.50339865684509,
          -418.11683464050293,
          793.0389270782471,
          100
         ]
        },
        {
         "hoverinfo": "text+x+y",
         "line": {
          "color": "blue",
          "width": 2
         },
         "marker": {
          "color": "red",
          "size": 8
         },
         "mode": "lines+markers",
         "name": "Path 151 (Gen 10, Fitness 679.7946702957154)",
         "text": "Gen 10, Path 151",
         "type": "scatter",
         "x": [
          0,
          29.42298126220703,
          -38.91856384277344,
          -150.37197017669678,
          435.8581008911133,
          -228.92485809326172,
          100
         ],
         "y": [
          0,
          -33.018348693847656,
          28.099849700927734,
          -106.50339865684509,
          -418.11683464050293,
          793.0389270782471,
          100
         ]
        },
        {
         "hoverinfo": "text+x+y",
         "line": {
          "color": "blue",
          "width": 2
         },
         "marker": {
          "color": "red",
          "size": 8
         },
         "mode": "lines+markers",
         "name": "Path 152 (Gen 10, Fitness 679.7946702957154)",
         "text": "Gen 10, Path 152",
         "type": "scatter",
         "x": [
          0,
          29.42298126220703,
          -38.91856384277344,
          -150.37197017669678,
          435.8581008911133,
          -228.92485809326172,
          100
         ],
         "y": [
          0,
          -33.018348693847656,
          28.099849700927734,
          -106.50339865684509,
          -418.11683464050293,
          793.0389270782471,
          100
         ]
        },
        {
         "hoverinfo": "text+x+y",
         "line": {
          "color": "blue",
          "width": 2
         },
         "marker": {
          "color": "red",
          "size": 8
         },
         "mode": "lines+markers",
         "name": "Path 153 (Gen 10, Fitness 679.7946702957154)",
         "text": "Gen 10, Path 153",
         "type": "scatter",
         "x": [
          0,
          29.42298126220703,
          -38.91856384277344,
          -150.37197017669678,
          435.8581008911133,
          -228.92485809326172,
          100
         ],
         "y": [
          0,
          -33.018348693847656,
          28.099849700927734,
          -106.50339865684509,
          -418.11683464050293,
          793.0389270782471,
          100
         ]
        },
        {
         "hoverinfo": "text+x+y",
         "line": {
          "color": "blue",
          "width": 2
         },
         "marker": {
          "color": "red",
          "size": 8
         },
         "mode": "lines+markers",
         "name": "Path 154 (Gen 10, Fitness 679.7946702957154)",
         "text": "Gen 10, Path 154",
         "type": "scatter",
         "x": [
          0,
          29.42298126220703,
          -38.91856384277344,
          -150.37197017669678,
          435.8581008911133,
          -228.92485809326172,
          100
         ],
         "y": [
          0,
          -33.018348693847656,
          28.099849700927734,
          -106.50339865684509,
          -418.11683464050293,
          793.0389270782471,
          100
         ]
        },
        {
         "hoverinfo": "text+x+y",
         "line": {
          "color": "blue",
          "width": 2
         },
         "marker": {
          "color": "red",
          "size": 8
         },
         "mode": "lines+markers",
         "name": "Path 155 (Gen 10, Fitness 679.7946702957154)",
         "text": "Gen 10, Path 155",
         "type": "scatter",
         "x": [
          0,
          29.42298126220703,
          -38.91856384277344,
          -150.37197017669678,
          435.8581008911133,
          -228.92485809326172,
          100
         ],
         "y": [
          0,
          -33.018348693847656,
          28.099849700927734,
          -106.50339865684509,
          -418.11683464050293,
          793.0389270782471,
          100
         ]
        },
        {
         "hoverinfo": "text+x+y",
         "line": {
          "color": "blue",
          "width": 2
         },
         "marker": {
          "color": "red",
          "size": 8
         },
         "mode": "lines+markers",
         "name": "Path 156 (Gen 10, Fitness 679.7946702957154)",
         "text": "Gen 10, Path 156",
         "type": "scatter",
         "x": [
          0,
          29.42298126220703,
          -38.91856384277344,
          -150.37197017669678,
          435.8581008911133,
          -228.92485809326172,
          100
         ],
         "y": [
          0,
          -33.018348693847656,
          28.099849700927734,
          -106.50339865684509,
          -418.11683464050293,
          793.0389270782471,
          100
         ]
        },
        {
         "hoverinfo": "text+x+y",
         "line": {
          "color": "blue",
          "width": 2
         },
         "marker": {
          "color": "red",
          "size": 8
         },
         "mode": "lines+markers",
         "name": "Path 157 (Gen 10, Fitness 679.7946702957154)",
         "text": "Gen 10, Path 157",
         "type": "scatter",
         "x": [
          0,
          29.42298126220703,
          -38.91856384277344,
          -150.37197017669678,
          435.8581008911133,
          -228.92485809326172,
          100
         ],
         "y": [
          0,
          -33.018348693847656,
          28.099849700927734,
          -106.50339865684509,
          -418.11683464050293,
          793.0389270782471,
          100
         ]
        },
        {
         "hoverinfo": "text+x+y",
         "line": {
          "color": "blue",
          "width": 2
         },
         "marker": {
          "color": "red",
          "size": 8
         },
         "mode": "lines+markers",
         "name": "Path 158 (Gen 10, Fitness 679.7946702957154)",
         "text": "Gen 10, Path 158",
         "type": "scatter",
         "x": [
          0,
          29.42298126220703,
          -38.91856384277344,
          -150.37197017669678,
          435.8581008911133,
          -228.92485809326172,
          100
         ],
         "y": [
          0,
          -33.018348693847656,
          28.099849700927734,
          -106.50339865684509,
          -418.11683464050293,
          793.0389270782471,
          100
         ]
        },
        {
         "hoverinfo": "text+x+y",
         "line": {
          "color": "blue",
          "width": 2
         },
         "marker": {
          "color": "red",
          "size": 8
         },
         "mode": "lines+markers",
         "name": "Path 159 (Gen 10, Fitness 679.7946702957154)",
         "text": "Gen 10, Path 159",
         "type": "scatter",
         "x": [
          0,
          29.42298126220703,
          -38.91856384277344,
          -150.37197017669678,
          435.8581008911133,
          -228.92485809326172,
          100
         ],
         "y": [
          0,
          -33.018348693847656,
          28.099849700927734,
          -106.50339865684509,
          -418.11683464050293,
          793.0389270782471,
          100
         ]
        },
        {
         "hoverinfo": "text+x+y",
         "line": {
          "color": "blue",
          "width": 2
         },
         "marker": {
          "color": "red",
          "size": 8
         },
         "mode": "lines+markers",
         "name": "Path 160 (Gen 10, Fitness 679.7946702957154)",
         "text": "Gen 10, Path 160",
         "type": "scatter",
         "x": [
          0,
          29.42298126220703,
          -38.91856384277344,
          -150.37197017669678,
          435.8581008911133,
          -228.92485809326172,
          100
         ],
         "y": [
          0,
          -33.018348693847656,
          28.099849700927734,
          -106.50339865684509,
          -418.11683464050293,
          793.0389270782471,
          100
         ]
        },
        {
         "hoverinfo": "text+x+y",
         "line": {
          "color": "blue",
          "width": 2
         },
         "marker": {
          "color": "red",
          "size": 8
         },
         "mode": "lines+markers",
         "name": "Path 161 (Gen 10, Fitness 679.7946702957154)",
         "text": "Gen 10, Path 161",
         "type": "scatter",
         "x": [
          0,
          29.42298126220703,
          -38.91856384277344,
          -150.37197017669678,
          435.8581008911133,
          -228.92485809326172,
          100
         ],
         "y": [
          0,
          -33.018348693847656,
          28.099849700927734,
          -106.50339865684509,
          -418.11683464050293,
          793.0389270782471,
          100
         ]
        },
        {
         "hoverinfo": "text+x+y",
         "line": {
          "color": "blue",
          "width": 2
         },
         "marker": {
          "color": "red",
          "size": 8
         },
         "mode": "lines+markers",
         "name": "Path 162 (Gen 10, Fitness 679.7946702957154)",
         "text": "Gen 10, Path 162",
         "type": "scatter",
         "x": [
          0,
          29.42298126220703,
          -38.91856384277344,
          -150.37197017669678,
          435.8581008911133,
          -228.92485809326172,
          100
         ],
         "y": [
          0,
          -33.018348693847656,
          28.099849700927734,
          -106.50339865684509,
          -418.11683464050293,
          793.0389270782471,
          100
         ]
        },
        {
         "hoverinfo": "text+x+y",
         "line": {
          "color": "blue",
          "width": 2
         },
         "marker": {
          "color": "red",
          "size": 8
         },
         "mode": "lines+markers",
         "name": "Path 163 (Gen 10, Fitness 679.7946702957154)",
         "text": "Gen 10, Path 163",
         "type": "scatter",
         "x": [
          0,
          29.42298126220703,
          -38.91856384277344,
          -150.37197017669678,
          435.8581008911133,
          -228.92485809326172,
          100
         ],
         "y": [
          0,
          -33.018348693847656,
          28.099849700927734,
          -106.50339865684509,
          -418.11683464050293,
          793.0389270782471,
          100
         ]
        },
        {
         "hoverinfo": "text+x+y",
         "line": {
          "color": "blue",
          "width": 2
         },
         "marker": {
          "color": "red",
          "size": 8
         },
         "mode": "lines+markers",
         "name": "Path 164 (Gen 10, Fitness 679.7946702957154)",
         "text": "Gen 10, Path 164",
         "type": "scatter",
         "x": [
          0,
          29.42298126220703,
          -38.91856384277344,
          -150.37197017669678,
          435.8581008911133,
          -228.92485809326172,
          100
         ],
         "y": [
          0,
          -33.018348693847656,
          28.099849700927734,
          -106.50339865684509,
          -418.11683464050293,
          793.0389270782471,
          100
         ]
        },
        {
         "hoverinfo": "text+x+y",
         "line": {
          "color": "blue",
          "width": 2
         },
         "marker": {
          "color": "red",
          "size": 8
         },
         "mode": "lines+markers",
         "name": "Path 165 (Gen 10, Fitness 679.7946702957154)",
         "text": "Gen 10, Path 165",
         "type": "scatter",
         "x": [
          0,
          29.42298126220703,
          -38.91856384277344,
          -150.37197017669678,
          435.8581008911133,
          -228.92485809326172,
          100
         ],
         "y": [
          0,
          -33.018348693847656,
          28.099849700927734,
          -106.50339865684509,
          -418.11683464050293,
          793.0389270782471,
          100
         ]
        },
        {
         "hoverinfo": "text+x+y",
         "line": {
          "color": "blue",
          "width": 2
         },
         "marker": {
          "color": "red",
          "size": 8
         },
         "mode": "lines+markers",
         "name": "Path 166 (Gen 10, Fitness 679.7946702957154)",
         "text": "Gen 10, Path 166",
         "type": "scatter",
         "x": [
          0,
          29.42298126220703,
          -38.91856384277344,
          -150.37197017669678,
          435.8581008911133,
          -228.92485809326172,
          100
         ],
         "y": [
          0,
          -33.018348693847656,
          28.099849700927734,
          -106.50339865684509,
          -418.11683464050293,
          793.0389270782471,
          100
         ]
        },
        {
         "hoverinfo": "text+x+y",
         "line": {
          "color": "blue",
          "width": 2
         },
         "marker": {
          "color": "red",
          "size": 8
         },
         "mode": "lines+markers",
         "name": "Path 167 (Gen 10, Fitness 679.7946702957154)",
         "text": "Gen 10, Path 167",
         "type": "scatter",
         "x": [
          0,
          29.42298126220703,
          -38.91856384277344,
          -150.37197017669678,
          435.8581008911133,
          -228.92485809326172,
          100
         ],
         "y": [
          0,
          -33.018348693847656,
          28.099849700927734,
          -106.50339865684509,
          -418.11683464050293,
          793.0389270782471,
          100
         ]
        },
        {
         "hoverinfo": "text+x+y",
         "line": {
          "color": "blue",
          "width": 2
         },
         "marker": {
          "color": "red",
          "size": 8
         },
         "mode": "lines+markers",
         "name": "Path 168 (Gen 10, Fitness 679.7946702957154)",
         "text": "Gen 10, Path 168",
         "type": "scatter",
         "x": [
          0,
          29.42298126220703,
          -38.91856384277344,
          -150.37197017669678,
          435.8581008911133,
          -228.92485809326172,
          100
         ],
         "y": [
          0,
          -33.018348693847656,
          28.099849700927734,
          -106.50339865684509,
          -418.11683464050293,
          793.0389270782471,
          100
         ]
        },
        {
         "hoverinfo": "text+x+y",
         "line": {
          "color": "blue",
          "width": 2
         },
         "marker": {
          "color": "red",
          "size": 8
         },
         "mode": "lines+markers",
         "name": "Path 169 (Gen 10, Fitness 679.7946702957154)",
         "text": "Gen 10, Path 169",
         "type": "scatter",
         "x": [
          0,
          29.42298126220703,
          -38.91856384277344,
          -150.37197017669678,
          435.8581008911133,
          -228.92485809326172,
          100
         ],
         "y": [
          0,
          -33.018348693847656,
          28.099849700927734,
          -106.50339865684509,
          -418.11683464050293,
          793.0389270782471,
          100
         ]
        },
        {
         "hoverinfo": "text+x+y",
         "line": {
          "color": "blue",
          "width": 2
         },
         "marker": {
          "color": "red",
          "size": 8
         },
         "mode": "lines+markers",
         "name": "Path 170 (Gen 10, Fitness 679.7946702957154)",
         "text": "Gen 10, Path 170",
         "type": "scatter",
         "x": [
          0,
          29.42298126220703,
          -38.91856384277344,
          -150.37197017669678,
          435.8581008911133,
          -228.92485809326172,
          100
         ],
         "y": [
          0,
          -33.018348693847656,
          28.099849700927734,
          -106.50339865684509,
          -418.11683464050293,
          793.0389270782471,
          100
         ]
        },
        {
         "hoverinfo": "text+x+y",
         "line": {
          "color": "blue",
          "width": 2
         },
         "marker": {
          "color": "red",
          "size": 8
         },
         "mode": "lines+markers",
         "name": "Path 171 (Gen 10, Fitness 679.7946702957154)",
         "text": "Gen 10, Path 171",
         "type": "scatter",
         "x": [
          0,
          29.42298126220703,
          -38.91856384277344,
          -150.37197017669678,
          435.8581008911133,
          -228.92485809326172,
          100
         ],
         "y": [
          0,
          -33.018348693847656,
          28.099849700927734,
          -106.50339865684509,
          -418.11683464050293,
          793.0389270782471,
          100
         ]
        },
        {
         "hoverinfo": "text+x+y",
         "line": {
          "color": "blue",
          "width": 2
         },
         "marker": {
          "color": "red",
          "size": 8
         },
         "mode": "lines+markers",
         "name": "Path 172 (Gen 10, Fitness 679.7946702957154)",
         "text": "Gen 10, Path 172",
         "type": "scatter",
         "x": [
          0,
          29.42298126220703,
          -38.91856384277344,
          -150.37197017669678,
          435.8581008911133,
          -228.92485809326172,
          100
         ],
         "y": [
          0,
          -33.018348693847656,
          28.099849700927734,
          -106.50339865684509,
          -418.11683464050293,
          793.0389270782471,
          100
         ]
        },
        {
         "hoverinfo": "text+x+y",
         "line": {
          "color": "blue",
          "width": 2
         },
         "marker": {
          "color": "red",
          "size": 8
         },
         "mode": "lines+markers",
         "name": "Path 173 (Gen 10, Fitness 675.8455419540405)",
         "text": "Gen 10, Path 173",
         "type": "scatter",
         "x": [
          0,
          -0.24469685554504395,
          66.13127207756042,
          276.62104868888855,
          435.8581008911133,
          -228.92485809326172,
          100
         ],
         "y": [
          0,
          33.288944244384766,
          -116.86922836303711,
          -208.61079788208008,
          -418.11683464050293,
          793.0389270782471,
          100
         ]
        },
        {
         "hoverinfo": "text+x+y",
         "line": {
          "color": "blue",
          "width": 2
         },
         "marker": {
          "color": "red",
          "size": 8
         },
         "mode": "lines+markers",
         "name": "Path 174 (Gen 11, Fitness 457.5093656539917)",
         "text": "Gen 11, Path 174",
         "type": "scatter",
         "x": [
          0,
          29.42298126220703,
          -38.91856384277344,
          88.03170776367188,
          -21.32880401611328,
          -164.8144760131836,
          100
         ],
         "y": [
          0,
          -33.018348693847656,
          28.099849700927734,
          33.32809638977051,
          -66.66875267028809,
          -159.04796409606934,
          100
         ]
        },
        {
         "hoverinfo": "text+x+y",
         "line": {
          "color": "blue",
          "width": 2
         },
         "marker": {
          "color": "red",
          "size": 8
         },
         "mode": "lines+markers",
         "name": "Path 175 (Gen 11, Fitness 457.5093656539917)",
         "text": "Gen 11, Path 175",
         "type": "scatter",
         "x": [
          0,
          29.42298126220703,
          -38.91856384277344,
          88.03170776367188,
          -21.32880401611328,
          -164.8144760131836,
          100
         ],
         "y": [
          0,
          -33.018348693847656,
          28.099849700927734,
          33.32809638977051,
          -66.66875267028809,
          -159.04796409606934,
          100
         ]
        },
        {
         "hoverinfo": "text+x+y",
         "line": {
          "color": "blue",
          "width": 2
         },
         "marker": {
          "color": "red",
          "size": 8
         },
         "mode": "lines+markers",
         "name": "Path 176 (Gen 11, Fitness 457.5093656539917)",
         "text": "Gen 11, Path 176",
         "type": "scatter",
         "x": [
          0,
          29.42298126220703,
          -38.91856384277344,
          88.03170776367188,
          -21.32880401611328,
          -164.8144760131836,
          100
         ],
         "y": [
          0,
          -33.018348693847656,
          28.099849700927734,
          33.32809638977051,
          -66.66875267028809,
          -159.04796409606934,
          100
         ]
        },
        {
         "hoverinfo": "text+x+y",
         "line": {
          "color": "blue",
          "width": 2
         },
         "marker": {
          "color": "red",
          "size": 8
         },
         "mode": "lines+markers",
         "name": "Path 177 (Gen 11, Fitness 572.5433485031128)",
         "text": "Gen 11, Path 177",
         "type": "scatter",
         "x": [
          0,
          -0.24469685554504395,
          -39.70219326019287,
          88.03170776367188,
          -21.32880401611328,
          -164.8144760131836,
          100
         ],
         "y": [
          0,
          33.288944244384766,
          -104.63387870788574,
          33.32809638977051,
          -66.66875267028809,
          -159.04796409606934,
          100
         ]
        },
        {
         "hoverinfo": "text+x+y",
         "line": {
          "color": "blue",
          "width": 2
         },
         "marker": {
          "color": "red",
          "size": 8
         },
         "mode": "lines+markers",
         "name": "Path 178 (Gen 11, Fitness 536.3916456222535)",
         "text": "Gen 11, Path 178",
         "type": "scatter",
         "x": [
          0,
          29.42298126220703,
          -38.91856384277344,
          -150.37197017669678,
          -21.32880401611328,
          -164.8144760131836,
          100
         ],
         "y": [
          0,
          -33.018348693847656,
          28.099849700927734,
          -106.50339865684509,
          -66.66875267028809,
          -159.04796409606934,
          100
         ]
        },
        {
         "hoverinfo": "text+x+y",
         "line": {
          "color": "blue",
          "width": 2
         },
         "marker": {
          "color": "red",
          "size": 8
         },
         "mode": "lines+markers",
         "name": "Path 179 (Gen 11, Fitness 684.3562412261963)",
         "text": "Gen 11, Path 179",
         "type": "scatter",
         "x": [
          0,
          29.42298126220703,
          -38.91856384277344,
          -150.37197017669678,
          435.8581008911133,
          -228.92485809326172,
          100
         ],
         "y": [
          0,
          -33.018348693847656,
          28.099849700927734,
          -106.50339865684509,
          -418.11683464050293,
          793.0389270782471,
          100
         ]
        },
        {
         "hoverinfo": "text+x+y",
         "line": {
          "color": "blue",
          "width": 2
         },
         "marker": {
          "color": "red",
          "size": 8
         },
         "mode": "lines+markers",
         "name": "Path 180 (Gen 11, Fitness 457.5093656539917)",
         "text": "Gen 11, Path 180",
         "type": "scatter",
         "x": [
          0,
          29.42298126220703,
          -38.91856384277344,
          88.03170776367188,
          -21.32880401611328,
          -164.8144760131836,
          100
         ],
         "y": [
          0,
          -33.018348693847656,
          28.099849700927734,
          33.32809638977051,
          -66.66875267028809,
          -159.04796409606934,
          100
         ]
        },
        {
         "hoverinfo": "text+x+y",
         "line": {
          "color": "blue",
          "width": 2
         },
         "marker": {
          "color": "red",
          "size": 8
         },
         "mode": "lines+markers",
         "name": "Path 181 (Gen 11, Fitness 536.3916456222535)",
         "text": "Gen 11, Path 181",
         "type": "scatter",
         "x": [
          0,
          29.42298126220703,
          -38.91856384277344,
          -150.37197017669678,
          -21.32880401611328,
          -164.8144760131836,
          100
         ],
         "y": [
          0,
          -33.018348693847656,
          28.099849700927734,
          -106.50339865684509,
          -66.66875267028809,
          -159.04796409606934,
          100
         ]
        },
        {
         "hoverinfo": "text+x+y",
         "line": {
          "color": "blue",
          "width": 2
         },
         "marker": {
          "color": "red",
          "size": 8
         },
         "mode": "lines+markers",
         "name": "Path 182 (Gen 11, Fitness 572.5433485031128)",
         "text": "Gen 11, Path 182",
         "type": "scatter",
         "x": [
          0,
          -0.24469685554504395,
          -39.70219326019287,
          88.03170776367188,
          -21.32880401611328,
          -164.8144760131836,
          100
         ],
         "y": [
          0,
          33.288944244384766,
          -104.63387870788574,
          33.32809638977051,
          -66.66875267028809,
          -159.04796409606934,
          100
         ]
        },
        {
         "hoverinfo": "text+x+y",
         "line": {
          "color": "blue",
          "width": 2
         },
         "marker": {
          "color": "red",
          "size": 8
         },
         "mode": "lines+markers",
         "name": "Path 183 (Gen 11, Fitness 667.7322736740111)",
         "text": "Gen 11, Path 183",
         "type": "scatter",
         "x": [
          0,
          29.42298126220703,
          -38.91856384277344,
          -150.37197017669678,
          435.8581008911133,
          -228.92485809326172,
          100
         ],
         "y": [
          0,
          -33.018348693847656,
          28.099849700927734,
          -106.50339865684509,
          -418.11683464050293,
          793.0389270782471,
          100
         ]
        },
        {
         "hoverinfo": "text+x+y",
         "line": {
          "color": "blue",
          "width": 2
         },
         "marker": {
          "color": "red",
          "size": 8
         },
         "mode": "lines+markers",
         "name": "Path 184 (Gen 11, Fitness 457.5093656539917)",
         "text": "Gen 11, Path 184",
         "type": "scatter",
         "x": [
          0,
          29.42298126220703,
          -38.91856384277344,
          88.03170776367188,
          -21.32880401611328,
          -164.8144760131836,
          100
         ],
         "y": [
          0,
          -33.018348693847656,
          28.099849700927734,
          33.32809638977051,
          -66.66875267028809,
          -159.04796409606934,
          100
         ]
        },
        {
         "hoverinfo": "text+x+y",
         "line": {
          "color": "blue",
          "width": 2
         },
         "marker": {
          "color": "red",
          "size": 8
         },
         "mode": "lines+markers",
         "name": "Path 185 (Gen 11, Fitness 457.5093656539917)",
         "text": "Gen 11, Path 185",
         "type": "scatter",
         "x": [
          0,
          29.42298126220703,
          -38.91856384277344,
          88.03170776367188,
          -21.32880401611328,
          -164.8144760131836,
          100
         ],
         "y": [
          0,
          -33.018348693847656,
          28.099849700927734,
          33.32809638977051,
          -66.66875267028809,
          -159.04796409606934,
          100
         ]
        },
        {
         "hoverinfo": "text+x+y",
         "line": {
          "color": "blue",
          "width": 2
         },
         "marker": {
          "color": "red",
          "size": 8
         },
         "mode": "lines+markers",
         "name": "Path 186 (Gen 11, Fitness 457.5093656539917)",
         "text": "Gen 11, Path 186",
         "type": "scatter",
         "x": [
          0,
          29.42298126220703,
          -38.91856384277344,
          88.03170776367188,
          -21.32880401611328,
          -164.8144760131836,
          100
         ],
         "y": [
          0,
          -33.018348693847656,
          28.099849700927734,
          33.32809638977051,
          -66.66875267028809,
          -159.04796409606934,
          100
         ]
        },
        {
         "hoverinfo": "text+x+y",
         "line": {
          "color": "blue",
          "width": 2
         },
         "marker": {
          "color": "red",
          "size": 8
         },
         "mode": "lines+markers",
         "name": "Path 187 (Gen 11, Fitness 457.5093656539917)",
         "text": "Gen 11, Path 187",
         "type": "scatter",
         "x": [
          0,
          29.42298126220703,
          -38.91856384277344,
          88.03170776367188,
          -21.32880401611328,
          -164.8144760131836,
          100
         ],
         "y": [
          0,
          -33.018348693847656,
          28.099849700927734,
          33.32809638977051,
          -66.66875267028809,
          -159.04796409606934,
          100
         ]
        },
        {
         "hoverinfo": "text+x+y",
         "line": {
          "color": "blue",
          "width": 2
         },
         "marker": {
          "color": "red",
          "size": 8
         },
         "mode": "lines+markers",
         "name": "Path 188 (Gen 11, Fitness 457.5093656539917)",
         "text": "Gen 11, Path 188",
         "type": "scatter",
         "x": [
          0,
          29.42298126220703,
          -38.91856384277344,
          88.03170776367188,
          -21.32880401611328,
          -164.8144760131836,
          100
         ],
         "y": [
          0,
          -33.018348693847656,
          28.099849700927734,
          33.32809638977051,
          -66.66875267028809,
          -159.04796409606934,
          100
         ]
        },
        {
         "hoverinfo": "text+x+y",
         "line": {
          "color": "blue",
          "width": 2
         },
         "marker": {
          "color": "red",
          "size": 8
         },
         "mode": "lines+markers",
         "name": "Path 189 (Gen 11, Fitness 684.3562412261963)",
         "text": "Gen 11, Path 189",
         "type": "scatter",
         "x": [
          0,
          29.42298126220703,
          -38.91856384277344,
          -150.37197017669678,
          435.8581008911133,
          -228.92485809326172,
          100
         ],
         "y": [
          0,
          -33.018348693847656,
          28.099849700927734,
          -106.50339865684509,
          -418.11683464050293,
          793.0389270782471,
          100
         ]
        },
        {
         "hoverinfo": "text+x+y",
         "line": {
          "color": "blue",
          "width": 2
         },
         "marker": {
          "color": "red",
          "size": 8
         },
         "mode": "lines+markers",
         "name": "Path 190 (Gen 11, Fitness 451.6013544082641)",
         "text": "Gen 11, Path 190",
         "type": "scatter",
         "x": [
          0,
          -0.24469685554504395,
          -39.70219326019287,
          88.03170776367188,
          -21.32880401611328,
          -164.8144760131836,
          100
         ],
         "y": [
          0,
          33.288944244384766,
          -104.63387870788574,
          33.32809638977051,
          -66.66875267028809,
          -159.04796409606934,
          100
         ]
        },
        {
         "hoverinfo": "text+x+y",
         "line": {
          "color": "blue",
          "width": 2
         },
         "marker": {
          "color": "red",
          "size": 8
         },
         "mode": "lines+markers",
         "name": "Path 191 (Gen 12, Fitness 461.3207849502563)",
         "text": "Gen 12, Path 191",
         "type": "scatter",
         "x": [
          0,
          -34.495243072509766,
          -39.70219326019287,
          88.03170776367188,
          -21.32880401611328,
          -164.8144760131836,
          100
         ],
         "y": [
          0,
          -9.402311325073242,
          -104.63387870788574,
          33.32809638977051,
          -66.66875267028809,
          -159.04796409606934,
          100
         ]
        },
        {
         "hoverinfo": "text+x+y",
         "line": {
          "color": "blue",
          "width": 2
         },
         "marker": {
          "color": "red",
          "size": 8
         },
         "mode": "lines+markers",
         "name": "Path 192 (Gen 12, Fitness 461.3207849502563)",
         "text": "Gen 12, Path 192",
         "type": "scatter",
         "x": [
          0,
          -34.495243072509766,
          -39.70219326019287,
          88.03170776367188,
          -21.32880401611328,
          -164.8144760131836,
          100
         ],
         "y": [
          0,
          -9.402311325073242,
          -104.63387870788574,
          33.32809638977051,
          -66.66875267028809,
          -159.04796409606934,
          100
         ]
        },
        {
         "hoverinfo": "text+x+y",
         "line": {
          "color": "blue",
          "width": 2
         },
         "marker": {
          "color": "red",
          "size": 8
         },
         "mode": "lines+markers",
         "name": "Path 193 (Gen 12, Fitness 461.3207849502563)",
         "text": "Gen 12, Path 193",
         "type": "scatter",
         "x": [
          0,
          -34.495243072509766,
          -39.70219326019287,
          88.03170776367188,
          -21.32880401611328,
          -164.8144760131836,
          100
         ],
         "y": [
          0,
          -9.402311325073242,
          -104.63387870788574,
          33.32809638977051,
          -66.66875267028809,
          -159.04796409606934,
          100
         ]
        },
        {
         "hoverinfo": "text+x+y",
         "line": {
          "color": "blue",
          "width": 2
         },
         "marker": {
          "color": "red",
          "size": 8
         },
         "mode": "lines+markers",
         "name": "Path 194 (Gen 12, Fitness 461.3207849502563)",
         "text": "Gen 12, Path 194",
         "type": "scatter",
         "x": [
          0,
          -34.495243072509766,
          -39.70219326019287,
          88.03170776367188,
          -21.32880401611328,
          -164.8144760131836,
          100
         ],
         "y": [
          0,
          -9.402311325073242,
          -104.63387870788574,
          33.32809638977051,
          -66.66875267028809,
          -159.04796409606934,
          100
         ]
        },
        {
         "hoverinfo": "text+x+y",
         "line": {
          "color": "blue",
          "width": 2
         },
         "marker": {
          "color": "red",
          "size": 8
         },
         "mode": "lines+markers",
         "name": "Path 195 (Gen 12, Fitness 461.3207849502563)",
         "text": "Gen 12, Path 195",
         "type": "scatter",
         "x": [
          0,
          -34.495243072509766,
          -39.70219326019287,
          88.03170776367188,
          -21.32880401611328,
          -164.8144760131836,
          100
         ],
         "y": [
          0,
          -9.402311325073242,
          -104.63387870788574,
          33.32809638977051,
          -66.66875267028809,
          -159.04796409606934,
          100
         ]
        },
        {
         "hoverinfo": "text+x+y",
         "line": {
          "color": "blue",
          "width": 2
         },
         "marker": {
          "color": "red",
          "size": 8
         },
         "mode": "lines+markers",
         "name": "Path 196 (Gen 12, Fitness 461.3207849502563)",
         "text": "Gen 12, Path 196",
         "type": "scatter",
         "x": [
          0,
          -34.495243072509766,
          -39.70219326019287,
          88.03170776367188,
          -21.32880401611328,
          -164.8144760131836,
          100
         ],
         "y": [
          0,
          -9.402311325073242,
          -104.63387870788574,
          33.32809638977051,
          -66.66875267028809,
          -159.04796409606934,
          100
         ]
        },
        {
         "hoverinfo": "text+x+y",
         "line": {
          "color": "blue",
          "width": 2
         },
         "marker": {
          "color": "red",
          "size": 8
         },
         "mode": "lines+markers",
         "name": "Path 197 (Gen 12, Fitness 461.3207849502563)",
         "text": "Gen 12, Path 197",
         "type": "scatter",
         "x": [
          0,
          -34.495243072509766,
          -39.70219326019287,
          88.03170776367188,
          -21.32880401611328,
          -164.8144760131836,
          100
         ],
         "y": [
          0,
          -9.402311325073242,
          -104.63387870788574,
          33.32809638977051,
          -66.66875267028809,
          -159.04796409606934,
          100
         ]
        },
        {
         "hoverinfo": "text+x+y",
         "line": {
          "color": "blue",
          "width": 2
         },
         "marker": {
          "color": "red",
          "size": 8
         },
         "mode": "lines+markers",
         "name": "Path 198 (Gen 12, Fitness 461.3207849502563)",
         "text": "Gen 12, Path 198",
         "type": "scatter",
         "x": [
          0,
          -34.495243072509766,
          -39.70219326019287,
          88.03170776367188,
          -21.32880401611328,
          -164.8144760131836,
          100
         ],
         "y": [
          0,
          -9.402311325073242,
          -104.63387870788574,
          33.32809638977051,
          -66.66875267028809,
          -159.04796409606934,
          100
         ]
        },
        {
         "hoverinfo": "text+x+y",
         "line": {
          "color": "blue",
          "width": 2
         },
         "marker": {
          "color": "red",
          "size": 8
         },
         "mode": "lines+markers",
         "name": "Path 199 (Gen 12, Fitness 461.3207849502563)",
         "text": "Gen 12, Path 199",
         "type": "scatter",
         "x": [
          0,
          -34.495243072509766,
          -39.70219326019287,
          88.03170776367188,
          -21.32880401611328,
          -164.8144760131836,
          100
         ],
         "y": [
          0,
          -9.402311325073242,
          -104.63387870788574,
          33.32809638977051,
          -66.66875267028809,
          -159.04796409606934,
          100
         ]
        },
        {
         "hoverinfo": "text+x+y",
         "line": {
          "color": "blue",
          "width": 2
         },
         "marker": {
          "color": "red",
          "size": 8
         },
         "mode": "lines+markers",
         "name": "Path 200 (Gen 12, Fitness 461.3207849502563)",
         "text": "Gen 12, Path 200",
         "type": "scatter",
         "x": [
          0,
          -34.495243072509766,
          -39.70219326019287,
          88.03170776367188,
          -21.32880401611328,
          -164.8144760131836,
          100
         ],
         "y": [
          0,
          -9.402311325073242,
          -104.63387870788574,
          33.32809638977051,
          -66.66875267028809,
          -159.04796409606934,
          100
         ]
        },
        {
         "hoverinfo": "text+x+y",
         "line": {
          "color": "blue",
          "width": 2
         },
         "marker": {
          "color": "red",
          "size": 8
         },
         "mode": "lines+markers",
         "name": "Path 201 (Gen 12, Fitness 461.3207849502563)",
         "text": "Gen 12, Path 201",
         "type": "scatter",
         "x": [
          0,
          -34.495243072509766,
          -39.70219326019287,
          88.03170776367188,
          -21.32880401611328,
          -164.8144760131836,
          100
         ],
         "y": [
          0,
          -9.402311325073242,
          -104.63387870788574,
          33.32809638977051,
          -66.66875267028809,
          -159.04796409606934,
          100
         ]
        },
        {
         "hoverinfo": "text+x+y",
         "line": {
          "color": "blue",
          "width": 2
         },
         "marker": {
          "color": "red",
          "size": 8
         },
         "mode": "lines+markers",
         "name": "Path 202 (Gen 12, Fitness 461.3207849502563)",
         "text": "Gen 12, Path 202",
         "type": "scatter",
         "x": [
          0,
          -34.495243072509766,
          -39.70219326019287,
          88.03170776367188,
          -21.32880401611328,
          -164.8144760131836,
          100
         ],
         "y": [
          0,
          -9.402311325073242,
          -104.63387870788574,
          33.32809638977051,
          -66.66875267028809,
          -159.04796409606934,
          100
         ]
        },
        {
         "hoverinfo": "text+x+y",
         "line": {
          "color": "blue",
          "width": 2
         },
         "marker": {
          "color": "red",
          "size": 8
         },
         "mode": "lines+markers",
         "name": "Path 203 (Gen 12, Fitness 461.3207849502563)",
         "text": "Gen 12, Path 203",
         "type": "scatter",
         "x": [
          0,
          -34.495243072509766,
          -39.70219326019287,
          88.03170776367188,
          -21.32880401611328,
          -164.8144760131836,
          100
         ],
         "y": [
          0,
          -9.402311325073242,
          -104.63387870788574,
          33.32809638977051,
          -66.66875267028809,
          -159.04796409606934,
          100
         ]
        },
        {
         "hoverinfo": "text+x+y",
         "line": {
          "color": "blue",
          "width": 2
         },
         "marker": {
          "color": "red",
          "size": 8
         },
         "mode": "lines+markers",
         "name": "Path 204 (Gen 12, Fitness 461.3207849502563)",
         "text": "Gen 12, Path 204",
         "type": "scatter",
         "x": [
          0,
          -34.495243072509766,
          -39.70219326019287,
          88.03170776367188,
          -21.32880401611328,
          -164.8144760131836,
          100
         ],
         "y": [
          0,
          -9.402311325073242,
          -104.63387870788574,
          33.32809638977051,
          -66.66875267028809,
          -159.04796409606934,
          100
         ]
        },
        {
         "hoverinfo": "text+x+y",
         "line": {
          "color": "blue",
          "width": 2
         },
         "marker": {
          "color": "red",
          "size": 8
         },
         "mode": "lines+markers",
         "name": "Path 205 (Gen 12, Fitness 461.3207849502563)",
         "text": "Gen 12, Path 205",
         "type": "scatter",
         "x": [
          0,
          -34.495243072509766,
          -39.70219326019287,
          88.03170776367188,
          -21.32880401611328,
          -164.8144760131836,
          100
         ],
         "y": [
          0,
          -9.402311325073242,
          -104.63387870788574,
          33.32809638977051,
          -66.66875267028809,
          -159.04796409606934,
          100
         ]
        },
        {
         "hoverinfo": "text+x+y",
         "line": {
          "color": "blue",
          "width": 2
         },
         "marker": {
          "color": "red",
          "size": 8
         },
         "mode": "lines+markers",
         "name": "Path 206 (Gen 12, Fitness 461.3207849502563)",
         "text": "Gen 12, Path 206",
         "type": "scatter",
         "x": [
          0,
          -34.495243072509766,
          -39.70219326019287,
          88.03170776367188,
          -21.32880401611328,
          -164.8144760131836,
          100
         ],
         "y": [
          0,
          -9.402311325073242,
          -104.63387870788574,
          33.32809638977051,
          -66.66875267028809,
          -159.04796409606934,
          100
         ]
        },
        {
         "hoverinfo": "text+x+y",
         "line": {
          "color": "blue",
          "width": 2
         },
         "marker": {
          "color": "red",
          "size": 8
         },
         "mode": "lines+markers",
         "name": "Path 207 (Gen 12, Fitness 461.3207849502563)",
         "text": "Gen 12, Path 207",
         "type": "scatter",
         "x": [
          0,
          -34.495243072509766,
          -39.70219326019287,
          88.03170776367188,
          -21.32880401611328,
          -164.8144760131836,
          100
         ],
         "y": [
          0,
          -9.402311325073242,
          -104.63387870788574,
          33.32809638977051,
          -66.66875267028809,
          -159.04796409606934,
          100
         ]
        },
        {
         "hoverinfo": "text+x+y",
         "line": {
          "color": "blue",
          "width": 2
         },
         "marker": {
          "color": "red",
          "size": 8
         },
         "mode": "lines+markers",
         "name": "Path 208 (Gen 12, Fitness 461.3207849502563)",
         "text": "Gen 12, Path 208",
         "type": "scatter",
         "x": [
          0,
          -34.495243072509766,
          -39.70219326019287,
          88.03170776367188,
          -21.32880401611328,
          -164.8144760131836,
          100
         ],
         "y": [
          0,
          -9.402311325073242,
          -104.63387870788574,
          33.32809638977051,
          -66.66875267028809,
          -159.04796409606934,
          100
         ]
        },
        {
         "hoverinfo": "text+x+y",
         "line": {
          "color": "blue",
          "width": 2
         },
         "marker": {
          "color": "red",
          "size": 8
         },
         "mode": "lines+markers",
         "name": "Path 209 (Gen 12, Fitness 461.3207849502563)",
         "text": "Gen 12, Path 209",
         "type": "scatter",
         "x": [
          0,
          -34.495243072509766,
          -39.70219326019287,
          88.03170776367188,
          -21.32880401611328,
          -164.8144760131836,
          100
         ],
         "y": [
          0,
          -9.402311325073242,
          -104.63387870788574,
          33.32809638977051,
          -66.66875267028809,
          -159.04796409606934,
          100
         ]
        },
        {
         "hoverinfo": "text+x+y",
         "line": {
          "color": "blue",
          "width": 2
         },
         "marker": {
          "color": "red",
          "size": 8
         },
         "mode": "lines+markers",
         "name": "Path 210 (Gen 12, Fitness 461.3207849502563)",
         "text": "Gen 12, Path 210",
         "type": "scatter",
         "x": [
          0,
          -34.495243072509766,
          -39.70219326019287,
          88.03170776367188,
          -21.32880401611328,
          -164.8144760131836,
          100
         ],
         "y": [
          0,
          -9.402311325073242,
          -104.63387870788574,
          33.32809638977051,
          -66.66875267028809,
          -159.04796409606934,
          100
         ]
        },
        {
         "hoverinfo": "text+x+y",
         "line": {
          "color": "blue",
          "width": 2
         },
         "marker": {
          "color": "red",
          "size": 8
         },
         "mode": "lines+markers",
         "name": "Path 211 (Gen 12, Fitness 461.3207849502563)",
         "text": "Gen 12, Path 211",
         "type": "scatter",
         "x": [
          0,
          -34.495243072509766,
          -39.70219326019287,
          88.03170776367188,
          -21.32880401611328,
          -164.8144760131836,
          100
         ],
         "y": [
          0,
          -9.402311325073242,
          -104.63387870788574,
          33.32809638977051,
          -66.66875267028809,
          -159.04796409606934,
          100
         ]
        },
        {
         "hoverinfo": "text+x+y",
         "line": {
          "color": "blue",
          "width": 2
         },
         "marker": {
          "color": "red",
          "size": 8
         },
         "mode": "lines+markers",
         "name": "Path 212 (Gen 12, Fitness 461.3207849502563)",
         "text": "Gen 12, Path 212",
         "type": "scatter",
         "x": [
          0,
          -34.495243072509766,
          -39.70219326019287,
          88.03170776367188,
          -21.32880401611328,
          -164.8144760131836,
          100
         ],
         "y": [
          0,
          -9.402311325073242,
          -104.63387870788574,
          33.32809638977051,
          -66.66875267028809,
          -159.04796409606934,
          100
         ]
        },
        {
         "hoverinfo": "text+x+y",
         "line": {
          "color": "blue",
          "width": 2
         },
         "marker": {
          "color": "red",
          "size": 8
         },
         "mode": "lines+markers",
         "name": "Path 213 (Gen 12, Fitness 461.3207849502563)",
         "text": "Gen 12, Path 213",
         "type": "scatter",
         "x": [
          0,
          -34.495243072509766,
          -39.70219326019287,
          88.03170776367188,
          -21.32880401611328,
          -164.8144760131836,
          100
         ],
         "y": [
          0,
          -9.402311325073242,
          -104.63387870788574,
          33.32809638977051,
          -66.66875267028809,
          -159.04796409606934,
          100
         ]
        },
        {
         "hoverinfo": "text+x+y",
         "line": {
          "color": "blue",
          "width": 2
         },
         "marker": {
          "color": "red",
          "size": 8
         },
         "mode": "lines+markers",
         "name": "Path 214 (Gen 12, Fitness 461.3207849502563)",
         "text": "Gen 12, Path 214",
         "type": "scatter",
         "x": [
          0,
          -34.495243072509766,
          -39.70219326019287,
          88.03170776367188,
          -21.32880401611328,
          -164.8144760131836,
          100
         ],
         "y": [
          0,
          -9.402311325073242,
          -104.63387870788574,
          33.32809638977051,
          -66.66875267028809,
          -159.04796409606934,
          100
         ]
        },
        {
         "hoverinfo": "text+x+y",
         "line": {
          "color": "blue",
          "width": 2
         },
         "marker": {
          "color": "red",
          "size": 8
         },
         "mode": "lines+markers",
         "name": "Path 215 (Gen 12, Fitness 461.3207849502563)",
         "text": "Gen 12, Path 215",
         "type": "scatter",
         "x": [
          0,
          -34.495243072509766,
          -39.70219326019287,
          88.03170776367188,
          -21.32880401611328,
          -164.8144760131836,
          100
         ],
         "y": [
          0,
          -9.402311325073242,
          -104.63387870788574,
          33.32809638977051,
          -66.66875267028809,
          -159.04796409606934,
          100
         ]
        },
        {
         "hoverinfo": "text+x+y",
         "line": {
          "color": "blue",
          "width": 2
         },
         "marker": {
          "color": "red",
          "size": 8
         },
         "mode": "lines+markers",
         "name": "Path 216 (Gen 12, Fitness 461.3207849502563)",
         "text": "Gen 12, Path 216",
         "type": "scatter",
         "x": [
          0,
          -34.495243072509766,
          -39.70219326019287,
          88.03170776367188,
          -21.32880401611328,
          -164.8144760131836,
          100
         ],
         "y": [
          0,
          -9.402311325073242,
          -104.63387870788574,
          33.32809638977051,
          -66.66875267028809,
          -159.04796409606934,
          100
         ]
        },
        {
         "hoverinfo": "text+x+y",
         "line": {
          "color": "blue",
          "width": 2
         },
         "marker": {
          "color": "red",
          "size": 8
         },
         "mode": "lines+markers",
         "name": "Path 217 (Gen 12, Fitness 461.3207849502563)",
         "text": "Gen 12, Path 217",
         "type": "scatter",
         "x": [
          0,
          -34.495243072509766,
          -39.70219326019287,
          88.03170776367188,
          -21.32880401611328,
          -164.8144760131836,
          100
         ],
         "y": [
          0,
          -9.402311325073242,
          -104.63387870788574,
          33.32809638977051,
          -66.66875267028809,
          -159.04796409606934,
          100
         ]
        },
        {
         "hoverinfo": "text+x+y",
         "line": {
          "color": "blue",
          "width": 2
         },
         "marker": {
          "color": "red",
          "size": 8
         },
         "mode": "lines+markers",
         "name": "Path 218 (Gen 12, Fitness 461.3207849502563)",
         "text": "Gen 12, Path 218",
         "type": "scatter",
         "x": [
          0,
          -34.495243072509766,
          -39.70219326019287,
          88.03170776367188,
          -21.32880401611328,
          -164.8144760131836,
          100
         ],
         "y": [
          0,
          -9.402311325073242,
          -104.63387870788574,
          33.32809638977051,
          -66.66875267028809,
          -159.04796409606934,
          100
         ]
        },
        {
         "hoverinfo": "text+x+y",
         "line": {
          "color": "blue",
          "width": 2
         },
         "marker": {
          "color": "red",
          "size": 8
         },
         "mode": "lines+markers",
         "name": "Path 219 (Gen 12, Fitness 461.3207849502563)",
         "text": "Gen 12, Path 219",
         "type": "scatter",
         "x": [
          0,
          -34.495243072509766,
          -39.70219326019287,
          88.03170776367188,
          -21.32880401611328,
          -164.8144760131836,
          100
         ],
         "y": [
          0,
          -9.402311325073242,
          -104.63387870788574,
          33.32809638977051,
          -66.66875267028809,
          -159.04796409606934,
          100
         ]
        },
        {
         "hoverinfo": "text+x+y",
         "line": {
          "color": "blue",
          "width": 2
         },
         "marker": {
          "color": "red",
          "size": 8
         },
         "mode": "lines+markers",
         "name": "Path 220 (Gen 12, Fitness 461.3207849502563)",
         "text": "Gen 12, Path 220",
         "type": "scatter",
         "x": [
          0,
          -34.495243072509766,
          -39.70219326019287,
          88.03170776367188,
          -21.32880401611328,
          -164.8144760131836,
          100
         ],
         "y": [
          0,
          -9.402311325073242,
          -104.63387870788574,
          33.32809638977051,
          -66.66875267028809,
          -159.04796409606934,
          100
         ]
        },
        {
         "hoverinfo": "text+x+y",
         "line": {
          "color": "blue",
          "width": 2
         },
         "marker": {
          "color": "red",
          "size": 8
         },
         "mode": "lines+markers",
         "name": "Path 221 (Gen 12, Fitness 461.3207849502563)",
         "text": "Gen 12, Path 221",
         "type": "scatter",
         "x": [
          0,
          -34.495243072509766,
          -39.70219326019287,
          88.03170776367188,
          -21.32880401611328,
          -164.8144760131836,
          100
         ],
         "y": [
          0,
          -9.402311325073242,
          -104.63387870788574,
          33.32809638977051,
          -66.66875267028809,
          -159.04796409606934,
          100
         ]
        },
        {
         "hoverinfo": "text+x+y",
         "line": {
          "color": "blue",
          "width": 2
         },
         "marker": {
          "color": "red",
          "size": 8
         },
         "mode": "lines+markers",
         "name": "Path 222 (Gen 12, Fitness 461.3207849502563)",
         "text": "Gen 12, Path 222",
         "type": "scatter",
         "x": [
          0,
          -34.495243072509766,
          -39.70219326019287,
          88.03170776367188,
          -21.32880401611328,
          -164.8144760131836,
          100
         ],
         "y": [
          0,
          -9.402311325073242,
          -104.63387870788574,
          33.32809638977051,
          -66.66875267028809,
          -159.04796409606934,
          100
         ]
        },
        {
         "hoverinfo": "text+x+y",
         "line": {
          "color": "blue",
          "width": 2
         },
         "marker": {
          "color": "red",
          "size": 8
         },
         "mode": "lines+markers",
         "name": "Path 223 (Gen 12, Fitness 461.3207849502563)",
         "text": "Gen 12, Path 223",
         "type": "scatter",
         "x": [
          0,
          -34.495243072509766,
          -39.70219326019287,
          88.03170776367188,
          -21.32880401611328,
          -164.8144760131836,
          100
         ],
         "y": [
          0,
          -9.402311325073242,
          -104.63387870788574,
          33.32809638977051,
          -66.66875267028809,
          -159.04796409606934,
          100
         ]
        },
        {
         "hoverinfo": "text+x+y",
         "line": {
          "color": "blue",
          "width": 2
         },
         "marker": {
          "color": "red",
          "size": 8
         },
         "mode": "lines+markers",
         "name": "Path 224 (Gen 12, Fitness 436.03775863647456)",
         "text": "Gen 12, Path 224",
         "type": "scatter",
         "x": [
          0,
          29.42298126220703,
          -38.91856384277344,
          88.03170776367188,
          -21.32880401611328,
          -164.8144760131836,
          100
         ],
         "y": [
          0,
          -33.018348693847656,
          28.099849700927734,
          33.32809638977051,
          -66.66875267028809,
          -159.04796409606934,
          100
         ]
        },
        {
         "hoverinfo": "text+x+y",
         "line": {
          "color": "blue",
          "width": 2
         },
         "marker": {
          "color": "red",
          "size": 8
         },
         "mode": "lines+markers",
         "name": "Path 225 (Gen 12, Fitness 461.3207849502563)",
         "text": "Gen 12, Path 225",
         "type": "scatter",
         "x": [
          0,
          -34.495243072509766,
          -39.70219326019287,
          88.03170776367188,
          -21.32880401611328,
          -164.8144760131836,
          100
         ],
         "y": [
          0,
          -9.402311325073242,
          -104.63387870788574,
          33.32809638977051,
          -66.66875267028809,
          -159.04796409606934,
          100
         ]
        },
        {
         "hoverinfo": "text+x+y",
         "line": {
          "color": "blue",
          "width": 2
         },
         "marker": {
          "color": "red",
          "size": 8
         },
         "mode": "lines+markers",
         "name": "Path 226 (Gen 12, Fitness 461.3207849502563)",
         "text": "Gen 12, Path 226",
         "type": "scatter",
         "x": [
          0,
          -34.495243072509766,
          -39.70219326019287,
          88.03170776367188,
          -21.32880401611328,
          -164.8144760131836,
          100
         ],
         "y": [
          0,
          -9.402311325073242,
          -104.63387870788574,
          33.32809638977051,
          -66.66875267028809,
          -159.04796409606934,
          100
         ]
        },
        {
         "hoverinfo": "text+x+y",
         "line": {
          "color": "blue",
          "width": 2
         },
         "marker": {
          "color": "red",
          "size": 8
         },
         "mode": "lines+markers",
         "name": "Path 227 (Gen 12, Fitness 461.3207849502563)",
         "text": "Gen 12, Path 227",
         "type": "scatter",
         "x": [
          0,
          -34.495243072509766,
          -39.70219326019287,
          88.03170776367188,
          -21.32880401611328,
          -164.8144760131836,
          100
         ],
         "y": [
          0,
          -9.402311325073242,
          -104.63387870788574,
          33.32809638977051,
          -66.66875267028809,
          -159.04796409606934,
          100
         ]
        },
        {
         "hoverinfo": "text+x+y",
         "line": {
          "color": "blue",
          "width": 2
         },
         "marker": {
          "color": "red",
          "size": 8
         },
         "mode": "lines+markers",
         "name": "Path 228 (Gen 12, Fitness 436.03775863647456)",
         "text": "Gen 12, Path 228",
         "type": "scatter",
         "x": [
          0,
          29.42298126220703,
          -38.91856384277344,
          88.03170776367188,
          -21.32880401611328,
          -164.8144760131836,
          100
         ],
         "y": [
          0,
          -33.018348693847656,
          28.099849700927734,
          33.32809638977051,
          -66.66875267028809,
          -159.04796409606934,
          100
         ]
        },
        {
         "hoverinfo": "text+x+y",
         "line": {
          "color": "blue",
          "width": 2
         },
         "marker": {
          "color": "red",
          "size": 8
         },
         "mode": "lines+markers",
         "name": "Path 229 (Gen 12, Fitness 461.3207849502563)",
         "text": "Gen 12, Path 229",
         "type": "scatter",
         "x": [
          0,
          -34.495243072509766,
          -39.70219326019287,
          88.03170776367188,
          -21.32880401611328,
          -164.8144760131836,
          100
         ],
         "y": [
          0,
          -9.402311325073242,
          -104.63387870788574,
          33.32809638977051,
          -66.66875267028809,
          -159.04796409606934,
          100
         ]
        },
        {
         "hoverinfo": "text+x+y",
         "line": {
          "color": "blue",
          "width": 2
         },
         "marker": {
          "color": "red",
          "size": 8
         },
         "mode": "lines+markers",
         "name": "Path 230 (Gen 12, Fitness 461.3207849502563)",
         "text": "Gen 12, Path 230",
         "type": "scatter",
         "x": [
          0,
          -34.495243072509766,
          -39.70219326019287,
          88.03170776367188,
          -21.32880401611328,
          -164.8144760131836,
          100
         ],
         "y": [
          0,
          -9.402311325073242,
          -104.63387870788574,
          33.32809638977051,
          -66.66875267028809,
          -159.04796409606934,
          100
         ]
        },
        {
         "hoverinfo": "text+x+y",
         "line": {
          "color": "blue",
          "width": 2
         },
         "marker": {
          "color": "red",
          "size": 8
         },
         "mode": "lines+markers",
         "name": "Path 231 (Gen 12, Fitness 436.03775863647456)",
         "text": "Gen 12, Path 231",
         "type": "scatter",
         "x": [
          0,
          29.42298126220703,
          -38.91856384277344,
          88.03170776367188,
          -21.32880401611328,
          -164.8144760131836,
          100
         ],
         "y": [
          0,
          -33.018348693847656,
          28.099849700927734,
          33.32809638977051,
          -66.66875267028809,
          -159.04796409606934,
          100
         ]
        },
        {
         "hoverinfo": "text+x+y",
         "line": {
          "color": "blue",
          "width": 2
         },
         "marker": {
          "color": "red",
          "size": 8
         },
         "mode": "lines+markers",
         "name": "Path 232 (Gen 12, Fitness 461.3207849502563)",
         "text": "Gen 12, Path 232",
         "type": "scatter",
         "x": [
          0,
          -34.495243072509766,
          -39.70219326019287,
          88.03170776367188,
          -21.32880401611328,
          -164.8144760131836,
          100
         ],
         "y": [
          0,
          -9.402311325073242,
          -104.63387870788574,
          33.32809638977051,
          -66.66875267028809,
          -159.04796409606934,
          100
         ]
        },
        {
         "hoverinfo": "text+x+y",
         "line": {
          "color": "blue",
          "width": 2
         },
         "marker": {
          "color": "red",
          "size": 8
         },
         "mode": "lines+markers",
         "name": "Path 233 (Gen 12, Fitness 436.03775863647456)",
         "text": "Gen 12, Path 233",
         "type": "scatter",
         "x": [
          0,
          29.42298126220703,
          -38.91856384277344,
          88.03170776367188,
          -21.32880401611328,
          -164.8144760131836,
          100
         ],
         "y": [
          0,
          -33.018348693847656,
          28.099849700927734,
          33.32809638977051,
          -66.66875267028809,
          -159.04796409606934,
          100
         ]
        },
        {
         "hoverinfo": "text+x+y",
         "line": {
          "color": "blue",
          "width": 2
         },
         "marker": {
          "color": "red",
          "size": 8
         },
         "mode": "lines+markers",
         "name": "Path 234 (Gen 12, Fitness 461.3207849502563)",
         "text": "Gen 12, Path 234",
         "type": "scatter",
         "x": [
          0,
          -34.495243072509766,
          -39.70219326019287,
          88.03170776367188,
          -21.32880401611328,
          -164.8144760131836,
          100
         ],
         "y": [
          0,
          -9.402311325073242,
          -104.63387870788574,
          33.32809638977051,
          -66.66875267028809,
          -159.04796409606934,
          100
         ]
        },
        {
         "hoverinfo": "text+x+y",
         "line": {
          "color": "blue",
          "width": 2
         },
         "marker": {
          "color": "red",
          "size": 8
         },
         "mode": "lines+markers",
         "name": "Path 235 (Gen 12, Fitness 461.3207849502563)",
         "text": "Gen 12, Path 235",
         "type": "scatter",
         "x": [
          0,
          -34.495243072509766,
          -39.70219326019287,
          88.03170776367188,
          -21.32880401611328,
          -164.8144760131836,
          100
         ],
         "y": [
          0,
          -9.402311325073242,
          -104.63387870788574,
          33.32809638977051,
          -66.66875267028809,
          -159.04796409606934,
          100
         ]
        },
        {
         "hoverinfo": "text+x+y",
         "line": {
          "color": "blue",
          "width": 2
         },
         "marker": {
          "color": "red",
          "size": 8
         },
         "mode": "lines+markers",
         "name": "Path 236 (Gen 12, Fitness 436.03775863647456)",
         "text": "Gen 12, Path 236",
         "type": "scatter",
         "x": [
          0,
          29.42298126220703,
          -38.91856384277344,
          88.03170776367188,
          -21.32880401611328,
          -164.8144760131836,
          100
         ],
         "y": [
          0,
          -33.018348693847656,
          28.099849700927734,
          33.32809638977051,
          -66.66875267028809,
          -159.04796409606934,
          100
         ]
        },
        {
         "hoverinfo": "text+x+y",
         "line": {
          "color": "blue",
          "width": 2
         },
         "marker": {
          "color": "red",
          "size": 8
         },
         "mode": "lines+markers",
         "name": "Path 237 (Gen 12, Fitness 461.3207849502563)",
         "text": "Gen 12, Path 237",
         "type": "scatter",
         "x": [
          0,
          -34.495243072509766,
          -39.70219326019287,
          88.03170776367188,
          -21.32880401611328,
          -164.8144760131836,
          100
         ],
         "y": [
          0,
          -9.402311325073242,
          -104.63387870788574,
          33.32809638977051,
          -66.66875267028809,
          -159.04796409606934,
          100
         ]
        },
        {
         "hoverinfo": "text+x+y",
         "line": {
          "color": "blue",
          "width": 2
         },
         "marker": {
          "color": "red",
          "size": 8
         },
         "mode": "lines+markers",
         "name": "Path 238 (Gen 12, Fitness 461.3207849502563)",
         "text": "Gen 12, Path 238",
         "type": "scatter",
         "x": [
          0,
          -34.495243072509766,
          -39.70219326019287,
          88.03170776367188,
          -21.32880401611328,
          -164.8144760131836,
          100
         ],
         "y": [
          0,
          -9.402311325073242,
          -104.63387870788574,
          33.32809638977051,
          -66.66875267028809,
          -159.04796409606934,
          100
         ]
        },
        {
         "hoverinfo": "text+x+y",
         "line": {
          "color": "blue",
          "width": 2
         },
         "marker": {
          "color": "red",
          "size": 8
         },
         "mode": "lines+markers",
         "name": "Path 239 (Gen 12, Fitness 461.3207849502563)",
         "text": "Gen 12, Path 239",
         "type": "scatter",
         "x": [
          0,
          -34.495243072509766,
          -39.70219326019287,
          88.03170776367188,
          -21.32880401611328,
          -164.8144760131836,
          100
         ],
         "y": [
          0,
          -9.402311325073242,
          -104.63387870788574,
          33.32809638977051,
          -66.66875267028809,
          -159.04796409606934,
          100
         ]
        },
        {
         "hoverinfo": "text+x+y",
         "line": {
          "color": "blue",
          "width": 2
         },
         "marker": {
          "color": "red",
          "size": 8
         },
         "mode": "lines+markers",
         "name": "Path 240 (Gen 12, Fitness 436.03775863647456)",
         "text": "Gen 12, Path 240",
         "type": "scatter",
         "x": [
          0,
          29.42298126220703,
          -38.91856384277344,
          88.03170776367188,
          -21.32880401611328,
          -164.8144760131836,
          100
         ],
         "y": [
          0,
          -33.018348693847656,
          28.099849700927734,
          33.32809638977051,
          -66.66875267028809,
          -159.04796409606934,
          100
         ]
        },
        {
         "hoverinfo": "text+x+y",
         "line": {
          "color": "blue",
          "width": 2
         },
         "marker": {
          "color": "red",
          "size": 8
         },
         "mode": "lines+markers",
         "name": "Path 241 (Gen 12, Fitness 461.3207849502563)",
         "text": "Gen 12, Path 241",
         "type": "scatter",
         "x": [
          0,
          -34.495243072509766,
          -39.70219326019287,
          88.03170776367188,
          -21.32880401611328,
          -164.8144760131836,
          100
         ],
         "y": [
          0,
          -9.402311325073242,
          -104.63387870788574,
          33.32809638977051,
          -66.66875267028809,
          -159.04796409606934,
          100
         ]
        },
        {
         "hoverinfo": "text+x+y",
         "line": {
          "color": "blue",
          "width": 2
         },
         "marker": {
          "color": "red",
          "size": 8
         },
         "mode": "lines+markers",
         "name": "Path 242 (Gen 12, Fitness 436.03775863647456)",
         "text": "Gen 12, Path 242",
         "type": "scatter",
         "x": [
          0,
          29.42298126220703,
          -38.91856384277344,
          88.03170776367188,
          -21.32880401611328,
          -164.8144760131836,
          100
         ],
         "y": [
          0,
          -33.018348693847656,
          28.099849700927734,
          33.32809638977051,
          -66.66875267028809,
          -159.04796409606934,
          100
         ]
        },
        {
         "hoverinfo": "text+x+y",
         "line": {
          "color": "blue",
          "width": 2
         },
         "marker": {
          "color": "red",
          "size": 8
         },
         "mode": "lines+markers",
         "name": "Path 243 (Gen 12, Fitness 436.03775863647456)",
         "text": "Gen 12, Path 243",
         "type": "scatter",
         "x": [
          0,
          29.42298126220703,
          -38.91856384277344,
          88.03170776367188,
          -21.32880401611328,
          -164.8144760131836,
          100
         ],
         "y": [
          0,
          -33.018348693847656,
          28.099849700927734,
          33.32809638977051,
          -66.66875267028809,
          -159.04796409606934,
          100
         ]
        },
        {
         "hoverinfo": "text+x+y",
         "line": {
          "color": "blue",
          "width": 2
         },
         "marker": {
          "color": "red",
          "size": 8
         },
         "mode": "lines+markers",
         "name": "Path 244 (Gen 12, Fitness 461.3207849502563)",
         "text": "Gen 12, Path 244",
         "type": "scatter",
         "x": [
          0,
          -34.495243072509766,
          -39.70219326019287,
          88.03170776367188,
          -21.32880401611328,
          -164.8144760131836,
          100
         ],
         "y": [
          0,
          -9.402311325073242,
          -104.63387870788574,
          33.32809638977051,
          -66.66875267028809,
          -159.04796409606934,
          100
         ]
        },
        {
         "hoverinfo": "text+x+y",
         "line": {
          "color": "blue",
          "width": 2
         },
         "marker": {
          "color": "red",
          "size": 8
         },
         "mode": "lines+markers",
         "name": "Path 245 (Gen 12, Fitness 461.3207849502563)",
         "text": "Gen 12, Path 245",
         "type": "scatter",
         "x": [
          0,
          -34.495243072509766,
          -39.70219326019287,
          88.03170776367188,
          -21.32880401611328,
          -164.8144760131836,
          100
         ],
         "y": [
          0,
          -9.402311325073242,
          -104.63387870788574,
          33.32809638977051,
          -66.66875267028809,
          -159.04796409606934,
          100
         ]
        },
        {
         "hoverinfo": "text+x+y",
         "line": {
          "color": "blue",
          "width": 2
         },
         "marker": {
          "color": "red",
          "size": 8
         },
         "mode": "lines+markers",
         "name": "Path 246 (Gen 12, Fitness 436.03775863647456)",
         "text": "Gen 12, Path 246",
         "type": "scatter",
         "x": [
          0,
          29.42298126220703,
          -38.91856384277344,
          88.03170776367188,
          -21.32880401611328,
          -164.8144760131836,
          100
         ],
         "y": [
          0,
          -33.018348693847656,
          28.099849700927734,
          33.32809638977051,
          -66.66875267028809,
          -159.04796409606934,
          100
         ]
        },
        {
         "hoverinfo": "text+x+y",
         "line": {
          "color": "blue",
          "width": 2
         },
         "marker": {
          "color": "red",
          "size": 8
         },
         "mode": "lines+markers",
         "name": "Path 247 (Gen 12, Fitness 436.03775863647456)",
         "text": "Gen 12, Path 247",
         "type": "scatter",
         "x": [
          0,
          29.42298126220703,
          -38.91856384277344,
          88.03170776367188,
          -21.32880401611328,
          -164.8144760131836,
          100
         ],
         "y": [
          0,
          -33.018348693847656,
          28.099849700927734,
          33.32809638977051,
          -66.66875267028809,
          -159.04796409606934,
          100
         ]
        },
        {
         "hoverinfo": "text+x+y",
         "line": {
          "color": "blue",
          "width": 2
         },
         "marker": {
          "color": "red",
          "size": 8
         },
         "mode": "lines+markers",
         "name": "Path 248 (Gen 12, Fitness 461.3207849502563)",
         "text": "Gen 12, Path 248",
         "type": "scatter",
         "x": [
          0,
          -34.495243072509766,
          -39.70219326019287,
          88.03170776367188,
          -21.32880401611328,
          -164.8144760131836,
          100
         ],
         "y": [
          0,
          -9.402311325073242,
          -104.63387870788574,
          33.32809638977051,
          -66.66875267028809,
          -159.04796409606934,
          100
         ]
        },
        {
         "hoverinfo": "text+x+y",
         "line": {
          "color": "blue",
          "width": 2
         },
         "marker": {
          "color": "red",
          "size": 8
         },
         "mode": "lines+markers",
         "name": "Path 249 (Gen 12, Fitness 461.3207849502563)",
         "text": "Gen 12, Path 249",
         "type": "scatter",
         "x": [
          0,
          -34.495243072509766,
          -39.70219326019287,
          88.03170776367188,
          -21.32880401611328,
          -164.8144760131836,
          100
         ],
         "y": [
          0,
          -9.402311325073242,
          -104.63387870788574,
          33.32809638977051,
          -66.66875267028809,
          -159.04796409606934,
          100
         ]
        },
        {
         "hoverinfo": "text+x+y",
         "line": {
          "color": "blue",
          "width": 2
         },
         "marker": {
          "color": "red",
          "size": 8
         },
         "mode": "lines+markers",
         "name": "Path 250 (Gen 12, Fitness 461.3207849502563)",
         "text": "Gen 12, Path 250",
         "type": "scatter",
         "x": [
          0,
          -34.495243072509766,
          -39.70219326019287,
          88.03170776367188,
          -21.32880401611328,
          -164.8144760131836,
          100
         ],
         "y": [
          0,
          -9.402311325073242,
          -104.63387870788574,
          33.32809638977051,
          -66.66875267028809,
          -159.04796409606934,
          100
         ]
        },
        {
         "hoverinfo": "text+x+y",
         "line": {
          "color": "blue",
          "width": 2
         },
         "marker": {
          "color": "red",
          "size": 8
         },
         "mode": "lines+markers",
         "name": "Path 251 (Gen 12, Fitness 461.3207849502563)",
         "text": "Gen 12, Path 251",
         "type": "scatter",
         "x": [
          0,
          -34.495243072509766,
          -39.70219326019287,
          88.03170776367188,
          -21.32880401611328,
          -164.8144760131836,
          100
         ],
         "y": [
          0,
          -9.402311325073242,
          -104.63387870788574,
          33.32809638977051,
          -66.66875267028809,
          -159.04796409606934,
          100
         ]
        },
        {
         "hoverinfo": "text+x+y",
         "line": {
          "color": "blue",
          "width": 2
         },
         "marker": {
          "color": "red",
          "size": 8
         },
         "mode": "lines+markers",
         "name": "Path 252 (Gen 12, Fitness 436.03775863647456)",
         "text": "Gen 12, Path 252",
         "type": "scatter",
         "x": [
          0,
          29.42298126220703,
          -38.91856384277344,
          88.03170776367188,
          -21.32880401611328,
          -164.8144760131836,
          100
         ],
         "y": [
          0,
          -33.018348693847656,
          28.099849700927734,
          33.32809638977051,
          -66.66875267028809,
          -159.04796409606934,
          100
         ]
        },
        {
         "hoverinfo": "text+x+y",
         "line": {
          "color": "blue",
          "width": 2
         },
         "marker": {
          "color": "red",
          "size": 8
         },
         "mode": "lines+markers",
         "name": "Path 253 (Gen 12, Fitness 452.8322528839111)",
         "text": "Gen 12, Path 253",
         "type": "scatter",
         "x": [
          0,
          29.42298126220703,
          -38.91856384277344,
          -150.37197017669678,
          -21.32880401611328,
          -164.8144760131836,
          100
         ],
         "y": [
          0,
          -33.018348693847656,
          28.099849700927734,
          -106.50339865684509,
          -66.66875267028809,
          -159.04796409606934,
          100
         ]
        },
        {
         "hoverinfo": "text+x+y",
         "line": {
          "color": "blue",
          "width": 2
         },
         "marker": {
          "color": "red",
          "size": 8
         },
         "mode": "lines+markers",
         "name": "Path 254 (Gen 12, Fitness 461.3207849502563)",
         "text": "Gen 12, Path 254",
         "type": "scatter",
         "x": [
          0,
          -34.495243072509766,
          -39.70219326019287,
          88.03170776367188,
          -21.32880401611328,
          -164.8144760131836,
          100
         ],
         "y": [
          0,
          -9.402311325073242,
          -104.63387870788574,
          33.32809638977051,
          -66.66875267028809,
          -159.04796409606934,
          100
         ]
        },
        {
         "hoverinfo": "text+x+y",
         "line": {
          "color": "blue",
          "width": 2
         },
         "marker": {
          "color": "red",
          "size": 8
         },
         "mode": "lines+markers",
         "name": "Path 255 (Gen 12, Fitness 436.03775863647456)",
         "text": "Gen 12, Path 255",
         "type": "scatter",
         "x": [
          0,
          29.42298126220703,
          -38.91856384277344,
          88.03170776367188,
          -21.32880401611328,
          -164.8144760131836,
          100
         ],
         "y": [
          0,
          -33.018348693847656,
          28.099849700927734,
          33.32809638977051,
          -66.66875267028809,
          -159.04796409606934,
          100
         ]
        },
        {
         "hoverinfo": "text+x+y",
         "line": {
          "color": "blue",
          "width": 2
         },
         "marker": {
          "color": "red",
          "size": 8
         },
         "mode": "lines+markers",
         "name": "Path 256 (Gen 12, Fitness 436.03775863647456)",
         "text": "Gen 12, Path 256",
         "type": "scatter",
         "x": [
          0,
          29.42298126220703,
          -38.91856384277344,
          88.03170776367188,
          -21.32880401611328,
          -164.8144760131836,
          100
         ],
         "y": [
          0,
          -33.018348693847656,
          28.099849700927734,
          33.32809638977051,
          -66.66875267028809,
          -159.04796409606934,
          100
         ]
        },
        {
         "hoverinfo": "text+x+y",
         "line": {
          "color": "blue",
          "width": 2
         },
         "marker": {
          "color": "red",
          "size": 8
         },
         "mode": "lines+markers",
         "name": "Path 257 (Gen 12, Fitness 436.03775863647456)",
         "text": "Gen 12, Path 257",
         "type": "scatter",
         "x": [
          0,
          29.42298126220703,
          -38.91856384277344,
          88.03170776367188,
          -21.32880401611328,
          -164.8144760131836,
          100
         ],
         "y": [
          0,
          -33.018348693847656,
          28.099849700927734,
          33.32809638977051,
          -66.66875267028809,
          -159.04796409606934,
          100
         ]
        },
        {
         "hoverinfo": "text+x+y",
         "line": {
          "color": "blue",
          "width": 2
         },
         "marker": {
          "color": "red",
          "size": 8
         },
         "mode": "lines+markers",
         "name": "Path 258 (Gen 12, Fitness 456.4408399581909)",
         "text": "Gen 12, Path 258",
         "type": "scatter",
         "x": [
          0,
          29.42298126220703,
          -39.70219326019287,
          88.03170776367188,
          -21.32880401611328,
          -164.8144760131836,
          100
         ],
         "y": [
          0,
          -33.018348693847656,
          -104.63387870788574,
          33.32809638977051,
          -66.66875267028809,
          -159.04796409606934,
          100
         ]
        },
        {
         "hoverinfo": "text+x+y",
         "line": {
          "color": "blue",
          "width": 2
         },
         "marker": {
          "color": "red",
          "size": 8
         },
         "mode": "lines+markers",
         "name": "Path 259 (Gen 12, Fitness 436.03775863647456)",
         "text": "Gen 12, Path 259",
         "type": "scatter",
         "x": [
          0,
          29.42298126220703,
          -38.91856384277344,
          88.03170776367188,
          -21.32880401611328,
          -164.8144760131836,
          100
         ],
         "y": [
          0,
          -33.018348693847656,
          28.099849700927734,
          33.32809638977051,
          -66.66875267028809,
          -159.04796409606934,
          100
         ]
        },
        {
         "hoverinfo": "text+x+y",
         "line": {
          "color": "blue",
          "width": 2
         },
         "marker": {
          "color": "red",
          "size": 8
         },
         "mode": "lines+markers",
         "name": "Path 260 (Gen 12, Fitness 452.8322528839111)",
         "text": "Gen 12, Path 260",
         "type": "scatter",
         "x": [
          0,
          29.42298126220703,
          -38.91856384277344,
          -150.37197017669678,
          -21.32880401611328,
          -164.8144760131836,
          100
         ],
         "y": [
          0,
          -33.018348693847656,
          28.099849700927734,
          -106.50339865684509,
          -66.66875267028809,
          -159.04796409606934,
          100
         ]
        },
        {
         "hoverinfo": "text+x+y",
         "line": {
          "color": "blue",
          "width": 2
         },
         "marker": {
          "color": "red",
          "size": 8
         },
         "mode": "lines+markers",
         "name": "Path 261 (Gen 12, Fitness 461.3207849502563)",
         "text": "Gen 12, Path 261",
         "type": "scatter",
         "x": [
          0,
          -34.495243072509766,
          -39.70219326019287,
          88.03170776367188,
          -21.32880401611328,
          -164.8144760131836,
          100
         ],
         "y": [
          0,
          -9.402311325073242,
          -104.63387870788574,
          33.32809638977051,
          -66.66875267028809,
          -159.04796409606934,
          100
         ]
        },
        {
         "hoverinfo": "text+x+y",
         "line": {
          "color": "blue",
          "width": 2
         },
         "marker": {
          "color": "red",
          "size": 8
         },
         "mode": "lines+markers",
         "name": "Path 262 (Gen 12, Fitness 436.03775863647456)",
         "text": "Gen 12, Path 262",
         "type": "scatter",
         "x": [
          0,
          29.42298126220703,
          -38.91856384277344,
          88.03170776367188,
          -21.32880401611328,
          -164.8144760131836,
          100
         ],
         "y": [
          0,
          -33.018348693847656,
          28.099849700927734,
          33.32809638977051,
          -66.66875267028809,
          -159.04796409606934,
          100
         ]
        },
        {
         "hoverinfo": "text+x+y",
         "line": {
          "color": "blue",
          "width": 2
         },
         "marker": {
          "color": "red",
          "size": 8
         },
         "mode": "lines+markers",
         "name": "Path 263 (Gen 13, Fitness 485.57189693450925)",
         "text": "Gen 13, Path 263",
         "type": "scatter",
         "x": [
          0,
          29.42298126220703,
          -38.91856384277344,
          88.03170776367188,
          -21.32880401611328,
          -164.8144760131836,
          100
         ],
         "y": [
          0,
          -33.018348693847656,
          28.099849700927734,
          33.32809638977051,
          -66.66875267028809,
          -159.04796409606934,
          100
         ]
        },
        {
         "hoverinfo": "text+x+y",
         "line": {
          "color": "blue",
          "width": 2
         },
         "marker": {
          "color": "red",
          "size": 8
         },
         "mode": "lines+markers",
         "name": "Path 264 (Gen 13, Fitness 485.57189693450925)",
         "text": "Gen 13, Path 264",
         "type": "scatter",
         "x": [
          0,
          29.42298126220703,
          -38.91856384277344,
          88.03170776367188,
          -21.32880401611328,
          -164.8144760131836,
          100
         ],
         "y": [
          0,
          -33.018348693847656,
          28.099849700927734,
          33.32809638977051,
          -66.66875267028809,
          -159.04796409606934,
          100
         ]
        },
        {
         "hoverinfo": "text+x+y",
         "line": {
          "color": "blue",
          "width": 2
         },
         "marker": {
          "color": "red",
          "size": 8
         },
         "mode": "lines+markers",
         "name": "Path 265 (Gen 13, Fitness 451.6013544082641)",
         "text": "Gen 13, Path 265",
         "type": "scatter",
         "x": [
          0,
          -0.24469685554504395,
          -39.70219326019287,
          88.03170776367188,
          -21.32880401611328,
          -164.8144760131836,
          100
         ],
         "y": [
          0,
          33.288944244384766,
          -104.63387870788574,
          33.32809638977051,
          -66.66875267028809,
          -159.04796409606934,
          100
         ]
        },
        {
         "hoverinfo": "text+x+y",
         "line": {
          "color": "blue",
          "width": 2
         },
         "marker": {
          "color": "red",
          "size": 8
         },
         "mode": "lines+markers",
         "name": "Path 266 (Gen 13, Fitness 485.57189693450925)",
         "text": "Gen 13, Path 266",
         "type": "scatter",
         "x": [
          0,
          29.42298126220703,
          -38.91856384277344,
          88.03170776367188,
          -21.32880401611328,
          -164.8144760131836,
          100
         ],
         "y": [
          0,
          -33.018348693847656,
          28.099849700927734,
          33.32809638977051,
          -66.66875267028809,
          -159.04796409606934,
          100
         ]
        },
        {
         "hoverinfo": "text+x+y",
         "line": {
          "color": "blue",
          "width": 2
         },
         "marker": {
          "color": "red",
          "size": 8
         },
         "mode": "lines+markers",
         "name": "Path 267 (Gen 13, Fitness 436.03775863647456)",
         "text": "Gen 13, Path 267",
         "type": "scatter",
         "x": [
          0,
          29.42298126220703,
          -38.91856384277344,
          88.03170776367188,
          -21.32880401611328,
          -164.8144760131836,
          100
         ],
         "y": [
          0,
          -33.018348693847656,
          28.099849700927734,
          33.32809638977051,
          -66.66875267028809,
          -159.04796409606934,
          100
         ]
        },
        {
         "hoverinfo": "text+x+y",
         "line": {
          "color": "blue",
          "width": 2
         },
         "marker": {
          "color": "red",
          "size": 8
         },
         "mode": "lines+markers",
         "name": "Path 268 (Gen 13, Fitness 436.03775863647456)",
         "text": "Gen 13, Path 268",
         "type": "scatter",
         "x": [
          0,
          29.42298126220703,
          -38.91856384277344,
          88.03170776367188,
          -21.32880401611328,
          -164.8144760131836,
          100
         ],
         "y": [
          0,
          -33.018348693847656,
          28.099849700927734,
          33.32809638977051,
          -66.66875267028809,
          -159.04796409606934,
          100
         ]
        },
        {
         "hoverinfo": "text+x+y",
         "line": {
          "color": "blue",
          "width": 2
         },
         "marker": {
          "color": "red",
          "size": 8
         },
         "mode": "lines+markers",
         "name": "Path 269 (Gen 13, Fitness 485.57189693450925)",
         "text": "Gen 13, Path 269",
         "type": "scatter",
         "x": [
          0,
          29.42298126220703,
          -38.91856384277344,
          88.03170776367188,
          -21.32880401611328,
          -164.8144760131836,
          100
         ],
         "y": [
          0,
          -33.018348693847656,
          28.099849700927734,
          33.32809638977051,
          -66.66875267028809,
          -159.04796409606934,
          100
         ]
        },
        {
         "hoverinfo": "text+x+y",
         "line": {
          "color": "blue",
          "width": 2
         },
         "marker": {
          "color": "red",
          "size": 8
         },
         "mode": "lines+markers",
         "name": "Path 270 (Gen 13, Fitness 381.7795965194702)",
         "text": "Gen 13, Path 270",
         "type": "scatter",
         "x": [
          0,
          -34.495243072509766,
          -39.70219326019287,
          -150.37197017669678,
          -21.32880401611328,
          -164.8144760131836,
          100
         ],
         "y": [
          0,
          -9.402311325073242,
          -104.63387870788574,
          -106.50339865684509,
          -66.66875267028809,
          -159.04796409606934,
          100
         ]
        },
        {
         "hoverinfo": "text+x+y",
         "line": {
          "color": "blue",
          "width": 2
         },
         "marker": {
          "color": "red",
          "size": 8
         },
         "mode": "lines+markers",
         "name": "Path 271 (Gen 13, Fitness 485.57189693450925)",
         "text": "Gen 13, Path 271",
         "type": "scatter",
         "x": [
          0,
          29.42298126220703,
          -38.91856384277344,
          88.03170776367188,
          -21.32880401611328,
          -164.8144760131836,
          100
         ],
         "y": [
          0,
          -33.018348693847656,
          28.099849700927734,
          33.32809638977051,
          -66.66875267028809,
          -159.04796409606934,
          100
         ]
        },
        {
         "hoverinfo": "text+x+y",
         "line": {
          "color": "blue",
          "width": 2
         },
         "marker": {
          "color": "red",
          "size": 8
         },
         "mode": "lines+markers",
         "name": "Path 272 (Gen 13, Fitness 436.03775863647456)",
         "text": "Gen 13, Path 272",
         "type": "scatter",
         "x": [
          0,
          29.42298126220703,
          -38.91856384277344,
          88.03170776367188,
          -21.32880401611328,
          -164.8144760131836,
          100
         ],
         "y": [
          0,
          -33.018348693847656,
          28.099849700927734,
          33.32809638977051,
          -66.66875267028809,
          -159.04796409606934,
          100
         ]
        },
        {
         "hoverinfo": "text+x+y",
         "line": {
          "color": "blue",
          "width": 2
         },
         "marker": {
          "color": "red",
          "size": 8
         },
         "mode": "lines+markers",
         "name": "Path 273 (Gen 13, Fitness 451.6013544082641)",
         "text": "Gen 13, Path 273",
         "type": "scatter",
         "x": [
          0,
          -0.24469685554504395,
          -39.70219326019287,
          88.03170776367188,
          -21.32880401611328,
          -164.8144760131836,
          100
         ],
         "y": [
          0,
          33.288944244384766,
          -104.63387870788574,
          33.32809638977051,
          -66.66875267028809,
          -159.04796409606934,
          100
         ]
        },
        {
         "hoverinfo": "text+x+y",
         "line": {
          "color": "blue",
          "width": 2
         },
         "marker": {
          "color": "red",
          "size": 8
         },
         "mode": "lines+markers",
         "name": "Path 274 (Gen 13, Fitness 485.57189693450925)",
         "text": "Gen 13, Path 274",
         "type": "scatter",
         "x": [
          0,
          29.42298126220703,
          -38.91856384277344,
          88.03170776367188,
          -21.32880401611328,
          -164.8144760131836,
          100
         ],
         "y": [
          0,
          -33.018348693847656,
          28.099849700927734,
          33.32809638977051,
          -66.66875267028809,
          -159.04796409606934,
          100
         ]
        },
        {
         "hoverinfo": "text+x+y",
         "line": {
          "color": "blue",
          "width": 2
         },
         "marker": {
          "color": "red",
          "size": 8
         },
         "mode": "lines+markers",
         "name": "Path 275 (Gen 13, Fitness 436.03775863647456)",
         "text": "Gen 13, Path 275",
         "type": "scatter",
         "x": [
          0,
          29.42298126220703,
          -38.91856384277344,
          88.03170776367188,
          -21.32880401611328,
          -164.8144760131836,
          100
         ],
         "y": [
          0,
          -33.018348693847656,
          28.099849700927734,
          33.32809638977051,
          -66.66875267028809,
          -159.04796409606934,
          100
         ]
        },
        {
         "hoverinfo": "text+x+y",
         "line": {
          "color": "blue",
          "width": 2
         },
         "marker": {
          "color": "red",
          "size": 8
         },
         "mode": "lines+markers",
         "name": "Path 276 (Gen 13, Fitness 485.57189693450925)",
         "text": "Gen 13, Path 276",
         "type": "scatter",
         "x": [
          0,
          29.42298126220703,
          -38.91856384277344,
          88.03170776367188,
          -21.32880401611328,
          -164.8144760131836,
          100
         ],
         "y": [
          0,
          -33.018348693847656,
          28.099849700927734,
          33.32809638977051,
          -66.66875267028809,
          -159.04796409606934,
          100
         ]
        },
        {
         "hoverinfo": "text+x+y",
         "line": {
          "color": "blue",
          "width": 2
         },
         "marker": {
          "color": "red",
          "size": 8
         },
         "mode": "lines+markers",
         "name": "Path 277 (Gen 13, Fitness 436.03775863647456)",
         "text": "Gen 13, Path 277",
         "type": "scatter",
         "x": [
          0,
          29.42298126220703,
          -38.91856384277344,
          88.03170776367188,
          -21.32880401611328,
          -164.8144760131836,
          100
         ],
         "y": [
          0,
          -33.018348693847656,
          28.099849700927734,
          33.32809638977051,
          -66.66875267028809,
          -159.04796409606934,
          100
         ]
        },
        {
         "hoverinfo": "text+x+y",
         "line": {
          "color": "blue",
          "width": 2
         },
         "marker": {
          "color": "red",
          "size": 8
         },
         "mode": "lines+markers",
         "name": "Path 278 (Gen 13, Fitness 436.03775863647456)",
         "text": "Gen 13, Path 278",
         "type": "scatter",
         "x": [
          0,
          29.42298126220703,
          -38.91856384277344,
          88.03170776367188,
          -21.32880401611328,
          -164.8144760131836,
          100
         ],
         "y": [
          0,
          -33.018348693847656,
          28.099849700927734,
          33.32809638977051,
          -66.66875267028809,
          -159.04796409606934,
          100
         ]
        },
        {
         "hoverinfo": "text+x+y",
         "line": {
          "color": "blue",
          "width": 2
         },
         "marker": {
          "color": "red",
          "size": 8
         },
         "mode": "lines+markers",
         "name": "Path 279 (Gen 13, Fitness 436.03775863647456)",
         "text": "Gen 13, Path 279",
         "type": "scatter",
         "x": [
          0,
          29.42298126220703,
          -38.91856384277344,
          88.03170776367188,
          -21.32880401611328,
          -164.8144760131836,
          100
         ],
         "y": [
          0,
          -33.018348693847656,
          28.099849700927734,
          33.32809638977051,
          -66.66875267028809,
          -159.04796409606934,
          100
         ]
        },
        {
         "hoverinfo": "text+x+y",
         "line": {
          "color": "blue",
          "width": 2
         },
         "marker": {
          "color": "red",
          "size": 8
         },
         "mode": "lines+markers",
         "name": "Path 280 (Gen 13, Fitness 451.6013544082641)",
         "text": "Gen 13, Path 280",
         "type": "scatter",
         "x": [
          0,
          -0.24469685554504395,
          -39.70219326019287,
          88.03170776367188,
          -21.32880401611328,
          -164.8144760131836,
          100
         ],
         "y": [
          0,
          33.288944244384766,
          -104.63387870788574,
          33.32809638977051,
          -66.66875267028809,
          -159.04796409606934,
          100
         ]
        },
        {
         "hoverinfo": "text+x+y",
         "line": {
          "color": "blue",
          "width": 2
         },
         "marker": {
          "color": "red",
          "size": 8
         },
         "mode": "lines+markers",
         "name": "Path 281 (Gen 13, Fitness 485.57189693450925)",
         "text": "Gen 13, Path 281",
         "type": "scatter",
         "x": [
          0,
          29.42298126220703,
          -38.91856384277344,
          88.03170776367188,
          -21.32880401611328,
          -164.8144760131836,
          100
         ],
         "y": [
          0,
          -33.018348693847656,
          28.099849700927734,
          33.32809638977051,
          -66.66875267028809,
          -159.04796409606934,
          100
         ]
        },
        {
         "hoverinfo": "text+x+y",
         "line": {
          "color": "blue",
          "width": 2
         },
         "marker": {
          "color": "red",
          "size": 8
         },
         "mode": "lines+markers",
         "name": "Path 282 (Gen 13, Fitness 436.03775863647456)",
         "text": "Gen 13, Path 282",
         "type": "scatter",
         "x": [
          0,
          29.42298126220703,
          -38.91856384277344,
          88.03170776367188,
          -21.32880401611328,
          -164.8144760131836,
          100
         ],
         "y": [
          0,
          -33.018348693847656,
          28.099849700927734,
          33.32809638977051,
          -66.66875267028809,
          -159.04796409606934,
          100
         ]
        },
        {
         "hoverinfo": "text+x+y",
         "line": {
          "color": "blue",
          "width": 2
         },
         "marker": {
          "color": "red",
          "size": 8
         },
         "mode": "lines+markers",
         "name": "Path 283 (Gen 13, Fitness 436.03775863647456)",
         "text": "Gen 13, Path 283",
         "type": "scatter",
         "x": [
          0,
          29.42298126220703,
          -38.91856384277344,
          88.03170776367188,
          -21.32880401611328,
          -164.8144760131836,
          100
         ],
         "y": [
          0,
          -33.018348693847656,
          28.099849700927734,
          33.32809638977051,
          -66.66875267028809,
          -159.04796409606934,
          100
         ]
        },
        {
         "hoverinfo": "text+x+y",
         "line": {
          "color": "blue",
          "width": 2
         },
         "marker": {
          "color": "red",
          "size": 8
         },
         "mode": "lines+markers",
         "name": "Path 284 (Gen 13, Fitness 436.03775863647456)",
         "text": "Gen 13, Path 284",
         "type": "scatter",
         "x": [
          0,
          29.42298126220703,
          -38.91856384277344,
          88.03170776367188,
          -21.32880401611328,
          -164.8144760131836,
          100
         ],
         "y": [
          0,
          -33.018348693847656,
          28.099849700927734,
          33.32809638977051,
          -66.66875267028809,
          -159.04796409606934,
          100
         ]
        },
        {
         "hoverinfo": "text+x+y",
         "line": {
          "color": "blue",
          "width": 2
         },
         "marker": {
          "color": "red",
          "size": 8
         },
         "mode": "lines+markers",
         "name": "Path 285 (Gen 13, Fitness 485.57189693450925)",
         "text": "Gen 13, Path 285",
         "type": "scatter",
         "x": [
          0,
          29.42298126220703,
          -38.91856384277344,
          88.03170776367188,
          -21.32880401611328,
          -164.8144760131836,
          100
         ],
         "y": [
          0,
          -33.018348693847656,
          28.099849700927734,
          33.32809638977051,
          -66.66875267028809,
          -159.04796409606934,
          100
         ]
        },
        {
         "hoverinfo": "text+x+y",
         "line": {
          "color": "blue",
          "width": 2
         },
         "marker": {
          "color": "red",
          "size": 8
         },
         "mode": "lines+markers",
         "name": "Path 286 (Gen 13, Fitness 436.03775863647456)",
         "text": "Gen 13, Path 286",
         "type": "scatter",
         "x": [
          0,
          29.42298126220703,
          -38.91856384277344,
          88.03170776367188,
          -21.32880401611328,
          -164.8144760131836,
          100
         ],
         "y": [
          0,
          -33.018348693847656,
          28.099849700927734,
          33.32809638977051,
          -66.66875267028809,
          -159.04796409606934,
          100
         ]
        },
        {
         "hoverinfo": "text+x+y",
         "line": {
          "color": "blue",
          "width": 2
         },
         "marker": {
          "color": "red",
          "size": 8
         },
         "mode": "lines+markers",
         "name": "Path 287 (Gen 13, Fitness 436.03775863647456)",
         "text": "Gen 13, Path 287",
         "type": "scatter",
         "x": [
          0,
          29.42298126220703,
          -38.91856384277344,
          88.03170776367188,
          -21.32880401611328,
          -164.8144760131836,
          100
         ],
         "y": [
          0,
          -33.018348693847656,
          28.099849700927734,
          33.32809638977051,
          -66.66875267028809,
          -159.04796409606934,
          100
         ]
        },
        {
         "hoverinfo": "text+x+y",
         "line": {
          "color": "blue",
          "width": 2
         },
         "marker": {
          "color": "red",
          "size": 8
         },
         "mode": "lines+markers",
         "name": "Path 288 (Gen 13, Fitness 485.57189693450925)",
         "text": "Gen 13, Path 288",
         "type": "scatter",
         "x": [
          0,
          29.42298126220703,
          -38.91856384277344,
          88.03170776367188,
          -21.32880401611328,
          -164.8144760131836,
          100
         ],
         "y": [
          0,
          -33.018348693847656,
          28.099849700927734,
          33.32809638977051,
          -66.66875267028809,
          -159.04796409606934,
          100
         ]
        },
        {
         "hoverinfo": "text+x+y",
         "line": {
          "color": "blue",
          "width": 2
         },
         "marker": {
          "color": "red",
          "size": 8
         },
         "mode": "lines+markers",
         "name": "Path 289 (Gen 13, Fitness 485.57189693450925)",
         "text": "Gen 13, Path 289",
         "type": "scatter",
         "x": [
          0,
          29.42298126220703,
          -38.91856384277344,
          88.03170776367188,
          -21.32880401611328,
          -164.8144760131836,
          100
         ],
         "y": [
          0,
          -33.018348693847656,
          28.099849700927734,
          33.32809638977051,
          -66.66875267028809,
          -159.04796409606934,
          100
         ]
        },
        {
         "hoverinfo": "text+x+y",
         "line": {
          "color": "blue",
          "width": 2
         },
         "marker": {
          "color": "red",
          "size": 8
         },
         "mode": "lines+markers",
         "name": "Path 290 (Gen 13, Fitness 381.7795965194702)",
         "text": "Gen 13, Path 290",
         "type": "scatter",
         "x": [
          0,
          -34.495243072509766,
          -39.70219326019287,
          -150.37197017669678,
          -21.32880401611328,
          -164.8144760131836,
          100
         ],
         "y": [
          0,
          -9.402311325073242,
          -104.63387870788574,
          -106.50339865684509,
          -66.66875267028809,
          -159.04796409606934,
          100
         ]
        },
        {
         "hoverinfo": "text+x+y",
         "line": {
          "color": "blue",
          "width": 2
         },
         "marker": {
          "color": "red",
          "size": 8
         },
         "mode": "lines+markers",
         "name": "Path 291 (Gen 13, Fitness 400.0803312301636)",
         "text": "Gen 13, Path 291",
         "type": "scatter",
         "x": [
          0,
          29.42298126220703,
          -38.91856384277344,
          88.03170776367188,
          -21.32880401611328,
          -164.8144760131836,
          100
         ],
         "y": [
          0,
          -33.018348693847656,
          28.099849700927734,
          33.32809638977051,
          -66.66875267028809,
          -159.04796409606934,
          100
         ]
        },
        {
         "hoverinfo": "text+x+y",
         "line": {
          "color": "blue",
          "width": 2
         },
         "marker": {
          "color": "red",
          "size": 8
         },
         "mode": "lines+markers",
         "name": "Path 292 (Gen 14, Fitness 89.62074556350709)",
         "text": "Gen 14, Path 292",
         "type": "scatter",
         "x": [
          0,
          -37.78110576061238,
          -21.71669701791092,
          10.201135834585038,
          32.26895665494408,
          62.81929779690988,
          100
         ],
         "y": [
          0,
          37.781105760612384,
          53.84551450331384,
          85.7633473558098,
          107.83116817616883,
          138.38150931813462,
          100
         ]
        },
        {
         "hoverinfo": "text+x+y",
         "line": {
          "color": "blue",
          "width": 2
         },
         "marker": {
          "color": "red",
          "size": 8
         },
         "mode": "lines+markers",
         "name": "Path 293 (Gen 14, Fitness 89.62074556350709)",
         "text": "Gen 14, Path 293",
         "type": "scatter",
         "x": [
          0,
          -37.78110576061238,
          -21.71669701791092,
          10.201135834585038,
          32.26895665494408,
          62.81929779690988,
          100
         ],
         "y": [
          0,
          37.781105760612384,
          53.84551450331384,
          85.7633473558098,
          107.83116817616883,
          138.38150931813462,
          100
         ]
        },
        {
         "hoverinfo": "text+x+y",
         "line": {
          "color": "blue",
          "width": 2
         },
         "marker": {
          "color": "red",
          "size": 8
         },
         "mode": "lines+markers",
         "name": "Path 294 (Gen 14, Fitness 89.62074556350709)",
         "text": "Gen 14, Path 294",
         "type": "scatter",
         "x": [
          0,
          -37.78110576061238,
          -21.71669701791092,
          10.201135834585038,
          32.26895665494408,
          62.81929779690988,
          100
         ],
         "y": [
          0,
          37.781105760612384,
          53.84551450331384,
          85.7633473558098,
          107.83116817616883,
          138.38150931813462,
          100
         ]
        },
        {
         "hoverinfo": "text+x+y",
         "line": {
          "color": "blue",
          "width": 2
         },
         "marker": {
          "color": "red",
          "size": 8
         },
         "mode": "lines+markers",
         "name": "Path 295 (Gen 14, Fitness 89.62074556350709)",
         "text": "Gen 14, Path 295",
         "type": "scatter",
         "x": [
          0,
          -37.78110576061238,
          -21.71669701791092,
          10.201135834585038,
          32.26895665494408,
          62.81929779690988,
          100
         ],
         "y": [
          0,
          37.781105760612384,
          53.84551450331384,
          85.7633473558098,
          107.83116817616883,
          138.38150931813462,
          100
         ]
        },
        {
         "hoverinfo": "text+x+y",
         "line": {
          "color": "blue",
          "width": 2
         },
         "marker": {
          "color": "red",
          "size": 8
         },
         "mode": "lines+markers",
         "name": "Path 296 (Gen 14, Fitness 89.62074556350709)",
         "text": "Gen 14, Path 296",
         "type": "scatter",
         "x": [
          0,
          -37.78110576061238,
          -21.71669701791092,
          10.201135834585038,
          32.26895665494408,
          62.81929779690988,
          100
         ],
         "y": [
          0,
          37.781105760612384,
          53.84551450331384,
          85.7633473558098,
          107.83116817616883,
          138.38150931813462,
          100
         ]
        },
        {
         "hoverinfo": "text+x+y",
         "line": {
          "color": "blue",
          "width": 2
         },
         "marker": {
          "color": "red",
          "size": 8
         },
         "mode": "lines+markers",
         "name": "Path 297 (Gen 14, Fitness 89.62074556350709)",
         "text": "Gen 14, Path 297",
         "type": "scatter",
         "x": [
          0,
          -37.78110576061238,
          -21.71669701791092,
          10.201135834585038,
          32.26895665494408,
          62.81929779690988,
          100
         ],
         "y": [
          0,
          37.781105760612384,
          53.84551450331384,
          85.7633473558098,
          107.83116817616883,
          138.38150931813462,
          100
         ]
        },
        {
         "hoverinfo": "text+x+y",
         "line": {
          "color": "blue",
          "width": 2
         },
         "marker": {
          "color": "red",
          "size": 8
         },
         "mode": "lines+markers",
         "name": "Path 298 (Gen 14, Fitness 89.62074556350709)",
         "text": "Gen 14, Path 298",
         "type": "scatter",
         "x": [
          0,
          -37.78110576061238,
          -21.71669701791092,
          10.201135834585038,
          32.26895665494408,
          62.81929779690988,
          100
         ],
         "y": [
          0,
          37.781105760612384,
          53.84551450331384,
          85.7633473558098,
          107.83116817616883,
          138.38150931813462,
          100
         ]
        },
        {
         "hoverinfo": "text+x+y",
         "line": {
          "color": "blue",
          "width": 2
         },
         "marker": {
          "color": "red",
          "size": 8
         },
         "mode": "lines+markers",
         "name": "Path 299 (Gen 14, Fitness 89.62074556350709)",
         "text": "Gen 14, Path 299",
         "type": "scatter",
         "x": [
          0,
          -37.78110576061238,
          -21.71669701791092,
          10.201135834585038,
          32.26895665494408,
          62.81929779690988,
          100
         ],
         "y": [
          0,
          37.781105760612384,
          53.84551450331384,
          85.7633473558098,
          107.83116817616883,
          138.38150931813462,
          100
         ]
        },
        {
         "hoverinfo": "text+x+y",
         "line": {
          "color": "blue",
          "width": 2
         },
         "marker": {
          "color": "red",
          "size": 8
         },
         "mode": "lines+markers",
         "name": "Path 300 (Gen 14, Fitness 89.62074556350709)",
         "text": "Gen 14, Path 300",
         "type": "scatter",
         "x": [
          0,
          -37.78110576061238,
          -21.71669701791092,
          10.201135834585038,
          32.26895665494408,
          62.81929779690988,
          100
         ],
         "y": [
          0,
          37.781105760612384,
          53.84551450331384,
          85.7633473558098,
          107.83116817616883,
          138.38150931813462,
          100
         ]
        },
        {
         "hoverinfo": "text+x+y",
         "line": {
          "color": "blue",
          "width": 2
         },
         "marker": {
          "color": "red",
          "size": 8
         },
         "mode": "lines+markers",
         "name": "Path 301 (Gen 14, Fitness 89.62074556350709)",
         "text": "Gen 14, Path 301",
         "type": "scatter",
         "x": [
          0,
          -37.78110576061238,
          -21.71669701791092,
          10.201135834585038,
          32.26895665494408,
          62.81929779690988,
          100
         ],
         "y": [
          0,
          37.781105760612384,
          53.84551450331384,
          85.7633473558098,
          107.83116817616883,
          138.38150931813462,
          100
         ]
        },
        {
         "hoverinfo": "text+x+y",
         "line": {
          "color": "blue",
          "width": 2
         },
         "marker": {
          "color": "red",
          "size": 8
         },
         "mode": "lines+markers",
         "name": "Path 302 (Gen 14, Fitness 89.62074556350709)",
         "text": "Gen 14, Path 302",
         "type": "scatter",
         "x": [
          0,
          -37.78110576061238,
          -21.71669701791092,
          10.201135834585038,
          32.26895665494408,
          62.81929779690988,
          100
         ],
         "y": [
          0,
          37.781105760612384,
          53.84551450331384,
          85.7633473558098,
          107.83116817616883,
          138.38150931813462,
          100
         ]
        },
        {
         "hoverinfo": "text+x+y",
         "line": {
          "color": "blue",
          "width": 2
         },
         "marker": {
          "color": "red",
          "size": 8
         },
         "mode": "lines+markers",
         "name": "Path 303 (Gen 14, Fitness 89.62074556350709)",
         "text": "Gen 14, Path 303",
         "type": "scatter",
         "x": [
          0,
          -37.78110576061238,
          -21.71669701791092,
          10.201135834585038,
          32.26895665494408,
          62.81929779690988,
          100
         ],
         "y": [
          0,
          37.781105760612384,
          53.84551450331384,
          85.7633473558098,
          107.83116817616883,
          138.38150931813462,
          100
         ]
        },
        {
         "hoverinfo": "text+x+y",
         "line": {
          "color": "blue",
          "width": 2
         },
         "marker": {
          "color": "red",
          "size": 8
         },
         "mode": "lines+markers",
         "name": "Path 304 (Gen 14, Fitness 89.62074556350709)",
         "text": "Gen 14, Path 304",
         "type": "scatter",
         "x": [
          0,
          -37.78110576061238,
          -21.71669701791092,
          10.201135834585038,
          32.26895665494408,
          62.81929779690988,
          100
         ],
         "y": [
          0,
          37.781105760612384,
          53.84551450331384,
          85.7633473558098,
          107.83116817616883,
          138.38150931813462,
          100
         ]
        },
        {
         "hoverinfo": "text+x+y",
         "line": {
          "color": "blue",
          "width": 2
         },
         "marker": {
          "color": "red",
          "size": 8
         },
         "mode": "lines+markers",
         "name": "Path 305 (Gen 14, Fitness 89.62074556350709)",
         "text": "Gen 14, Path 305",
         "type": "scatter",
         "x": [
          0,
          -37.78110576061238,
          -21.71669701791092,
          10.201135834585038,
          32.26895665494408,
          62.81929779690988,
          100
         ],
         "y": [
          0,
          37.781105760612384,
          53.84551450331384,
          85.7633473558098,
          107.83116817616883,
          138.38150931813462,
          100
         ]
        },
        {
         "hoverinfo": "text+x+y",
         "line": {
          "color": "blue",
          "width": 2
         },
         "marker": {
          "color": "red",
          "size": 8
         },
         "mode": "lines+markers",
         "name": "Path 306 (Gen 14, Fitness 400.0803312301636)",
         "text": "Gen 14, Path 306",
         "type": "scatter",
         "x": [
          0,
          29.42298126220703,
          -38.91856384277344,
          88.03170776367188,
          -21.32880401611328,
          -164.8144760131836,
          100
         ],
         "y": [
          0,
          -33.018348693847656,
          28.099849700927734,
          33.32809638977051,
          -66.66875267028809,
          -159.04796409606934,
          100
         ]
        },
        {
         "hoverinfo": "text+x+y",
         "line": {
          "color": "blue",
          "width": 2
         },
         "marker": {
          "color": "red",
          "size": 8
         },
         "mode": "lines+markers",
         "name": "Path 307 (Gen 14, Fitness 415.4871017456055)",
         "text": "Gen 14, Path 307",
         "type": "scatter",
         "x": [
          0,
          29.42298126220703,
          -38.91856384277344,
          88.03170776367188,
          -21.32880401611328,
          -164.8144760131836,
          100
         ],
         "y": [
          0,
          -33.018348693847656,
          28.099849700927734,
          33.32809638977051,
          -66.66875267028809,
          -159.04796409606934,
          100
         ]
        },
        {
         "hoverinfo": "text+x+y",
         "line": {
          "color": "blue",
          "width": 2
         },
         "marker": {
          "color": "red",
          "size": 8
         },
         "mode": "lines+markers",
         "name": "Path 308 (Gen 14, Fitness 375.7842908859253)",
         "text": "Gen 14, Path 308",
         "type": "scatter",
         "x": [
          0,
          29.42298126220703,
          -38.91856384277344,
          88.03170776367188,
          -21.32880401611328,
          -164.8144760131836,
          100
         ],
         "y": [
          0,
          -33.018348693847656,
          28.099849700927734,
          33.32809638977051,
          -66.66875267028809,
          -159.04796409606934,
          100
         ]
        },
        {
         "hoverinfo": "text+x+y",
         "line": {
          "color": "blue",
          "width": 2
         },
         "marker": {
          "color": "red",
          "size": 8
         },
         "mode": "lines+markers",
         "name": "Path 309 (Gen 14, Fitness 400.0803312301636)",
         "text": "Gen 14, Path 309",
         "type": "scatter",
         "x": [
          0,
          29.42298126220703,
          -38.91856384277344,
          88.03170776367188,
          -21.32880401611328,
          -164.8144760131836,
          100
         ],
         "y": [
          0,
          -33.018348693847656,
          28.099849700927734,
          33.32809638977051,
          -66.66875267028809,
          -159.04796409606934,
          100
         ]
        },
        {
         "hoverinfo": "text+x+y",
         "line": {
          "color": "blue",
          "width": 2
         },
         "marker": {
          "color": "red",
          "size": 8
         },
         "mode": "lines+markers",
         "name": "Path 310 (Gen 14, Fitness 416.78416538238525)",
         "text": "Gen 14, Path 310",
         "type": "scatter",
         "x": [
          0,
          29.42298126220703,
          -39.70219326019287,
          88.03170776367188,
          -21.32880401611328,
          -164.8144760131836,
          100
         ],
         "y": [
          0,
          -33.018348693847656,
          -104.63387870788574,
          33.32809638977051,
          -66.66875267028809,
          -159.04796409606934,
          100
         ]
        },
        {
         "hoverinfo": "text+x+y",
         "line": {
          "color": "blue",
          "width": 2
         },
         "marker": {
          "color": "red",
          "size": 8
         },
         "mode": "lines+markers",
         "name": "Path 311 (Gen 14, Fitness 400.0803312301636)",
         "text": "Gen 14, Path 311",
         "type": "scatter",
         "x": [
          0,
          29.42298126220703,
          -38.91856384277344,
          88.03170776367188,
          -21.32880401611328,
          -164.8144760131836,
          100
         ],
         "y": [
          0,
          -33.018348693847656,
          28.099849700927734,
          33.32809638977051,
          -66.66875267028809,
          -159.04796409606934,
          100
         ]
        },
        {
         "hoverinfo": "text+x+y",
         "line": {
          "color": "blue",
          "width": 2
         },
         "marker": {
          "color": "red",
          "size": 8
         },
         "mode": "lines+markers",
         "name": "Path 312 (Gen 14, Fitness 415.4871017456055)",
         "text": "Gen 14, Path 312",
         "type": "scatter",
         "x": [
          0,
          29.42298126220703,
          -38.91856384277344,
          88.03170776367188,
          -21.32880401611328,
          -164.8144760131836,
          100
         ],
         "y": [
          0,
          -33.018348693847656,
          28.099849700927734,
          33.32809638977051,
          -66.66875267028809,
          -159.04796409606934,
          100
         ]
        },
        {
         "hoverinfo": "text+x+y",
         "line": {
          "color": "blue",
          "width": 2
         },
         "marker": {
          "color": "red",
          "size": 8
         },
         "mode": "lines+markers",
         "name": "Path 313 (Gen 14, Fitness 89.62074556350709)",
         "text": "Gen 14, Path 313",
         "type": "scatter",
         "x": [
          0,
          -37.78110576061238,
          -21.71669701791092,
          10.201135834585038,
          32.26895665494408,
          62.81929779690988,
          100
         ],
         "y": [
          0,
          37.781105760612384,
          53.84551450331384,
          85.7633473558098,
          107.83116817616883,
          138.38150931813462,
          100
         ]
        },
        {
         "hoverinfo": "text+x+y",
         "line": {
          "color": "blue",
          "width": 2
         },
         "marker": {
          "color": "red",
          "size": 8
         },
         "mode": "lines+markers",
         "name": "Path 314 (Gen 14, Fitness 400.0803312301636)",
         "text": "Gen 14, Path 314",
         "type": "scatter",
         "x": [
          0,
          29.42298126220703,
          -38.91856384277344,
          88.03170776367188,
          -21.32880401611328,
          -164.8144760131836,
          100
         ],
         "y": [
          0,
          -33.018348693847656,
          28.099849700927734,
          33.32809638977051,
          -66.66875267028809,
          -159.04796409606934,
          100
         ]
        },
        {
         "hoverinfo": "text+x+y",
         "line": {
          "color": "blue",
          "width": 2
         },
         "marker": {
          "color": "red",
          "size": 8
         },
         "mode": "lines+markers",
         "name": "Path 315 (Gen 14, Fitness 400.0803312301636)",
         "text": "Gen 14, Path 315",
         "type": "scatter",
         "x": [
          0,
          29.42298126220703,
          -38.91856384277344,
          88.03170776367188,
          -21.32880401611328,
          -164.8144760131836,
          100
         ],
         "y": [
          0,
          -33.018348693847656,
          28.099849700927734,
          33.32809638977051,
          -66.66875267028809,
          -159.04796409606934,
          100
         ]
        },
        {
         "hoverinfo": "text+x+y",
         "line": {
          "color": "blue",
          "width": 2
         },
         "marker": {
          "color": "red",
          "size": 8
         },
         "mode": "lines+markers",
         "name": "Path 316 (Gen 14, Fitness 415.4871017456055)",
         "text": "Gen 14, Path 316",
         "type": "scatter",
         "x": [
          0,
          29.42298126220703,
          -38.91856384277344,
          88.03170776367188,
          -21.32880401611328,
          -164.8144760131836,
          100
         ],
         "y": [
          0,
          -33.018348693847656,
          28.099849700927734,
          33.32809638977051,
          -66.66875267028809,
          -159.04796409606934,
          100
         ]
        },
        {
         "hoverinfo": "text+x+y",
         "line": {
          "color": "blue",
          "width": 2
         },
         "marker": {
          "color": "red",
          "size": 8
         },
         "mode": "lines+markers",
         "name": "Path 317 (Gen 14, Fitness 416.78416538238525)",
         "text": "Gen 14, Path 317",
         "type": "scatter",
         "x": [
          0,
          29.42298126220703,
          -39.70219326019287,
          88.03170776367188,
          -21.32880401611328,
          -164.8144760131836,
          100
         ],
         "y": [
          0,
          -33.018348693847656,
          -104.63387870788574,
          33.32809638977051,
          -66.66875267028809,
          -159.04796409606934,
          100
         ]
        },
        {
         "hoverinfo": "text+x+y",
         "line": {
          "color": "blue",
          "width": 2
         },
         "marker": {
          "color": "red",
          "size": 8
         },
         "mode": "lines+markers",
         "name": "Path 318 (Gen 14, Fitness 400.0803312301636)",
         "text": "Gen 14, Path 318",
         "type": "scatter",
         "x": [
          0,
          29.42298126220703,
          -38.91856384277344,
          88.03170776367188,
          -21.32880401611328,
          -164.8144760131836,
          100
         ],
         "y": [
          0,
          -33.018348693847656,
          28.099849700927734,
          33.32809638977051,
          -66.66875267028809,
          -159.04796409606934,
          100
         ]
        },
        {
         "hoverinfo": "text+x+y",
         "line": {
          "color": "blue",
          "width": 2
         },
         "marker": {
          "color": "red",
          "size": 8
         },
         "mode": "lines+markers",
         "name": "Path 319 (Gen 14, Fitness 400.0803312301636)",
         "text": "Gen 14, Path 319",
         "type": "scatter",
         "x": [
          0,
          29.42298126220703,
          -38.91856384277344,
          88.03170776367188,
          -21.32880401611328,
          -164.8144760131836,
          100
         ],
         "y": [
          0,
          -33.018348693847656,
          28.099849700927734,
          33.32809638977051,
          -66.66875267028809,
          -159.04796409606934,
          100
         ]
        },
        {
         "hoverinfo": "text+x+y",
         "line": {
          "color": "blue",
          "width": 2
         },
         "marker": {
          "color": "red",
          "size": 8
         },
         "mode": "lines+markers",
         "name": "Path 320 (Gen 14, Fitness 375.7842908859253)",
         "text": "Gen 14, Path 320",
         "type": "scatter",
         "x": [
          0,
          29.42298126220703,
          -38.91856384277344,
          88.03170776367188,
          -21.32880401611328,
          -164.8144760131836,
          100
         ],
         "y": [
          0,
          -33.018348693847656,
          28.099849700927734,
          33.32809638977051,
          -66.66875267028809,
          -159.04796409606934,
          100
         ]
        },
        {
         "hoverinfo": "text+x+y",
         "line": {
          "color": "blue",
          "width": 2
         },
         "marker": {
          "color": "red",
          "size": 8
         },
         "mode": "lines+markers",
         "name": "Path 321 (Gen 14, Fitness 400.0803312301636)",
         "text": "Gen 14, Path 321",
         "type": "scatter",
         "x": [
          0,
          29.42298126220703,
          -38.91856384277344,
          88.03170776367188,
          -21.32880401611328,
          -164.8144760131836,
          100
         ],
         "y": [
          0,
          -33.018348693847656,
          28.099849700927734,
          33.32809638977051,
          -66.66875267028809,
          -159.04796409606934,
          100
         ]
        },
        {
         "hoverinfo": "text+x+y",
         "line": {
          "color": "blue",
          "width": 2
         },
         "marker": {
          "color": "red",
          "size": 8
         },
         "mode": "lines+markers",
         "name": "Path 322 (Gen 14, Fitness 400.0803312301636)",
         "text": "Gen 14, Path 322",
         "type": "scatter",
         "x": [
          0,
          29.42298126220703,
          -38.91856384277344,
          88.03170776367188,
          -21.32880401611328,
          -164.8144760131836,
          100
         ],
         "y": [
          0,
          -33.018348693847656,
          28.099849700927734,
          33.32809638977051,
          -66.66875267028809,
          -159.04796409606934,
          100
         ]
        },
        {
         "hoverinfo": "text+x+y",
         "line": {
          "color": "blue",
          "width": 2
         },
         "marker": {
          "color": "red",
          "size": 8
         },
         "mode": "lines+markers",
         "name": "Path 323 (Gen 14, Fitness 415.4871017456055)",
         "text": "Gen 14, Path 323",
         "type": "scatter",
         "x": [
          0,
          29.42298126220703,
          -38.91856384277344,
          88.03170776367188,
          -21.32880401611328,
          -164.8144760131836,
          100
         ],
         "y": [
          0,
          -33.018348693847656,
          28.099849700927734,
          33.32809638977051,
          -66.66875267028809,
          -159.04796409606934,
          100
         ]
        },
        {
         "hoverinfo": "text+x+y",
         "line": {
          "color": "blue",
          "width": 2
         },
         "marker": {
          "color": "red",
          "size": 8
         },
         "mode": "lines+markers",
         "name": "Path 324 (Gen 14, Fitness 415.4871017456055)",
         "text": "Gen 14, Path 324",
         "type": "scatter",
         "x": [
          0,
          29.42298126220703,
          -38.91856384277344,
          88.03170776367188,
          -21.32880401611328,
          -164.8144760131836,
          100
         ],
         "y": [
          0,
          -33.018348693847656,
          28.099849700927734,
          33.32809638977051,
          -66.66875267028809,
          -159.04796409606934,
          100
         ]
        },
        {
         "hoverinfo": "text+x+y",
         "line": {
          "color": "blue",
          "width": 2
         },
         "marker": {
          "color": "red",
          "size": 8
         },
         "mode": "lines+markers",
         "name": "Path 325 (Gen 14, Fitness 415.4871017456055)",
         "text": "Gen 14, Path 325",
         "type": "scatter",
         "x": [
          0,
          29.42298126220703,
          -38.91856384277344,
          88.03170776367188,
          -21.32880401611328,
          -164.8144760131836,
          100
         ],
         "y": [
          0,
          -33.018348693847656,
          28.099849700927734,
          33.32809638977051,
          -66.66875267028809,
          -159.04796409606934,
          100
         ]
        },
        {
         "hoverinfo": "text+x+y",
         "line": {
          "color": "blue",
          "width": 2
         },
         "marker": {
          "color": "red",
          "size": 8
         },
         "mode": "lines+markers",
         "name": "Path 326 (Gen 14, Fitness 415.4871017456055)",
         "text": "Gen 14, Path 326",
         "type": "scatter",
         "x": [
          0,
          29.42298126220703,
          -38.91856384277344,
          88.03170776367188,
          -21.32880401611328,
          -164.8144760131836,
          100
         ],
         "y": [
          0,
          -33.018348693847656,
          28.099849700927734,
          33.32809638977051,
          -66.66875267028809,
          -159.04796409606934,
          100
         ]
        },
        {
         "hoverinfo": "text+x+y",
         "line": {
          "color": "blue",
          "width": 2
         },
         "marker": {
          "color": "red",
          "size": 8
         },
         "mode": "lines+markers",
         "name": "Path 327 (Gen 14, Fitness 415.4871017456055)",
         "text": "Gen 14, Path 327",
         "type": "scatter",
         "x": [
          0,
          29.42298126220703,
          -38.91856384277344,
          88.03170776367188,
          -21.32880401611328,
          -164.8144760131836,
          100
         ],
         "y": [
          0,
          -33.018348693847656,
          28.099849700927734,
          33.32809638977051,
          -66.66875267028809,
          -159.04796409606934,
          100
         ]
        },
        {
         "hoverinfo": "text+x+y",
         "line": {
          "color": "blue",
          "width": 2
         },
         "marker": {
          "color": "red",
          "size": 8
         },
         "mode": "lines+markers",
         "name": "Path 328 (Gen 14, Fitness 375.7842908859253)",
         "text": "Gen 14, Path 328",
         "type": "scatter",
         "x": [
          0,
          29.42298126220703,
          -38.91856384277344,
          88.03170776367188,
          -21.32880401611328,
          -164.8144760131836,
          100
         ],
         "y": [
          0,
          -33.018348693847656,
          28.099849700927734,
          33.32809638977051,
          -66.66875267028809,
          -159.04796409606934,
          100
         ]
        },
        {
         "hoverinfo": "text+x+y",
         "line": {
          "color": "blue",
          "width": 2
         },
         "marker": {
          "color": "red",
          "size": 8
         },
         "mode": "lines+markers",
         "name": "Path 329 (Gen 14, Fitness 375.7842908859253)",
         "text": "Gen 14, Path 329",
         "type": "scatter",
         "x": [
          0,
          29.42298126220703,
          -38.91856384277344,
          88.03170776367188,
          -21.32880401611328,
          -164.8144760131836,
          100
         ],
         "y": [
          0,
          -33.018348693847656,
          28.099849700927734,
          33.32809638977051,
          -66.66875267028809,
          -159.04796409606934,
          100
         ]
        },
        {
         "hoverinfo": "text+x+y",
         "line": {
          "color": "blue",
          "width": 2
         },
         "marker": {
          "color": "red",
          "size": 8
         },
         "mode": "lines+markers",
         "name": "Path 330 (Gen 14, Fitness 375.7842908859253)",
         "text": "Gen 14, Path 330",
         "type": "scatter",
         "x": [
          0,
          29.42298126220703,
          -38.91856384277344,
          88.03170776367188,
          -21.32880401611328,
          -164.8144760131836,
          100
         ],
         "y": [
          0,
          -33.018348693847656,
          28.099849700927734,
          33.32809638977051,
          -66.66875267028809,
          -159.04796409606934,
          100
         ]
        },
        {
         "hoverinfo": "text+x+y",
         "line": {
          "color": "blue",
          "width": 2
         },
         "marker": {
          "color": "red",
          "size": 8
         },
         "mode": "lines+markers",
         "name": "Path 331 (Gen 14, Fitness 375.7842908859253)",
         "text": "Gen 14, Path 331",
         "type": "scatter",
         "x": [
          0,
          29.42298126220703,
          -38.91856384277344,
          88.03170776367188,
          -21.32880401611328,
          -164.8144760131836,
          100
         ],
         "y": [
          0,
          -33.018348693847656,
          28.099849700927734,
          33.32809638977051,
          -66.66875267028809,
          -159.04796409606934,
          100
         ]
        },
        {
         "hoverinfo": "text+x+y",
         "line": {
          "color": "blue",
          "width": 2
         },
         "marker": {
          "color": "red",
          "size": 8
         },
         "mode": "lines+markers",
         "name": "Path 332 (Gen 14, Fitness 392.83824329376216)",
         "text": "Gen 14, Path 332",
         "type": "scatter",
         "x": [
          0,
          29.42298126220703,
          -38.91856384277344,
          88.03170776367188,
          -21.32880401611328,
          -164.8144760131836,
          100
         ],
         "y": [
          0,
          -33.018348693847656,
          28.099849700927734,
          33.32809638977051,
          -66.66875267028809,
          -159.04796409606934,
          100
         ]
        },
        {
         "hoverinfo": "text+x+y",
         "line": {
          "color": "blue",
          "width": 2
         },
         "marker": {
          "color": "red",
          "size": 8
         },
         "mode": "lines+markers",
         "name": "Path 333 (Gen 14, Fitness 383.2982755661011)",
         "text": "Gen 14, Path 333",
         "type": "scatter",
         "x": [
          0,
          -0.24469685554504395,
          -38.91856384277344,
          88.03170776367188,
          -21.32880401611328,
          -164.8144760131836,
          100
         ],
         "y": [
          0,
          33.288944244384766,
          28.099849700927734,
          33.32809638977051,
          -66.66875267028809,
          -159.04796409606934,
          100
         ]
        },
        {
         "hoverinfo": "text+x+y",
         "line": {
          "color": "blue",
          "width": 2
         },
         "marker": {
          "color": "red",
          "size": 8
         },
         "mode": "lines+markers",
         "name": "Path 334 (Gen 14, Fitness 89.62074556350709)",
         "text": "Gen 14, Path 334",
         "type": "scatter",
         "x": [
          0,
          -37.78110576061238,
          -21.71669701791092,
          10.201135834585038,
          32.26895665494408,
          62.81929779690988,
          100
         ],
         "y": [
          0,
          37.781105760612384,
          53.84551450331384,
          85.7633473558098,
          107.83116817616883,
          138.38150931813462,
          100
         ]
        },
        {
         "hoverinfo": "text+x+y",
         "marker": {
          "color": "green",
          "size": 12,
          "symbol": "circle"
         },
         "mode": "markers",
         "name": "Start Point",
         "text": [
          "Start"
         ],
         "type": "scatter",
         "x": [
          0
         ],
         "y": [
          0
         ]
        },
        {
         "hoverinfo": "text+x+y",
         "marker": {
          "color": "purple",
          "size": 12,
          "symbol": "square"
         },
         "mode": "markers",
         "name": "End Point",
         "text": [
          "End"
         ],
         "type": "scatter",
         "x": [
          100
         ],
         "y": [
          100
         ]
        }
       ],
       "layout": {
        "showlegend": true,
        "template": {
         "data": {
          "bar": [
           {
            "error_x": {
             "color": "#2a3f5f"
            },
            "error_y": {
             "color": "#2a3f5f"
            },
            "marker": {
             "line": {
              "color": "#E5ECF6",
              "width": 0.5
             },
             "pattern": {
              "fillmode": "overlay",
              "size": 10,
              "solidity": 0.2
             }
            },
            "type": "bar"
           }
          ],
          "barpolar": [
           {
            "marker": {
             "line": {
              "color": "#E5ECF6",
              "width": 0.5
             },
             "pattern": {
              "fillmode": "overlay",
              "size": 10,
              "solidity": 0.2
             }
            },
            "type": "barpolar"
           }
          ],
          "carpet": [
           {
            "aaxis": {
             "endlinecolor": "#2a3f5f",
             "gridcolor": "white",
             "linecolor": "white",
             "minorgridcolor": "white",
             "startlinecolor": "#2a3f5f"
            },
            "baxis": {
             "endlinecolor": "#2a3f5f",
             "gridcolor": "white",
             "linecolor": "white",
             "minorgridcolor": "white",
             "startlinecolor": "#2a3f5f"
            },
            "type": "carpet"
           }
          ],
          "choropleth": [
           {
            "colorbar": {
             "outlinewidth": 0,
             "ticks": ""
            },
            "type": "choropleth"
           }
          ],
          "contour": [
           {
            "colorbar": {
             "outlinewidth": 0,
             "ticks": ""
            },
            "colorscale": [
             [
              0,
              "#0d0887"
             ],
             [
              0.1111111111111111,
              "#46039f"
             ],
             [
              0.2222222222222222,
              "#7201a8"
             ],
             [
              0.3333333333333333,
              "#9c179e"
             ],
             [
              0.4444444444444444,
              "#bd3786"
             ],
             [
              0.5555555555555556,
              "#d8576b"
             ],
             [
              0.6666666666666666,
              "#ed7953"
             ],
             [
              0.7777777777777778,
              "#fb9f3a"
             ],
             [
              0.8888888888888888,
              "#fdca26"
             ],
             [
              1,
              "#f0f921"
             ]
            ],
            "type": "contour"
           }
          ],
          "contourcarpet": [
           {
            "colorbar": {
             "outlinewidth": 0,
             "ticks": ""
            },
            "type": "contourcarpet"
           }
          ],
          "heatmap": [
           {
            "colorbar": {
             "outlinewidth": 0,
             "ticks": ""
            },
            "colorscale": [
             [
              0,
              "#0d0887"
             ],
             [
              0.1111111111111111,
              "#46039f"
             ],
             [
              0.2222222222222222,
              "#7201a8"
             ],
             [
              0.3333333333333333,
              "#9c179e"
             ],
             [
              0.4444444444444444,
              "#bd3786"
             ],
             [
              0.5555555555555556,
              "#d8576b"
             ],
             [
              0.6666666666666666,
              "#ed7953"
             ],
             [
              0.7777777777777778,
              "#fb9f3a"
             ],
             [
              0.8888888888888888,
              "#fdca26"
             ],
             [
              1,
              "#f0f921"
             ]
            ],
            "type": "heatmap"
           }
          ],
          "histogram": [
           {
            "marker": {
             "pattern": {
              "fillmode": "overlay",
              "size": 10,
              "solidity": 0.2
             }
            },
            "type": "histogram"
           }
          ],
          "histogram2d": [
           {
            "colorbar": {
             "outlinewidth": 0,
             "ticks": ""
            },
            "colorscale": [
             [
              0,
              "#0d0887"
             ],
             [
              0.1111111111111111,
              "#46039f"
             ],
             [
              0.2222222222222222,
              "#7201a8"
             ],
             [
              0.3333333333333333,
              "#9c179e"
             ],
             [
              0.4444444444444444,
              "#bd3786"
             ],
             [
              0.5555555555555556,
              "#d8576b"
             ],
             [
              0.6666666666666666,
              "#ed7953"
             ],
             [
              0.7777777777777778,
              "#fb9f3a"
             ],
             [
              0.8888888888888888,
              "#fdca26"
             ],
             [
              1,
              "#f0f921"
             ]
            ],
            "type": "histogram2d"
           }
          ],
          "histogram2dcontour": [
           {
            "colorbar": {
             "outlinewidth": 0,
             "ticks": ""
            },
            "colorscale": [
             [
              0,
              "#0d0887"
             ],
             [
              0.1111111111111111,
              "#46039f"
             ],
             [
              0.2222222222222222,
              "#7201a8"
             ],
             [
              0.3333333333333333,
              "#9c179e"
             ],
             [
              0.4444444444444444,
              "#bd3786"
             ],
             [
              0.5555555555555556,
              "#d8576b"
             ],
             [
              0.6666666666666666,
              "#ed7953"
             ],
             [
              0.7777777777777778,
              "#fb9f3a"
             ],
             [
              0.8888888888888888,
              "#fdca26"
             ],
             [
              1,
              "#f0f921"
             ]
            ],
            "type": "histogram2dcontour"
           }
          ],
          "mesh3d": [
           {
            "colorbar": {
             "outlinewidth": 0,
             "ticks": ""
            },
            "type": "mesh3d"
           }
          ],
          "parcoords": [
           {
            "line": {
             "colorbar": {
              "outlinewidth": 0,
              "ticks": ""
             }
            },
            "type": "parcoords"
           }
          ],
          "pie": [
           {
            "automargin": true,
            "type": "pie"
           }
          ],
          "scatter": [
           {
            "fillpattern": {
             "fillmode": "overlay",
             "size": 10,
             "solidity": 0.2
            },
            "type": "scatter"
           }
          ],
          "scatter3d": [
           {
            "line": {
             "colorbar": {
              "outlinewidth": 0,
              "ticks": ""
             }
            },
            "marker": {
             "colorbar": {
              "outlinewidth": 0,
              "ticks": ""
             }
            },
            "type": "scatter3d"
           }
          ],
          "scattercarpet": [
           {
            "marker": {
             "colorbar": {
              "outlinewidth": 0,
              "ticks": ""
             }
            },
            "type": "scattercarpet"
           }
          ],
          "scattergeo": [
           {
            "marker": {
             "colorbar": {
              "outlinewidth": 0,
              "ticks": ""
             }
            },
            "type": "scattergeo"
           }
          ],
          "scattergl": [
           {
            "marker": {
             "colorbar": {
              "outlinewidth": 0,
              "ticks": ""
             }
            },
            "type": "scattergl"
           }
          ],
          "scattermap": [
           {
            "marker": {
             "colorbar": {
              "outlinewidth": 0,
              "ticks": ""
             }
            },
            "type": "scattermap"
           }
          ],
          "scattermapbox": [
           {
            "marker": {
             "colorbar": {
              "outlinewidth": 0,
              "ticks": ""
             }
            },
            "type": "scattermapbox"
           }
          ],
          "scatterpolar": [
           {
            "marker": {
             "colorbar": {
              "outlinewidth": 0,
              "ticks": ""
             }
            },
            "type": "scatterpolar"
           }
          ],
          "scatterpolargl": [
           {
            "marker": {
             "colorbar": {
              "outlinewidth": 0,
              "ticks": ""
             }
            },
            "type": "scatterpolargl"
           }
          ],
          "scatterternary": [
           {
            "marker": {
             "colorbar": {
              "outlinewidth": 0,
              "ticks": ""
             }
            },
            "type": "scatterternary"
           }
          ],
          "surface": [
           {
            "colorbar": {
             "outlinewidth": 0,
             "ticks": ""
            },
            "colorscale": [
             [
              0,
              "#0d0887"
             ],
             [
              0.1111111111111111,
              "#46039f"
             ],
             [
              0.2222222222222222,
              "#7201a8"
             ],
             [
              0.3333333333333333,
              "#9c179e"
             ],
             [
              0.4444444444444444,
              "#bd3786"
             ],
             [
              0.5555555555555556,
              "#d8576b"
             ],
             [
              0.6666666666666666,
              "#ed7953"
             ],
             [
              0.7777777777777778,
              "#fb9f3a"
             ],
             [
              0.8888888888888888,
              "#fdca26"
             ],
             [
              1,
              "#f0f921"
             ]
            ],
            "type": "surface"
           }
          ],
          "table": [
           {
            "cells": {
             "fill": {
              "color": "#EBF0F8"
             },
             "line": {
              "color": "white"
             }
            },
            "header": {
             "fill": {
              "color": "#C8D4E3"
             },
             "line": {
              "color": "white"
             }
            },
            "type": "table"
           }
          ]
         },
         "layout": {
          "annotationdefaults": {
           "arrowcolor": "#2a3f5f",
           "arrowhead": 0,
           "arrowwidth": 1
          },
          "autotypenumbers": "strict",
          "coloraxis": {
           "colorbar": {
            "outlinewidth": 0,
            "ticks": ""
           }
          },
          "colorscale": {
           "diverging": [
            [
             0,
             "#8e0152"
            ],
            [
             0.1,
             "#c51b7d"
            ],
            [
             0.2,
             "#de77ae"
            ],
            [
             0.3,
             "#f1b6da"
            ],
            [
             0.4,
             "#fde0ef"
            ],
            [
             0.5,
             "#f7f7f7"
            ],
            [
             0.6,
             "#e6f5d0"
            ],
            [
             0.7,
             "#b8e186"
            ],
            [
             0.8,
             "#7fbc41"
            ],
            [
             0.9,
             "#4d9221"
            ],
            [
             1,
             "#276419"
            ]
           ],
           "sequential": [
            [
             0,
             "#0d0887"
            ],
            [
             0.1111111111111111,
             "#46039f"
            ],
            [
             0.2222222222222222,
             "#7201a8"
            ],
            [
             0.3333333333333333,
             "#9c179e"
            ],
            [
             0.4444444444444444,
             "#bd3786"
            ],
            [
             0.5555555555555556,
             "#d8576b"
            ],
            [
             0.6666666666666666,
             "#ed7953"
            ],
            [
             0.7777777777777778,
             "#fb9f3a"
            ],
            [
             0.8888888888888888,
             "#fdca26"
            ],
            [
             1,
             "#f0f921"
            ]
           ],
           "sequentialminus": [
            [
             0,
             "#0d0887"
            ],
            [
             0.1111111111111111,
             "#46039f"
            ],
            [
             0.2222222222222222,
             "#7201a8"
            ],
            [
             0.3333333333333333,
             "#9c179e"
            ],
            [
             0.4444444444444444,
             "#bd3786"
            ],
            [
             0.5555555555555556,
             "#d8576b"
            ],
            [
             0.6666666666666666,
             "#ed7953"
            ],
            [
             0.7777777777777778,
             "#fb9f3a"
            ],
            [
             0.8888888888888888,
             "#fdca26"
            ],
            [
             1,
             "#f0f921"
            ]
           ]
          },
          "colorway": [
           "#636efa",
           "#EF553B",
           "#00cc96",
           "#ab63fa",
           "#FFA15A",
           "#19d3f3",
           "#FF6692",
           "#B6E880",
           "#FF97FF",
           "#FECB52"
          ],
          "font": {
           "color": "#2a3f5f"
          },
          "geo": {
           "bgcolor": "white",
           "lakecolor": "white",
           "landcolor": "#E5ECF6",
           "showlakes": true,
           "showland": true,
           "subunitcolor": "white"
          },
          "hoverlabel": {
           "align": "left"
          },
          "hovermode": "closest",
          "mapbox": {
           "style": "light"
          },
          "paper_bgcolor": "white",
          "plot_bgcolor": "#E5ECF6",
          "polar": {
           "angularaxis": {
            "gridcolor": "white",
            "linecolor": "white",
            "ticks": ""
           },
           "bgcolor": "#E5ECF6",
           "radialaxis": {
            "gridcolor": "white",
            "linecolor": "white",
            "ticks": ""
           }
          },
          "scene": {
           "xaxis": {
            "backgroundcolor": "#E5ECF6",
            "gridcolor": "white",
            "gridwidth": 2,
            "linecolor": "white",
            "showbackground": true,
            "ticks": "",
            "zerolinecolor": "white"
           },
           "yaxis": {
            "backgroundcolor": "#E5ECF6",
            "gridcolor": "white",
            "gridwidth": 2,
            "linecolor": "white",
            "showbackground": true,
            "ticks": "",
            "zerolinecolor": "white"
           },
           "zaxis": {
            "backgroundcolor": "#E5ECF6",
            "gridcolor": "white",
            "gridwidth": 2,
            "linecolor": "white",
            "showbackground": true,
            "ticks": "",
            "zerolinecolor": "white"
           }
          },
          "shapedefaults": {
           "line": {
            "color": "#2a3f5f"
           }
          },
          "ternary": {
           "aaxis": {
            "gridcolor": "white",
            "linecolor": "white",
            "ticks": ""
           },
           "baxis": {
            "gridcolor": "white",
            "linecolor": "white",
            "ticks": ""
           },
           "bgcolor": "#E5ECF6",
           "caxis": {
            "gridcolor": "white",
            "linecolor": "white",
            "ticks": ""
           }
          },
          "title": {
           "x": 0.05
          },
          "xaxis": {
           "automargin": true,
           "gridcolor": "white",
           "linecolor": "white",
           "ticks": "",
           "title": {
            "standoff": 15
           },
           "zerolinecolor": "white",
           "zerolinewidth": 2
          },
          "yaxis": {
           "automargin": true,
           "gridcolor": "white",
           "linecolor": "white",
           "ticks": "",
           "title": {
            "standoff": 15
           },
           "zerolinecolor": "white",
           "zerolinewidth": 2
          }
         }
        },
        "title": {
         "text": "Paths with Start Point, Waypoints, and End Point"
        },
        "xaxis": {
         "title": {
          "text": "X Coordinate"
         }
        },
        "yaxis": {
         "title": {
          "text": "Y Coordinate"
         }
        }
       }
      }
     },
     "metadata": {},
     "output_type": "display_data"
    }
   ],
   "source": [
    "\n",
    "# Create a Plotly figure\n",
    "fig = go.Figure()\n",
    "\n",
    "# Group waypoints by PathIndividual_ID\n",
    "grouped = waypoints_df.groupby(\"PathIndividual_ID\")\n",
    "\n",
    "# Add lines and markers for each path\n",
    "for name, group in grouped:\n",
    "    # load the class attributes for this path\n",
    "    generation_number = group[\"GenerationNumber\"].iloc[0]\n",
    "    path_number = group[\"PathIndividual_ID\"].iloc[0]\n",
    "    fitness = group[\"Fitness\"].iloc[0]\n",
    "    footprint = group[\"Footprint\"].iloc[0]\n",
    "    \n",
    "    # Combine StartPoint, Waypoints, and EndPoint into a single list of coordinates\n",
    "    x_coords = [start_point[0]] + group[\"X\"].tolist() + [end_point[0]]\n",
    "    y_coords = [start_point[1]] + group[\"Y\"].tolist() + [end_point[1]]\n",
    "\n",
    "    # Add a trace for the path\n",
    "    fig.add_trace(go.Scatter(\n",
    "        x=x_coords,\n",
    "        y=y_coords,\n",
    "        mode='lines+markers',  # Draw lines and markers\n",
    "        name=f\"Path {name} (Gen {generation_number}, Fitness {fitness})\",  # Include GenerationNumber in the legend\n",
    "        line=dict(color='blue', width=2),  # Customize line color and width\n",
    "        marker=dict(size=8, color='red'),  # Customize marker size and color\n",
    "        text=f\"Gen {generation_number}, Path {path_number}\",  # Add hover text\n",
    "        hoverinfo='text+x+y'  # Show hover information\n",
    "    ))\n",
    "\n",
    "# Add a trace for the start point\n",
    "fig.add_trace(go.Scatter(\n",
    "    x=[start_point[0]],\n",
    "    y=[start_point[1]],\n",
    "    mode='markers',\n",
    "    name='Start Point',\n",
    "    marker=dict(size=12, color='green', symbol='circle'),\n",
    "    hoverinfo='text+x+y',\n",
    "    text=[\"Start\"]\n",
    "))\n",
    "\n",
    "# Add a trace for the end point\n",
    "fig.add_trace(go.Scatter(\n",
    "    x=[end_point[0]],\n",
    "    y=[end_point[1]],\n",
    "    mode='markers',\n",
    "    name='End Point',\n",
    "    marker=dict(size=12, color='purple', symbol='square'),\n",
    "    hoverinfo='text+x+y',\n",
    "    text=[\"End\"]\n",
    "))\n",
    "\n",
    "# Update layout\n",
    "fig.update_layout(\n",
    "    title=\"Paths with Start Point, Waypoints, and End Point\",\n",
    "    xaxis_title=\"X Coordinate\",\n",
    "    yaxis_title=\"Y Coordinate\",\n",
    "    showlegend=True\n",
    ")\n",
    "\n",
    "# Show the plot\n",
    "fig.show()"
   ]
  },
  {
   "cell_type": "code",
   "execution_count": 25,
   "metadata": {},
   "outputs": [
    {
     "data": {
      "application/vnd.microsoft.datawrangler.viewer.v0+json": {
       "columns": [
        {
         "name": "index",
         "rawType": "int64",
         "type": "integer"
        },
        {
         "name": "GenerationNumber",
         "rawType": "int64",
         "type": "integer"
        },
        {
         "name": "Fitness",
         "rawType": "float64",
         "type": "float"
        },
        {
         "name": "Footprint",
         "rawType": "float64",
         "type": "float"
        }
       ],
       "conversionMethod": "pd.DataFrame",
       "ref": "8b336508-4b46-4f7d-9d5f-a0a360036cb9",
       "rows": [
        [
         "0",
         "0",
         "184.71970624923705",
         "480.3456588355064"
        ],
        [
         "1",
         "0",
         "286.4153733253479",
         "940.100326785877"
        ],
        [
         "2",
         "0",
         "277.97583413124084",
         "542.9826146968365"
        ],
        [
         "3",
         "0",
         "185.09847679138184",
         "554.1855334593513"
        ],
        [
         "4",
         "0",
         "229.93978541344404",
         "373.3045072672089"
        ]
       ],
       "shape": {
        "columns": 3,
        "rows": 5
       }
      },
      "text/html": [
       "<div>\n",
       "<style scoped>\n",
       "    .dataframe tbody tr th:only-of-type {\n",
       "        vertical-align: middle;\n",
       "    }\n",
       "\n",
       "    .dataframe tbody tr th {\n",
       "        vertical-align: top;\n",
       "    }\n",
       "\n",
       "    .dataframe thead th {\n",
       "        text-align: right;\n",
       "    }\n",
       "</style>\n",
       "<table border=\"1\" class=\"dataframe\">\n",
       "  <thead>\n",
       "    <tr style=\"text-align: right;\">\n",
       "      <th></th>\n",
       "      <th>GenerationNumber</th>\n",
       "      <th>Fitness</th>\n",
       "      <th>Footprint</th>\n",
       "    </tr>\n",
       "  </thead>\n",
       "  <tbody>\n",
       "    <tr>\n",
       "      <th>0</th>\n",
       "      <td>0</td>\n",
       "      <td>184.719706</td>\n",
       "      <td>480.345659</td>\n",
       "    </tr>\n",
       "    <tr>\n",
       "      <th>1</th>\n",
       "      <td>0</td>\n",
       "      <td>286.415373</td>\n",
       "      <td>940.100327</td>\n",
       "    </tr>\n",
       "    <tr>\n",
       "      <th>2</th>\n",
       "      <td>0</td>\n",
       "      <td>277.975834</td>\n",
       "      <td>542.982615</td>\n",
       "    </tr>\n",
       "    <tr>\n",
       "      <th>3</th>\n",
       "      <td>0</td>\n",
       "      <td>185.098477</td>\n",
       "      <td>554.185533</td>\n",
       "    </tr>\n",
       "    <tr>\n",
       "      <th>4</th>\n",
       "      <td>0</td>\n",
       "      <td>229.939785</td>\n",
       "      <td>373.304507</td>\n",
       "    </tr>\n",
       "  </tbody>\n",
       "</table>\n",
       "</div>"
      ],
      "text/plain": [
       "   GenerationNumber     Fitness   Footprint\n",
       "0                 0  184.719706  480.345659\n",
       "1                 0  286.415373  940.100327\n",
       "2                 0  277.975834  542.982615\n",
       "3                 0  185.098477  554.185533\n",
       "4                 0  229.939785  373.304507"
      ]
     },
     "execution_count": 25,
     "metadata": {},
     "output_type": "execute_result"
    }
   ],
   "source": [
    "fitness_df = waypoints_df[['GenerationNumber', 'Fitness', 'Footprint']]\n",
    "fitness_df = fitness_df.drop_duplicates(ignore_index=True)\n",
    "fitness_df.head()\n",
    "\n",
    "gen_figure = px.scatter(fitness_df, x='Fitness', y='Footprint', color='GenerationNumber', title='Fitness v. Footprint Pareto', labels={\n",
    "    \"Fitness\":\"Fitness\",\n",
    "    \"Footprint\":\"Footprint\",\n",
    "    \"GenerationNumber\":\"Generation\"\n",
    "})"
   ]
  }
 ],
 "metadata": {
  "kernelspec": {
   "display_name": ".venv",
   "language": "python",
   "name": "python3"
  },
  "language_info": {
   "codemirror_mode": {
    "name": "ipython",
    "version": 3
   },
   "file_extension": ".py",
   "mimetype": "text/x-python",
   "name": "python",
   "nbconvert_exporter": "python",
   "pygments_lexer": "ipython3",
   "version": "3.11.4"
  }
 },
 "nbformat": 4,
 "nbformat_minor": 2
}
